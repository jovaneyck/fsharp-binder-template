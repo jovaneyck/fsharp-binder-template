{
    "cells": [
        {
            "cell_type": "markdown",
            "metadata": {},
            "source": [
                "# FP - the scary parts\n",
                "\n",
                "So you've been mapping, folding and reducing for a while and you're starting to dig this whole \"functional programming\" thing. Awesome! There's a whole new world to discover, from algebraic datatypes to the dreaded *M-word*, the 💀MONAD💀.\n",
                "\n",
                "This post is an attempt to gently introduce you to this concept by building up from what you know. FP purists might want to close this document now, this is by no means a 100% complete or even accurate resource. This post is aimed at the beginner that wants to get an initial feel for all this functional stuff so that you can decide if and when to dive deeper yourself."
            ]
        },
        {
            "cell_type": "markdown",
            "metadata": {},
            "source": [
                "## Prerequisites: types and functions\n",
                "\n",
                "Before we build up toward the *M-word* we need to make sure we're up to snuff with some fundamental concepts: types, functions and function types. Feel free to skip over this section and dive right into [Functors](#Functors) if you already have a solid grasp on types, record types, union types and function types.\n",
                "\n",
                "### Types\n",
                "\n",
                "Types represent a collection of values. The *string* type represents the set of all valid strings. \"Bob\" is a string. So is \"Alice\". Even \"\", the empty string can join the party. Most languages have lots of built in primitive types for you to use, like *string*s, *int*egers, *bool*eans, etc.\n",
                "\n",
                "But the fun does not end there, you can combine these basic types to make your own complex types.\n",
                "\n",
                "Let's introduce some complex types ourselves:"
            ]
        },
        {
            "cell_type": "code",
            "execution_count": 1,
            "metadata": {
                "dotnet_interactive": {
                    "language": "fsharp"
                },
                "polyglot_notebook": {
                    "kernelName": "fsharp"
                },
                "vscode": {
                    "languageId": "polyglot-notebook"
                }
            },
            "outputs": [],
            "source": [
                "type Age = Age of int\n",
                "type Email = Email of string\n",
                "type Person = { Age: Age; Email: Email }"
            ]
        },
        {
            "cell_type": "markdown",
            "metadata": {},
            "source": [
                "Both *Age* and *Email* are simple wrappers for *int* and *string*. *Person* is a more interesting type, it combines an Age and an Email value to represent a Person.\n",
                "\n",
                "Once the types are defined, you can create values for these types. Let's make a person!"
            ]
        },
        {
            "cell_type": "code",
            "execution_count": 2,
            "metadata": {
                "dotnet_interactive": {
                    "language": "fsharp"
                },
                "polyglot_notebook": {
                    "kernelName": "fsharp"
                },
                "vscode": {
                    "languageId": "polyglot-notebook"
                }
            },
            "outputs": [
                {
                    "data": {
                        "text/html": [
                            "<details open=\"open\" class=\"dni-treeview\"><summary><span class=\"dni-code-hint\"><code>{ Age = Age 13\\n  Email = Email &quot;jo@gmail.com&quot; }</code></span></summary><div><table><thead><tr></tr></thead><tbody><tr><td>Age</td><td><details class=\"dni-treeview\"><summary><span class=\"dni-code-hint\"><code>Age 13</code></span></summary><div><table><thead><tr></tr></thead><tbody><tr><td>Item</td><td><div class=\"dni-plaintext\"><pre>13</pre></div></td></tr></tbody></table></div></details></td></tr><tr><td>Email</td><td><details class=\"dni-treeview\"><summary><span class=\"dni-code-hint\"><code>Email &quot;jo@gmail.com&quot;</code></span></summary><div><table><thead><tr></tr></thead><tbody><tr><td>Item</td><td><div class=\"dni-plaintext\"><pre>jo@gmail.com</pre></div></td></tr></tbody></table></div></details></td></tr></tbody></table></div></details><style>\r\n",
                            ".dni-code-hint {\r\n",
                            "    font-style: italic;\r\n",
                            "    overflow: hidden;\r\n",
                            "    white-space: nowrap;\r\n",
                            "}\r\n",
                            ".dni-treeview {\r\n",
                            "    white-space: nowrap;\r\n",
                            "}\r\n",
                            ".dni-treeview td {\r\n",
                            "    vertical-align: top;\r\n",
                            "    text-align: start;\r\n",
                            "}\r\n",
                            "details.dni-treeview {\r\n",
                            "    padding-left: 1em;\r\n",
                            "}\r\n",
                            "table td {\r\n",
                            "    text-align: start;\r\n",
                            "}\r\n",
                            "table tr { \r\n",
                            "    vertical-align: top; \r\n",
                            "    margin: 0em 0px;\r\n",
                            "}\r\n",
                            "table tr td pre \r\n",
                            "{ \r\n",
                            "    vertical-align: top !important; \r\n",
                            "    margin: 0em 0px !important;\r\n",
                            "} \r\n",
                            "table th {\r\n",
                            "    text-align: start;\r\n",
                            "}\r\n",
                            "</style>"
                        ]
                    },
                    "metadata": {},
                    "output_type": "display_data"
                }
            ],
            "source": [
                "let age : Age = Age 13\n",
                "let email : Email = Email \"jo@gmail.com\"\n",
                "let me : Person = {Age = age; Email = email }\n",
                "\n",
                "me"
            ]
        },
        {
            "cell_type": "markdown",
            "metadata": {},
            "source": [
                "We call types like *Person* **record types**. They combine other types into a new type.\n",
                "\n",
                "Next to record types, lots of languages also provide support for **union types**. They look a lot like enums if enums took a gallon of steroids.\n",
                "\n",
                "In this post we'll be using our version of the *Result* type."
            ]
        },
        {
            "cell_type": "code",
            "execution_count": 3,
            "metadata": {
                "dotnet_interactive": {
                    "language": "fsharp"
                },
                "polyglot_notebook": {
                    "kernelName": "fsharp"
                },
                "vscode": {
                    "languageId": "polyglot-notebook"
                }
            },
            "outputs": [],
            "source": [
                "type MyBasicResult = Ok | Error"
            ]
        },
        {
            "cell_type": "markdown",
            "metadata": {},
            "source": [
                "*MyBasicResult* is a type, so it describes and represents a set of values. What are the values? There's only two. **Ok** and **Error**. Types like *Result* are used to represent that something is either a valid **Ok** result, or an **Error** case and nothing else."
            ]
        },
        {
            "cell_type": "code",
            "execution_count": 4,
            "metadata": {
                "dotnet_interactive": {
                    "language": "fsharp"
                },
                "polyglot_notebook": {
                    "kernelName": "fsharp"
                },
                "vscode": {
                    "languageId": "polyglot-notebook"
                }
            },
            "outputs": [
                {
                    "data": {
                        "text/html": [
                            "<details open=\"open\" class=\"dni-treeview\"><summary><span class=\"dni-code-hint\"><code>(Ok, Error)</code></span></summary><div><table><thead><tr></tr></thead><tbody><tr><td>Item1</td><td><details class=\"dni-treeview\"><summary><span class=\"dni-code-hint\"><code>Ok</code></span></summary><div><table><thead><tr></tr></thead><tbody></tbody></table></div></details></td></tr><tr><td>Item2</td><td><details class=\"dni-treeview\"><summary><span class=\"dni-code-hint\"><code>Error</code></span></summary><div><table><thead><tr></tr></thead><tbody></tbody></table></div></details></td></tr></tbody></table></div></details><style>\r\n",
                            ".dni-code-hint {\r\n",
                            "    font-style: italic;\r\n",
                            "    overflow: hidden;\r\n",
                            "    white-space: nowrap;\r\n",
                            "}\r\n",
                            ".dni-treeview {\r\n",
                            "    white-space: nowrap;\r\n",
                            "}\r\n",
                            ".dni-treeview td {\r\n",
                            "    vertical-align: top;\r\n",
                            "    text-align: start;\r\n",
                            "}\r\n",
                            "details.dni-treeview {\r\n",
                            "    padding-left: 1em;\r\n",
                            "}\r\n",
                            "table td {\r\n",
                            "    text-align: start;\r\n",
                            "}\r\n",
                            "table tr { \r\n",
                            "    vertical-align: top; \r\n",
                            "    margin: 0em 0px;\r\n",
                            "}\r\n",
                            "table tr td pre \r\n",
                            "{ \r\n",
                            "    vertical-align: top !important; \r\n",
                            "    margin: 0em 0px !important;\r\n",
                            "} \r\n",
                            "table th {\r\n",
                            "    text-align: start;\r\n",
                            "}\r\n",
                            "</style>"
                        ]
                    },
                    "metadata": {},
                    "output_type": "display_data"
                }
            ],
            "source": [
                "let a : MyBasicResult = Ok\n",
                "let b : MyBasicResult = Error\n",
                "(a,b)"
            ]
        },
        {
            "cell_type": "markdown",
            "metadata": {},
            "source": [
                "That's interesting. But that's basic stuff. That's enums. So where is the \"on steroids\" part? Well, each of these cases can include their own bag of data:"
            ]
        },
        {
            "cell_type": "code",
            "execution_count": 5,
            "metadata": {
                "dotnet_interactive": {
                    "language": "fsharp"
                },
                "polyglot_notebook": {
                    "kernelName": "fsharp"
                },
                "vscode": {
                    "languageId": "polyglot-notebook"
                }
            },
            "outputs": [
                {
                    "data": {
                        "text/html": [
                            "<details open=\"open\" class=\"dni-treeview\"><summary><span class=\"dni-code-hint\"><code>(Ok 13, Error &quot;an error&quot;)</code></span></summary><div><table><thead><tr></tr></thead><tbody><tr><td>Item1</td><td><details class=\"dni-treeview\"><summary><span class=\"dni-code-hint\"><code>Ok 13</code></span></summary><div><table><thead><tr></tr></thead><tbody><tr><td>Item</td><td><div class=\"dni-plaintext\"><pre>13</pre></div></td></tr></tbody></table></div></details></td></tr><tr><td>Item2</td><td><details class=\"dni-treeview\"><summary><span class=\"dni-code-hint\"><code>Error &quot;an error&quot;</code></span></summary><div><table><thead><tr></tr></thead><tbody><tr><td>Item</td><td><div class=\"dni-plaintext\"><pre>an error</pre></div></td></tr></tbody></table></div></details></td></tr></tbody></table></div></details><style>\r\n",
                            ".dni-code-hint {\r\n",
                            "    font-style: italic;\r\n",
                            "    overflow: hidden;\r\n",
                            "    white-space: nowrap;\r\n",
                            "}\r\n",
                            ".dni-treeview {\r\n",
                            "    white-space: nowrap;\r\n",
                            "}\r\n",
                            ".dni-treeview td {\r\n",
                            "    vertical-align: top;\r\n",
                            "    text-align: start;\r\n",
                            "}\r\n",
                            "details.dni-treeview {\r\n",
                            "    padding-left: 1em;\r\n",
                            "}\r\n",
                            "table td {\r\n",
                            "    text-align: start;\r\n",
                            "}\r\n",
                            "table tr { \r\n",
                            "    vertical-align: top; \r\n",
                            "    margin: 0em 0px;\r\n",
                            "}\r\n",
                            "table tr td pre \r\n",
                            "{ \r\n",
                            "    vertical-align: top !important; \r\n",
                            "    margin: 0em 0px !important;\r\n",
                            "} \r\n",
                            "table th {\r\n",
                            "    text-align: start;\r\n",
                            "}\r\n",
                            "</style>"
                        ]
                    },
                    "metadata": {},
                    "output_type": "display_data"
                }
            ],
            "source": [
                "type MyResult = Ok of int | Error of string\n",
                "\n",
                "let a = Ok 13\n",
                "let b = Error \"an error\"\n",
                "(a,b)"
            ]
        },
        {
            "cell_type": "markdown",
            "metadata": {},
            "source": [
                "Note that each case can contain different types. In the **Ok** case we keep track of an *int*eger, but for **Error**s we would like to keep track of a *string* containing the error message. \n",
                "\n",
                "That's very cool. Let's take it one step further. We don't want to define a new Result type for every type it could contain. We don't have to with **generic type parameters**."
            ]
        },
        {
            "cell_type": "code",
            "execution_count": 6,
            "metadata": {
                "dotnet_interactive": {
                    "language": "fsharp"
                },
                "polyglot_notebook": {
                    "kernelName": "fsharp"
                },
                "vscode": {
                    "languageId": "polyglot-notebook"
                }
            },
            "outputs": [],
            "source": [
                "type Result<'a,'b> = Ok of 'a | Error of 'b"
            ]
        },
        {
            "cell_type": "markdown",
            "metadata": {},
            "source": [
                "This one type declaration represents a whole lot of types. For every type you can dream up and plug in for *'a* and for every type you plug in for *'b*, there is now a Result<'a,'b> type!"
            ]
        },
        {
            "cell_type": "code",
            "execution_count": 7,
            "metadata": {
                "dotnet_interactive": {
                    "language": "fsharp"
                },
                "polyglot_notebook": {
                    "kernelName": "fsharp"
                },
                "vscode": {
                    "languageId": "polyglot-notebook"
                }
            },
            "outputs": [
                {
                    "data": {
                        "text/html": [
                            "<details open=\"open\" class=\"dni-treeview\"><summary><span class=\"dni-code-hint\"><code>(Ok 13, Error &quot;a problem!&quot;)</code></span></summary><div><table><thead><tr></tr></thead><tbody><tr><td>Item1</td><td><details class=\"dni-treeview\"><summary><span class=\"dni-code-hint\"><code>Ok 13</code></span></summary><div><table><thead><tr></tr></thead><tbody><tr><td>Item</td><td><div class=\"dni-plaintext\"><pre>13</pre></div></td></tr></tbody></table></div></details></td></tr><tr><td>Item2</td><td><details class=\"dni-treeview\"><summary><span class=\"dni-code-hint\"><code>Error &quot;a problem!&quot;</code></span></summary><div><table><thead><tr></tr></thead><tbody><tr><td>Item</td><td><div class=\"dni-plaintext\"><pre>a problem!</pre></div></td></tr></tbody></table></div></details></td></tr></tbody></table></div></details><style>\r\n",
                            ".dni-code-hint {\r\n",
                            "    font-style: italic;\r\n",
                            "    overflow: hidden;\r\n",
                            "    white-space: nowrap;\r\n",
                            "}\r\n",
                            ".dni-treeview {\r\n",
                            "    white-space: nowrap;\r\n",
                            "}\r\n",
                            ".dni-treeview td {\r\n",
                            "    vertical-align: top;\r\n",
                            "    text-align: start;\r\n",
                            "}\r\n",
                            "details.dni-treeview {\r\n",
                            "    padding-left: 1em;\r\n",
                            "}\r\n",
                            "table td {\r\n",
                            "    text-align: start;\r\n",
                            "}\r\n",
                            "table tr { \r\n",
                            "    vertical-align: top; \r\n",
                            "    margin: 0em 0px;\r\n",
                            "}\r\n",
                            "table tr td pre \r\n",
                            "{ \r\n",
                            "    vertical-align: top !important; \r\n",
                            "    margin: 0em 0px !important;\r\n",
                            "} \r\n",
                            "table th {\r\n",
                            "    text-align: start;\r\n",
                            "}\r\n",
                            "</style>"
                        ]
                    },
                    "metadata": {},
                    "output_type": "display_data"
                }
            ],
            "source": [
                "let ok : Result<int,string> = Ok 13\n",
                "let nok : Result<int,string> = Error \"a problem!\"\n",
                "(ok, nok)"
            ]
        },
        {
            "cell_type": "code",
            "execution_count": 8,
            "metadata": {
                "dotnet_interactive": {
                    "language": "fsharp"
                },
                "polyglot_notebook": {
                    "kernelName": "fsharp"
                },
                "vscode": {
                    "languageId": "polyglot-notebook"
                }
            },
            "outputs": [
                {
                    "data": {
                        "text/html": [
                            "<details open=\"open\" class=\"dni-treeview\"><summary><span class=\"dni-code-hint\"><code>(Ok &quot;an okay string value&quot;, Error 666)</code></span></summary><div><table><thead><tr></tr></thead><tbody><tr><td>Item1</td><td><details class=\"dni-treeview\"><summary><span class=\"dni-code-hint\"><code>Ok &quot;an okay string value&quot;</code></span></summary><div><table><thead><tr></tr></thead><tbody><tr><td>Item</td><td><div class=\"dni-plaintext\"><pre>an okay string value</pre></div></td></tr></tbody></table></div></details></td></tr><tr><td>Item2</td><td><details class=\"dni-treeview\"><summary><span class=\"dni-code-hint\"><code>Error 666</code></span></summary><div><table><thead><tr></tr></thead><tbody><tr><td>Item</td><td><div class=\"dni-plaintext\"><pre>666</pre></div></td></tr></tbody></table></div></details></td></tr></tbody></table></div></details><style>\r\n",
                            ".dni-code-hint {\r\n",
                            "    font-style: italic;\r\n",
                            "    overflow: hidden;\r\n",
                            "    white-space: nowrap;\r\n",
                            "}\r\n",
                            ".dni-treeview {\r\n",
                            "    white-space: nowrap;\r\n",
                            "}\r\n",
                            ".dni-treeview td {\r\n",
                            "    vertical-align: top;\r\n",
                            "    text-align: start;\r\n",
                            "}\r\n",
                            "details.dni-treeview {\r\n",
                            "    padding-left: 1em;\r\n",
                            "}\r\n",
                            "table td {\r\n",
                            "    text-align: start;\r\n",
                            "}\r\n",
                            "table tr { \r\n",
                            "    vertical-align: top; \r\n",
                            "    margin: 0em 0px;\r\n",
                            "}\r\n",
                            "table tr td pre \r\n",
                            "{ \r\n",
                            "    vertical-align: top !important; \r\n",
                            "    margin: 0em 0px !important;\r\n",
                            "} \r\n",
                            "table th {\r\n",
                            "    text-align: start;\r\n",
                            "}\r\n",
                            "</style>"
                        ]
                    },
                    "metadata": {},
                    "output_type": "display_data"
                }
            ],
            "source": [
                "let ok : Result<string,int> = Ok \"an okay string value\"\n",
                "let nok : Result<string,int> = Error 666\n",
                "(ok,nok)"
            ]
        },
        {
            "cell_type": "markdown",
            "metadata": {},
            "source": [
                "For reasons that will become clear much, much later on in this post we're going to go one step further and build another type on top of *Result*. Let's meet our very own *Validation*:"
            ]
        },
        {
            "cell_type": "code",
            "execution_count": 9,
            "metadata": {
                "dotnet_interactive": {
                    "language": "fsharp"
                },
                "polyglot_notebook": {
                    "kernelName": "fsharp"
                },
                "vscode": {
                    "languageId": "polyglot-notebook"
                }
            },
            "outputs": [
                {
                    "data": {
                        "text/html": [
                            "<details open=\"open\" class=\"dni-treeview\"><summary><span class=\"dni-code-hint\"><code>(Ok 13, Error [&quot;We have a problem!&quot;])</code></span></summary><div><table><thead><tr></tr></thead><tbody><tr><td>Item1</td><td><details class=\"dni-treeview\"><summary><span class=\"dni-code-hint\"><code>Ok 13</code></span></summary><div><table><thead><tr></tr></thead><tbody><tr><td>Item</td><td><div class=\"dni-plaintext\"><pre>13</pre></div></td></tr></tbody></table></div></details></td></tr><tr><td>Item2</td><td><details class=\"dni-treeview\"><summary><span class=\"dni-code-hint\"><code>Error [&quot;We have a problem!&quot;]</code></span></summary><div><table><thead><tr></tr></thead><tbody><tr><td>Item</td><td><details class=\"dni-treeview\"><summary><span class=\"dni-code-hint\"><code>[ We have a problem! ]</code></span></summary><div><table><thead><tr></tr></thead><tbody><tr><td>HeadOrDefault</td><td><div class=\"dni-plaintext\"><pre>We have a problem!</pre></div></td></tr><tr><td>TailOrNull</td><td><details class=\"dni-treeview\"><summary><span class=\"dni-code-hint\"><code>[  ]</code></span></summary><div><table><thead><tr></tr></thead><tbody><tr><td>HeadOrDefault</td><td><div class=\"dni-plaintext\"><pre>&lt;null&gt;</pre></div></td></tr><tr><td>TailOrNull</td><td><div class=\"dni-plaintext\"><pre>&lt;null&gt;</pre></div></td></tr><tr><td>Head</td><td><details class=\"dni-treeview\"><summary><span class=\"dni-code-hint\"><code>System.InvalidOperationException: The input list was empty.\\r\\n   at Microsoft.FSharp.Collections.FSharpList`1.get_Head() in D:\\a\\_work\\1\\s\\src\\FSharp.Core\\prim-types.fs:line 4141\\r\\n   at lambda_method285(Closure, FSharpList`1)\\r\\n   at Microsoft.DotNet.Interactive.Formatting.MemberAccessor`1.GetVa...</code></span></summary><div><table><thead><tr></tr></thead><tbody><tr><td>TargetSite</td><td><details class=\"dni-treeview\"><summary><span class=\"dni-code-hint\"><code>T get_Head()</code></span></summary><div><table><thead><tr></tr></thead><tbody><tr><td>Name</td><td>get_Head</td></tr><tr><td>DeclaringType</td><td>Microsoft.FSharp.Collections.FSharpList`1[T]</td></tr><tr><td>ReflectedType</td><td>Microsoft.FSharp.Collections.FSharpList`1[T]</td></tr><tr><td>MemberType</td><td>Method</td></tr><tr><td>MetadataToken</td><td>100663764</td></tr><tr><td>Module</td><td>FSharp.Core.dll</td></tr><tr><td>IsSecurityCritical</td><td>True</td></tr><tr><td>IsSecuritySafeCritical</td><td>False</td></tr><tr><td>IsSecurityTransparent</td><td>False</td></tr><tr><td>MethodHandle</td><td>System.RuntimeMethodHandle</td></tr><tr><td>Attributes</td><td>Public, HideBySig, SpecialName</td></tr><tr><td>CallingConvention</td><td>Standard, HasThis</td></tr><tr><td>ReturnType</td><td>T</td></tr><tr><td>ReturnTypeCustomAttributes</td><td>T</td></tr><tr><td>ReturnParameter</td><td>T</td></tr><tr><td>IsCollectible</td><td>False</td></tr><tr><td>IsGenericMethod</td><td>False</td></tr><tr><td>IsGenericMethodDefinition</td><td>False</td></tr><tr><td>ContainsGenericParameters</td><td>True</td></tr><tr><td>MethodImplementationFlags</td><td>IL</td></tr><tr><td>IsAbstract</td><td>False</td></tr><tr><td>IsConstructor</td><td>False</td></tr><tr><td>IsFinal</td><td>False</td></tr><tr><td>IsHideBySig</td><td>True</td></tr><tr><td>IsSpecialName</td><td>True</td></tr><tr><td>IsStatic</td><td>False</td></tr><tr><td>IsVirtual</td><td>False</td></tr><tr><td>IsAssembly</td><td>False</td></tr><tr><td>IsFamily</td><td>False</td></tr><tr><td>IsFamilyAndAssembly</td><td>False</td></tr><tr><td>IsFamilyOrAssembly</td><td>False</td></tr><tr><td>IsPrivate</td><td>False</td></tr><tr><td>IsPublic</td><td>True</td></tr><tr><td>IsConstructedGenericMethod</td><td>False</td></tr><tr><td>CustomAttributes</td><td>[  ]</td></tr></tbody></table></div></details></td></tr><tr><td>Message</td><td><div class=\"dni-plaintext\"><pre>The input list was empty.</pre></div></td></tr><tr><td>Data</td><td><i>(empty)</i></td></tr><tr><td>InnerException</td><td><div class=\"dni-plaintext\"><pre>&lt;null&gt;</pre></div></td></tr><tr><td>HelpLink</td><td><div class=\"dni-plaintext\"><pre>&lt;null&gt;</pre></div></td></tr><tr><td>Source</td><td><div class=\"dni-plaintext\"><pre>FSharp.Core</pre></div></td></tr><tr><td>HResult</td><td><div class=\"dni-plaintext\"><pre>-2146233079</pre></div></td></tr><tr><td>StackTrace</td><td><div class=\"dni-plaintext\"><pre>   at Microsoft.FSharp.Collections.FSharpList`1.get_Head() in D:\\a\\_work\\1\\s\\src\\FSharp.Core\\prim-types.fs:line 4141\r\n",
                            "   at lambda_method285(Closure, FSharpList`1)\r\n",
                            "   at Microsoft.DotNet.Interactive.Formatting.MemberAccessor`1.GetValueOrException(T instance) in D:\\a\\_work\\1\\s\\src\\Microsoft.DotNet.Interactive.Formatting\\MemberAccessor{T}.cs:line 58</pre></div></td></tr></tbody></table></div></details></td></tr><tr><td>Tail</td><td><details class=\"dni-treeview\"><summary><span class=\"dni-code-hint\"><code>System.InvalidOperationException: The input list was empty.\\r\\n   at Microsoft.FSharp.Collections.FSharpList`1.get_Tail() in D:\\a\\_work\\1\\s\\src\\FSharp.Core\\prim-types.fs:line 4146\\r\\n   at lambda_method286(Closure, FSharpList`1)\\r\\n   at Microsoft.DotNet.Interactive.Formatting.MemberAccessor`1.GetVa...</code></span></summary><div><table><thead><tr></tr></thead><tbody><tr><td>TargetSite</td><td><details class=\"dni-treeview\"><summary><span class=\"dni-code-hint\"><code>Microsoft.FSharp.Collections.FSharpList`1[T] get_Tail()</code></span></summary><div><table><thead><tr></tr></thead><tbody><tr><td>Name</td><td>get_Tail</td></tr><tr><td>DeclaringType</td><td>Microsoft.FSharp.Collections.FSharpList`1[T]</td></tr><tr><td>ReflectedType</td><td>Microsoft.FSharp.Collections.FSharpList`1[T]</td></tr><tr><td>MemberType</td><td>Method</td></tr><tr><td>MetadataToken</td><td>100663765</td></tr><tr><td>Module</td><td>FSharp.Core.dll</td></tr><tr><td>IsSecurityCritical</td><td>True</td></tr><tr><td>IsSecuritySafeCritical</td><td>False</td></tr><tr><td>IsSecurityTransparent</td><td>False</td></tr><tr><td>MethodHandle</td><td>System.RuntimeMethodHandle</td></tr><tr><td>Attributes</td><td>Public, HideBySig, SpecialName</td></tr><tr><td>CallingConvention</td><td>Standard, HasThis</td></tr><tr><td>ReturnType</td><td>Microsoft.FSharp.Collections.FSharpList`1[T]</td></tr><tr><td>ReturnTypeCustomAttributes</td><td>Microsoft.FSharp.Collections.FSharpList`1[T]</td></tr><tr><td>ReturnParameter</td><td>Microsoft.FSharp.Collections.FSharpList`1[T]</td></tr><tr><td>IsCollectible</td><td>False</td></tr><tr><td>IsGenericMethod</td><td>False</td></tr><tr><td>IsGenericMethodDefinition</td><td>False</td></tr><tr><td>ContainsGenericParameters</td><td>True</td></tr><tr><td>MethodImplementationFlags</td><td>IL</td></tr><tr><td>IsAbstract</td><td>False</td></tr><tr><td>IsConstructor</td><td>False</td></tr><tr><td>IsFinal</td><td>False</td></tr><tr><td>IsHideBySig</td><td>True</td></tr><tr><td>IsSpecialName</td><td>True</td></tr><tr><td>IsStatic</td><td>False</td></tr><tr><td>IsVirtual</td><td>False</td></tr><tr><td>IsAssembly</td><td>False</td></tr><tr><td>IsFamily</td><td>False</td></tr><tr><td>IsFamilyAndAssembly</td><td>False</td></tr><tr><td>IsFamilyOrAssembly</td><td>False</td></tr><tr><td>IsPrivate</td><td>False</td></tr><tr><td>IsPublic</td><td>True</td></tr><tr><td>IsConstructedGenericMethod</td><td>False</td></tr><tr><td>CustomAttributes</td><td>[  ]</td></tr></tbody></table></div></details></td></tr><tr><td>Message</td><td><div class=\"dni-plaintext\"><pre>The input list was empty.</pre></div></td></tr><tr><td>Data</td><td><i>(empty)</i></td></tr><tr><td>InnerException</td><td><div class=\"dni-plaintext\"><pre>&lt;null&gt;</pre></div></td></tr><tr><td>HelpLink</td><td><div class=\"dni-plaintext\"><pre>&lt;null&gt;</pre></div></td></tr><tr><td>Source</td><td><div class=\"dni-plaintext\"><pre>FSharp.Core</pre></div></td></tr><tr><td>HResult</td><td><div class=\"dni-plaintext\"><pre>-2146233079</pre></div></td></tr><tr><td>StackTrace</td><td><div class=\"dni-plaintext\"><pre>   at Microsoft.FSharp.Collections.FSharpList`1.get_Tail() in D:\\a\\_work\\1\\s\\src\\FSharp.Core\\prim-types.fs:line 4146\r\n",
                            "   at lambda_method286(Closure, FSharpList`1)\r\n",
                            "   at Microsoft.DotNet.Interactive.Formatting.MemberAccessor`1.GetValueOrException(T instance) in D:\\a\\_work\\1\\s\\src\\Microsoft.DotNet.Interactive.Formatting\\MemberAccessor{T}.cs:line 58</pre></div></td></tr></tbody></table></div></details></td></tr><tr><td><i>(values)</i></td><td><div class=\"dni-plaintext\"><pre>[  ]</pre></div></td></tr></tbody></table></div></details></td></tr><tr><td>Head</td><td><div class=\"dni-plaintext\"><pre>We have a problem!</pre></div></td></tr><tr><td>Tail</td><td><details class=\"dni-treeview\"><summary><span class=\"dni-code-hint\"><code>[  ]</code></span></summary><div><table><thead><tr></tr></thead><tbody><tr><td>HeadOrDefault</td><td><div class=\"dni-plaintext\"><pre>&lt;null&gt;</pre></div></td></tr><tr><td>TailOrNull</td><td><div class=\"dni-plaintext\"><pre>&lt;null&gt;</pre></div></td></tr><tr><td>Head</td><td><details class=\"dni-treeview\"><summary><span class=\"dni-code-hint\"><code>System.InvalidOperationException: The input list was empty.\\r\\n   at Microsoft.FSharp.Collections.FSharpList`1.get_Head() in D:\\a\\_work\\1\\s\\src\\FSharp.Core\\prim-types.fs:line 4141\\r\\n   at lambda_method285(Closure, FSharpList`1)\\r\\n   at Microsoft.DotNet.Interactive.Formatting.MemberAccessor`1.GetVa...</code></span></summary><div><table><thead><tr></tr></thead><tbody><tr><td>TargetSite</td><td><details class=\"dni-treeview\"><summary><span class=\"dni-code-hint\"><code>T get_Head()</code></span></summary><div><table><thead><tr></tr></thead><tbody><tr><td>Name</td><td>get_Head</td></tr><tr><td>DeclaringType</td><td>Microsoft.FSharp.Collections.FSharpList`1[T]</td></tr><tr><td>ReflectedType</td><td>Microsoft.FSharp.Collections.FSharpList`1[T]</td></tr><tr><td>MemberType</td><td>Method</td></tr><tr><td>MetadataToken</td><td>100663764</td></tr><tr><td>Module</td><td>FSharp.Core.dll</td></tr><tr><td>IsSecurityCritical</td><td>True</td></tr><tr><td>IsSecuritySafeCritical</td><td>False</td></tr><tr><td>IsSecurityTransparent</td><td>False</td></tr><tr><td>MethodHandle</td><td>System.RuntimeMethodHandle</td></tr><tr><td>Attributes</td><td>Public, HideBySig, SpecialName</td></tr><tr><td>CallingConvention</td><td>Standard, HasThis</td></tr><tr><td>ReturnType</td><td>T</td></tr><tr><td>ReturnTypeCustomAttributes</td><td>T</td></tr><tr><td>ReturnParameter</td><td>T</td></tr><tr><td>IsCollectible</td><td>False</td></tr><tr><td>IsGenericMethod</td><td>False</td></tr><tr><td>IsGenericMethodDefinition</td><td>False</td></tr><tr><td>ContainsGenericParameters</td><td>True</td></tr><tr><td>MethodImplementationFlags</td><td>IL</td></tr><tr><td>IsAbstract</td><td>False</td></tr><tr><td>IsConstructor</td><td>False</td></tr><tr><td>IsFinal</td><td>False</td></tr><tr><td>IsHideBySig</td><td>True</td></tr><tr><td>IsSpecialName</td><td>True</td></tr><tr><td>IsStatic</td><td>False</td></tr><tr><td>IsVirtual</td><td>False</td></tr><tr><td>IsAssembly</td><td>False</td></tr><tr><td>IsFamily</td><td>False</td></tr><tr><td>IsFamilyAndAssembly</td><td>False</td></tr><tr><td>IsFamilyOrAssembly</td><td>False</td></tr><tr><td>IsPrivate</td><td>False</td></tr><tr><td>IsPublic</td><td>True</td></tr><tr><td>IsConstructedGenericMethod</td><td>False</td></tr><tr><td>CustomAttributes</td><td>[  ]</td></tr></tbody></table></div></details></td></tr><tr><td>Message</td><td><div class=\"dni-plaintext\"><pre>The input list was empty.</pre></div></td></tr><tr><td>Data</td><td><i>(empty)</i></td></tr><tr><td>InnerException</td><td><div class=\"dni-plaintext\"><pre>&lt;null&gt;</pre></div></td></tr><tr><td>HelpLink</td><td><div class=\"dni-plaintext\"><pre>&lt;null&gt;</pre></div></td></tr><tr><td>Source</td><td><div class=\"dni-plaintext\"><pre>FSharp.Core</pre></div></td></tr><tr><td>HResult</td><td><div class=\"dni-plaintext\"><pre>-2146233079</pre></div></td></tr><tr><td>StackTrace</td><td><div class=\"dni-plaintext\"><pre>   at Microsoft.FSharp.Collections.FSharpList`1.get_Head() in D:\\a\\_work\\1\\s\\src\\FSharp.Core\\prim-types.fs:line 4141\r\n",
                            "   at lambda_method285(Closure, FSharpList`1)\r\n",
                            "   at Microsoft.DotNet.Interactive.Formatting.MemberAccessor`1.GetValueOrException(T instance) in D:\\a\\_work\\1\\s\\src\\Microsoft.DotNet.Interactive.Formatting\\MemberAccessor{T}.cs:line 58</pre></div></td></tr></tbody></table></div></details></td></tr><tr><td>Tail</td><td><details class=\"dni-treeview\"><summary><span class=\"dni-code-hint\"><code>System.InvalidOperationException: The input list was empty.\\r\\n   at Microsoft.FSharp.Collections.FSharpList`1.get_Tail() in D:\\a\\_work\\1\\s\\src\\FSharp.Core\\prim-types.fs:line 4146\\r\\n   at lambda_method286(Closure, FSharpList`1)\\r\\n   at Microsoft.DotNet.Interactive.Formatting.MemberAccessor`1.GetVa...</code></span></summary><div><table><thead><tr></tr></thead><tbody><tr><td>TargetSite</td><td><details class=\"dni-treeview\"><summary><span class=\"dni-code-hint\"><code>Microsoft.FSharp.Collections.FSharpList`1[T] get_Tail()</code></span></summary><div><table><thead><tr></tr></thead><tbody><tr><td>Name</td><td>get_Tail</td></tr><tr><td>DeclaringType</td><td>Microsoft.FSharp.Collections.FSharpList`1[T]</td></tr><tr><td>ReflectedType</td><td>Microsoft.FSharp.Collections.FSharpList`1[T]</td></tr><tr><td>MemberType</td><td>Method</td></tr><tr><td>MetadataToken</td><td>100663765</td></tr><tr><td>Module</td><td>FSharp.Core.dll</td></tr><tr><td>IsSecurityCritical</td><td>True</td></tr><tr><td>IsSecuritySafeCritical</td><td>False</td></tr><tr><td>IsSecurityTransparent</td><td>False</td></tr><tr><td>MethodHandle</td><td>System.RuntimeMethodHandle</td></tr><tr><td>Attributes</td><td>Public, HideBySig, SpecialName</td></tr><tr><td>CallingConvention</td><td>Standard, HasThis</td></tr><tr><td>ReturnType</td><td>Microsoft.FSharp.Collections.FSharpList`1[T]</td></tr><tr><td>ReturnTypeCustomAttributes</td><td>Microsoft.FSharp.Collections.FSharpList`1[T]</td></tr><tr><td>ReturnParameter</td><td>Microsoft.FSharp.Collections.FSharpList`1[T]</td></tr><tr><td>IsCollectible</td><td>False</td></tr><tr><td>IsGenericMethod</td><td>False</td></tr><tr><td>IsGenericMethodDefinition</td><td>False</td></tr><tr><td>ContainsGenericParameters</td><td>True</td></tr><tr><td>MethodImplementationFlags</td><td>IL</td></tr><tr><td>IsAbstract</td><td>False</td></tr><tr><td>IsConstructor</td><td>False</td></tr><tr><td>IsFinal</td><td>False</td></tr><tr><td>IsHideBySig</td><td>True</td></tr><tr><td>IsSpecialName</td><td>True</td></tr><tr><td>IsStatic</td><td>False</td></tr><tr><td>IsVirtual</td><td>False</td></tr><tr><td>IsAssembly</td><td>False</td></tr><tr><td>IsFamily</td><td>False</td></tr><tr><td>IsFamilyAndAssembly</td><td>False</td></tr><tr><td>IsFamilyOrAssembly</td><td>False</td></tr><tr><td>IsPrivate</td><td>False</td></tr><tr><td>IsPublic</td><td>True</td></tr><tr><td>IsConstructedGenericMethod</td><td>False</td></tr><tr><td>CustomAttributes</td><td>[  ]</td></tr></tbody></table></div></details></td></tr><tr><td>Message</td><td><div class=\"dni-plaintext\"><pre>The input list was empty.</pre></div></td></tr><tr><td>Data</td><td><i>(empty)</i></td></tr><tr><td>InnerException</td><td><div class=\"dni-plaintext\"><pre>&lt;null&gt;</pre></div></td></tr><tr><td>HelpLink</td><td><div class=\"dni-plaintext\"><pre>&lt;null&gt;</pre></div></td></tr><tr><td>Source</td><td><div class=\"dni-plaintext\"><pre>FSharp.Core</pre></div></td></tr><tr><td>HResult</td><td><div class=\"dni-plaintext\"><pre>-2146233079</pre></div></td></tr><tr><td>StackTrace</td><td><div class=\"dni-plaintext\"><pre>   at Microsoft.FSharp.Collections.FSharpList`1.get_Tail() in D:\\a\\_work\\1\\s\\src\\FSharp.Core\\prim-types.fs:line 4146\r\n",
                            "   at lambda_method286(Closure, FSharpList`1)\r\n",
                            "   at Microsoft.DotNet.Interactive.Formatting.MemberAccessor`1.GetValueOrException(T instance) in D:\\a\\_work\\1\\s\\src\\Microsoft.DotNet.Interactive.Formatting\\MemberAccessor{T}.cs:line 58</pre></div></td></tr></tbody></table></div></details></td></tr><tr><td><i>(values)</i></td><td><div class=\"dni-plaintext\"><pre>[  ]</pre></div></td></tr></tbody></table></div></details></td></tr><tr><td><i>(values)</i></td><td><div class=\"dni-plaintext\"><pre>[ We have a problem! ]</pre></div></td></tr></tbody></table></div></details></td></tr></tbody></table></div></details></td></tr></tbody></table></div></details><style>\r\n",
                            ".dni-code-hint {\r\n",
                            "    font-style: italic;\r\n",
                            "    overflow: hidden;\r\n",
                            "    white-space: nowrap;\r\n",
                            "}\r\n",
                            ".dni-treeview {\r\n",
                            "    white-space: nowrap;\r\n",
                            "}\r\n",
                            ".dni-treeview td {\r\n",
                            "    vertical-align: top;\r\n",
                            "    text-align: start;\r\n",
                            "}\r\n",
                            "details.dni-treeview {\r\n",
                            "    padding-left: 1em;\r\n",
                            "}\r\n",
                            "table td {\r\n",
                            "    text-align: start;\r\n",
                            "}\r\n",
                            "table tr { \r\n",
                            "    vertical-align: top; \r\n",
                            "    margin: 0em 0px;\r\n",
                            "}\r\n",
                            "table tr td pre \r\n",
                            "{ \r\n",
                            "    vertical-align: top !important; \r\n",
                            "    margin: 0em 0px !important;\r\n",
                            "} \r\n",
                            "table th {\r\n",
                            "    text-align: start;\r\n",
                            "}\r\n",
                            "</style>"
                        ]
                    },
                    "metadata": {},
                    "output_type": "display_data"
                }
            ],
            "source": [
                "type Validation<'a> = Result<'a, string list>\n",
                "\n",
                "let ok : Validation<int> = Ok 13\n",
                "let nok : Validation<bool> = Error [\"We have a problem!\"]\n",
                "(ok,nok)\n"
            ]
        },
        {
            "cell_type": "markdown",
            "metadata": {},
            "source": [
                "*Validation* is a generic type that already fills in what kind of data the **Error** case should contain. *Validation* also has a generic type parameter for the **Ok** case, but all **Error** cases will contain a list of strings. Why we do that will become clear in a bit."
            ]
        },
        {
            "cell_type": "markdown",
            "metadata": {},
            "source": [
                "That's most of the prerequisites out of the way. Last but not least, functions also have types!"
            ]
        },
        {
            "cell_type": "code",
            "execution_count": 10,
            "metadata": {
                "dotnet_interactive": {
                    "language": "fsharp"
                },
                "polyglot_notebook": {
                    "kernelName": "fsharp"
                },
                "vscode": {
                    "languageId": "polyglot-notebook"
                }
            },
            "outputs": [],
            "source": [
                "let foo a = a + 1"
            ]
        },
        {
            "cell_type": "markdown",
            "metadata": {},
            "source": [
                "**foo** is a function that takes an integer value **a** and returns **a + 1**. **a + 1** is also an integer. We represent function types with arrows. **foo** maps *ints* to *ints*, so its type is:\n",
                "\n",
                "*int->int*\n",
                "\n",
                "You can also explicitly annotate your function types in F# code, that looks something like this:"
            ]
        },
        {
            "cell_type": "code",
            "execution_count": 11,
            "metadata": {
                "dotnet_interactive": {
                    "language": "fsharp"
                },
                "polyglot_notebook": {
                    "kernelName": "fsharp"
                },
                "vscode": {
                    "languageId": "polyglot-notebook"
                }
            },
            "outputs": [],
            "source": [
                "let foo (a : int)   : int = a + 1\n",
                "(*       |a is an int  | it returns an int *)"
            ]
        },
        {
            "cell_type": "markdown",
            "metadata": {},
            "source": [
                "Or using the arrow syntax for function types:"
            ]
        },
        {
            "cell_type": "code",
            "execution_count": 12,
            "metadata": {
                "dotnet_interactive": {
                    "language": "fsharp"
                },
                "polyglot_notebook": {
                    "kernelName": "fsharp"
                },
                "vscode": {
                    "languageId": "polyglot-notebook"
                }
            },
            "outputs": [],
            "source": [
                "let foo : int -> int = \n",
                "(*         | takes an int\n",
                "                  | returns an int\n",
                "*)\n",
                "    fun a -> a + 1"
            ]
        },
        {
            "cell_type": "markdown",
            "metadata": {},
            "source": [
                "Now, functions can also work on those other kinds of types like records and unions. Let's define a function that creates a *Person* record given an *Age* and an *Email*:"
            ]
        },
        {
            "cell_type": "code",
            "execution_count": 13,
            "metadata": {
                "dotnet_interactive": {
                    "language": "fsharp"
                },
                "polyglot_notebook": {
                    "kernelName": "fsharp"
                },
                "vscode": {
                    "languageId": "polyglot-notebook"
                }
            },
            "outputs": [
                {
                    "data": {
                        "text/html": [
                            "<details open=\"open\" class=\"dni-treeview\"><summary><span class=\"dni-code-hint\"><code>{ Age = Age 99\\n  Email = Email &quot;me@old.com&quot; }</code></span></summary><div><table><thead><tr></tr></thead><tbody><tr><td>Age</td><td><details class=\"dni-treeview\"><summary><span class=\"dni-code-hint\"><code>Age 99</code></span></summary><div><table><thead><tr></tr></thead><tbody><tr><td>Item</td><td><div class=\"dni-plaintext\"><pre>99</pre></div></td></tr></tbody></table></div></details></td></tr><tr><td>Email</td><td><details class=\"dni-treeview\"><summary><span class=\"dni-code-hint\"><code>Email &quot;me@old.com&quot;</code></span></summary><div><table><thead><tr></tr></thead><tbody><tr><td>Item</td><td><div class=\"dni-plaintext\"><pre>me@old.com</pre></div></td></tr></tbody></table></div></details></td></tr></tbody></table></div></details><style>\r\n",
                            ".dni-code-hint {\r\n",
                            "    font-style: italic;\r\n",
                            "    overflow: hidden;\r\n",
                            "    white-space: nowrap;\r\n",
                            "}\r\n",
                            ".dni-treeview {\r\n",
                            "    white-space: nowrap;\r\n",
                            "}\r\n",
                            ".dni-treeview td {\r\n",
                            "    vertical-align: top;\r\n",
                            "    text-align: start;\r\n",
                            "}\r\n",
                            "details.dni-treeview {\r\n",
                            "    padding-left: 1em;\r\n",
                            "}\r\n",
                            "table td {\r\n",
                            "    text-align: start;\r\n",
                            "}\r\n",
                            "table tr { \r\n",
                            "    vertical-align: top; \r\n",
                            "    margin: 0em 0px;\r\n",
                            "}\r\n",
                            "table tr td pre \r\n",
                            "{ \r\n",
                            "    vertical-align: top !important; \r\n",
                            "    margin: 0em 0px !important;\r\n",
                            "} \r\n",
                            "table th {\r\n",
                            "    text-align: start;\r\n",
                            "}\r\n",
                            "</style>"
                        ]
                    },
                    "metadata": {},
                    "output_type": "display_data"
                }
            ],
            "source": [
                "let mkPerson (a: Age) (e: Email) : Person = { Age = a; Email = e }\n",
                "mkPerson (Age 99) (Email \"me@old.com\")"
            ]
        },
        {
            "cell_type": "markdown",
            "metadata": {},
            "source": [
                "Phew! that's all our prerequisites down. Let's build up towards the *M-word* now. We're going to do that in 3 steps, each building up on the previous. We'll start off with *Functor*s, then introduce *Applicative* and have our grand finale with *Monad*."
            ]
        },
        {
            "cell_type": "markdown",
            "metadata": {},
            "source": [
                "## Functors\n",
                "\n",
                "We now know everything about types. In order to get a grasp on Functors, Applicatives and Monads, we need to talk about different kinds of worlds of types, **normal worlds** and **elevated worlds**.\n",
                "\n",
                "### Sidebar: elevated worlds\n",
                "\n",
                "The **normal world** talks about types like *int*, *bool*, but also function types *a->b*, *string->int*.\n",
                "\n",
                "The **elevated world** elevates everything you can dream up in the **normal world** to one and only one elevated counterpart. For example, we have *int* in the **normal world**, which has a counterpart *E\\<int>* in the elevated world. *E\\<int>* is a type in the elevated world. You can also elevate function types: *a->b* has its counterpart *E\\<a->b>*. There's tons of different E's out there. We've already encountered one today: *Validation* is one of those types that **elevates** normal types to the elevated world. *Validation\\<int>* elevates the *int* type to the elevated world of Validations."
            ]
        },
        {
            "cell_type": "markdown",
            "metadata": {},
            "source": [
                "So, back to functors. Functors are **elevated** types that support a **map** function. Map you probably know, lots of languages provide support for it. Let's take a look at **map**'s implementation for our *Validation* type:"
            ]
        },
        {
            "cell_type": "code",
            "execution_count": 14,
            "metadata": {
                "dotnet_interactive": {
                    "language": "fsharp"
                },
                "polyglot_notebook": {
                    "kernelName": "fsharp"
                },
                "vscode": {
                    "languageId": "polyglot-notebook"
                }
            },
            "outputs": [],
            "source": [
                "//map :: (a->b)->E(a)->E(b)\n",
                "let map (f: 'a -> 'b) (a: Validation<'a>) : Validation<'b> =\n",
                "    match a with\n",
                "    | Ok v -> Ok(f v)\n",
                "    | Error e -> Error e"
            ]
        },
        {
            "cell_type": "markdown",
            "metadata": {},
            "source": [
                "Whoa, what's happening here? **map** takes a function **f** from the **normal world** and a value **a** from the **elevated** *Validation\\<a>* world and returns a value from the **elevated** *Validation\\<b>* world.\n",
                "\n",
                "Right about now would be a good time for a concrete example, what kind of functions and values can we feed into map?\n",
                "\n",
                "Let's build a function that let's us have a birthday. It lives in the **normal world**: it takes a value of type *Age* and returns another value of type *Age*, so it has the signature Age->Age."
            ]
        },
        {
            "cell_type": "code",
            "execution_count": 15,
            "metadata": {
                "dotnet_interactive": {
                    "language": "fsharp"
                },
                "polyglot_notebook": {
                    "kernelName": "fsharp"
                },
                "vscode": {
                    "languageId": "polyglot-notebook"
                }
            },
            "outputs": [
                {
                    "data": {
                        "text/html": [
                            "<details open=\"open\" class=\"dni-treeview\"><summary><span class=\"dni-code-hint\"><code>Age 36</code></span></summary><div><table><thead><tr></tr></thead><tbody><tr><td>Item</td><td><div class=\"dni-plaintext\"><pre>36</pre></div></td></tr></tbody></table></div></details><style>\r\n",
                            ".dni-code-hint {\r\n",
                            "    font-style: italic;\r\n",
                            "    overflow: hidden;\r\n",
                            "    white-space: nowrap;\r\n",
                            "}\r\n",
                            ".dni-treeview {\r\n",
                            "    white-space: nowrap;\r\n",
                            "}\r\n",
                            ".dni-treeview td {\r\n",
                            "    vertical-align: top;\r\n",
                            "    text-align: start;\r\n",
                            "}\r\n",
                            "details.dni-treeview {\r\n",
                            "    padding-left: 1em;\r\n",
                            "}\r\n",
                            "table td {\r\n",
                            "    text-align: start;\r\n",
                            "}\r\n",
                            "table tr { \r\n",
                            "    vertical-align: top; \r\n",
                            "    margin: 0em 0px;\r\n",
                            "}\r\n",
                            "table tr td pre \r\n",
                            "{ \r\n",
                            "    vertical-align: top !important; \r\n",
                            "    margin: 0em 0px !important;\r\n",
                            "} \r\n",
                            "table th {\r\n",
                            "    text-align: start;\r\n",
                            "}\r\n",
                            "</style>"
                        ]
                    },
                    "metadata": {},
                    "output_type": "display_data"
                }
            ],
            "source": [
                "let haveBirthDay (Age a) : Age = Age (a + 1)\n",
                "\n",
                "haveBirthDay (Age 35)"
            ]
        },
        {
            "cell_type": "markdown",
            "metadata": {},
            "source": [
                "Can we feed this function to map? We sure can!"
            ]
        },
        {
            "cell_type": "code",
            "execution_count": 16,
            "metadata": {
                "dotnet_interactive": {
                    "language": "fsharp"
                },
                "polyglot_notebook": {
                    "kernelName": "fsharp"
                },
                "vscode": {
                    "languageId": "polyglot-notebook"
                }
            },
            "outputs": [
                {
                    "data": {
                        "text/html": [
                            "<details open=\"open\" class=\"dni-treeview\"><summary><span class=\"dni-code-hint\"><code>Ok (Age 36)</code></span></summary><div><table><thead><tr></tr></thead><tbody><tr><td>Item</td><td><details class=\"dni-treeview\"><summary><span class=\"dni-code-hint\"><code>Age 36</code></span></summary><div><table><thead><tr></tr></thead><tbody><tr><td>Item</td><td><div class=\"dni-plaintext\"><pre>36</pre></div></td></tr></tbody></table></div></details></td></tr></tbody></table></div></details><style>\r\n",
                            ".dni-code-hint {\r\n",
                            "    font-style: italic;\r\n",
                            "    overflow: hidden;\r\n",
                            "    white-space: nowrap;\r\n",
                            "}\r\n",
                            ".dni-treeview {\r\n",
                            "    white-space: nowrap;\r\n",
                            "}\r\n",
                            ".dni-treeview td {\r\n",
                            "    vertical-align: top;\r\n",
                            "    text-align: start;\r\n",
                            "}\r\n",
                            "details.dni-treeview {\r\n",
                            "    padding-left: 1em;\r\n",
                            "}\r\n",
                            "table td {\r\n",
                            "    text-align: start;\r\n",
                            "}\r\n",
                            "table tr { \r\n",
                            "    vertical-align: top; \r\n",
                            "    margin: 0em 0px;\r\n",
                            "}\r\n",
                            "table tr td pre \r\n",
                            "{ \r\n",
                            "    vertical-align: top !important; \r\n",
                            "    margin: 0em 0px !important;\r\n",
                            "} \r\n",
                            "table th {\r\n",
                            "    text-align: start;\r\n",
                            "}\r\n",
                            "</style>"
                        ]
                    },
                    "metadata": {},
                    "output_type": "display_data"
                }
            ],
            "source": [
                "let ok : Validation<Age> = Ok (Age 35)\n",
                "map haveBirthDay ok"
            ]
        },
        {
            "cell_type": "code",
            "execution_count": 17,
            "metadata": {
                "dotnet_interactive": {
                    "language": "fsharp"
                },
                "polyglot_notebook": {
                    "kernelName": "fsharp"
                },
                "vscode": {
                    "languageId": "polyglot-notebook"
                }
            },
            "outputs": [
                {
                    "data": {
                        "text/html": [
                            "<details open=\"open\" class=\"dni-treeview\"><summary><span class=\"dni-code-hint\"><code>Error [&quot;not a valid age&quot;]</code></span></summary><div><table><thead><tr></tr></thead><tbody><tr><td>Item</td><td><details class=\"dni-treeview\"><summary><span class=\"dni-code-hint\"><code>[ not a valid age ]</code></span></summary><div><table><thead><tr></tr></thead><tbody><tr><td>HeadOrDefault</td><td><div class=\"dni-plaintext\"><pre>not a valid age</pre></div></td></tr><tr><td>TailOrNull</td><td><details class=\"dni-treeview\"><summary><span class=\"dni-code-hint\"><code>[  ]</code></span></summary><div><table><thead><tr></tr></thead><tbody><tr><td>HeadOrDefault</td><td><div class=\"dni-plaintext\"><pre>&lt;null&gt;</pre></div></td></tr><tr><td>TailOrNull</td><td><div class=\"dni-plaintext\"><pre>&lt;null&gt;</pre></div></td></tr><tr><td>Head</td><td><details class=\"dni-treeview\"><summary><span class=\"dni-code-hint\"><code>System.InvalidOperationException: The input list was empty.\\r\\n   at Microsoft.FSharp.Collections.FSharpList`1.get_Head() in D:\\a\\_work\\1\\s\\src\\FSharp.Core\\prim-types.fs:line 4141\\r\\n   at lambda_method285(Closure, FSharpList`1)\\r\\n   at Microsoft.DotNet.Interactive.Formatting.MemberAccessor`1.GetVa...</code></span></summary><div><table><thead><tr></tr></thead><tbody><tr><td>TargetSite</td><td><details class=\"dni-treeview\"><summary><span class=\"dni-code-hint\"><code>T get_Head()</code></span></summary><div><table><thead><tr></tr></thead><tbody><tr><td>Name</td><td><div class=\"dni-plaintext\"><pre>get_Head</pre></div></td></tr><tr><td>DeclaringType</td><td><span><a href=\"https://docs.microsoft.com/dotnet/api/microsoft.fsharp.collections.fsharplist-1?view=net-7.0\">Microsoft.FSharp.Collections.FSharpList&lt;T&gt;</a></span></td></tr><tr><td>ReflectedType</td><td><span><a href=\"https://docs.microsoft.com/dotnet/api/microsoft.fsharp.collections.fsharplist-1?view=net-7.0\">Microsoft.FSharp.Collections.FSharpList&lt;T&gt;</a></span></td></tr><tr><td>MemberType</td><td><span>Method</span></td></tr><tr><td>MetadataToken</td><td><div class=\"dni-plaintext\"><pre>100663764</pre></div></td></tr><tr><td>Module</td><td><details class=\"dni-treeview\"><summary><span class=\"dni-code-hint\"><code>FSharp.Core.dll</code></span></summary><div><table><thead><tr></tr></thead><tbody><tr><td>MDStreamVersion</td><td>131072</td></tr><tr><td>FullyQualifiedName</td><td>C:\\Users\\Jo.VanEyck\\.nuget\\packages\\microsoft.dotnet-interactive\\1.0.512901\\tools\\net8.0\\any\\FSharp.Core.dll</td></tr><tr><td>ModuleVersionId</td><td>8b3b61bb-207b-2ce2-fc65-52fadafedf72</td></tr><tr><td>MetadataToken</td><td>1</td></tr><tr><td>ScopeName</td><td>FSharp.Core.dll</td></tr><tr><td>Name</td><td>FSharp.Core.dll</td></tr><tr><td>Assembly</td><td>FSharp.Core, Version=8.0.0.0, Culture=neutral, PublicKeyToken=b03f5f7f11d50a3a</td></tr><tr><td>ModuleHandle</td><td>System.ModuleHandle</td></tr><tr><td>CustomAttributes</td><td>[  ]</td></tr></tbody></table></div></details></td></tr><tr><td>IsSecurityCritical</td><td><div class=\"dni-plaintext\"><pre>True</pre></div></td></tr><tr><td>IsSecuritySafeCritical</td><td><div class=\"dni-plaintext\"><pre>False</pre></div></td></tr><tr><td>IsSecurityTransparent</td><td><div class=\"dni-plaintext\"><pre>False</pre></div></td></tr><tr><td>MethodHandle</td><td><details class=\"dni-treeview\"><summary><span class=\"dni-code-hint\"><code>System.RuntimeMethodHandle</code></span></summary><div><table><thead><tr></tr></thead><tbody><tr><td>Value</td><td>140723996034176</td></tr></tbody></table></div></details></td></tr><tr><td>Attributes</td><td><span>Public, HideBySig, SpecialName</span></td></tr><tr><td>CallingConvention</td><td><span>Standard, HasThis</span></td></tr><tr><td>ReturnType</td><td>T</td></tr><tr><td>ReturnTypeCustomAttributes</td><td><details class=\"dni-treeview\"><summary><span class=\"dni-code-hint\"><code>T</code></span></summary><div><table><thead><tr></tr></thead><tbody><tr><td>ParameterType</td><td>T</td></tr><tr><td>Name</td><td><div class=\"dni-plaintext\"><pre>&lt;null&gt;</pre></div></td></tr><tr><td>HasDefaultValue</td><td>False</td></tr><tr><td>DefaultValue</td><td></td></tr><tr><td>RawDefaultValue</td><td></td></tr><tr><td>MetadataToken</td><td>134217728</td></tr><tr><td>Attributes</td><td>None</td></tr><tr><td>Member</td><td>T get_Head()</td></tr><tr><td>Position</td><td>-1</td></tr><tr><td>IsIn</td><td>False</td></tr><tr><td>IsLcid</td><td>False</td></tr><tr><td>IsOptional</td><td>False</td></tr><tr><td>IsOut</td><td>False</td></tr><tr><td>IsRetval</td><td>False</td></tr><tr><td>CustomAttributes</td><td>[  ]</td></tr></tbody></table></div></details></td></tr><tr><td>ReturnParameter</td><td><details class=\"dni-treeview\"><summary><span class=\"dni-code-hint\"><code>T</code></span></summary><div><table><thead><tr></tr></thead><tbody><tr><td>ParameterType</td><td>T</td></tr><tr><td>Name</td><td><div class=\"dni-plaintext\"><pre>&lt;null&gt;</pre></div></td></tr><tr><td>HasDefaultValue</td><td>False</td></tr><tr><td>DefaultValue</td><td></td></tr><tr><td>RawDefaultValue</td><td></td></tr><tr><td>MetadataToken</td><td>134217728</td></tr><tr><td>Attributes</td><td>None</td></tr><tr><td>Member</td><td>T get_Head()</td></tr><tr><td>Position</td><td>-1</td></tr><tr><td>IsIn</td><td>False</td></tr><tr><td>IsLcid</td><td>False</td></tr><tr><td>IsOptional</td><td>False</td></tr><tr><td>IsOut</td><td>False</td></tr><tr><td>IsRetval</td><td>False</td></tr><tr><td>CustomAttributes</td><td>[  ]</td></tr></tbody></table></div></details></td></tr><tr><td>IsCollectible</td><td><div class=\"dni-plaintext\"><pre>False</pre></div></td></tr><tr><td>IsGenericMethod</td><td><div class=\"dni-plaintext\"><pre>False</pre></div></td></tr><tr><td>IsGenericMethodDefinition</td><td><div class=\"dni-plaintext\"><pre>False</pre></div></td></tr><tr><td>ContainsGenericParameters</td><td><div class=\"dni-plaintext\"><pre>True</pre></div></td></tr><tr><td>MethodImplementationFlags</td><td><span>IL</span></td></tr><tr><td>IsAbstract</td><td><div class=\"dni-plaintext\"><pre>False</pre></div></td></tr><tr><td>IsConstructor</td><td><div class=\"dni-plaintext\"><pre>False</pre></div></td></tr><tr><td>IsFinal</td><td><div class=\"dni-plaintext\"><pre>False</pre></div></td></tr><tr><td>IsHideBySig</td><td><div class=\"dni-plaintext\"><pre>True</pre></div></td></tr><tr><td>IsSpecialName</td><td><div class=\"dni-plaintext\"><pre>True</pre></div></td></tr><tr><td>IsStatic</td><td><div class=\"dni-plaintext\"><pre>False</pre></div></td></tr><tr><td>IsVirtual</td><td><div class=\"dni-plaintext\"><pre>False</pre></div></td></tr><tr><td>IsAssembly</td><td><div class=\"dni-plaintext\"><pre>False</pre></div></td></tr><tr><td>IsFamily</td><td><div class=\"dni-plaintext\"><pre>False</pre></div></td></tr><tr><td>IsFamilyAndAssembly</td><td><div class=\"dni-plaintext\"><pre>False</pre></div></td></tr><tr><td>IsFamilyOrAssembly</td><td><div class=\"dni-plaintext\"><pre>False</pre></div></td></tr><tr><td>IsPrivate</td><td><div class=\"dni-plaintext\"><pre>False</pre></div></td></tr><tr><td>IsPublic</td><td><div class=\"dni-plaintext\"><pre>True</pre></div></td></tr><tr><td>IsConstructedGenericMethod</td><td><div class=\"dni-plaintext\"><pre>False</pre></div></td></tr><tr><td>CustomAttributes</td><td><i>(empty)</i></td></tr></tbody></table></div></details></td></tr><tr><td>Message</td><td><div class=\"dni-plaintext\"><pre>The input list was empty.</pre></div></td></tr><tr><td>Data</td><td><i>(empty)</i></td></tr><tr><td>InnerException</td><td><div class=\"dni-plaintext\"><pre>&lt;null&gt;</pre></div></td></tr><tr><td>HelpLink</td><td><div class=\"dni-plaintext\"><pre>&lt;null&gt;</pre></div></td></tr><tr><td>Source</td><td><div class=\"dni-plaintext\"><pre>FSharp.Core</pre></div></td></tr><tr><td>HResult</td><td><div class=\"dni-plaintext\"><pre>-2146233079</pre></div></td></tr><tr><td>StackTrace</td><td><div class=\"dni-plaintext\"><pre>   at Microsoft.FSharp.Collections.FSharpList`1.get_Head() in D:\\a\\_work\\1\\s\\src\\FSharp.Core\\prim-types.fs:line 4141\r\n",
                            "   at lambda_method285(Closure, FSharpList`1)\r\n",
                            "   at Microsoft.DotNet.Interactive.Formatting.MemberAccessor`1.GetValueOrException(T instance) in D:\\a\\_work\\1\\s\\src\\Microsoft.DotNet.Interactive.Formatting\\MemberAccessor{T}.cs:line 58</pre></div></td></tr></tbody></table></div></details></td></tr><tr><td>Tail</td><td><details class=\"dni-treeview\"><summary><span class=\"dni-code-hint\"><code>System.InvalidOperationException: The input list was empty.\\r\\n   at Microsoft.FSharp.Collections.FSharpList`1.get_Tail() in D:\\a\\_work\\1\\s\\src\\FSharp.Core\\prim-types.fs:line 4146\\r\\n   at lambda_method286(Closure, FSharpList`1)\\r\\n   at Microsoft.DotNet.Interactive.Formatting.MemberAccessor`1.GetVa...</code></span></summary><div><table><thead><tr></tr></thead><tbody><tr><td>TargetSite</td><td><details class=\"dni-treeview\"><summary><span class=\"dni-code-hint\"><code>Microsoft.FSharp.Collections.FSharpList`1[T] get_Tail()</code></span></summary><div><table><thead><tr></tr></thead><tbody><tr><td>Name</td><td><div class=\"dni-plaintext\"><pre>get_Tail</pre></div></td></tr><tr><td>DeclaringType</td><td><span><a href=\"https://docs.microsoft.com/dotnet/api/microsoft.fsharp.collections.fsharplist-1?view=net-7.0\">Microsoft.FSharp.Collections.FSharpList&lt;T&gt;</a></span></td></tr><tr><td>ReflectedType</td><td><span><a href=\"https://docs.microsoft.com/dotnet/api/microsoft.fsharp.collections.fsharplist-1?view=net-7.0\">Microsoft.FSharp.Collections.FSharpList&lt;T&gt;</a></span></td></tr><tr><td>MemberType</td><td><span>Method</span></td></tr><tr><td>MetadataToken</td><td><div class=\"dni-plaintext\"><pre>100663765</pre></div></td></tr><tr><td>Module</td><td><details class=\"dni-treeview\"><summary><span class=\"dni-code-hint\"><code>FSharp.Core.dll</code></span></summary><div><table><thead><tr></tr></thead><tbody><tr><td>MDStreamVersion</td><td>131072</td></tr><tr><td>FullyQualifiedName</td><td>C:\\Users\\Jo.VanEyck\\.nuget\\packages\\microsoft.dotnet-interactive\\1.0.512901\\tools\\net8.0\\any\\FSharp.Core.dll</td></tr><tr><td>ModuleVersionId</td><td>8b3b61bb-207b-2ce2-fc65-52fadafedf72</td></tr><tr><td>MetadataToken</td><td>1</td></tr><tr><td>ScopeName</td><td>FSharp.Core.dll</td></tr><tr><td>Name</td><td>FSharp.Core.dll</td></tr><tr><td>Assembly</td><td>FSharp.Core, Version=8.0.0.0, Culture=neutral, PublicKeyToken=b03f5f7f11d50a3a</td></tr><tr><td>ModuleHandle</td><td>System.ModuleHandle</td></tr><tr><td>CustomAttributes</td><td>[  ]</td></tr></tbody></table></div></details></td></tr><tr><td>IsSecurityCritical</td><td><div class=\"dni-plaintext\"><pre>True</pre></div></td></tr><tr><td>IsSecuritySafeCritical</td><td><div class=\"dni-plaintext\"><pre>False</pre></div></td></tr><tr><td>IsSecurityTransparent</td><td><div class=\"dni-plaintext\"><pre>False</pre></div></td></tr><tr><td>MethodHandle</td><td><details class=\"dni-treeview\"><summary><span class=\"dni-code-hint\"><code>System.RuntimeMethodHandle</code></span></summary><div><table><thead><tr></tr></thead><tbody><tr><td>Value</td><td>140723996034192</td></tr></tbody></table></div></details></td></tr><tr><td>Attributes</td><td><span>Public, HideBySig, SpecialName</span></td></tr><tr><td>CallingConvention</td><td><span>Standard, HasThis</span></td></tr><tr><td>ReturnType</td><td><span><a href=\"https://docs.microsoft.com/dotnet/api/microsoft.fsharp.collections.fsharplist-1?view=net-7.0\">Microsoft.FSharp.Collections.FSharpList&lt;T&gt;</a></span></td></tr><tr><td>ReturnTypeCustomAttributes</td><td><details class=\"dni-treeview\"><summary><span class=\"dni-code-hint\"><code>Microsoft.FSharp.Collections.FSharpList`1[T]</code></span></summary><div><table><thead><tr></tr></thead><tbody><tr><td>ParameterType</td><td>Microsoft.FSharp.Collections.FSharpList`1[T]</td></tr><tr><td>Name</td><td><div class=\"dni-plaintext\"><pre>&lt;null&gt;</pre></div></td></tr><tr><td>HasDefaultValue</td><td>False</td></tr><tr><td>DefaultValue</td><td></td></tr><tr><td>RawDefaultValue</td><td></td></tr><tr><td>MetadataToken</td><td>134217728</td></tr><tr><td>Attributes</td><td>None</td></tr><tr><td>Member</td><td>Microsoft.FSharp.Collections.FSharpList`1[T] get_Tail()</td></tr><tr><td>Position</td><td>-1</td></tr><tr><td>IsIn</td><td>False</td></tr><tr><td>IsLcid</td><td>False</td></tr><tr><td>IsOptional</td><td>False</td></tr><tr><td>IsOut</td><td>False</td></tr><tr><td>IsRetval</td><td>False</td></tr><tr><td>CustomAttributes</td><td>[  ]</td></tr></tbody></table></div></details></td></tr><tr><td>ReturnParameter</td><td><details class=\"dni-treeview\"><summary><span class=\"dni-code-hint\"><code>Microsoft.FSharp.Collections.FSharpList`1[T]</code></span></summary><div><table><thead><tr></tr></thead><tbody><tr><td>ParameterType</td><td>Microsoft.FSharp.Collections.FSharpList`1[T]</td></tr><tr><td>Name</td><td><div class=\"dni-plaintext\"><pre>&lt;null&gt;</pre></div></td></tr><tr><td>HasDefaultValue</td><td>False</td></tr><tr><td>DefaultValue</td><td></td></tr><tr><td>RawDefaultValue</td><td></td></tr><tr><td>MetadataToken</td><td>134217728</td></tr><tr><td>Attributes</td><td>None</td></tr><tr><td>Member</td><td>Microsoft.FSharp.Collections.FSharpList`1[T] get_Tail()</td></tr><tr><td>Position</td><td>-1</td></tr><tr><td>IsIn</td><td>False</td></tr><tr><td>IsLcid</td><td>False</td></tr><tr><td>IsOptional</td><td>False</td></tr><tr><td>IsOut</td><td>False</td></tr><tr><td>IsRetval</td><td>False</td></tr><tr><td>CustomAttributes</td><td>[  ]</td></tr></tbody></table></div></details></td></tr><tr><td>IsCollectible</td><td><div class=\"dni-plaintext\"><pre>False</pre></div></td></tr><tr><td>IsGenericMethod</td><td><div class=\"dni-plaintext\"><pre>False</pre></div></td></tr><tr><td>IsGenericMethodDefinition</td><td><div class=\"dni-plaintext\"><pre>False</pre></div></td></tr><tr><td>ContainsGenericParameters</td><td><div class=\"dni-plaintext\"><pre>True</pre></div></td></tr><tr><td>MethodImplementationFlags</td><td><span>IL</span></td></tr><tr><td>IsAbstract</td><td><div class=\"dni-plaintext\"><pre>False</pre></div></td></tr><tr><td>IsConstructor</td><td><div class=\"dni-plaintext\"><pre>False</pre></div></td></tr><tr><td>IsFinal</td><td><div class=\"dni-plaintext\"><pre>False</pre></div></td></tr><tr><td>IsHideBySig</td><td><div class=\"dni-plaintext\"><pre>True</pre></div></td></tr><tr><td>IsSpecialName</td><td><div class=\"dni-plaintext\"><pre>True</pre></div></td></tr><tr><td>IsStatic</td><td><div class=\"dni-plaintext\"><pre>False</pre></div></td></tr><tr><td>IsVirtual</td><td><div class=\"dni-plaintext\"><pre>False</pre></div></td></tr><tr><td>IsAssembly</td><td><div class=\"dni-plaintext\"><pre>False</pre></div></td></tr><tr><td>IsFamily</td><td><div class=\"dni-plaintext\"><pre>False</pre></div></td></tr><tr><td>IsFamilyAndAssembly</td><td><div class=\"dni-plaintext\"><pre>False</pre></div></td></tr><tr><td>IsFamilyOrAssembly</td><td><div class=\"dni-plaintext\"><pre>False</pre></div></td></tr><tr><td>IsPrivate</td><td><div class=\"dni-plaintext\"><pre>False</pre></div></td></tr><tr><td>IsPublic</td><td><div class=\"dni-plaintext\"><pre>True</pre></div></td></tr><tr><td>IsConstructedGenericMethod</td><td><div class=\"dni-plaintext\"><pre>False</pre></div></td></tr><tr><td>CustomAttributes</td><td><i>(empty)</i></td></tr></tbody></table></div></details></td></tr><tr><td>Message</td><td><div class=\"dni-plaintext\"><pre>The input list was empty.</pre></div></td></tr><tr><td>Data</td><td><i>(empty)</i></td></tr><tr><td>InnerException</td><td><div class=\"dni-plaintext\"><pre>&lt;null&gt;</pre></div></td></tr><tr><td>HelpLink</td><td><div class=\"dni-plaintext\"><pre>&lt;null&gt;</pre></div></td></tr><tr><td>Source</td><td><div class=\"dni-plaintext\"><pre>FSharp.Core</pre></div></td></tr><tr><td>HResult</td><td><div class=\"dni-plaintext\"><pre>-2146233079</pre></div></td></tr><tr><td>StackTrace</td><td><div class=\"dni-plaintext\"><pre>   at Microsoft.FSharp.Collections.FSharpList`1.get_Tail() in D:\\a\\_work\\1\\s\\src\\FSharp.Core\\prim-types.fs:line 4146\r\n",
                            "   at lambda_method286(Closure, FSharpList`1)\r\n",
                            "   at Microsoft.DotNet.Interactive.Formatting.MemberAccessor`1.GetValueOrException(T instance) in D:\\a\\_work\\1\\s\\src\\Microsoft.DotNet.Interactive.Formatting\\MemberAccessor{T}.cs:line 58</pre></div></td></tr></tbody></table></div></details></td></tr><tr><td><i>(values)</i></td><td><div class=\"dni-plaintext\"><pre>[  ]</pre></div></td></tr></tbody></table></div></details></td></tr><tr><td>Head</td><td><div class=\"dni-plaintext\"><pre>not a valid age</pre></div></td></tr><tr><td>Tail</td><td><details class=\"dni-treeview\"><summary><span class=\"dni-code-hint\"><code>[  ]</code></span></summary><div><table><thead><tr></tr></thead><tbody><tr><td>HeadOrDefault</td><td><div class=\"dni-plaintext\"><pre>&lt;null&gt;</pre></div></td></tr><tr><td>TailOrNull</td><td><div class=\"dni-plaintext\"><pre>&lt;null&gt;</pre></div></td></tr><tr><td>Head</td><td><details class=\"dni-treeview\"><summary><span class=\"dni-code-hint\"><code>System.InvalidOperationException: The input list was empty.\\r\\n   at Microsoft.FSharp.Collections.FSharpList`1.get_Head() in D:\\a\\_work\\1\\s\\src\\FSharp.Core\\prim-types.fs:line 4141\\r\\n   at lambda_method285(Closure, FSharpList`1)\\r\\n   at Microsoft.DotNet.Interactive.Formatting.MemberAccessor`1.GetVa...</code></span></summary><div><table><thead><tr></tr></thead><tbody><tr><td>TargetSite</td><td><details class=\"dni-treeview\"><summary><span class=\"dni-code-hint\"><code>T get_Head()</code></span></summary><div><table><thead><tr></tr></thead><tbody><tr><td>Name</td><td><div class=\"dni-plaintext\"><pre>get_Head</pre></div></td></tr><tr><td>DeclaringType</td><td><span><a href=\"https://docs.microsoft.com/dotnet/api/microsoft.fsharp.collections.fsharplist-1?view=net-7.0\">Microsoft.FSharp.Collections.FSharpList&lt;T&gt;</a></span></td></tr><tr><td>ReflectedType</td><td><span><a href=\"https://docs.microsoft.com/dotnet/api/microsoft.fsharp.collections.fsharplist-1?view=net-7.0\">Microsoft.FSharp.Collections.FSharpList&lt;T&gt;</a></span></td></tr><tr><td>MemberType</td><td><span>Method</span></td></tr><tr><td>MetadataToken</td><td><div class=\"dni-plaintext\"><pre>100663764</pre></div></td></tr><tr><td>Module</td><td><details class=\"dni-treeview\"><summary><span class=\"dni-code-hint\"><code>FSharp.Core.dll</code></span></summary><div><table><thead><tr></tr></thead><tbody><tr><td>MDStreamVersion</td><td>131072</td></tr><tr><td>FullyQualifiedName</td><td>C:\\Users\\Jo.VanEyck\\.nuget\\packages\\microsoft.dotnet-interactive\\1.0.512901\\tools\\net8.0\\any\\FSharp.Core.dll</td></tr><tr><td>ModuleVersionId</td><td>8b3b61bb-207b-2ce2-fc65-52fadafedf72</td></tr><tr><td>MetadataToken</td><td>1</td></tr><tr><td>ScopeName</td><td>FSharp.Core.dll</td></tr><tr><td>Name</td><td>FSharp.Core.dll</td></tr><tr><td>Assembly</td><td>FSharp.Core, Version=8.0.0.0, Culture=neutral, PublicKeyToken=b03f5f7f11d50a3a</td></tr><tr><td>ModuleHandle</td><td>System.ModuleHandle</td></tr><tr><td>CustomAttributes</td><td>[  ]</td></tr></tbody></table></div></details></td></tr><tr><td>IsSecurityCritical</td><td><div class=\"dni-plaintext\"><pre>True</pre></div></td></tr><tr><td>IsSecuritySafeCritical</td><td><div class=\"dni-plaintext\"><pre>False</pre></div></td></tr><tr><td>IsSecurityTransparent</td><td><div class=\"dni-plaintext\"><pre>False</pre></div></td></tr><tr><td>MethodHandle</td><td><details class=\"dni-treeview\"><summary><span class=\"dni-code-hint\"><code>System.RuntimeMethodHandle</code></span></summary><div><table><thead><tr></tr></thead><tbody><tr><td>Value</td><td>140723996034176</td></tr></tbody></table></div></details></td></tr><tr><td>Attributes</td><td><span>Public, HideBySig, SpecialName</span></td></tr><tr><td>CallingConvention</td><td><span>Standard, HasThis</span></td></tr><tr><td>ReturnType</td><td>T</td></tr><tr><td>ReturnTypeCustomAttributes</td><td><details class=\"dni-treeview\"><summary><span class=\"dni-code-hint\"><code>T</code></span></summary><div><table><thead><tr></tr></thead><tbody><tr><td>ParameterType</td><td>T</td></tr><tr><td>Name</td><td><div class=\"dni-plaintext\"><pre>&lt;null&gt;</pre></div></td></tr><tr><td>HasDefaultValue</td><td>False</td></tr><tr><td>DefaultValue</td><td></td></tr><tr><td>RawDefaultValue</td><td></td></tr><tr><td>MetadataToken</td><td>134217728</td></tr><tr><td>Attributes</td><td>None</td></tr><tr><td>Member</td><td>T get_Head()</td></tr><tr><td>Position</td><td>-1</td></tr><tr><td>IsIn</td><td>False</td></tr><tr><td>IsLcid</td><td>False</td></tr><tr><td>IsOptional</td><td>False</td></tr><tr><td>IsOut</td><td>False</td></tr><tr><td>IsRetval</td><td>False</td></tr><tr><td>CustomAttributes</td><td>[  ]</td></tr></tbody></table></div></details></td></tr><tr><td>ReturnParameter</td><td><details class=\"dni-treeview\"><summary><span class=\"dni-code-hint\"><code>T</code></span></summary><div><table><thead><tr></tr></thead><tbody><tr><td>ParameterType</td><td>T</td></tr><tr><td>Name</td><td><div class=\"dni-plaintext\"><pre>&lt;null&gt;</pre></div></td></tr><tr><td>HasDefaultValue</td><td>False</td></tr><tr><td>DefaultValue</td><td></td></tr><tr><td>RawDefaultValue</td><td></td></tr><tr><td>MetadataToken</td><td>134217728</td></tr><tr><td>Attributes</td><td>None</td></tr><tr><td>Member</td><td>T get_Head()</td></tr><tr><td>Position</td><td>-1</td></tr><tr><td>IsIn</td><td>False</td></tr><tr><td>IsLcid</td><td>False</td></tr><tr><td>IsOptional</td><td>False</td></tr><tr><td>IsOut</td><td>False</td></tr><tr><td>IsRetval</td><td>False</td></tr><tr><td>CustomAttributes</td><td>[  ]</td></tr></tbody></table></div></details></td></tr><tr><td>IsCollectible</td><td><div class=\"dni-plaintext\"><pre>False</pre></div></td></tr><tr><td>IsGenericMethod</td><td><div class=\"dni-plaintext\"><pre>False</pre></div></td></tr><tr><td>IsGenericMethodDefinition</td><td><div class=\"dni-plaintext\"><pre>False</pre></div></td></tr><tr><td>ContainsGenericParameters</td><td><div class=\"dni-plaintext\"><pre>True</pre></div></td></tr><tr><td>MethodImplementationFlags</td><td><span>IL</span></td></tr><tr><td>IsAbstract</td><td><div class=\"dni-plaintext\"><pre>False</pre></div></td></tr><tr><td>IsConstructor</td><td><div class=\"dni-plaintext\"><pre>False</pre></div></td></tr><tr><td>IsFinal</td><td><div class=\"dni-plaintext\"><pre>False</pre></div></td></tr><tr><td>IsHideBySig</td><td><div class=\"dni-plaintext\"><pre>True</pre></div></td></tr><tr><td>IsSpecialName</td><td><div class=\"dni-plaintext\"><pre>True</pre></div></td></tr><tr><td>IsStatic</td><td><div class=\"dni-plaintext\"><pre>False</pre></div></td></tr><tr><td>IsVirtual</td><td><div class=\"dni-plaintext\"><pre>False</pre></div></td></tr><tr><td>IsAssembly</td><td><div class=\"dni-plaintext\"><pre>False</pre></div></td></tr><tr><td>IsFamily</td><td><div class=\"dni-plaintext\"><pre>False</pre></div></td></tr><tr><td>IsFamilyAndAssembly</td><td><div class=\"dni-plaintext\"><pre>False</pre></div></td></tr><tr><td>IsFamilyOrAssembly</td><td><div class=\"dni-plaintext\"><pre>False</pre></div></td></tr><tr><td>IsPrivate</td><td><div class=\"dni-plaintext\"><pre>False</pre></div></td></tr><tr><td>IsPublic</td><td><div class=\"dni-plaintext\"><pre>True</pre></div></td></tr><tr><td>IsConstructedGenericMethod</td><td><div class=\"dni-plaintext\"><pre>False</pre></div></td></tr><tr><td>CustomAttributes</td><td><i>(empty)</i></td></tr></tbody></table></div></details></td></tr><tr><td>Message</td><td><div class=\"dni-plaintext\"><pre>The input list was empty.</pre></div></td></tr><tr><td>Data</td><td><i>(empty)</i></td></tr><tr><td>InnerException</td><td><div class=\"dni-plaintext\"><pre>&lt;null&gt;</pre></div></td></tr><tr><td>HelpLink</td><td><div class=\"dni-plaintext\"><pre>&lt;null&gt;</pre></div></td></tr><tr><td>Source</td><td><div class=\"dni-plaintext\"><pre>FSharp.Core</pre></div></td></tr><tr><td>HResult</td><td><div class=\"dni-plaintext\"><pre>-2146233079</pre></div></td></tr><tr><td>StackTrace</td><td><div class=\"dni-plaintext\"><pre>   at Microsoft.FSharp.Collections.FSharpList`1.get_Head() in D:\\a\\_work\\1\\s\\src\\FSharp.Core\\prim-types.fs:line 4141\r\n",
                            "   at lambda_method285(Closure, FSharpList`1)\r\n",
                            "   at Microsoft.DotNet.Interactive.Formatting.MemberAccessor`1.GetValueOrException(T instance) in D:\\a\\_work\\1\\s\\src\\Microsoft.DotNet.Interactive.Formatting\\MemberAccessor{T}.cs:line 58</pre></div></td></tr></tbody></table></div></details></td></tr><tr><td>Tail</td><td><details class=\"dni-treeview\"><summary><span class=\"dni-code-hint\"><code>System.InvalidOperationException: The input list was empty.\\r\\n   at Microsoft.FSharp.Collections.FSharpList`1.get_Tail() in D:\\a\\_work\\1\\s\\src\\FSharp.Core\\prim-types.fs:line 4146\\r\\n   at lambda_method286(Closure, FSharpList`1)\\r\\n   at Microsoft.DotNet.Interactive.Formatting.MemberAccessor`1.GetVa...</code></span></summary><div><table><thead><tr></tr></thead><tbody><tr><td>TargetSite</td><td><details class=\"dni-treeview\"><summary><span class=\"dni-code-hint\"><code>Microsoft.FSharp.Collections.FSharpList`1[T] get_Tail()</code></span></summary><div><table><thead><tr></tr></thead><tbody><tr><td>Name</td><td><div class=\"dni-plaintext\"><pre>get_Tail</pre></div></td></tr><tr><td>DeclaringType</td><td><span><a href=\"https://docs.microsoft.com/dotnet/api/microsoft.fsharp.collections.fsharplist-1?view=net-7.0\">Microsoft.FSharp.Collections.FSharpList&lt;T&gt;</a></span></td></tr><tr><td>ReflectedType</td><td><span><a href=\"https://docs.microsoft.com/dotnet/api/microsoft.fsharp.collections.fsharplist-1?view=net-7.0\">Microsoft.FSharp.Collections.FSharpList&lt;T&gt;</a></span></td></tr><tr><td>MemberType</td><td><span>Method</span></td></tr><tr><td>MetadataToken</td><td><div class=\"dni-plaintext\"><pre>100663765</pre></div></td></tr><tr><td>Module</td><td><details class=\"dni-treeview\"><summary><span class=\"dni-code-hint\"><code>FSharp.Core.dll</code></span></summary><div><table><thead><tr></tr></thead><tbody><tr><td>MDStreamVersion</td><td>131072</td></tr><tr><td>FullyQualifiedName</td><td>C:\\Users\\Jo.VanEyck\\.nuget\\packages\\microsoft.dotnet-interactive\\1.0.512901\\tools\\net8.0\\any\\FSharp.Core.dll</td></tr><tr><td>ModuleVersionId</td><td>8b3b61bb-207b-2ce2-fc65-52fadafedf72</td></tr><tr><td>MetadataToken</td><td>1</td></tr><tr><td>ScopeName</td><td>FSharp.Core.dll</td></tr><tr><td>Name</td><td>FSharp.Core.dll</td></tr><tr><td>Assembly</td><td>FSharp.Core, Version=8.0.0.0, Culture=neutral, PublicKeyToken=b03f5f7f11d50a3a</td></tr><tr><td>ModuleHandle</td><td>System.ModuleHandle</td></tr><tr><td>CustomAttributes</td><td>[  ]</td></tr></tbody></table></div></details></td></tr><tr><td>IsSecurityCritical</td><td><div class=\"dni-plaintext\"><pre>True</pre></div></td></tr><tr><td>IsSecuritySafeCritical</td><td><div class=\"dni-plaintext\"><pre>False</pre></div></td></tr><tr><td>IsSecurityTransparent</td><td><div class=\"dni-plaintext\"><pre>False</pre></div></td></tr><tr><td>MethodHandle</td><td><details class=\"dni-treeview\"><summary><span class=\"dni-code-hint\"><code>System.RuntimeMethodHandle</code></span></summary><div><table><thead><tr></tr></thead><tbody><tr><td>Value</td><td>140723996034192</td></tr></tbody></table></div></details></td></tr><tr><td>Attributes</td><td><span>Public, HideBySig, SpecialName</span></td></tr><tr><td>CallingConvention</td><td><span>Standard, HasThis</span></td></tr><tr><td>ReturnType</td><td><span><a href=\"https://docs.microsoft.com/dotnet/api/microsoft.fsharp.collections.fsharplist-1?view=net-7.0\">Microsoft.FSharp.Collections.FSharpList&lt;T&gt;</a></span></td></tr><tr><td>ReturnTypeCustomAttributes</td><td><details class=\"dni-treeview\"><summary><span class=\"dni-code-hint\"><code>Microsoft.FSharp.Collections.FSharpList`1[T]</code></span></summary><div><table><thead><tr></tr></thead><tbody><tr><td>ParameterType</td><td>Microsoft.FSharp.Collections.FSharpList`1[T]</td></tr><tr><td>Name</td><td><div class=\"dni-plaintext\"><pre>&lt;null&gt;</pre></div></td></tr><tr><td>HasDefaultValue</td><td>False</td></tr><tr><td>DefaultValue</td><td></td></tr><tr><td>RawDefaultValue</td><td></td></tr><tr><td>MetadataToken</td><td>134217728</td></tr><tr><td>Attributes</td><td>None</td></tr><tr><td>Member</td><td>Microsoft.FSharp.Collections.FSharpList`1[T] get_Tail()</td></tr><tr><td>Position</td><td>-1</td></tr><tr><td>IsIn</td><td>False</td></tr><tr><td>IsLcid</td><td>False</td></tr><tr><td>IsOptional</td><td>False</td></tr><tr><td>IsOut</td><td>False</td></tr><tr><td>IsRetval</td><td>False</td></tr><tr><td>CustomAttributes</td><td>[  ]</td></tr></tbody></table></div></details></td></tr><tr><td>ReturnParameter</td><td><details class=\"dni-treeview\"><summary><span class=\"dni-code-hint\"><code>Microsoft.FSharp.Collections.FSharpList`1[T]</code></span></summary><div><table><thead><tr></tr></thead><tbody><tr><td>ParameterType</td><td>Microsoft.FSharp.Collections.FSharpList`1[T]</td></tr><tr><td>Name</td><td><div class=\"dni-plaintext\"><pre>&lt;null&gt;</pre></div></td></tr><tr><td>HasDefaultValue</td><td>False</td></tr><tr><td>DefaultValue</td><td></td></tr><tr><td>RawDefaultValue</td><td></td></tr><tr><td>MetadataToken</td><td>134217728</td></tr><tr><td>Attributes</td><td>None</td></tr><tr><td>Member</td><td>Microsoft.FSharp.Collections.FSharpList`1[T] get_Tail()</td></tr><tr><td>Position</td><td>-1</td></tr><tr><td>IsIn</td><td>False</td></tr><tr><td>IsLcid</td><td>False</td></tr><tr><td>IsOptional</td><td>False</td></tr><tr><td>IsOut</td><td>False</td></tr><tr><td>IsRetval</td><td>False</td></tr><tr><td>CustomAttributes</td><td>[  ]</td></tr></tbody></table></div></details></td></tr><tr><td>IsCollectible</td><td><div class=\"dni-plaintext\"><pre>False</pre></div></td></tr><tr><td>IsGenericMethod</td><td><div class=\"dni-plaintext\"><pre>False</pre></div></td></tr><tr><td>IsGenericMethodDefinition</td><td><div class=\"dni-plaintext\"><pre>False</pre></div></td></tr><tr><td>ContainsGenericParameters</td><td><div class=\"dni-plaintext\"><pre>True</pre></div></td></tr><tr><td>MethodImplementationFlags</td><td><span>IL</span></td></tr><tr><td>IsAbstract</td><td><div class=\"dni-plaintext\"><pre>False</pre></div></td></tr><tr><td>IsConstructor</td><td><div class=\"dni-plaintext\"><pre>False</pre></div></td></tr><tr><td>IsFinal</td><td><div class=\"dni-plaintext\"><pre>False</pre></div></td></tr><tr><td>IsHideBySig</td><td><div class=\"dni-plaintext\"><pre>True</pre></div></td></tr><tr><td>IsSpecialName</td><td><div class=\"dni-plaintext\"><pre>True</pre></div></td></tr><tr><td>IsStatic</td><td><div class=\"dni-plaintext\"><pre>False</pre></div></td></tr><tr><td>IsVirtual</td><td><div class=\"dni-plaintext\"><pre>False</pre></div></td></tr><tr><td>IsAssembly</td><td><div class=\"dni-plaintext\"><pre>False</pre></div></td></tr><tr><td>IsFamily</td><td><div class=\"dni-plaintext\"><pre>False</pre></div></td></tr><tr><td>IsFamilyAndAssembly</td><td><div class=\"dni-plaintext\"><pre>False</pre></div></td></tr><tr><td>IsFamilyOrAssembly</td><td><div class=\"dni-plaintext\"><pre>False</pre></div></td></tr><tr><td>IsPrivate</td><td><div class=\"dni-plaintext\"><pre>False</pre></div></td></tr><tr><td>IsPublic</td><td><div class=\"dni-plaintext\"><pre>True</pre></div></td></tr><tr><td>IsConstructedGenericMethod</td><td><div class=\"dni-plaintext\"><pre>False</pre></div></td></tr><tr><td>CustomAttributes</td><td><i>(empty)</i></td></tr></tbody></table></div></details></td></tr><tr><td>Message</td><td><div class=\"dni-plaintext\"><pre>The input list was empty.</pre></div></td></tr><tr><td>Data</td><td><i>(empty)</i></td></tr><tr><td>InnerException</td><td><div class=\"dni-plaintext\"><pre>&lt;null&gt;</pre></div></td></tr><tr><td>HelpLink</td><td><div class=\"dni-plaintext\"><pre>&lt;null&gt;</pre></div></td></tr><tr><td>Source</td><td><div class=\"dni-plaintext\"><pre>FSharp.Core</pre></div></td></tr><tr><td>HResult</td><td><div class=\"dni-plaintext\"><pre>-2146233079</pre></div></td></tr><tr><td>StackTrace</td><td><div class=\"dni-plaintext\"><pre>   at Microsoft.FSharp.Collections.FSharpList`1.get_Tail() in D:\\a\\_work\\1\\s\\src\\FSharp.Core\\prim-types.fs:line 4146\r\n",
                            "   at lambda_method286(Closure, FSharpList`1)\r\n",
                            "   at Microsoft.DotNet.Interactive.Formatting.MemberAccessor`1.GetValueOrException(T instance) in D:\\a\\_work\\1\\s\\src\\Microsoft.DotNet.Interactive.Formatting\\MemberAccessor{T}.cs:line 58</pre></div></td></tr></tbody></table></div></details></td></tr><tr><td><i>(values)</i></td><td><div class=\"dni-plaintext\"><pre>[  ]</pre></div></td></tr></tbody></table></div></details></td></tr><tr><td><i>(values)</i></td><td><div class=\"dni-plaintext\"><pre>[ not a valid age ]</pre></div></td></tr></tbody></table></div></details></td></tr></tbody></table></div></details><style>\r\n",
                            ".dni-code-hint {\r\n",
                            "    font-style: italic;\r\n",
                            "    overflow: hidden;\r\n",
                            "    white-space: nowrap;\r\n",
                            "}\r\n",
                            ".dni-treeview {\r\n",
                            "    white-space: nowrap;\r\n",
                            "}\r\n",
                            ".dni-treeview td {\r\n",
                            "    vertical-align: top;\r\n",
                            "    text-align: start;\r\n",
                            "}\r\n",
                            "details.dni-treeview {\r\n",
                            "    padding-left: 1em;\r\n",
                            "}\r\n",
                            "table td {\r\n",
                            "    text-align: start;\r\n",
                            "}\r\n",
                            "table tr { \r\n",
                            "    vertical-align: top; \r\n",
                            "    margin: 0em 0px;\r\n",
                            "}\r\n",
                            "table tr td pre \r\n",
                            "{ \r\n",
                            "    vertical-align: top !important; \r\n",
                            "    margin: 0em 0px !important;\r\n",
                            "} \r\n",
                            "table th {\r\n",
                            "    text-align: start;\r\n",
                            "}\r\n",
                            "</style>"
                        ]
                    },
                    "metadata": {},
                    "output_type": "display_data"
                }
            ],
            "source": [
                "let nok : Validation<Age> = Error [\"not a valid age\"]\n",
                "map haveBirthDay nok"
            ]
        },
        {
            "cell_type": "markdown",
            "metadata": {},
            "source": [
                "What's happening here? **map** does the heavy lifting. If **a** is an **Error**, nothing happens. But if **a** is an **Ok** case, it unwraps the **elevated** value, applies the function **f** that lives in the **normal world** to it's innards and returns the output as an **elevated** value again.\n",
                "\n",
                "This is abstraction is pretty useful because stuff that behaves like this is very easy to compose:"
            ]
        },
        {
            "cell_type": "code",
            "execution_count": 18,
            "metadata": {
                "dotnet_interactive": {
                    "language": "fsharp"
                },
                "polyglot_notebook": {
                    "kernelName": "fsharp"
                },
                "vscode": {
                    "languageId": "polyglot-notebook"
                }
            },
            "outputs": [
                {
                    "data": {
                        "text/html": [
                            "<details open=\"open\" class=\"dni-treeview\"><summary><span class=\"dni-code-hint\"><code>Ok (Age 26)</code></span></summary><div><table><thead><tr></tr></thead><tbody><tr><td>Item</td><td><details class=\"dni-treeview\"><summary><span class=\"dni-code-hint\"><code>Age 26</code></span></summary><div><table><thead><tr></tr></thead><tbody><tr><td>Item</td><td><div class=\"dni-plaintext\"><pre>26</pre></div></td></tr></tbody></table></div></details></td></tr></tbody></table></div></details><style>\r\n",
                            ".dni-code-hint {\r\n",
                            "    font-style: italic;\r\n",
                            "    overflow: hidden;\r\n",
                            "    white-space: nowrap;\r\n",
                            "}\r\n",
                            ".dni-treeview {\r\n",
                            "    white-space: nowrap;\r\n",
                            "}\r\n",
                            ".dni-treeview td {\r\n",
                            "    vertical-align: top;\r\n",
                            "    text-align: start;\r\n",
                            "}\r\n",
                            "details.dni-treeview {\r\n",
                            "    padding-left: 1em;\r\n",
                            "}\r\n",
                            "table td {\r\n",
                            "    text-align: start;\r\n",
                            "}\r\n",
                            "table tr { \r\n",
                            "    vertical-align: top; \r\n",
                            "    margin: 0em 0px;\r\n",
                            "}\r\n",
                            "table tr td pre \r\n",
                            "{ \r\n",
                            "    vertical-align: top !important; \r\n",
                            "    margin: 0em 0px !important;\r\n",
                            "} \r\n",
                            "table th {\r\n",
                            "    text-align: start;\r\n",
                            "}\r\n",
                            "</style>"
                        ]
                    },
                    "metadata": {},
                    "output_type": "display_data"
                }
            ],
            "source": [
                "Ok (Age 23)\n",
                "|> map haveBirthDay\n",
                "|> map haveBirthDay\n",
                "|> map haveBirthDay"
            ]
        },
        {
            "cell_type": "code",
            "execution_count": 19,
            "metadata": {
                "dotnet_interactive": {
                    "language": "fsharp"
                },
                "polyglot_notebook": {
                    "kernelName": "fsharp"
                },
                "vscode": {
                    "languageId": "polyglot-notebook"
                }
            },
            "outputs": [
                {
                    "data": {
                        "text/html": [
                            "<details open=\"open\" class=\"dni-treeview\"><summary><span class=\"dni-code-hint\"><code>Error [&quot;not a valid age&quot;]</code></span></summary><div><table><thead><tr></tr></thead><tbody><tr><td>Item</td><td><details class=\"dni-treeview\"><summary><span class=\"dni-code-hint\"><code>[ not a valid age ]</code></span></summary><div><table><thead><tr></tr></thead><tbody><tr><td>HeadOrDefault</td><td><div class=\"dni-plaintext\"><pre>not a valid age</pre></div></td></tr><tr><td>TailOrNull</td><td><details class=\"dni-treeview\"><summary><span class=\"dni-code-hint\"><code>[  ]</code></span></summary><div><table><thead><tr></tr></thead><tbody><tr><td>HeadOrDefault</td><td><div class=\"dni-plaintext\"><pre>&lt;null&gt;</pre></div></td></tr><tr><td>TailOrNull</td><td><div class=\"dni-plaintext\"><pre>&lt;null&gt;</pre></div></td></tr><tr><td>Head</td><td><details class=\"dni-treeview\"><summary><span class=\"dni-code-hint\"><code>System.InvalidOperationException: The input list was empty.\\r\\n   at Microsoft.FSharp.Collections.FSharpList`1.get_Head() in D:\\a\\_work\\1\\s\\src\\FSharp.Core\\prim-types.fs:line 4141\\r\\n   at lambda_method285(Closure, FSharpList`1)\\r\\n   at Microsoft.DotNet.Interactive.Formatting.MemberAccessor`1.GetVa...</code></span></summary><div><table><thead><tr></tr></thead><tbody><tr><td>TargetSite</td><td><details class=\"dni-treeview\"><summary><span class=\"dni-code-hint\"><code>T get_Head()</code></span></summary><div><table><thead><tr></tr></thead><tbody><tr><td>Name</td><td><div class=\"dni-plaintext\"><pre>get_Head</pre></div></td></tr><tr><td>DeclaringType</td><td><span><a href=\"https://docs.microsoft.com/dotnet/api/microsoft.fsharp.collections.fsharplist-1?view=net-7.0\">Microsoft.FSharp.Collections.FSharpList&lt;T&gt;</a></span></td></tr><tr><td>ReflectedType</td><td><span><a href=\"https://docs.microsoft.com/dotnet/api/microsoft.fsharp.collections.fsharplist-1?view=net-7.0\">Microsoft.FSharp.Collections.FSharpList&lt;T&gt;</a></span></td></tr><tr><td>MemberType</td><td><span>Method</span></td></tr><tr><td>MetadataToken</td><td><div class=\"dni-plaintext\"><pre>100663764</pre></div></td></tr><tr><td>Module</td><td><details class=\"dni-treeview\"><summary><span class=\"dni-code-hint\"><code>FSharp.Core.dll</code></span></summary><div><table><thead><tr></tr></thead><tbody><tr><td>MDStreamVersion</td><td>131072</td></tr><tr><td>FullyQualifiedName</td><td>C:\\Users\\Jo.VanEyck\\.nuget\\packages\\microsoft.dotnet-interactive\\1.0.512901\\tools\\net8.0\\any\\FSharp.Core.dll</td></tr><tr><td>ModuleVersionId</td><td>8b3b61bb-207b-2ce2-fc65-52fadafedf72</td></tr><tr><td>MetadataToken</td><td>1</td></tr><tr><td>ScopeName</td><td>FSharp.Core.dll</td></tr><tr><td>Name</td><td>FSharp.Core.dll</td></tr><tr><td>Assembly</td><td>FSharp.Core, Version=8.0.0.0, Culture=neutral, PublicKeyToken=b03f5f7f11d50a3a</td></tr><tr><td>ModuleHandle</td><td>System.ModuleHandle</td></tr><tr><td>CustomAttributes</td><td>[  ]</td></tr></tbody></table></div></details></td></tr><tr><td>IsSecurityCritical</td><td><div class=\"dni-plaintext\"><pre>True</pre></div></td></tr><tr><td>IsSecuritySafeCritical</td><td><div class=\"dni-plaintext\"><pre>False</pre></div></td></tr><tr><td>IsSecurityTransparent</td><td><div class=\"dni-plaintext\"><pre>False</pre></div></td></tr><tr><td>MethodHandle</td><td><details class=\"dni-treeview\"><summary><span class=\"dni-code-hint\"><code>System.RuntimeMethodHandle</code></span></summary><div><table><thead><tr></tr></thead><tbody><tr><td>Value</td><td>140723996034176</td></tr></tbody></table></div></details></td></tr><tr><td>Attributes</td><td><span>Public, HideBySig, SpecialName</span></td></tr><tr><td>CallingConvention</td><td><span>Standard, HasThis</span></td></tr><tr><td>ReturnType</td><td>T</td></tr><tr><td>ReturnTypeCustomAttributes</td><td><details class=\"dni-treeview\"><summary><span class=\"dni-code-hint\"><code>T</code></span></summary><div><table><thead><tr></tr></thead><tbody><tr><td>ParameterType</td><td>T</td></tr><tr><td>Name</td><td><div class=\"dni-plaintext\"><pre>&lt;null&gt;</pre></div></td></tr><tr><td>HasDefaultValue</td><td>False</td></tr><tr><td>DefaultValue</td><td></td></tr><tr><td>RawDefaultValue</td><td></td></tr><tr><td>MetadataToken</td><td>134217728</td></tr><tr><td>Attributes</td><td>None</td></tr><tr><td>Member</td><td>T get_Head()</td></tr><tr><td>Position</td><td>-1</td></tr><tr><td>IsIn</td><td>False</td></tr><tr><td>IsLcid</td><td>False</td></tr><tr><td>IsOptional</td><td>False</td></tr><tr><td>IsOut</td><td>False</td></tr><tr><td>IsRetval</td><td>False</td></tr><tr><td>CustomAttributes</td><td>[  ]</td></tr></tbody></table></div></details></td></tr><tr><td>ReturnParameter</td><td><details class=\"dni-treeview\"><summary><span class=\"dni-code-hint\"><code>T</code></span></summary><div><table><thead><tr></tr></thead><tbody><tr><td>ParameterType</td><td>T</td></tr><tr><td>Name</td><td><div class=\"dni-plaintext\"><pre>&lt;null&gt;</pre></div></td></tr><tr><td>HasDefaultValue</td><td>False</td></tr><tr><td>DefaultValue</td><td></td></tr><tr><td>RawDefaultValue</td><td></td></tr><tr><td>MetadataToken</td><td>134217728</td></tr><tr><td>Attributes</td><td>None</td></tr><tr><td>Member</td><td>T get_Head()</td></tr><tr><td>Position</td><td>-1</td></tr><tr><td>IsIn</td><td>False</td></tr><tr><td>IsLcid</td><td>False</td></tr><tr><td>IsOptional</td><td>False</td></tr><tr><td>IsOut</td><td>False</td></tr><tr><td>IsRetval</td><td>False</td></tr><tr><td>CustomAttributes</td><td>[  ]</td></tr></tbody></table></div></details></td></tr><tr><td>IsCollectible</td><td><div class=\"dni-plaintext\"><pre>False</pre></div></td></tr><tr><td>IsGenericMethod</td><td><div class=\"dni-plaintext\"><pre>False</pre></div></td></tr><tr><td>IsGenericMethodDefinition</td><td><div class=\"dni-plaintext\"><pre>False</pre></div></td></tr><tr><td>ContainsGenericParameters</td><td><div class=\"dni-plaintext\"><pre>True</pre></div></td></tr><tr><td>MethodImplementationFlags</td><td><span>IL</span></td></tr><tr><td>IsAbstract</td><td><div class=\"dni-plaintext\"><pre>False</pre></div></td></tr><tr><td>IsConstructor</td><td><div class=\"dni-plaintext\"><pre>False</pre></div></td></tr><tr><td>IsFinal</td><td><div class=\"dni-plaintext\"><pre>False</pre></div></td></tr><tr><td>IsHideBySig</td><td><div class=\"dni-plaintext\"><pre>True</pre></div></td></tr><tr><td>IsSpecialName</td><td><div class=\"dni-plaintext\"><pre>True</pre></div></td></tr><tr><td>IsStatic</td><td><div class=\"dni-plaintext\"><pre>False</pre></div></td></tr><tr><td>IsVirtual</td><td><div class=\"dni-plaintext\"><pre>False</pre></div></td></tr><tr><td>IsAssembly</td><td><div class=\"dni-plaintext\"><pre>False</pre></div></td></tr><tr><td>IsFamily</td><td><div class=\"dni-plaintext\"><pre>False</pre></div></td></tr><tr><td>IsFamilyAndAssembly</td><td><div class=\"dni-plaintext\"><pre>False</pre></div></td></tr><tr><td>IsFamilyOrAssembly</td><td><div class=\"dni-plaintext\"><pre>False</pre></div></td></tr><tr><td>IsPrivate</td><td><div class=\"dni-plaintext\"><pre>False</pre></div></td></tr><tr><td>IsPublic</td><td><div class=\"dni-plaintext\"><pre>True</pre></div></td></tr><tr><td>IsConstructedGenericMethod</td><td><div class=\"dni-plaintext\"><pre>False</pre></div></td></tr><tr><td>CustomAttributes</td><td><i>(empty)</i></td></tr></tbody></table></div></details></td></tr><tr><td>Message</td><td><div class=\"dni-plaintext\"><pre>The input list was empty.</pre></div></td></tr><tr><td>Data</td><td><i>(empty)</i></td></tr><tr><td>InnerException</td><td><div class=\"dni-plaintext\"><pre>&lt;null&gt;</pre></div></td></tr><tr><td>HelpLink</td><td><div class=\"dni-plaintext\"><pre>&lt;null&gt;</pre></div></td></tr><tr><td>Source</td><td><div class=\"dni-plaintext\"><pre>FSharp.Core</pre></div></td></tr><tr><td>HResult</td><td><div class=\"dni-plaintext\"><pre>-2146233079</pre></div></td></tr><tr><td>StackTrace</td><td><div class=\"dni-plaintext\"><pre>   at Microsoft.FSharp.Collections.FSharpList`1.get_Head() in D:\\a\\_work\\1\\s\\src\\FSharp.Core\\prim-types.fs:line 4141\r\n",
                            "   at lambda_method285(Closure, FSharpList`1)\r\n",
                            "   at Microsoft.DotNet.Interactive.Formatting.MemberAccessor`1.GetValueOrException(T instance) in D:\\a\\_work\\1\\s\\src\\Microsoft.DotNet.Interactive.Formatting\\MemberAccessor{T}.cs:line 58</pre></div></td></tr></tbody></table></div></details></td></tr><tr><td>Tail</td><td><details class=\"dni-treeview\"><summary><span class=\"dni-code-hint\"><code>System.InvalidOperationException: The input list was empty.\\r\\n   at Microsoft.FSharp.Collections.FSharpList`1.get_Tail() in D:\\a\\_work\\1\\s\\src\\FSharp.Core\\prim-types.fs:line 4146\\r\\n   at lambda_method286(Closure, FSharpList`1)\\r\\n   at Microsoft.DotNet.Interactive.Formatting.MemberAccessor`1.GetVa...</code></span></summary><div><table><thead><tr></tr></thead><tbody><tr><td>TargetSite</td><td><details class=\"dni-treeview\"><summary><span class=\"dni-code-hint\"><code>Microsoft.FSharp.Collections.FSharpList`1[T] get_Tail()</code></span></summary><div><table><thead><tr></tr></thead><tbody><tr><td>Name</td><td><div class=\"dni-plaintext\"><pre>get_Tail</pre></div></td></tr><tr><td>DeclaringType</td><td><span><a href=\"https://docs.microsoft.com/dotnet/api/microsoft.fsharp.collections.fsharplist-1?view=net-7.0\">Microsoft.FSharp.Collections.FSharpList&lt;T&gt;</a></span></td></tr><tr><td>ReflectedType</td><td><span><a href=\"https://docs.microsoft.com/dotnet/api/microsoft.fsharp.collections.fsharplist-1?view=net-7.0\">Microsoft.FSharp.Collections.FSharpList&lt;T&gt;</a></span></td></tr><tr><td>MemberType</td><td><span>Method</span></td></tr><tr><td>MetadataToken</td><td><div class=\"dni-plaintext\"><pre>100663765</pre></div></td></tr><tr><td>Module</td><td><details class=\"dni-treeview\"><summary><span class=\"dni-code-hint\"><code>FSharp.Core.dll</code></span></summary><div><table><thead><tr></tr></thead><tbody><tr><td>MDStreamVersion</td><td>131072</td></tr><tr><td>FullyQualifiedName</td><td>C:\\Users\\Jo.VanEyck\\.nuget\\packages\\microsoft.dotnet-interactive\\1.0.512901\\tools\\net8.0\\any\\FSharp.Core.dll</td></tr><tr><td>ModuleVersionId</td><td>8b3b61bb-207b-2ce2-fc65-52fadafedf72</td></tr><tr><td>MetadataToken</td><td>1</td></tr><tr><td>ScopeName</td><td>FSharp.Core.dll</td></tr><tr><td>Name</td><td>FSharp.Core.dll</td></tr><tr><td>Assembly</td><td>FSharp.Core, Version=8.0.0.0, Culture=neutral, PublicKeyToken=b03f5f7f11d50a3a</td></tr><tr><td>ModuleHandle</td><td>System.ModuleHandle</td></tr><tr><td>CustomAttributes</td><td>[  ]</td></tr></tbody></table></div></details></td></tr><tr><td>IsSecurityCritical</td><td><div class=\"dni-plaintext\"><pre>True</pre></div></td></tr><tr><td>IsSecuritySafeCritical</td><td><div class=\"dni-plaintext\"><pre>False</pre></div></td></tr><tr><td>IsSecurityTransparent</td><td><div class=\"dni-plaintext\"><pre>False</pre></div></td></tr><tr><td>MethodHandle</td><td><details class=\"dni-treeview\"><summary><span class=\"dni-code-hint\"><code>System.RuntimeMethodHandle</code></span></summary><div><table><thead><tr></tr></thead><tbody><tr><td>Value</td><td>140723996034192</td></tr></tbody></table></div></details></td></tr><tr><td>Attributes</td><td><span>Public, HideBySig, SpecialName</span></td></tr><tr><td>CallingConvention</td><td><span>Standard, HasThis</span></td></tr><tr><td>ReturnType</td><td><span><a href=\"https://docs.microsoft.com/dotnet/api/microsoft.fsharp.collections.fsharplist-1?view=net-7.0\">Microsoft.FSharp.Collections.FSharpList&lt;T&gt;</a></span></td></tr><tr><td>ReturnTypeCustomAttributes</td><td><details class=\"dni-treeview\"><summary><span class=\"dni-code-hint\"><code>Microsoft.FSharp.Collections.FSharpList`1[T]</code></span></summary><div><table><thead><tr></tr></thead><tbody><tr><td>ParameterType</td><td>Microsoft.FSharp.Collections.FSharpList`1[T]</td></tr><tr><td>Name</td><td><div class=\"dni-plaintext\"><pre>&lt;null&gt;</pre></div></td></tr><tr><td>HasDefaultValue</td><td>False</td></tr><tr><td>DefaultValue</td><td></td></tr><tr><td>RawDefaultValue</td><td></td></tr><tr><td>MetadataToken</td><td>134217728</td></tr><tr><td>Attributes</td><td>None</td></tr><tr><td>Member</td><td>Microsoft.FSharp.Collections.FSharpList`1[T] get_Tail()</td></tr><tr><td>Position</td><td>-1</td></tr><tr><td>IsIn</td><td>False</td></tr><tr><td>IsLcid</td><td>False</td></tr><tr><td>IsOptional</td><td>False</td></tr><tr><td>IsOut</td><td>False</td></tr><tr><td>IsRetval</td><td>False</td></tr><tr><td>CustomAttributes</td><td>[  ]</td></tr></tbody></table></div></details></td></tr><tr><td>ReturnParameter</td><td><details class=\"dni-treeview\"><summary><span class=\"dni-code-hint\"><code>Microsoft.FSharp.Collections.FSharpList`1[T]</code></span></summary><div><table><thead><tr></tr></thead><tbody><tr><td>ParameterType</td><td>Microsoft.FSharp.Collections.FSharpList`1[T]</td></tr><tr><td>Name</td><td><div class=\"dni-plaintext\"><pre>&lt;null&gt;</pre></div></td></tr><tr><td>HasDefaultValue</td><td>False</td></tr><tr><td>DefaultValue</td><td></td></tr><tr><td>RawDefaultValue</td><td></td></tr><tr><td>MetadataToken</td><td>134217728</td></tr><tr><td>Attributes</td><td>None</td></tr><tr><td>Member</td><td>Microsoft.FSharp.Collections.FSharpList`1[T] get_Tail()</td></tr><tr><td>Position</td><td>-1</td></tr><tr><td>IsIn</td><td>False</td></tr><tr><td>IsLcid</td><td>False</td></tr><tr><td>IsOptional</td><td>False</td></tr><tr><td>IsOut</td><td>False</td></tr><tr><td>IsRetval</td><td>False</td></tr><tr><td>CustomAttributes</td><td>[  ]</td></tr></tbody></table></div></details></td></tr><tr><td>IsCollectible</td><td><div class=\"dni-plaintext\"><pre>False</pre></div></td></tr><tr><td>IsGenericMethod</td><td><div class=\"dni-plaintext\"><pre>False</pre></div></td></tr><tr><td>IsGenericMethodDefinition</td><td><div class=\"dni-plaintext\"><pre>False</pre></div></td></tr><tr><td>ContainsGenericParameters</td><td><div class=\"dni-plaintext\"><pre>True</pre></div></td></tr><tr><td>MethodImplementationFlags</td><td><span>IL</span></td></tr><tr><td>IsAbstract</td><td><div class=\"dni-plaintext\"><pre>False</pre></div></td></tr><tr><td>IsConstructor</td><td><div class=\"dni-plaintext\"><pre>False</pre></div></td></tr><tr><td>IsFinal</td><td><div class=\"dni-plaintext\"><pre>False</pre></div></td></tr><tr><td>IsHideBySig</td><td><div class=\"dni-plaintext\"><pre>True</pre></div></td></tr><tr><td>IsSpecialName</td><td><div class=\"dni-plaintext\"><pre>True</pre></div></td></tr><tr><td>IsStatic</td><td><div class=\"dni-plaintext\"><pre>False</pre></div></td></tr><tr><td>IsVirtual</td><td><div class=\"dni-plaintext\"><pre>False</pre></div></td></tr><tr><td>IsAssembly</td><td><div class=\"dni-plaintext\"><pre>False</pre></div></td></tr><tr><td>IsFamily</td><td><div class=\"dni-plaintext\"><pre>False</pre></div></td></tr><tr><td>IsFamilyAndAssembly</td><td><div class=\"dni-plaintext\"><pre>False</pre></div></td></tr><tr><td>IsFamilyOrAssembly</td><td><div class=\"dni-plaintext\"><pre>False</pre></div></td></tr><tr><td>IsPrivate</td><td><div class=\"dni-plaintext\"><pre>False</pre></div></td></tr><tr><td>IsPublic</td><td><div class=\"dni-plaintext\"><pre>True</pre></div></td></tr><tr><td>IsConstructedGenericMethod</td><td><div class=\"dni-plaintext\"><pre>False</pre></div></td></tr><tr><td>CustomAttributes</td><td><i>(empty)</i></td></tr></tbody></table></div></details></td></tr><tr><td>Message</td><td><div class=\"dni-plaintext\"><pre>The input list was empty.</pre></div></td></tr><tr><td>Data</td><td><i>(empty)</i></td></tr><tr><td>InnerException</td><td><div class=\"dni-plaintext\"><pre>&lt;null&gt;</pre></div></td></tr><tr><td>HelpLink</td><td><div class=\"dni-plaintext\"><pre>&lt;null&gt;</pre></div></td></tr><tr><td>Source</td><td><div class=\"dni-plaintext\"><pre>FSharp.Core</pre></div></td></tr><tr><td>HResult</td><td><div class=\"dni-plaintext\"><pre>-2146233079</pre></div></td></tr><tr><td>StackTrace</td><td><div class=\"dni-plaintext\"><pre>   at Microsoft.FSharp.Collections.FSharpList`1.get_Tail() in D:\\a\\_work\\1\\s\\src\\FSharp.Core\\prim-types.fs:line 4146\r\n",
                            "   at lambda_method286(Closure, FSharpList`1)\r\n",
                            "   at Microsoft.DotNet.Interactive.Formatting.MemberAccessor`1.GetValueOrException(T instance) in D:\\a\\_work\\1\\s\\src\\Microsoft.DotNet.Interactive.Formatting\\MemberAccessor{T}.cs:line 58</pre></div></td></tr></tbody></table></div></details></td></tr><tr><td><i>(values)</i></td><td><div class=\"dni-plaintext\"><pre>[  ]</pre></div></td></tr></tbody></table></div></details></td></tr><tr><td>Head</td><td><div class=\"dni-plaintext\"><pre>not a valid age</pre></div></td></tr><tr><td>Tail</td><td><details class=\"dni-treeview\"><summary><span class=\"dni-code-hint\"><code>[  ]</code></span></summary><div><table><thead><tr></tr></thead><tbody><tr><td>HeadOrDefault</td><td><div class=\"dni-plaintext\"><pre>&lt;null&gt;</pre></div></td></tr><tr><td>TailOrNull</td><td><div class=\"dni-plaintext\"><pre>&lt;null&gt;</pre></div></td></tr><tr><td>Head</td><td><details class=\"dni-treeview\"><summary><span class=\"dni-code-hint\"><code>System.InvalidOperationException: The input list was empty.\\r\\n   at Microsoft.FSharp.Collections.FSharpList`1.get_Head() in D:\\a\\_work\\1\\s\\src\\FSharp.Core\\prim-types.fs:line 4141\\r\\n   at lambda_method285(Closure, FSharpList`1)\\r\\n   at Microsoft.DotNet.Interactive.Formatting.MemberAccessor`1.GetVa...</code></span></summary><div><table><thead><tr></tr></thead><tbody><tr><td>TargetSite</td><td><details class=\"dni-treeview\"><summary><span class=\"dni-code-hint\"><code>T get_Head()</code></span></summary><div><table><thead><tr></tr></thead><tbody><tr><td>Name</td><td><div class=\"dni-plaintext\"><pre>get_Head</pre></div></td></tr><tr><td>DeclaringType</td><td><span><a href=\"https://docs.microsoft.com/dotnet/api/microsoft.fsharp.collections.fsharplist-1?view=net-7.0\">Microsoft.FSharp.Collections.FSharpList&lt;T&gt;</a></span></td></tr><tr><td>ReflectedType</td><td><span><a href=\"https://docs.microsoft.com/dotnet/api/microsoft.fsharp.collections.fsharplist-1?view=net-7.0\">Microsoft.FSharp.Collections.FSharpList&lt;T&gt;</a></span></td></tr><tr><td>MemberType</td><td><span>Method</span></td></tr><tr><td>MetadataToken</td><td><div class=\"dni-plaintext\"><pre>100663764</pre></div></td></tr><tr><td>Module</td><td><details class=\"dni-treeview\"><summary><span class=\"dni-code-hint\"><code>FSharp.Core.dll</code></span></summary><div><table><thead><tr></tr></thead><tbody><tr><td>MDStreamVersion</td><td>131072</td></tr><tr><td>FullyQualifiedName</td><td>C:\\Users\\Jo.VanEyck\\.nuget\\packages\\microsoft.dotnet-interactive\\1.0.512901\\tools\\net8.0\\any\\FSharp.Core.dll</td></tr><tr><td>ModuleVersionId</td><td>8b3b61bb-207b-2ce2-fc65-52fadafedf72</td></tr><tr><td>MetadataToken</td><td>1</td></tr><tr><td>ScopeName</td><td>FSharp.Core.dll</td></tr><tr><td>Name</td><td>FSharp.Core.dll</td></tr><tr><td>Assembly</td><td>FSharp.Core, Version=8.0.0.0, Culture=neutral, PublicKeyToken=b03f5f7f11d50a3a</td></tr><tr><td>ModuleHandle</td><td>System.ModuleHandle</td></tr><tr><td>CustomAttributes</td><td>[  ]</td></tr></tbody></table></div></details></td></tr><tr><td>IsSecurityCritical</td><td><div class=\"dni-plaintext\"><pre>True</pre></div></td></tr><tr><td>IsSecuritySafeCritical</td><td><div class=\"dni-plaintext\"><pre>False</pre></div></td></tr><tr><td>IsSecurityTransparent</td><td><div class=\"dni-plaintext\"><pre>False</pre></div></td></tr><tr><td>MethodHandle</td><td><details class=\"dni-treeview\"><summary><span class=\"dni-code-hint\"><code>System.RuntimeMethodHandle</code></span></summary><div><table><thead><tr></tr></thead><tbody><tr><td>Value</td><td>140723996034176</td></tr></tbody></table></div></details></td></tr><tr><td>Attributes</td><td><span>Public, HideBySig, SpecialName</span></td></tr><tr><td>CallingConvention</td><td><span>Standard, HasThis</span></td></tr><tr><td>ReturnType</td><td>T</td></tr><tr><td>ReturnTypeCustomAttributes</td><td><details class=\"dni-treeview\"><summary><span class=\"dni-code-hint\"><code>T</code></span></summary><div><table><thead><tr></tr></thead><tbody><tr><td>ParameterType</td><td>T</td></tr><tr><td>Name</td><td><div class=\"dni-plaintext\"><pre>&lt;null&gt;</pre></div></td></tr><tr><td>HasDefaultValue</td><td>False</td></tr><tr><td>DefaultValue</td><td></td></tr><tr><td>RawDefaultValue</td><td></td></tr><tr><td>MetadataToken</td><td>134217728</td></tr><tr><td>Attributes</td><td>None</td></tr><tr><td>Member</td><td>T get_Head()</td></tr><tr><td>Position</td><td>-1</td></tr><tr><td>IsIn</td><td>False</td></tr><tr><td>IsLcid</td><td>False</td></tr><tr><td>IsOptional</td><td>False</td></tr><tr><td>IsOut</td><td>False</td></tr><tr><td>IsRetval</td><td>False</td></tr><tr><td>CustomAttributes</td><td>[  ]</td></tr></tbody></table></div></details></td></tr><tr><td>ReturnParameter</td><td><details class=\"dni-treeview\"><summary><span class=\"dni-code-hint\"><code>T</code></span></summary><div><table><thead><tr></tr></thead><tbody><tr><td>ParameterType</td><td>T</td></tr><tr><td>Name</td><td><div class=\"dni-plaintext\"><pre>&lt;null&gt;</pre></div></td></tr><tr><td>HasDefaultValue</td><td>False</td></tr><tr><td>DefaultValue</td><td></td></tr><tr><td>RawDefaultValue</td><td></td></tr><tr><td>MetadataToken</td><td>134217728</td></tr><tr><td>Attributes</td><td>None</td></tr><tr><td>Member</td><td>T get_Head()</td></tr><tr><td>Position</td><td>-1</td></tr><tr><td>IsIn</td><td>False</td></tr><tr><td>IsLcid</td><td>False</td></tr><tr><td>IsOptional</td><td>False</td></tr><tr><td>IsOut</td><td>False</td></tr><tr><td>IsRetval</td><td>False</td></tr><tr><td>CustomAttributes</td><td>[  ]</td></tr></tbody></table></div></details></td></tr><tr><td>IsCollectible</td><td><div class=\"dni-plaintext\"><pre>False</pre></div></td></tr><tr><td>IsGenericMethod</td><td><div class=\"dni-plaintext\"><pre>False</pre></div></td></tr><tr><td>IsGenericMethodDefinition</td><td><div class=\"dni-plaintext\"><pre>False</pre></div></td></tr><tr><td>ContainsGenericParameters</td><td><div class=\"dni-plaintext\"><pre>True</pre></div></td></tr><tr><td>MethodImplementationFlags</td><td><span>IL</span></td></tr><tr><td>IsAbstract</td><td><div class=\"dni-plaintext\"><pre>False</pre></div></td></tr><tr><td>IsConstructor</td><td><div class=\"dni-plaintext\"><pre>False</pre></div></td></tr><tr><td>IsFinal</td><td><div class=\"dni-plaintext\"><pre>False</pre></div></td></tr><tr><td>IsHideBySig</td><td><div class=\"dni-plaintext\"><pre>True</pre></div></td></tr><tr><td>IsSpecialName</td><td><div class=\"dni-plaintext\"><pre>True</pre></div></td></tr><tr><td>IsStatic</td><td><div class=\"dni-plaintext\"><pre>False</pre></div></td></tr><tr><td>IsVirtual</td><td><div class=\"dni-plaintext\"><pre>False</pre></div></td></tr><tr><td>IsAssembly</td><td><div class=\"dni-plaintext\"><pre>False</pre></div></td></tr><tr><td>IsFamily</td><td><div class=\"dni-plaintext\"><pre>False</pre></div></td></tr><tr><td>IsFamilyAndAssembly</td><td><div class=\"dni-plaintext\"><pre>False</pre></div></td></tr><tr><td>IsFamilyOrAssembly</td><td><div class=\"dni-plaintext\"><pre>False</pre></div></td></tr><tr><td>IsPrivate</td><td><div class=\"dni-plaintext\"><pre>False</pre></div></td></tr><tr><td>IsPublic</td><td><div class=\"dni-plaintext\"><pre>True</pre></div></td></tr><tr><td>IsConstructedGenericMethod</td><td><div class=\"dni-plaintext\"><pre>False</pre></div></td></tr><tr><td>CustomAttributes</td><td><i>(empty)</i></td></tr></tbody></table></div></details></td></tr><tr><td>Message</td><td><div class=\"dni-plaintext\"><pre>The input list was empty.</pre></div></td></tr><tr><td>Data</td><td><i>(empty)</i></td></tr><tr><td>InnerException</td><td><div class=\"dni-plaintext\"><pre>&lt;null&gt;</pre></div></td></tr><tr><td>HelpLink</td><td><div class=\"dni-plaintext\"><pre>&lt;null&gt;</pre></div></td></tr><tr><td>Source</td><td><div class=\"dni-plaintext\"><pre>FSharp.Core</pre></div></td></tr><tr><td>HResult</td><td><div class=\"dni-plaintext\"><pre>-2146233079</pre></div></td></tr><tr><td>StackTrace</td><td><div class=\"dni-plaintext\"><pre>   at Microsoft.FSharp.Collections.FSharpList`1.get_Head() in D:\\a\\_work\\1\\s\\src\\FSharp.Core\\prim-types.fs:line 4141\r\n",
                            "   at lambda_method285(Closure, FSharpList`1)\r\n",
                            "   at Microsoft.DotNet.Interactive.Formatting.MemberAccessor`1.GetValueOrException(T instance) in D:\\a\\_work\\1\\s\\src\\Microsoft.DotNet.Interactive.Formatting\\MemberAccessor{T}.cs:line 58</pre></div></td></tr></tbody></table></div></details></td></tr><tr><td>Tail</td><td><details class=\"dni-treeview\"><summary><span class=\"dni-code-hint\"><code>System.InvalidOperationException: The input list was empty.\\r\\n   at Microsoft.FSharp.Collections.FSharpList`1.get_Tail() in D:\\a\\_work\\1\\s\\src\\FSharp.Core\\prim-types.fs:line 4146\\r\\n   at lambda_method286(Closure, FSharpList`1)\\r\\n   at Microsoft.DotNet.Interactive.Formatting.MemberAccessor`1.GetVa...</code></span></summary><div><table><thead><tr></tr></thead><tbody><tr><td>TargetSite</td><td><details class=\"dni-treeview\"><summary><span class=\"dni-code-hint\"><code>Microsoft.FSharp.Collections.FSharpList`1[T] get_Tail()</code></span></summary><div><table><thead><tr></tr></thead><tbody><tr><td>Name</td><td><div class=\"dni-plaintext\"><pre>get_Tail</pre></div></td></tr><tr><td>DeclaringType</td><td><span><a href=\"https://docs.microsoft.com/dotnet/api/microsoft.fsharp.collections.fsharplist-1?view=net-7.0\">Microsoft.FSharp.Collections.FSharpList&lt;T&gt;</a></span></td></tr><tr><td>ReflectedType</td><td><span><a href=\"https://docs.microsoft.com/dotnet/api/microsoft.fsharp.collections.fsharplist-1?view=net-7.0\">Microsoft.FSharp.Collections.FSharpList&lt;T&gt;</a></span></td></tr><tr><td>MemberType</td><td><span>Method</span></td></tr><tr><td>MetadataToken</td><td><div class=\"dni-plaintext\"><pre>100663765</pre></div></td></tr><tr><td>Module</td><td><details class=\"dni-treeview\"><summary><span class=\"dni-code-hint\"><code>FSharp.Core.dll</code></span></summary><div><table><thead><tr></tr></thead><tbody><tr><td>MDStreamVersion</td><td>131072</td></tr><tr><td>FullyQualifiedName</td><td>C:\\Users\\Jo.VanEyck\\.nuget\\packages\\microsoft.dotnet-interactive\\1.0.512901\\tools\\net8.0\\any\\FSharp.Core.dll</td></tr><tr><td>ModuleVersionId</td><td>8b3b61bb-207b-2ce2-fc65-52fadafedf72</td></tr><tr><td>MetadataToken</td><td>1</td></tr><tr><td>ScopeName</td><td>FSharp.Core.dll</td></tr><tr><td>Name</td><td>FSharp.Core.dll</td></tr><tr><td>Assembly</td><td>FSharp.Core, Version=8.0.0.0, Culture=neutral, PublicKeyToken=b03f5f7f11d50a3a</td></tr><tr><td>ModuleHandle</td><td>System.ModuleHandle</td></tr><tr><td>CustomAttributes</td><td>[  ]</td></tr></tbody></table></div></details></td></tr><tr><td>IsSecurityCritical</td><td><div class=\"dni-plaintext\"><pre>True</pre></div></td></tr><tr><td>IsSecuritySafeCritical</td><td><div class=\"dni-plaintext\"><pre>False</pre></div></td></tr><tr><td>IsSecurityTransparent</td><td><div class=\"dni-plaintext\"><pre>False</pre></div></td></tr><tr><td>MethodHandle</td><td><details class=\"dni-treeview\"><summary><span class=\"dni-code-hint\"><code>System.RuntimeMethodHandle</code></span></summary><div><table><thead><tr></tr></thead><tbody><tr><td>Value</td><td>140723996034192</td></tr></tbody></table></div></details></td></tr><tr><td>Attributes</td><td><span>Public, HideBySig, SpecialName</span></td></tr><tr><td>CallingConvention</td><td><span>Standard, HasThis</span></td></tr><tr><td>ReturnType</td><td><span><a href=\"https://docs.microsoft.com/dotnet/api/microsoft.fsharp.collections.fsharplist-1?view=net-7.0\">Microsoft.FSharp.Collections.FSharpList&lt;T&gt;</a></span></td></tr><tr><td>ReturnTypeCustomAttributes</td><td><details class=\"dni-treeview\"><summary><span class=\"dni-code-hint\"><code>Microsoft.FSharp.Collections.FSharpList`1[T]</code></span></summary><div><table><thead><tr></tr></thead><tbody><tr><td>ParameterType</td><td>Microsoft.FSharp.Collections.FSharpList`1[T]</td></tr><tr><td>Name</td><td><div class=\"dni-plaintext\"><pre>&lt;null&gt;</pre></div></td></tr><tr><td>HasDefaultValue</td><td>False</td></tr><tr><td>DefaultValue</td><td></td></tr><tr><td>RawDefaultValue</td><td></td></tr><tr><td>MetadataToken</td><td>134217728</td></tr><tr><td>Attributes</td><td>None</td></tr><tr><td>Member</td><td>Microsoft.FSharp.Collections.FSharpList`1[T] get_Tail()</td></tr><tr><td>Position</td><td>-1</td></tr><tr><td>IsIn</td><td>False</td></tr><tr><td>IsLcid</td><td>False</td></tr><tr><td>IsOptional</td><td>False</td></tr><tr><td>IsOut</td><td>False</td></tr><tr><td>IsRetval</td><td>False</td></tr><tr><td>CustomAttributes</td><td>[  ]</td></tr></tbody></table></div></details></td></tr><tr><td>ReturnParameter</td><td><details class=\"dni-treeview\"><summary><span class=\"dni-code-hint\"><code>Microsoft.FSharp.Collections.FSharpList`1[T]</code></span></summary><div><table><thead><tr></tr></thead><tbody><tr><td>ParameterType</td><td>Microsoft.FSharp.Collections.FSharpList`1[T]</td></tr><tr><td>Name</td><td><div class=\"dni-plaintext\"><pre>&lt;null&gt;</pre></div></td></tr><tr><td>HasDefaultValue</td><td>False</td></tr><tr><td>DefaultValue</td><td></td></tr><tr><td>RawDefaultValue</td><td></td></tr><tr><td>MetadataToken</td><td>134217728</td></tr><tr><td>Attributes</td><td>None</td></tr><tr><td>Member</td><td>Microsoft.FSharp.Collections.FSharpList`1[T] get_Tail()</td></tr><tr><td>Position</td><td>-1</td></tr><tr><td>IsIn</td><td>False</td></tr><tr><td>IsLcid</td><td>False</td></tr><tr><td>IsOptional</td><td>False</td></tr><tr><td>IsOut</td><td>False</td></tr><tr><td>IsRetval</td><td>False</td></tr><tr><td>CustomAttributes</td><td>[  ]</td></tr></tbody></table></div></details></td></tr><tr><td>IsCollectible</td><td><div class=\"dni-plaintext\"><pre>False</pre></div></td></tr><tr><td>IsGenericMethod</td><td><div class=\"dni-plaintext\"><pre>False</pre></div></td></tr><tr><td>IsGenericMethodDefinition</td><td><div class=\"dni-plaintext\"><pre>False</pre></div></td></tr><tr><td>ContainsGenericParameters</td><td><div class=\"dni-plaintext\"><pre>True</pre></div></td></tr><tr><td>MethodImplementationFlags</td><td><span>IL</span></td></tr><tr><td>IsAbstract</td><td><div class=\"dni-plaintext\"><pre>False</pre></div></td></tr><tr><td>IsConstructor</td><td><div class=\"dni-plaintext\"><pre>False</pre></div></td></tr><tr><td>IsFinal</td><td><div class=\"dni-plaintext\"><pre>False</pre></div></td></tr><tr><td>IsHideBySig</td><td><div class=\"dni-plaintext\"><pre>True</pre></div></td></tr><tr><td>IsSpecialName</td><td><div class=\"dni-plaintext\"><pre>True</pre></div></td></tr><tr><td>IsStatic</td><td><div class=\"dni-plaintext\"><pre>False</pre></div></td></tr><tr><td>IsVirtual</td><td><div class=\"dni-plaintext\"><pre>False</pre></div></td></tr><tr><td>IsAssembly</td><td><div class=\"dni-plaintext\"><pre>False</pre></div></td></tr><tr><td>IsFamily</td><td><div class=\"dni-plaintext\"><pre>False</pre></div></td></tr><tr><td>IsFamilyAndAssembly</td><td><div class=\"dni-plaintext\"><pre>False</pre></div></td></tr><tr><td>IsFamilyOrAssembly</td><td><div class=\"dni-plaintext\"><pre>False</pre></div></td></tr><tr><td>IsPrivate</td><td><div class=\"dni-plaintext\"><pre>False</pre></div></td></tr><tr><td>IsPublic</td><td><div class=\"dni-plaintext\"><pre>True</pre></div></td></tr><tr><td>IsConstructedGenericMethod</td><td><div class=\"dni-plaintext\"><pre>False</pre></div></td></tr><tr><td>CustomAttributes</td><td><i>(empty)</i></td></tr></tbody></table></div></details></td></tr><tr><td>Message</td><td><div class=\"dni-plaintext\"><pre>The input list was empty.</pre></div></td></tr><tr><td>Data</td><td><i>(empty)</i></td></tr><tr><td>InnerException</td><td><div class=\"dni-plaintext\"><pre>&lt;null&gt;</pre></div></td></tr><tr><td>HelpLink</td><td><div class=\"dni-plaintext\"><pre>&lt;null&gt;</pre></div></td></tr><tr><td>Source</td><td><div class=\"dni-plaintext\"><pre>FSharp.Core</pre></div></td></tr><tr><td>HResult</td><td><div class=\"dni-plaintext\"><pre>-2146233079</pre></div></td></tr><tr><td>StackTrace</td><td><div class=\"dni-plaintext\"><pre>   at Microsoft.FSharp.Collections.FSharpList`1.get_Tail() in D:\\a\\_work\\1\\s\\src\\FSharp.Core\\prim-types.fs:line 4146\r\n",
                            "   at lambda_method286(Closure, FSharpList`1)\r\n",
                            "   at Microsoft.DotNet.Interactive.Formatting.MemberAccessor`1.GetValueOrException(T instance) in D:\\a\\_work\\1\\s\\src\\Microsoft.DotNet.Interactive.Formatting\\MemberAccessor{T}.cs:line 58</pre></div></td></tr></tbody></table></div></details></td></tr><tr><td><i>(values)</i></td><td><div class=\"dni-plaintext\"><pre>[  ]</pre></div></td></tr></tbody></table></div></details></td></tr><tr><td><i>(values)</i></td><td><div class=\"dni-plaintext\"><pre>[ not a valid age ]</pre></div></td></tr></tbody></table></div></details></td></tr></tbody></table></div></details><style>\r\n",
                            ".dni-code-hint {\r\n",
                            "    font-style: italic;\r\n",
                            "    overflow: hidden;\r\n",
                            "    white-space: nowrap;\r\n",
                            "}\r\n",
                            ".dni-treeview {\r\n",
                            "    white-space: nowrap;\r\n",
                            "}\r\n",
                            ".dni-treeview td {\r\n",
                            "    vertical-align: top;\r\n",
                            "    text-align: start;\r\n",
                            "}\r\n",
                            "details.dni-treeview {\r\n",
                            "    padding-left: 1em;\r\n",
                            "}\r\n",
                            "table td {\r\n",
                            "    text-align: start;\r\n",
                            "}\r\n",
                            "table tr { \r\n",
                            "    vertical-align: top; \r\n",
                            "    margin: 0em 0px;\r\n",
                            "}\r\n",
                            "table tr td pre \r\n",
                            "{ \r\n",
                            "    vertical-align: top !important; \r\n",
                            "    margin: 0em 0px !important;\r\n",
                            "} \r\n",
                            "table th {\r\n",
                            "    text-align: start;\r\n",
                            "}\r\n",
                            "</style>"
                        ]
                    },
                    "metadata": {},
                    "output_type": "display_data"
                }
            ],
            "source": [
                "nok\n",
                "|> map haveBirthDay\n",
                "|> map haveBirthDay\n",
                "|> map haveBirthDay"
            ]
        },
        {
            "cell_type": "markdown",
            "metadata": {},
            "source": [
                "If somewhere in this pipeline we end up with an **Error**, all the following steps get short-circuited and we end up with that **Error**. If it's **Ok**'s all the way down, you end up with an **Ok** value in the end.\n",
                "\n",
                "All **elevated types** (like our *Validation* type) where you can come up with a **map** function like this are called Functors. Technically your **elevated type** and your **map** implementation need to follow some rules, but that would take us way too far today, so let's just ignore that tiny detail (sorry fp purists).\n",
                "\n",
                "Now let's take our **elevated** types a step further and take a look at Applicative Functors!"
            ]
        },
        {
            "cell_type": "markdown",
            "metadata": {},
            "source": [
                "## Applicative Functor\n",
                "\n",
                "Remember **map**'s type?\n",
                "\n"
            ]
        },
        {
            "cell_type": "code",
            "execution_count": 20,
            "metadata": {
                "dotnet_interactive": {
                    "language": "fsharp"
                },
                "polyglot_notebook": {
                    "kernelName": "fsharp"
                },
                "vscode": {
                    "languageId": "polyglot-notebook"
                }
            },
            "outputs": [],
            "source": [
                "//map::(a->b)->E(a)->E(b)"
            ]
        },
        {
            "cell_type": "markdown",
            "metadata": {},
            "source": [
                "In order to talk about Applicative Functors (we'll just call them Applicatives from now on), we need to introduce another function called **apply** that looks almost exactly like map:"
            ]
        },
        {
            "cell_type": "code",
            "execution_count": 21,
            "metadata": {
                "dotnet_interactive": {
                    "language": "fsharp"
                },
                "polyglot_notebook": {
                    "kernelName": "fsharp"
                },
                "vscode": {
                    "languageId": "polyglot-notebook"
                }
            },
            "outputs": [],
            "source": [
                "//apply::E(a->b)->E(a)->E(b)"
            ]
        },
        {
            "cell_type": "markdown",
            "metadata": {},
            "source": [
                "See? Looks awfully similar. The only difference with **map** is that the input function is also **elevated**. Let's take a look at a possible implementation of **apply** for our *Validation*:"
            ]
        },
        {
            "cell_type": "code",
            "execution_count": 22,
            "metadata": {
                "dotnet_interactive": {
                    "language": "fsharp"
                },
                "polyglot_notebook": {
                    "kernelName": "fsharp"
                },
                "vscode": {
                    "languageId": "polyglot-notebook"
                }
            },
            "outputs": [],
            "source": [
                "let apply (f: Validation<'a -> 'b>) (a: Validation<'a>) : Validation<'b> =\n",
                "    match f, a with\n",
                "    | Ok f, Ok v -> Ok(f v)\n",
                "    | Error e1, Error e2 -> Error(e1 @ e2)\n",
                "    | Error e, _ -> Error e\n",
                "    | _, Error e -> Error e"
            ]
        },
        {
            "cell_type": "markdown",
            "metadata": {},
            "source": [
                "What's happening here? If both the **elevated** function **f** and value **a** contain an **Ok**, we apply the function to the value and wrap it in another **Ok**. In all other cases we propagate the **Error**. If we have hold of two errors, we just smoosh the two together. See? That's why our *Validation* type takes *string list*s for the Error case, two lists are very easy to smoosh together by using the concat operator **@**.\n",
                "\n",
                "Now, how would you use **apply** and what benefits does it bring? In order for that, let's define a couple more functions."
            ]
        },
        {
            "cell_type": "code",
            "execution_count": 23,
            "metadata": {
                "dotnet_interactive": {
                    "language": "fsharp"
                },
                "polyglot_notebook": {
                    "kernelName": "fsharp"
                },
                "vscode": {
                    "languageId": "polyglot-notebook"
                }
            },
            "outputs": [
                {
                    "data": {
                        "text/html": [
                            "<details open=\"open\" class=\"dni-treeview\"><summary><span class=\"dni-code-hint\"><code>(Ok (Age 12), Error [&quot;&lt;jo@gmail.com&gt; is not a valid age&quot;], Ok (Email &quot;jo@gmail.com&quot;), Error [&quot;&lt;13&gt; is not a valid email&quot;])</code></span></summary><div><table><thead><tr></tr></thead><tbody><tr><td>Item1</td><td><details class=\"dni-treeview\"><summary><span class=\"dni-code-hint\"><code>Ok (Age 12)</code></span></summary><div><table><thead><tr></tr></thead><tbody><tr><td>Item</td><td><details class=\"dni-treeview\"><summary><span class=\"dni-code-hint\"><code>Age 12</code></span></summary><div><table><thead><tr></tr></thead><tbody><tr><td>Item</td><td><div class=\"dni-plaintext\"><pre>12</pre></div></td></tr></tbody></table></div></details></td></tr></tbody></table></div></details></td></tr><tr><td>Item2</td><td><details class=\"dni-treeview\"><summary><span class=\"dni-code-hint\"><code>Error [&quot;&lt;jo@gmail.com&gt; is not a valid age&quot;]</code></span></summary><div><table><thead><tr></tr></thead><tbody><tr><td>Item</td><td><details class=\"dni-treeview\"><summary><span class=\"dni-code-hint\"><code>[ &lt;jo@gmail.com&gt; is not a valid age ]</code></span></summary><div><table><thead><tr></tr></thead><tbody><tr><td>HeadOrDefault</td><td><div class=\"dni-plaintext\"><pre>&lt;jo@gmail.com&gt; is not a valid age</pre></div></td></tr><tr><td>TailOrNull</td><td><details class=\"dni-treeview\"><summary><span class=\"dni-code-hint\"><code>[  ]</code></span></summary><div><table><thead><tr></tr></thead><tbody><tr><td>HeadOrDefault</td><td><div class=\"dni-plaintext\"><pre>&lt;null&gt;</pre></div></td></tr><tr><td>TailOrNull</td><td><div class=\"dni-plaintext\"><pre>&lt;null&gt;</pre></div></td></tr><tr><td>Head</td><td><details class=\"dni-treeview\"><summary><span class=\"dni-code-hint\"><code>System.InvalidOperationException: The input list was empty.\\r\\n   at Microsoft.FSharp.Collections.FSharpList`1.get_Head() in D:\\a\\_work\\1\\s\\src\\FSharp.Core\\prim-types.fs:line 4141\\r\\n   at lambda_method285(Closure, FSharpList`1)\\r\\n   at Microsoft.DotNet.Interactive.Formatting.MemberAccessor`1.GetVa...</code></span></summary><div><table><thead><tr></tr></thead><tbody><tr><td>TargetSite</td><td><details class=\"dni-treeview\"><summary><span class=\"dni-code-hint\"><code>T get_Head()</code></span></summary><div><table><thead><tr></tr></thead><tbody><tr><td>Name</td><td>get_Head</td></tr><tr><td>DeclaringType</td><td>Microsoft.FSharp.Collections.FSharpList`1[T]</td></tr><tr><td>ReflectedType</td><td>Microsoft.FSharp.Collections.FSharpList`1[T]</td></tr><tr><td>MemberType</td><td>Method</td></tr><tr><td>MetadataToken</td><td>100663764</td></tr><tr><td>Module</td><td>FSharp.Core.dll</td></tr><tr><td>IsSecurityCritical</td><td>True</td></tr><tr><td>IsSecuritySafeCritical</td><td>False</td></tr><tr><td>IsSecurityTransparent</td><td>False</td></tr><tr><td>MethodHandle</td><td>System.RuntimeMethodHandle</td></tr><tr><td>Attributes</td><td>Public, HideBySig, SpecialName</td></tr><tr><td>CallingConvention</td><td>Standard, HasThis</td></tr><tr><td>ReturnType</td><td>T</td></tr><tr><td>ReturnTypeCustomAttributes</td><td>T</td></tr><tr><td>ReturnParameter</td><td>T</td></tr><tr><td>IsCollectible</td><td>False</td></tr><tr><td>IsGenericMethod</td><td>False</td></tr><tr><td>IsGenericMethodDefinition</td><td>False</td></tr><tr><td>ContainsGenericParameters</td><td>True</td></tr><tr><td>MethodImplementationFlags</td><td>IL</td></tr><tr><td>IsAbstract</td><td>False</td></tr><tr><td>IsConstructor</td><td>False</td></tr><tr><td>IsFinal</td><td>False</td></tr><tr><td>IsHideBySig</td><td>True</td></tr><tr><td>IsSpecialName</td><td>True</td></tr><tr><td>IsStatic</td><td>False</td></tr><tr><td>IsVirtual</td><td>False</td></tr><tr><td>IsAssembly</td><td>False</td></tr><tr><td>IsFamily</td><td>False</td></tr><tr><td>IsFamilyAndAssembly</td><td>False</td></tr><tr><td>IsFamilyOrAssembly</td><td>False</td></tr><tr><td>IsPrivate</td><td>False</td></tr><tr><td>IsPublic</td><td>True</td></tr><tr><td>IsConstructedGenericMethod</td><td>False</td></tr><tr><td>CustomAttributes</td><td>[  ]</td></tr></tbody></table></div></details></td></tr><tr><td>Message</td><td><div class=\"dni-plaintext\"><pre>The input list was empty.</pre></div></td></tr><tr><td>Data</td><td><i>(empty)</i></td></tr><tr><td>InnerException</td><td><div class=\"dni-plaintext\"><pre>&lt;null&gt;</pre></div></td></tr><tr><td>HelpLink</td><td><div class=\"dni-plaintext\"><pre>&lt;null&gt;</pre></div></td></tr><tr><td>Source</td><td><div class=\"dni-plaintext\"><pre>FSharp.Core</pre></div></td></tr><tr><td>HResult</td><td><div class=\"dni-plaintext\"><pre>-2146233079</pre></div></td></tr><tr><td>StackTrace</td><td><div class=\"dni-plaintext\"><pre>   at Microsoft.FSharp.Collections.FSharpList`1.get_Head() in D:\\a\\_work\\1\\s\\src\\FSharp.Core\\prim-types.fs:line 4141\r\n",
                            "   at lambda_method285(Closure, FSharpList`1)\r\n",
                            "   at Microsoft.DotNet.Interactive.Formatting.MemberAccessor`1.GetValueOrException(T instance) in D:\\a\\_work\\1\\s\\src\\Microsoft.DotNet.Interactive.Formatting\\MemberAccessor{T}.cs:line 58</pre></div></td></tr></tbody></table></div></details></td></tr><tr><td>Tail</td><td><details class=\"dni-treeview\"><summary><span class=\"dni-code-hint\"><code>System.InvalidOperationException: The input list was empty.\\r\\n   at Microsoft.FSharp.Collections.FSharpList`1.get_Tail() in D:\\a\\_work\\1\\s\\src\\FSharp.Core\\prim-types.fs:line 4146\\r\\n   at lambda_method286(Closure, FSharpList`1)\\r\\n   at Microsoft.DotNet.Interactive.Formatting.MemberAccessor`1.GetVa...</code></span></summary><div><table><thead><tr></tr></thead><tbody><tr><td>TargetSite</td><td><details class=\"dni-treeview\"><summary><span class=\"dni-code-hint\"><code>Microsoft.FSharp.Collections.FSharpList`1[T] get_Tail()</code></span></summary><div><table><thead><tr></tr></thead><tbody><tr><td>Name</td><td>get_Tail</td></tr><tr><td>DeclaringType</td><td>Microsoft.FSharp.Collections.FSharpList`1[T]</td></tr><tr><td>ReflectedType</td><td>Microsoft.FSharp.Collections.FSharpList`1[T]</td></tr><tr><td>MemberType</td><td>Method</td></tr><tr><td>MetadataToken</td><td>100663765</td></tr><tr><td>Module</td><td>FSharp.Core.dll</td></tr><tr><td>IsSecurityCritical</td><td>True</td></tr><tr><td>IsSecuritySafeCritical</td><td>False</td></tr><tr><td>IsSecurityTransparent</td><td>False</td></tr><tr><td>MethodHandle</td><td>System.RuntimeMethodHandle</td></tr><tr><td>Attributes</td><td>Public, HideBySig, SpecialName</td></tr><tr><td>CallingConvention</td><td>Standard, HasThis</td></tr><tr><td>ReturnType</td><td>Microsoft.FSharp.Collections.FSharpList`1[T]</td></tr><tr><td>ReturnTypeCustomAttributes</td><td>Microsoft.FSharp.Collections.FSharpList`1[T]</td></tr><tr><td>ReturnParameter</td><td>Microsoft.FSharp.Collections.FSharpList`1[T]</td></tr><tr><td>IsCollectible</td><td>False</td></tr><tr><td>IsGenericMethod</td><td>False</td></tr><tr><td>IsGenericMethodDefinition</td><td>False</td></tr><tr><td>ContainsGenericParameters</td><td>True</td></tr><tr><td>MethodImplementationFlags</td><td>IL</td></tr><tr><td>IsAbstract</td><td>False</td></tr><tr><td>IsConstructor</td><td>False</td></tr><tr><td>IsFinal</td><td>False</td></tr><tr><td>IsHideBySig</td><td>True</td></tr><tr><td>IsSpecialName</td><td>True</td></tr><tr><td>IsStatic</td><td>False</td></tr><tr><td>IsVirtual</td><td>False</td></tr><tr><td>IsAssembly</td><td>False</td></tr><tr><td>IsFamily</td><td>False</td></tr><tr><td>IsFamilyAndAssembly</td><td>False</td></tr><tr><td>IsFamilyOrAssembly</td><td>False</td></tr><tr><td>IsPrivate</td><td>False</td></tr><tr><td>IsPublic</td><td>True</td></tr><tr><td>IsConstructedGenericMethod</td><td>False</td></tr><tr><td>CustomAttributes</td><td>[  ]</td></tr></tbody></table></div></details></td></tr><tr><td>Message</td><td><div class=\"dni-plaintext\"><pre>The input list was empty.</pre></div></td></tr><tr><td>Data</td><td><i>(empty)</i></td></tr><tr><td>InnerException</td><td><div class=\"dni-plaintext\"><pre>&lt;null&gt;</pre></div></td></tr><tr><td>HelpLink</td><td><div class=\"dni-plaintext\"><pre>&lt;null&gt;</pre></div></td></tr><tr><td>Source</td><td><div class=\"dni-plaintext\"><pre>FSharp.Core</pre></div></td></tr><tr><td>HResult</td><td><div class=\"dni-plaintext\"><pre>-2146233079</pre></div></td></tr><tr><td>StackTrace</td><td><div class=\"dni-plaintext\"><pre>   at Microsoft.FSharp.Collections.FSharpList`1.get_Tail() in D:\\a\\_work\\1\\s\\src\\FSharp.Core\\prim-types.fs:line 4146\r\n",
                            "   at lambda_method286(Closure, FSharpList`1)\r\n",
                            "   at Microsoft.DotNet.Interactive.Formatting.MemberAccessor`1.GetValueOrException(T instance) in D:\\a\\_work\\1\\s\\src\\Microsoft.DotNet.Interactive.Formatting\\MemberAccessor{T}.cs:line 58</pre></div></td></tr></tbody></table></div></details></td></tr><tr><td><i>(values)</i></td><td><div class=\"dni-plaintext\"><pre>[  ]</pre></div></td></tr></tbody></table></div></details></td></tr><tr><td>Head</td><td><div class=\"dni-plaintext\"><pre>&lt;jo@gmail.com&gt; is not a valid age</pre></div></td></tr><tr><td>Tail</td><td><details class=\"dni-treeview\"><summary><span class=\"dni-code-hint\"><code>[  ]</code></span></summary><div><table><thead><tr></tr></thead><tbody><tr><td>HeadOrDefault</td><td><div class=\"dni-plaintext\"><pre>&lt;null&gt;</pre></div></td></tr><tr><td>TailOrNull</td><td><div class=\"dni-plaintext\"><pre>&lt;null&gt;</pre></div></td></tr><tr><td>Head</td><td><details class=\"dni-treeview\"><summary><span class=\"dni-code-hint\"><code>System.InvalidOperationException: The input list was empty.\\r\\n   at Microsoft.FSharp.Collections.FSharpList`1.get_Head() in D:\\a\\_work\\1\\s\\src\\FSharp.Core\\prim-types.fs:line 4141\\r\\n   at lambda_method285(Closure, FSharpList`1)\\r\\n   at Microsoft.DotNet.Interactive.Formatting.MemberAccessor`1.GetVa...</code></span></summary><div><table><thead><tr></tr></thead><tbody><tr><td>TargetSite</td><td><details class=\"dni-treeview\"><summary><span class=\"dni-code-hint\"><code>T get_Head()</code></span></summary><div><table><thead><tr></tr></thead><tbody><tr><td>Name</td><td>get_Head</td></tr><tr><td>DeclaringType</td><td>Microsoft.FSharp.Collections.FSharpList`1[T]</td></tr><tr><td>ReflectedType</td><td>Microsoft.FSharp.Collections.FSharpList`1[T]</td></tr><tr><td>MemberType</td><td>Method</td></tr><tr><td>MetadataToken</td><td>100663764</td></tr><tr><td>Module</td><td>FSharp.Core.dll</td></tr><tr><td>IsSecurityCritical</td><td>True</td></tr><tr><td>IsSecuritySafeCritical</td><td>False</td></tr><tr><td>IsSecurityTransparent</td><td>False</td></tr><tr><td>MethodHandle</td><td>System.RuntimeMethodHandle</td></tr><tr><td>Attributes</td><td>Public, HideBySig, SpecialName</td></tr><tr><td>CallingConvention</td><td>Standard, HasThis</td></tr><tr><td>ReturnType</td><td>T</td></tr><tr><td>ReturnTypeCustomAttributes</td><td>T</td></tr><tr><td>ReturnParameter</td><td>T</td></tr><tr><td>IsCollectible</td><td>False</td></tr><tr><td>IsGenericMethod</td><td>False</td></tr><tr><td>IsGenericMethodDefinition</td><td>False</td></tr><tr><td>ContainsGenericParameters</td><td>True</td></tr><tr><td>MethodImplementationFlags</td><td>IL</td></tr><tr><td>IsAbstract</td><td>False</td></tr><tr><td>IsConstructor</td><td>False</td></tr><tr><td>IsFinal</td><td>False</td></tr><tr><td>IsHideBySig</td><td>True</td></tr><tr><td>IsSpecialName</td><td>True</td></tr><tr><td>IsStatic</td><td>False</td></tr><tr><td>IsVirtual</td><td>False</td></tr><tr><td>IsAssembly</td><td>False</td></tr><tr><td>IsFamily</td><td>False</td></tr><tr><td>IsFamilyAndAssembly</td><td>False</td></tr><tr><td>IsFamilyOrAssembly</td><td>False</td></tr><tr><td>IsPrivate</td><td>False</td></tr><tr><td>IsPublic</td><td>True</td></tr><tr><td>IsConstructedGenericMethod</td><td>False</td></tr><tr><td>CustomAttributes</td><td>[  ]</td></tr></tbody></table></div></details></td></tr><tr><td>Message</td><td><div class=\"dni-plaintext\"><pre>The input list was empty.</pre></div></td></tr><tr><td>Data</td><td><i>(empty)</i></td></tr><tr><td>InnerException</td><td><div class=\"dni-plaintext\"><pre>&lt;null&gt;</pre></div></td></tr><tr><td>HelpLink</td><td><div class=\"dni-plaintext\"><pre>&lt;null&gt;</pre></div></td></tr><tr><td>Source</td><td><div class=\"dni-plaintext\"><pre>FSharp.Core</pre></div></td></tr><tr><td>HResult</td><td><div class=\"dni-plaintext\"><pre>-2146233079</pre></div></td></tr><tr><td>StackTrace</td><td><div class=\"dni-plaintext\"><pre>   at Microsoft.FSharp.Collections.FSharpList`1.get_Head() in D:\\a\\_work\\1\\s\\src\\FSharp.Core\\prim-types.fs:line 4141\r\n",
                            "   at lambda_method285(Closure, FSharpList`1)\r\n",
                            "   at Microsoft.DotNet.Interactive.Formatting.MemberAccessor`1.GetValueOrException(T instance) in D:\\a\\_work\\1\\s\\src\\Microsoft.DotNet.Interactive.Formatting\\MemberAccessor{T}.cs:line 58</pre></div></td></tr></tbody></table></div></details></td></tr><tr><td>Tail</td><td><details class=\"dni-treeview\"><summary><span class=\"dni-code-hint\"><code>System.InvalidOperationException: The input list was empty.\\r\\n   at Microsoft.FSharp.Collections.FSharpList`1.get_Tail() in D:\\a\\_work\\1\\s\\src\\FSharp.Core\\prim-types.fs:line 4146\\r\\n   at lambda_method286(Closure, FSharpList`1)\\r\\n   at Microsoft.DotNet.Interactive.Formatting.MemberAccessor`1.GetVa...</code></span></summary><div><table><thead><tr></tr></thead><tbody><tr><td>TargetSite</td><td><details class=\"dni-treeview\"><summary><span class=\"dni-code-hint\"><code>Microsoft.FSharp.Collections.FSharpList`1[T] get_Tail()</code></span></summary><div><table><thead><tr></tr></thead><tbody><tr><td>Name</td><td>get_Tail</td></tr><tr><td>DeclaringType</td><td>Microsoft.FSharp.Collections.FSharpList`1[T]</td></tr><tr><td>ReflectedType</td><td>Microsoft.FSharp.Collections.FSharpList`1[T]</td></tr><tr><td>MemberType</td><td>Method</td></tr><tr><td>MetadataToken</td><td>100663765</td></tr><tr><td>Module</td><td>FSharp.Core.dll</td></tr><tr><td>IsSecurityCritical</td><td>True</td></tr><tr><td>IsSecuritySafeCritical</td><td>False</td></tr><tr><td>IsSecurityTransparent</td><td>False</td></tr><tr><td>MethodHandle</td><td>System.RuntimeMethodHandle</td></tr><tr><td>Attributes</td><td>Public, HideBySig, SpecialName</td></tr><tr><td>CallingConvention</td><td>Standard, HasThis</td></tr><tr><td>ReturnType</td><td>Microsoft.FSharp.Collections.FSharpList`1[T]</td></tr><tr><td>ReturnTypeCustomAttributes</td><td>Microsoft.FSharp.Collections.FSharpList`1[T]</td></tr><tr><td>ReturnParameter</td><td>Microsoft.FSharp.Collections.FSharpList`1[T]</td></tr><tr><td>IsCollectible</td><td>False</td></tr><tr><td>IsGenericMethod</td><td>False</td></tr><tr><td>IsGenericMethodDefinition</td><td>False</td></tr><tr><td>ContainsGenericParameters</td><td>True</td></tr><tr><td>MethodImplementationFlags</td><td>IL</td></tr><tr><td>IsAbstract</td><td>False</td></tr><tr><td>IsConstructor</td><td>False</td></tr><tr><td>IsFinal</td><td>False</td></tr><tr><td>IsHideBySig</td><td>True</td></tr><tr><td>IsSpecialName</td><td>True</td></tr><tr><td>IsStatic</td><td>False</td></tr><tr><td>IsVirtual</td><td>False</td></tr><tr><td>IsAssembly</td><td>False</td></tr><tr><td>IsFamily</td><td>False</td></tr><tr><td>IsFamilyAndAssembly</td><td>False</td></tr><tr><td>IsFamilyOrAssembly</td><td>False</td></tr><tr><td>IsPrivate</td><td>False</td></tr><tr><td>IsPublic</td><td>True</td></tr><tr><td>IsConstructedGenericMethod</td><td>False</td></tr><tr><td>CustomAttributes</td><td>[  ]</td></tr></tbody></table></div></details></td></tr><tr><td>Message</td><td><div class=\"dni-plaintext\"><pre>The input list was empty.</pre></div></td></tr><tr><td>Data</td><td><i>(empty)</i></td></tr><tr><td>InnerException</td><td><div class=\"dni-plaintext\"><pre>&lt;null&gt;</pre></div></td></tr><tr><td>HelpLink</td><td><div class=\"dni-plaintext\"><pre>&lt;null&gt;</pre></div></td></tr><tr><td>Source</td><td><div class=\"dni-plaintext\"><pre>FSharp.Core</pre></div></td></tr><tr><td>HResult</td><td><div class=\"dni-plaintext\"><pre>-2146233079</pre></div></td></tr><tr><td>StackTrace</td><td><div class=\"dni-plaintext\"><pre>   at Microsoft.FSharp.Collections.FSharpList`1.get_Tail() in D:\\a\\_work\\1\\s\\src\\FSharp.Core\\prim-types.fs:line 4146\r\n",
                            "   at lambda_method286(Closure, FSharpList`1)\r\n",
                            "   at Microsoft.DotNet.Interactive.Formatting.MemberAccessor`1.GetValueOrException(T instance) in D:\\a\\_work\\1\\s\\src\\Microsoft.DotNet.Interactive.Formatting\\MemberAccessor{T}.cs:line 58</pre></div></td></tr></tbody></table></div></details></td></tr><tr><td><i>(values)</i></td><td><div class=\"dni-plaintext\"><pre>[  ]</pre></div></td></tr></tbody></table></div></details></td></tr><tr><td><i>(values)</i></td><td><div class=\"dni-plaintext\"><pre>[ &lt;jo@gmail.com&gt; is not a valid age ]</pre></div></td></tr></tbody></table></div></details></td></tr></tbody></table></div></details></td></tr><tr><td>Item3</td><td><details class=\"dni-treeview\"><summary><span class=\"dni-code-hint\"><code>Ok (Email &quot;jo@gmail.com&quot;)</code></span></summary><div><table><thead><tr></tr></thead><tbody><tr><td>Item</td><td><details class=\"dni-treeview\"><summary><span class=\"dni-code-hint\"><code>Email &quot;jo@gmail.com&quot;</code></span></summary><div><table><thead><tr></tr></thead><tbody><tr><td>Item</td><td><div class=\"dni-plaintext\"><pre>jo@gmail.com</pre></div></td></tr></tbody></table></div></details></td></tr></tbody></table></div></details></td></tr><tr><td>Item4</td><td><details class=\"dni-treeview\"><summary><span class=\"dni-code-hint\"><code>Error [&quot;&lt;13&gt; is not a valid email&quot;]</code></span></summary><div><table><thead><tr></tr></thead><tbody><tr><td>Item</td><td><details class=\"dni-treeview\"><summary><span class=\"dni-code-hint\"><code>[ &lt;13&gt; is not a valid email ]</code></span></summary><div><table><thead><tr></tr></thead><tbody><tr><td>HeadOrDefault</td><td><div class=\"dni-plaintext\"><pre>&lt;13&gt; is not a valid email</pre></div></td></tr><tr><td>TailOrNull</td><td><details class=\"dni-treeview\"><summary><span class=\"dni-code-hint\"><code>[  ]</code></span></summary><div><table><thead><tr></tr></thead><tbody><tr><td>HeadOrDefault</td><td><div class=\"dni-plaintext\"><pre>&lt;null&gt;</pre></div></td></tr><tr><td>TailOrNull</td><td><div class=\"dni-plaintext\"><pre>&lt;null&gt;</pre></div></td></tr><tr><td>Head</td><td><details class=\"dni-treeview\"><summary><span class=\"dni-code-hint\"><code>System.InvalidOperationException: The input list was empty.\\r\\n   at Microsoft.FSharp.Collections.FSharpList`1.get_Head() in D:\\a\\_work\\1\\s\\src\\FSharp.Core\\prim-types.fs:line 4141\\r\\n   at lambda_method285(Closure, FSharpList`1)\\r\\n   at Microsoft.DotNet.Interactive.Formatting.MemberAccessor`1.GetVa...</code></span></summary><div><table><thead><tr></tr></thead><tbody><tr><td>TargetSite</td><td><details class=\"dni-treeview\"><summary><span class=\"dni-code-hint\"><code>T get_Head()</code></span></summary><div><table><thead><tr></tr></thead><tbody><tr><td>Name</td><td>get_Head</td></tr><tr><td>DeclaringType</td><td>Microsoft.FSharp.Collections.FSharpList`1[T]</td></tr><tr><td>ReflectedType</td><td>Microsoft.FSharp.Collections.FSharpList`1[T]</td></tr><tr><td>MemberType</td><td>Method</td></tr><tr><td>MetadataToken</td><td>100663764</td></tr><tr><td>Module</td><td>FSharp.Core.dll</td></tr><tr><td>IsSecurityCritical</td><td>True</td></tr><tr><td>IsSecuritySafeCritical</td><td>False</td></tr><tr><td>IsSecurityTransparent</td><td>False</td></tr><tr><td>MethodHandle</td><td>System.RuntimeMethodHandle</td></tr><tr><td>Attributes</td><td>Public, HideBySig, SpecialName</td></tr><tr><td>CallingConvention</td><td>Standard, HasThis</td></tr><tr><td>ReturnType</td><td>T</td></tr><tr><td>ReturnTypeCustomAttributes</td><td>T</td></tr><tr><td>ReturnParameter</td><td>T</td></tr><tr><td>IsCollectible</td><td>False</td></tr><tr><td>IsGenericMethod</td><td>False</td></tr><tr><td>IsGenericMethodDefinition</td><td>False</td></tr><tr><td>ContainsGenericParameters</td><td>True</td></tr><tr><td>MethodImplementationFlags</td><td>IL</td></tr><tr><td>IsAbstract</td><td>False</td></tr><tr><td>IsConstructor</td><td>False</td></tr><tr><td>IsFinal</td><td>False</td></tr><tr><td>IsHideBySig</td><td>True</td></tr><tr><td>IsSpecialName</td><td>True</td></tr><tr><td>IsStatic</td><td>False</td></tr><tr><td>IsVirtual</td><td>False</td></tr><tr><td>IsAssembly</td><td>False</td></tr><tr><td>IsFamily</td><td>False</td></tr><tr><td>IsFamilyAndAssembly</td><td>False</td></tr><tr><td>IsFamilyOrAssembly</td><td>False</td></tr><tr><td>IsPrivate</td><td>False</td></tr><tr><td>IsPublic</td><td>True</td></tr><tr><td>IsConstructedGenericMethod</td><td>False</td></tr><tr><td>CustomAttributes</td><td>[  ]</td></tr></tbody></table></div></details></td></tr><tr><td>Message</td><td><div class=\"dni-plaintext\"><pre>The input list was empty.</pre></div></td></tr><tr><td>Data</td><td><i>(empty)</i></td></tr><tr><td>InnerException</td><td><div class=\"dni-plaintext\"><pre>&lt;null&gt;</pre></div></td></tr><tr><td>HelpLink</td><td><div class=\"dni-plaintext\"><pre>&lt;null&gt;</pre></div></td></tr><tr><td>Source</td><td><div class=\"dni-plaintext\"><pre>FSharp.Core</pre></div></td></tr><tr><td>HResult</td><td><div class=\"dni-plaintext\"><pre>-2146233079</pre></div></td></tr><tr><td>StackTrace</td><td><div class=\"dni-plaintext\"><pre>   at Microsoft.FSharp.Collections.FSharpList`1.get_Head() in D:\\a\\_work\\1\\s\\src\\FSharp.Core\\prim-types.fs:line 4141\r\n",
                            "   at lambda_method285(Closure, FSharpList`1)\r\n",
                            "   at Microsoft.DotNet.Interactive.Formatting.MemberAccessor`1.GetValueOrException(T instance) in D:\\a\\_work\\1\\s\\src\\Microsoft.DotNet.Interactive.Formatting\\MemberAccessor{T}.cs:line 58</pre></div></td></tr></tbody></table></div></details></td></tr><tr><td>Tail</td><td><details class=\"dni-treeview\"><summary><span class=\"dni-code-hint\"><code>System.InvalidOperationException: The input list was empty.\\r\\n   at Microsoft.FSharp.Collections.FSharpList`1.get_Tail() in D:\\a\\_work\\1\\s\\src\\FSharp.Core\\prim-types.fs:line 4146\\r\\n   at lambda_method286(Closure, FSharpList`1)\\r\\n   at Microsoft.DotNet.Interactive.Formatting.MemberAccessor`1.GetVa...</code></span></summary><div><table><thead><tr></tr></thead><tbody><tr><td>TargetSite</td><td><details class=\"dni-treeview\"><summary><span class=\"dni-code-hint\"><code>Microsoft.FSharp.Collections.FSharpList`1[T] get_Tail()</code></span></summary><div><table><thead><tr></tr></thead><tbody><tr><td>Name</td><td>get_Tail</td></tr><tr><td>DeclaringType</td><td>Microsoft.FSharp.Collections.FSharpList`1[T]</td></tr><tr><td>ReflectedType</td><td>Microsoft.FSharp.Collections.FSharpList`1[T]</td></tr><tr><td>MemberType</td><td>Method</td></tr><tr><td>MetadataToken</td><td>100663765</td></tr><tr><td>Module</td><td>FSharp.Core.dll</td></tr><tr><td>IsSecurityCritical</td><td>True</td></tr><tr><td>IsSecuritySafeCritical</td><td>False</td></tr><tr><td>IsSecurityTransparent</td><td>False</td></tr><tr><td>MethodHandle</td><td>System.RuntimeMethodHandle</td></tr><tr><td>Attributes</td><td>Public, HideBySig, SpecialName</td></tr><tr><td>CallingConvention</td><td>Standard, HasThis</td></tr><tr><td>ReturnType</td><td>Microsoft.FSharp.Collections.FSharpList`1[T]</td></tr><tr><td>ReturnTypeCustomAttributes</td><td>Microsoft.FSharp.Collections.FSharpList`1[T]</td></tr><tr><td>ReturnParameter</td><td>Microsoft.FSharp.Collections.FSharpList`1[T]</td></tr><tr><td>IsCollectible</td><td>False</td></tr><tr><td>IsGenericMethod</td><td>False</td></tr><tr><td>IsGenericMethodDefinition</td><td>False</td></tr><tr><td>ContainsGenericParameters</td><td>True</td></tr><tr><td>MethodImplementationFlags</td><td>IL</td></tr><tr><td>IsAbstract</td><td>False</td></tr><tr><td>IsConstructor</td><td>False</td></tr><tr><td>IsFinal</td><td>False</td></tr><tr><td>IsHideBySig</td><td>True</td></tr><tr><td>IsSpecialName</td><td>True</td></tr><tr><td>IsStatic</td><td>False</td></tr><tr><td>IsVirtual</td><td>False</td></tr><tr><td>IsAssembly</td><td>False</td></tr><tr><td>IsFamily</td><td>False</td></tr><tr><td>IsFamilyAndAssembly</td><td>False</td></tr><tr><td>IsFamilyOrAssembly</td><td>False</td></tr><tr><td>IsPrivate</td><td>False</td></tr><tr><td>IsPublic</td><td>True</td></tr><tr><td>IsConstructedGenericMethod</td><td>False</td></tr><tr><td>CustomAttributes</td><td>[  ]</td></tr></tbody></table></div></details></td></tr><tr><td>Message</td><td><div class=\"dni-plaintext\"><pre>The input list was empty.</pre></div></td></tr><tr><td>Data</td><td><i>(empty)</i></td></tr><tr><td>InnerException</td><td><div class=\"dni-plaintext\"><pre>&lt;null&gt;</pre></div></td></tr><tr><td>HelpLink</td><td><div class=\"dni-plaintext\"><pre>&lt;null&gt;</pre></div></td></tr><tr><td>Source</td><td><div class=\"dni-plaintext\"><pre>FSharp.Core</pre></div></td></tr><tr><td>HResult</td><td><div class=\"dni-plaintext\"><pre>-2146233079</pre></div></td></tr><tr><td>StackTrace</td><td><div class=\"dni-plaintext\"><pre>   at Microsoft.FSharp.Collections.FSharpList`1.get_Tail() in D:\\a\\_work\\1\\s\\src\\FSharp.Core\\prim-types.fs:line 4146\r\n",
                            "   at lambda_method286(Closure, FSharpList`1)\r\n",
                            "   at Microsoft.DotNet.Interactive.Formatting.MemberAccessor`1.GetValueOrException(T instance) in D:\\a\\_work\\1\\s\\src\\Microsoft.DotNet.Interactive.Formatting\\MemberAccessor{T}.cs:line 58</pre></div></td></tr></tbody></table></div></details></td></tr><tr><td><i>(values)</i></td><td><div class=\"dni-plaintext\"><pre>[  ]</pre></div></td></tr></tbody></table></div></details></td></tr><tr><td>Head</td><td><div class=\"dni-plaintext\"><pre>&lt;13&gt; is not a valid email</pre></div></td></tr><tr><td>Tail</td><td><details class=\"dni-treeview\"><summary><span class=\"dni-code-hint\"><code>[  ]</code></span></summary><div><table><thead><tr></tr></thead><tbody><tr><td>HeadOrDefault</td><td><div class=\"dni-plaintext\"><pre>&lt;null&gt;</pre></div></td></tr><tr><td>TailOrNull</td><td><div class=\"dni-plaintext\"><pre>&lt;null&gt;</pre></div></td></tr><tr><td>Head</td><td><details class=\"dni-treeview\"><summary><span class=\"dni-code-hint\"><code>System.InvalidOperationException: The input list was empty.\\r\\n   at Microsoft.FSharp.Collections.FSharpList`1.get_Head() in D:\\a\\_work\\1\\s\\src\\FSharp.Core\\prim-types.fs:line 4141\\r\\n   at lambda_method285(Closure, FSharpList`1)\\r\\n   at Microsoft.DotNet.Interactive.Formatting.MemberAccessor`1.GetVa...</code></span></summary><div><table><thead><tr></tr></thead><tbody><tr><td>TargetSite</td><td><details class=\"dni-treeview\"><summary><span class=\"dni-code-hint\"><code>T get_Head()</code></span></summary><div><table><thead><tr></tr></thead><tbody><tr><td>Name</td><td>get_Head</td></tr><tr><td>DeclaringType</td><td>Microsoft.FSharp.Collections.FSharpList`1[T]</td></tr><tr><td>ReflectedType</td><td>Microsoft.FSharp.Collections.FSharpList`1[T]</td></tr><tr><td>MemberType</td><td>Method</td></tr><tr><td>MetadataToken</td><td>100663764</td></tr><tr><td>Module</td><td>FSharp.Core.dll</td></tr><tr><td>IsSecurityCritical</td><td>True</td></tr><tr><td>IsSecuritySafeCritical</td><td>False</td></tr><tr><td>IsSecurityTransparent</td><td>False</td></tr><tr><td>MethodHandle</td><td>System.RuntimeMethodHandle</td></tr><tr><td>Attributes</td><td>Public, HideBySig, SpecialName</td></tr><tr><td>CallingConvention</td><td>Standard, HasThis</td></tr><tr><td>ReturnType</td><td>T</td></tr><tr><td>ReturnTypeCustomAttributes</td><td>T</td></tr><tr><td>ReturnParameter</td><td>T</td></tr><tr><td>IsCollectible</td><td>False</td></tr><tr><td>IsGenericMethod</td><td>False</td></tr><tr><td>IsGenericMethodDefinition</td><td>False</td></tr><tr><td>ContainsGenericParameters</td><td>True</td></tr><tr><td>MethodImplementationFlags</td><td>IL</td></tr><tr><td>IsAbstract</td><td>False</td></tr><tr><td>IsConstructor</td><td>False</td></tr><tr><td>IsFinal</td><td>False</td></tr><tr><td>IsHideBySig</td><td>True</td></tr><tr><td>IsSpecialName</td><td>True</td></tr><tr><td>IsStatic</td><td>False</td></tr><tr><td>IsVirtual</td><td>False</td></tr><tr><td>IsAssembly</td><td>False</td></tr><tr><td>IsFamily</td><td>False</td></tr><tr><td>IsFamilyAndAssembly</td><td>False</td></tr><tr><td>IsFamilyOrAssembly</td><td>False</td></tr><tr><td>IsPrivate</td><td>False</td></tr><tr><td>IsPublic</td><td>True</td></tr><tr><td>IsConstructedGenericMethod</td><td>False</td></tr><tr><td>CustomAttributes</td><td>[  ]</td></tr></tbody></table></div></details></td></tr><tr><td>Message</td><td><div class=\"dni-plaintext\"><pre>The input list was empty.</pre></div></td></tr><tr><td>Data</td><td><i>(empty)</i></td></tr><tr><td>InnerException</td><td><div class=\"dni-plaintext\"><pre>&lt;null&gt;</pre></div></td></tr><tr><td>HelpLink</td><td><div class=\"dni-plaintext\"><pre>&lt;null&gt;</pre></div></td></tr><tr><td>Source</td><td><div class=\"dni-plaintext\"><pre>FSharp.Core</pre></div></td></tr><tr><td>HResult</td><td><div class=\"dni-plaintext\"><pre>-2146233079</pre></div></td></tr><tr><td>StackTrace</td><td><div class=\"dni-plaintext\"><pre>   at Microsoft.FSharp.Collections.FSharpList`1.get_Head() in D:\\a\\_work\\1\\s\\src\\FSharp.Core\\prim-types.fs:line 4141\r\n",
                            "   at lambda_method285(Closure, FSharpList`1)\r\n",
                            "   at Microsoft.DotNet.Interactive.Formatting.MemberAccessor`1.GetValueOrException(T instance) in D:\\a\\_work\\1\\s\\src\\Microsoft.DotNet.Interactive.Formatting\\MemberAccessor{T}.cs:line 58</pre></div></td></tr></tbody></table></div></details></td></tr><tr><td>Tail</td><td><details class=\"dni-treeview\"><summary><span class=\"dni-code-hint\"><code>System.InvalidOperationException: The input list was empty.\\r\\n   at Microsoft.FSharp.Collections.FSharpList`1.get_Tail() in D:\\a\\_work\\1\\s\\src\\FSharp.Core\\prim-types.fs:line 4146\\r\\n   at lambda_method286(Closure, FSharpList`1)\\r\\n   at Microsoft.DotNet.Interactive.Formatting.MemberAccessor`1.GetVa...</code></span></summary><div><table><thead><tr></tr></thead><tbody><tr><td>TargetSite</td><td><details class=\"dni-treeview\"><summary><span class=\"dni-code-hint\"><code>Microsoft.FSharp.Collections.FSharpList`1[T] get_Tail()</code></span></summary><div><table><thead><tr></tr></thead><tbody><tr><td>Name</td><td>get_Tail</td></tr><tr><td>DeclaringType</td><td>Microsoft.FSharp.Collections.FSharpList`1[T]</td></tr><tr><td>ReflectedType</td><td>Microsoft.FSharp.Collections.FSharpList`1[T]</td></tr><tr><td>MemberType</td><td>Method</td></tr><tr><td>MetadataToken</td><td>100663765</td></tr><tr><td>Module</td><td>FSharp.Core.dll</td></tr><tr><td>IsSecurityCritical</td><td>True</td></tr><tr><td>IsSecuritySafeCritical</td><td>False</td></tr><tr><td>IsSecurityTransparent</td><td>False</td></tr><tr><td>MethodHandle</td><td>System.RuntimeMethodHandle</td></tr><tr><td>Attributes</td><td>Public, HideBySig, SpecialName</td></tr><tr><td>CallingConvention</td><td>Standard, HasThis</td></tr><tr><td>ReturnType</td><td>Microsoft.FSharp.Collections.FSharpList`1[T]</td></tr><tr><td>ReturnTypeCustomAttributes</td><td>Microsoft.FSharp.Collections.FSharpList`1[T]</td></tr><tr><td>ReturnParameter</td><td>Microsoft.FSharp.Collections.FSharpList`1[T]</td></tr><tr><td>IsCollectible</td><td>False</td></tr><tr><td>IsGenericMethod</td><td>False</td></tr><tr><td>IsGenericMethodDefinition</td><td>False</td></tr><tr><td>ContainsGenericParameters</td><td>True</td></tr><tr><td>MethodImplementationFlags</td><td>IL</td></tr><tr><td>IsAbstract</td><td>False</td></tr><tr><td>IsConstructor</td><td>False</td></tr><tr><td>IsFinal</td><td>False</td></tr><tr><td>IsHideBySig</td><td>True</td></tr><tr><td>IsSpecialName</td><td>True</td></tr><tr><td>IsStatic</td><td>False</td></tr><tr><td>IsVirtual</td><td>False</td></tr><tr><td>IsAssembly</td><td>False</td></tr><tr><td>IsFamily</td><td>False</td></tr><tr><td>IsFamilyAndAssembly</td><td>False</td></tr><tr><td>IsFamilyOrAssembly</td><td>False</td></tr><tr><td>IsPrivate</td><td>False</td></tr><tr><td>IsPublic</td><td>True</td></tr><tr><td>IsConstructedGenericMethod</td><td>False</td></tr><tr><td>CustomAttributes</td><td>[  ]</td></tr></tbody></table></div></details></td></tr><tr><td>Message</td><td><div class=\"dni-plaintext\"><pre>The input list was empty.</pre></div></td></tr><tr><td>Data</td><td><i>(empty)</i></td></tr><tr><td>InnerException</td><td><div class=\"dni-plaintext\"><pre>&lt;null&gt;</pre></div></td></tr><tr><td>HelpLink</td><td><div class=\"dni-plaintext\"><pre>&lt;null&gt;</pre></div></td></tr><tr><td>Source</td><td><div class=\"dni-plaintext\"><pre>FSharp.Core</pre></div></td></tr><tr><td>HResult</td><td><div class=\"dni-plaintext\"><pre>-2146233079</pre></div></td></tr><tr><td>StackTrace</td><td><div class=\"dni-plaintext\"><pre>   at Microsoft.FSharp.Collections.FSharpList`1.get_Tail() in D:\\a\\_work\\1\\s\\src\\FSharp.Core\\prim-types.fs:line 4146\r\n",
                            "   at lambda_method286(Closure, FSharpList`1)\r\n",
                            "   at Microsoft.DotNet.Interactive.Formatting.MemberAccessor`1.GetValueOrException(T instance) in D:\\a\\_work\\1\\s\\src\\Microsoft.DotNet.Interactive.Formatting\\MemberAccessor{T}.cs:line 58</pre></div></td></tr></tbody></table></div></details></td></tr><tr><td><i>(values)</i></td><td><div class=\"dni-plaintext\"><pre>[  ]</pre></div></td></tr></tbody></table></div></details></td></tr><tr><td><i>(values)</i></td><td><div class=\"dni-plaintext\"><pre>[ &lt;13&gt; is not a valid email ]</pre></div></td></tr></tbody></table></div></details></td></tr></tbody></table></div></details></td></tr></tbody></table></div></details><style>\r\n",
                            ".dni-code-hint {\r\n",
                            "    font-style: italic;\r\n",
                            "    overflow: hidden;\r\n",
                            "    white-space: nowrap;\r\n",
                            "}\r\n",
                            ".dni-treeview {\r\n",
                            "    white-space: nowrap;\r\n",
                            "}\r\n",
                            ".dni-treeview td {\r\n",
                            "    vertical-align: top;\r\n",
                            "    text-align: start;\r\n",
                            "}\r\n",
                            "details.dni-treeview {\r\n",
                            "    padding-left: 1em;\r\n",
                            "}\r\n",
                            "table td {\r\n",
                            "    text-align: start;\r\n",
                            "}\r\n",
                            "table tr { \r\n",
                            "    vertical-align: top; \r\n",
                            "    margin: 0em 0px;\r\n",
                            "}\r\n",
                            "table tr td pre \r\n",
                            "{ \r\n",
                            "    vertical-align: top !important; \r\n",
                            "    margin: 0em 0px !important;\r\n",
                            "} \r\n",
                            "table th {\r\n",
                            "    text-align: start;\r\n",
                            "}\r\n",
                            "</style>"
                        ]
                    },
                    "metadata": {},
                    "output_type": "display_data"
                }
            ],
            "source": [
                "let parseAge (text: string) : Validation<Age> =\n",
                "    match System.Int32.TryParse text with\n",
                "    | false, _ -> Error [ sprintf \"<%s> is not a valid age\" text ]\n",
                "    | true, parsed -> Ok(Age parsed)\n",
                "\n",
                "let parseEmail (text: string) : Validation<Email> =\n",
                "    if text.Contains(\"@\") then\n",
                "        Ok(Email text)\n",
                "    else\n",
                "        Error [ sprintf \"<%s> is not a valid email\" text ]\n",
                "\n",
                "let okAge = parseAge \"12\"\n",
                "let nokAge = parseAge \"jo@gmail.com\"\n",
                "let okEmail = parseEmail \"jo@gmail.com\"\n",
                "let nokEmail = parseEmail \"13\"\n",
                "(okAge,nokAge,okEmail, nokEmail)"
            ]
        },
        {
            "cell_type": "markdown",
            "metadata": {},
            "source": [
                "Notice anything strange about these parsing functions? Why, they're not quite **normal** functions. Not are they **elevated** functions. Rather, they are **world-crossing** functions: they take a type from the **normal** world as input but their return type live in the **elevated** world. Once you know these **world-crossing** functions exist, you'll start to notice them everywhere! Let's not dive too much into detail right now, we'll revisit these **world-crossing** functions in the next chapter."
            ]
        },
        {
            "cell_type": "markdown",
            "metadata": {},
            "source": [
                "Okay, back to Applicative. What would it look like to use apply in this case?"
            ]
        },
        {
            "cell_type": "code",
            "execution_count": 24,
            "metadata": {
                "dotnet_interactive": {
                    "language": "fsharp"
                },
                "polyglot_notebook": {
                    "kernelName": "fsharp"
                },
                "vscode": {
                    "languageId": "polyglot-notebook"
                }
            },
            "outputs": [
                {
                    "data": {
                        "text/html": [
                            "<details open=\"open\" class=\"dni-treeview\"><summary><span class=\"dni-code-hint\"><code>Ok { Age = Age 13\\n     Email = Email &quot;jo@gmail.com&quot; }</code></span></summary><div><table><thead><tr></tr></thead><tbody><tr><td>Item</td><td><details class=\"dni-treeview\"><summary><span class=\"dni-code-hint\"><code>{ Age = Age 13\\n  Email = Email &quot;jo@gmail.com&quot; }</code></span></summary><div><table><thead><tr></tr></thead><tbody><tr><td>Age</td><td><details class=\"dni-treeview\"><summary><span class=\"dni-code-hint\"><code>Age 13</code></span></summary><div><table><thead><tr></tr></thead><tbody><tr><td>Item</td><td><div class=\"dni-plaintext\"><pre>13</pre></div></td></tr></tbody></table></div></details></td></tr><tr><td>Email</td><td><details class=\"dni-treeview\"><summary><span class=\"dni-code-hint\"><code>Email &quot;jo@gmail.com&quot;</code></span></summary><div><table><thead><tr></tr></thead><tbody><tr><td>Item</td><td><div class=\"dni-plaintext\"><pre>jo@gmail.com</pre></div></td></tr></tbody></table></div></details></td></tr></tbody></table></div></details></td></tr></tbody></table></div></details><style>\r\n",
                            ".dni-code-hint {\r\n",
                            "    font-style: italic;\r\n",
                            "    overflow: hidden;\r\n",
                            "    white-space: nowrap;\r\n",
                            "}\r\n",
                            ".dni-treeview {\r\n",
                            "    white-space: nowrap;\r\n",
                            "}\r\n",
                            ".dni-treeview td {\r\n",
                            "    vertical-align: top;\r\n",
                            "    text-align: start;\r\n",
                            "}\r\n",
                            "details.dni-treeview {\r\n",
                            "    padding-left: 1em;\r\n",
                            "}\r\n",
                            "table td {\r\n",
                            "    text-align: start;\r\n",
                            "}\r\n",
                            "table tr { \r\n",
                            "    vertical-align: top; \r\n",
                            "    margin: 0em 0px;\r\n",
                            "}\r\n",
                            "table tr td pre \r\n",
                            "{ \r\n",
                            "    vertical-align: top !important; \r\n",
                            "    margin: 0em 0px !important;\r\n",
                            "} \r\n",
                            "table th {\r\n",
                            "    text-align: start;\r\n",
                            "}\r\n",
                            "</style>"
                        ]
                    },
                    "metadata": {},
                    "output_type": "display_data"
                }
            ],
            "source": [
                "let f = Ok mkPerson\n",
                "let age = parseAge \"13\"\n",
                "let email = parseEmail \"jo@gmail.com\"\n",
                "apply (apply f age) email\n"
            ]
        },
        {
            "cell_type": "markdown",
            "metadata": {},
            "source": [
                "Hold on a minute, stuff just got confusing. We had to **elevate** mkPerson to a *Validation* by wrapping it in **Ok**, but stuff got even weirder! How can we feed the **mkPerson** function to our **apply**, as **mkPerson** expects 2 input arguments: age and email and our **map** type E(a->b) only talks about a function with one input type and one output?!\n",
                "\n",
                "That my dear friend, is another sidebar. We can do this thanks to the magic of \"Currying\" and \"partial function application\"."
            ]
        },
        {
            "cell_type": "markdown",
            "metadata": {},
            "source": [
                "### Sidebar: currying and partial function application"
            ]
        },
        {
            "cell_type": "code",
            "execution_count": 25,
            "metadata": {
                "dotnet_interactive": {
                    "language": "fsharp"
                },
                "polyglot_notebook": {
                    "kernelName": "fsharp"
                },
                "vscode": {
                    "languageId": "polyglot-notebook"
                }
            },
            "outputs": [
                {
                    "data": {
                        "text/html": [
                            "<div class=\"dni-plaintext\"><pre>5</pre></div><style>\r\n",
                            ".dni-code-hint {\r\n",
                            "    font-style: italic;\r\n",
                            "    overflow: hidden;\r\n",
                            "    white-space: nowrap;\r\n",
                            "}\r\n",
                            ".dni-treeview {\r\n",
                            "    white-space: nowrap;\r\n",
                            "}\r\n",
                            ".dni-treeview td {\r\n",
                            "    vertical-align: top;\r\n",
                            "    text-align: start;\r\n",
                            "}\r\n",
                            "details.dni-treeview {\r\n",
                            "    padding-left: 1em;\r\n",
                            "}\r\n",
                            "table td {\r\n",
                            "    text-align: start;\r\n",
                            "}\r\n",
                            "table tr { \r\n",
                            "    vertical-align: top; \r\n",
                            "    margin: 0em 0px;\r\n",
                            "}\r\n",
                            "table tr td pre \r\n",
                            "{ \r\n",
                            "    vertical-align: top !important; \r\n",
                            "    margin: 0em 0px !important;\r\n",
                            "} \r\n",
                            "table th {\r\n",
                            "    text-align: start;\r\n",
                            "}\r\n",
                            "</style>"
                        ]
                    },
                    "metadata": {},
                    "output_type": "display_data"
                }
            ],
            "source": [
                "//A function with 2 input arguments\n",
                "//add::int->int->int\n",
                "let add one other = one + other\n",
                "add 2 3"
            ]
        },
        {
            "cell_type": "markdown",
            "metadata": {},
            "source": [
                "You can transform any function that takes n arguments into a function that takes n - 1 arguments by \"prefilling\" one of the arguments:"
            ]
        },
        {
            "cell_type": "code",
            "execution_count": 26,
            "metadata": {
                "dotnet_interactive": {
                    "language": "fsharp"
                },
                "polyglot_notebook": {
                    "kernelName": "fsharp"
                },
                "vscode": {
                    "languageId": "polyglot-notebook"
                }
            },
            "outputs": [
                {
                    "data": {
                        "text/html": [
                            "<div class=\"dni-plaintext\"><pre>5</pre></div><style>\r\n",
                            ".dni-code-hint {\r\n",
                            "    font-style: italic;\r\n",
                            "    overflow: hidden;\r\n",
                            "    white-space: nowrap;\r\n",
                            "}\r\n",
                            ".dni-treeview {\r\n",
                            "    white-space: nowrap;\r\n",
                            "}\r\n",
                            ".dni-treeview td {\r\n",
                            "    vertical-align: top;\r\n",
                            "    text-align: start;\r\n",
                            "}\r\n",
                            "details.dni-treeview {\r\n",
                            "    padding-left: 1em;\r\n",
                            "}\r\n",
                            "table td {\r\n",
                            "    text-align: start;\r\n",
                            "}\r\n",
                            "table tr { \r\n",
                            "    vertical-align: top; \r\n",
                            "    margin: 0em 0px;\r\n",
                            "}\r\n",
                            "table tr td pre \r\n",
                            "{ \r\n",
                            "    vertical-align: top !important; \r\n",
                            "    margin: 0em 0px !important;\r\n",
                            "} \r\n",
                            "table th {\r\n",
                            "    text-align: start;\r\n",
                            "}\r\n",
                            "</style>"
                        ]
                    },
                    "metadata": {},
                    "output_type": "display_data"
                }
            ],
            "source": [
                "//addThree::int->int\n",
                "let addThree = add 3\n",
                "\n",
                "addThree 2"
            ]
        },
        {
            "cell_type": "markdown",
            "metadata": {},
            "source": [
                "Pretty neat huh? Thanks to this black magic, we can feed our two-argument **mkPerson** function to our **apply** and everything works out nicely."
            ]
        },
        {
            "cell_type": "markdown",
            "metadata": {},
            "source": [
                "## Back to Applicative\n",
                "\n",
                "But what is the practical use of all this **apply** wizardry? Let's define some infix operators for a nicer syntax."
            ]
        },
        {
            "cell_type": "code",
            "execution_count": 27,
            "metadata": {
                "dotnet_interactive": {
                    "language": "fsharp"
                },
                "polyglot_notebook": {
                    "kernelName": "fsharp"
                },
                "vscode": {
                    "languageId": "polyglot-notebook"
                }
            },
            "outputs": [
                {
                    "data": {
                        "text/html": [
                            "<details open=\"open\" class=\"dni-treeview\"><summary><span class=\"dni-code-hint\"><code>Ok { Age = Age 13\\n     Email = Email &quot;jo@gmail.com&quot; }</code></span></summary><div><table><thead><tr></tr></thead><tbody><tr><td>Item</td><td><details class=\"dni-treeview\"><summary><span class=\"dni-code-hint\"><code>{ Age = Age 13\\n  Email = Email &quot;jo@gmail.com&quot; }</code></span></summary><div><table><thead><tr></tr></thead><tbody><tr><td>Age</td><td><details class=\"dni-treeview\"><summary><span class=\"dni-code-hint\"><code>Age 13</code></span></summary><div><table><thead><tr></tr></thead><tbody><tr><td>Item</td><td><div class=\"dni-plaintext\"><pre>13</pre></div></td></tr></tbody></table></div></details></td></tr><tr><td>Email</td><td><details class=\"dni-treeview\"><summary><span class=\"dni-code-hint\"><code>Email &quot;jo@gmail.com&quot;</code></span></summary><div><table><thead><tr></tr></thead><tbody><tr><td>Item</td><td><div class=\"dni-plaintext\"><pre>jo@gmail.com</pre></div></td></tr></tbody></table></div></details></td></tr></tbody></table></div></details></td></tr></tbody></table></div></details><style>\r\n",
                            ".dni-code-hint {\r\n",
                            "    font-style: italic;\r\n",
                            "    overflow: hidden;\r\n",
                            "    white-space: nowrap;\r\n",
                            "}\r\n",
                            ".dni-treeview {\r\n",
                            "    white-space: nowrap;\r\n",
                            "}\r\n",
                            ".dni-treeview td {\r\n",
                            "    vertical-align: top;\r\n",
                            "    text-align: start;\r\n",
                            "}\r\n",
                            "details.dni-treeview {\r\n",
                            "    padding-left: 1em;\r\n",
                            "}\r\n",
                            "table td {\r\n",
                            "    text-align: start;\r\n",
                            "}\r\n",
                            "table tr { \r\n",
                            "    vertical-align: top; \r\n",
                            "    margin: 0em 0px;\r\n",
                            "}\r\n",
                            "table tr td pre \r\n",
                            "{ \r\n",
                            "    vertical-align: top !important; \r\n",
                            "    margin: 0em 0px !important;\r\n",
                            "} \r\n",
                            "table th {\r\n",
                            "    text-align: start;\r\n",
                            "}\r\n",
                            "</style>"
                        ]
                    },
                    "metadata": {},
                    "output_type": "display_data"
                }
            ],
            "source": [
                "let (<*>) = apply\n",
                "\n",
                "(Ok mkPerson) <*> (parseAge \"13\") <*> (parseEmail \"jo@gmail.com\")\n"
            ]
        },
        {
            "cell_type": "markdown",
            "metadata": {},
            "source": [
                "What happens when some of those parse results return an **Error** instead of an **Ok**? Aha! Now this is where things get interesting:"
            ]
        },
        {
            "cell_type": "code",
            "execution_count": 28,
            "metadata": {
                "dotnet_interactive": {
                    "language": "fsharp"
                },
                "polyglot_notebook": {
                    "kernelName": "fsharp"
                },
                "vscode": {
                    "languageId": "polyglot-notebook"
                }
            },
            "outputs": [
                {
                    "data": {
                        "text/html": [
                            "<details open=\"open\" class=\"dni-treeview\"><summary><span class=\"dni-code-hint\"><code>Error\\n  [&quot;&lt;invalid age&gt; is not a valid age&quot;; &quot;&lt;invalid email&gt; is not a valid email&quot;]</code></span></summary><div><table><thead><tr></tr></thead><tbody><tr><td>Item</td><td><details class=\"dni-treeview\"><summary><span class=\"dni-code-hint\"><code>[ &lt;invalid age&gt; is not a valid age, &lt;invalid email&gt; is not a valid email ]</code></span></summary><div><table><thead><tr></tr></thead><tbody><tr><td>HeadOrDefault</td><td><div class=\"dni-plaintext\"><pre>&lt;invalid age&gt; is not a valid age</pre></div></td></tr><tr><td>TailOrNull</td><td><details class=\"dni-treeview\"><summary><span class=\"dni-code-hint\"><code>[ &lt;invalid email&gt; is not a valid email ]</code></span></summary><div><table><thead><tr></tr></thead><tbody><tr><td>HeadOrDefault</td><td><div class=\"dni-plaintext\"><pre>&lt;invalid email&gt; is not a valid email</pre></div></td></tr><tr><td>TailOrNull</td><td><details class=\"dni-treeview\"><summary><span class=\"dni-code-hint\"><code>[  ]</code></span></summary><div><table><thead><tr></tr></thead><tbody><tr><td>HeadOrDefault</td><td><div class=\"dni-plaintext\"><pre>&lt;null&gt;</pre></div></td></tr><tr><td>TailOrNull</td><td><div class=\"dni-plaintext\"><pre>&lt;null&gt;</pre></div></td></tr><tr><td>Head</td><td><details class=\"dni-treeview\"><summary><span class=\"dni-code-hint\"><code>System.InvalidOperationException: The input list was empty.\\r\\n   at Microsoft.FSharp.Collections.FSharpList`1.get_Head() in D:\\a\\_work\\1\\s\\src\\FSharp.Core\\prim-types.fs:line 4141\\r\\n   at lambda_method285(Closure, FSharpList`1)\\r\\n   at Microsoft.DotNet.Interactive.Formatting.MemberAccessor`1.GetVa...</code></span></summary><div><table><thead><tr></tr></thead><tbody><tr><td>TargetSite</td><td><details class=\"dni-treeview\"><summary><span class=\"dni-code-hint\"><code>T get_Head()</code></span></summary><div><table><thead><tr></tr></thead><tbody><tr><td>Name</td><td>get_Head</td></tr><tr><td>DeclaringType</td><td>Microsoft.FSharp.Collections.FSharpList`1[T]</td></tr><tr><td>ReflectedType</td><td>Microsoft.FSharp.Collections.FSharpList`1[T]</td></tr><tr><td>MemberType</td><td>Method</td></tr><tr><td>MetadataToken</td><td>100663764</td></tr><tr><td>Module</td><td>FSharp.Core.dll</td></tr><tr><td>IsSecurityCritical</td><td>True</td></tr><tr><td>IsSecuritySafeCritical</td><td>False</td></tr><tr><td>IsSecurityTransparent</td><td>False</td></tr><tr><td>MethodHandle</td><td>System.RuntimeMethodHandle</td></tr><tr><td>Attributes</td><td>Public, HideBySig, SpecialName</td></tr><tr><td>CallingConvention</td><td>Standard, HasThis</td></tr><tr><td>ReturnType</td><td>T</td></tr><tr><td>ReturnTypeCustomAttributes</td><td>T</td></tr><tr><td>ReturnParameter</td><td>T</td></tr><tr><td>IsCollectible</td><td>False</td></tr><tr><td>IsGenericMethod</td><td>False</td></tr><tr><td>IsGenericMethodDefinition</td><td>False</td></tr><tr><td>ContainsGenericParameters</td><td>True</td></tr><tr><td>MethodImplementationFlags</td><td>IL</td></tr><tr><td>IsAbstract</td><td>False</td></tr><tr><td>IsConstructor</td><td>False</td></tr><tr><td>IsFinal</td><td>False</td></tr><tr><td>IsHideBySig</td><td>True</td></tr><tr><td>IsSpecialName</td><td>True</td></tr><tr><td>IsStatic</td><td>False</td></tr><tr><td>IsVirtual</td><td>False</td></tr><tr><td>IsAssembly</td><td>False</td></tr><tr><td>IsFamily</td><td>False</td></tr><tr><td>IsFamilyAndAssembly</td><td>False</td></tr><tr><td>IsFamilyOrAssembly</td><td>False</td></tr><tr><td>IsPrivate</td><td>False</td></tr><tr><td>IsPublic</td><td>True</td></tr><tr><td>IsConstructedGenericMethod</td><td>False</td></tr><tr><td>CustomAttributes</td><td>[  ]</td></tr></tbody></table></div></details></td></tr><tr><td>Message</td><td><div class=\"dni-plaintext\"><pre>The input list was empty.</pre></div></td></tr><tr><td>Data</td><td><i>(empty)</i></td></tr><tr><td>InnerException</td><td><div class=\"dni-plaintext\"><pre>&lt;null&gt;</pre></div></td></tr><tr><td>HelpLink</td><td><div class=\"dni-plaintext\"><pre>&lt;null&gt;</pre></div></td></tr><tr><td>Source</td><td><div class=\"dni-plaintext\"><pre>FSharp.Core</pre></div></td></tr><tr><td>HResult</td><td><div class=\"dni-plaintext\"><pre>-2146233079</pre></div></td></tr><tr><td>StackTrace</td><td><div class=\"dni-plaintext\"><pre>   at Microsoft.FSharp.Collections.FSharpList`1.get_Head() in D:\\a\\_work\\1\\s\\src\\FSharp.Core\\prim-types.fs:line 4141\r\n",
                            "   at lambda_method285(Closure, FSharpList`1)\r\n",
                            "   at Microsoft.DotNet.Interactive.Formatting.MemberAccessor`1.GetValueOrException(T instance) in D:\\a\\_work\\1\\s\\src\\Microsoft.DotNet.Interactive.Formatting\\MemberAccessor{T}.cs:line 58</pre></div></td></tr></tbody></table></div></details></td></tr><tr><td>Tail</td><td><details class=\"dni-treeview\"><summary><span class=\"dni-code-hint\"><code>System.InvalidOperationException: The input list was empty.\\r\\n   at Microsoft.FSharp.Collections.FSharpList`1.get_Tail() in D:\\a\\_work\\1\\s\\src\\FSharp.Core\\prim-types.fs:line 4146\\r\\n   at lambda_method286(Closure, FSharpList`1)\\r\\n   at Microsoft.DotNet.Interactive.Formatting.MemberAccessor`1.GetVa...</code></span></summary><div><table><thead><tr></tr></thead><tbody><tr><td>TargetSite</td><td><details class=\"dni-treeview\"><summary><span class=\"dni-code-hint\"><code>Microsoft.FSharp.Collections.FSharpList`1[T] get_Tail()</code></span></summary><div><table><thead><tr></tr></thead><tbody><tr><td>Name</td><td>get_Tail</td></tr><tr><td>DeclaringType</td><td>Microsoft.FSharp.Collections.FSharpList`1[T]</td></tr><tr><td>ReflectedType</td><td>Microsoft.FSharp.Collections.FSharpList`1[T]</td></tr><tr><td>MemberType</td><td>Method</td></tr><tr><td>MetadataToken</td><td>100663765</td></tr><tr><td>Module</td><td>FSharp.Core.dll</td></tr><tr><td>IsSecurityCritical</td><td>True</td></tr><tr><td>IsSecuritySafeCritical</td><td>False</td></tr><tr><td>IsSecurityTransparent</td><td>False</td></tr><tr><td>MethodHandle</td><td>System.RuntimeMethodHandle</td></tr><tr><td>Attributes</td><td>Public, HideBySig, SpecialName</td></tr><tr><td>CallingConvention</td><td>Standard, HasThis</td></tr><tr><td>ReturnType</td><td>Microsoft.FSharp.Collections.FSharpList`1[T]</td></tr><tr><td>ReturnTypeCustomAttributes</td><td>Microsoft.FSharp.Collections.FSharpList`1[T]</td></tr><tr><td>ReturnParameter</td><td>Microsoft.FSharp.Collections.FSharpList`1[T]</td></tr><tr><td>IsCollectible</td><td>False</td></tr><tr><td>IsGenericMethod</td><td>False</td></tr><tr><td>IsGenericMethodDefinition</td><td>False</td></tr><tr><td>ContainsGenericParameters</td><td>True</td></tr><tr><td>MethodImplementationFlags</td><td>IL</td></tr><tr><td>IsAbstract</td><td>False</td></tr><tr><td>IsConstructor</td><td>False</td></tr><tr><td>IsFinal</td><td>False</td></tr><tr><td>IsHideBySig</td><td>True</td></tr><tr><td>IsSpecialName</td><td>True</td></tr><tr><td>IsStatic</td><td>False</td></tr><tr><td>IsVirtual</td><td>False</td></tr><tr><td>IsAssembly</td><td>False</td></tr><tr><td>IsFamily</td><td>False</td></tr><tr><td>IsFamilyAndAssembly</td><td>False</td></tr><tr><td>IsFamilyOrAssembly</td><td>False</td></tr><tr><td>IsPrivate</td><td>False</td></tr><tr><td>IsPublic</td><td>True</td></tr><tr><td>IsConstructedGenericMethod</td><td>False</td></tr><tr><td>CustomAttributes</td><td>[  ]</td></tr></tbody></table></div></details></td></tr><tr><td>Message</td><td><div class=\"dni-plaintext\"><pre>The input list was empty.</pre></div></td></tr><tr><td>Data</td><td><i>(empty)</i></td></tr><tr><td>InnerException</td><td><div class=\"dni-plaintext\"><pre>&lt;null&gt;</pre></div></td></tr><tr><td>HelpLink</td><td><div class=\"dni-plaintext\"><pre>&lt;null&gt;</pre></div></td></tr><tr><td>Source</td><td><div class=\"dni-plaintext\"><pre>FSharp.Core</pre></div></td></tr><tr><td>HResult</td><td><div class=\"dni-plaintext\"><pre>-2146233079</pre></div></td></tr><tr><td>StackTrace</td><td><div class=\"dni-plaintext\"><pre>   at Microsoft.FSharp.Collections.FSharpList`1.get_Tail() in D:\\a\\_work\\1\\s\\src\\FSharp.Core\\prim-types.fs:line 4146\r\n",
                            "   at lambda_method286(Closure, FSharpList`1)\r\n",
                            "   at Microsoft.DotNet.Interactive.Formatting.MemberAccessor`1.GetValueOrException(T instance) in D:\\a\\_work\\1\\s\\src\\Microsoft.DotNet.Interactive.Formatting\\MemberAccessor{T}.cs:line 58</pre></div></td></tr></tbody></table></div></details></td></tr><tr><td><i>(values)</i></td><td><div class=\"dni-plaintext\"><pre>[  ]</pre></div></td></tr></tbody></table></div></details></td></tr><tr><td>Head</td><td><div class=\"dni-plaintext\"><pre>&lt;invalid email&gt; is not a valid email</pre></div></td></tr><tr><td>Tail</td><td><details class=\"dni-treeview\"><summary><span class=\"dni-code-hint\"><code>[  ]</code></span></summary><div><table><thead><tr></tr></thead><tbody><tr><td>HeadOrDefault</td><td><div class=\"dni-plaintext\"><pre>&lt;null&gt;</pre></div></td></tr><tr><td>TailOrNull</td><td><div class=\"dni-plaintext\"><pre>&lt;null&gt;</pre></div></td></tr><tr><td>Head</td><td><details class=\"dni-treeview\"><summary><span class=\"dni-code-hint\"><code>System.InvalidOperationException: The input list was empty.\\r\\n   at Microsoft.FSharp.Collections.FSharpList`1.get_Head() in D:\\a\\_work\\1\\s\\src\\FSharp.Core\\prim-types.fs:line 4141\\r\\n   at lambda_method285(Closure, FSharpList`1)\\r\\n   at Microsoft.DotNet.Interactive.Formatting.MemberAccessor`1.GetVa...</code></span></summary><div><table><thead><tr></tr></thead><tbody><tr><td>TargetSite</td><td><details class=\"dni-treeview\"><summary><span class=\"dni-code-hint\"><code>T get_Head()</code></span></summary><div><table><thead><tr></tr></thead><tbody><tr><td>Name</td><td>get_Head</td></tr><tr><td>DeclaringType</td><td>Microsoft.FSharp.Collections.FSharpList`1[T]</td></tr><tr><td>ReflectedType</td><td>Microsoft.FSharp.Collections.FSharpList`1[T]</td></tr><tr><td>MemberType</td><td>Method</td></tr><tr><td>MetadataToken</td><td>100663764</td></tr><tr><td>Module</td><td>FSharp.Core.dll</td></tr><tr><td>IsSecurityCritical</td><td>True</td></tr><tr><td>IsSecuritySafeCritical</td><td>False</td></tr><tr><td>IsSecurityTransparent</td><td>False</td></tr><tr><td>MethodHandle</td><td>System.RuntimeMethodHandle</td></tr><tr><td>Attributes</td><td>Public, HideBySig, SpecialName</td></tr><tr><td>CallingConvention</td><td>Standard, HasThis</td></tr><tr><td>ReturnType</td><td>T</td></tr><tr><td>ReturnTypeCustomAttributes</td><td>T</td></tr><tr><td>ReturnParameter</td><td>T</td></tr><tr><td>IsCollectible</td><td>False</td></tr><tr><td>IsGenericMethod</td><td>False</td></tr><tr><td>IsGenericMethodDefinition</td><td>False</td></tr><tr><td>ContainsGenericParameters</td><td>True</td></tr><tr><td>MethodImplementationFlags</td><td>IL</td></tr><tr><td>IsAbstract</td><td>False</td></tr><tr><td>IsConstructor</td><td>False</td></tr><tr><td>IsFinal</td><td>False</td></tr><tr><td>IsHideBySig</td><td>True</td></tr><tr><td>IsSpecialName</td><td>True</td></tr><tr><td>IsStatic</td><td>False</td></tr><tr><td>IsVirtual</td><td>False</td></tr><tr><td>IsAssembly</td><td>False</td></tr><tr><td>IsFamily</td><td>False</td></tr><tr><td>IsFamilyAndAssembly</td><td>False</td></tr><tr><td>IsFamilyOrAssembly</td><td>False</td></tr><tr><td>IsPrivate</td><td>False</td></tr><tr><td>IsPublic</td><td>True</td></tr><tr><td>IsConstructedGenericMethod</td><td>False</td></tr><tr><td>CustomAttributes</td><td>[  ]</td></tr></tbody></table></div></details></td></tr><tr><td>Message</td><td><div class=\"dni-plaintext\"><pre>The input list was empty.</pre></div></td></tr><tr><td>Data</td><td><i>(empty)</i></td></tr><tr><td>InnerException</td><td><div class=\"dni-plaintext\"><pre>&lt;null&gt;</pre></div></td></tr><tr><td>HelpLink</td><td><div class=\"dni-plaintext\"><pre>&lt;null&gt;</pre></div></td></tr><tr><td>Source</td><td><div class=\"dni-plaintext\"><pre>FSharp.Core</pre></div></td></tr><tr><td>HResult</td><td><div class=\"dni-plaintext\"><pre>-2146233079</pre></div></td></tr><tr><td>StackTrace</td><td><div class=\"dni-plaintext\"><pre>   at Microsoft.FSharp.Collections.FSharpList`1.get_Head() in D:\\a\\_work\\1\\s\\src\\FSharp.Core\\prim-types.fs:line 4141\r\n",
                            "   at lambda_method285(Closure, FSharpList`1)\r\n",
                            "   at Microsoft.DotNet.Interactive.Formatting.MemberAccessor`1.GetValueOrException(T instance) in D:\\a\\_work\\1\\s\\src\\Microsoft.DotNet.Interactive.Formatting\\MemberAccessor{T}.cs:line 58</pre></div></td></tr></tbody></table></div></details></td></tr><tr><td>Tail</td><td><details class=\"dni-treeview\"><summary><span class=\"dni-code-hint\"><code>System.InvalidOperationException: The input list was empty.\\r\\n   at Microsoft.FSharp.Collections.FSharpList`1.get_Tail() in D:\\a\\_work\\1\\s\\src\\FSharp.Core\\prim-types.fs:line 4146\\r\\n   at lambda_method286(Closure, FSharpList`1)\\r\\n   at Microsoft.DotNet.Interactive.Formatting.MemberAccessor`1.GetVa...</code></span></summary><div><table><thead><tr></tr></thead><tbody><tr><td>TargetSite</td><td><details class=\"dni-treeview\"><summary><span class=\"dni-code-hint\"><code>Microsoft.FSharp.Collections.FSharpList`1[T] get_Tail()</code></span></summary><div><table><thead><tr></tr></thead><tbody><tr><td>Name</td><td>get_Tail</td></tr><tr><td>DeclaringType</td><td>Microsoft.FSharp.Collections.FSharpList`1[T]</td></tr><tr><td>ReflectedType</td><td>Microsoft.FSharp.Collections.FSharpList`1[T]</td></tr><tr><td>MemberType</td><td>Method</td></tr><tr><td>MetadataToken</td><td>100663765</td></tr><tr><td>Module</td><td>FSharp.Core.dll</td></tr><tr><td>IsSecurityCritical</td><td>True</td></tr><tr><td>IsSecuritySafeCritical</td><td>False</td></tr><tr><td>IsSecurityTransparent</td><td>False</td></tr><tr><td>MethodHandle</td><td>System.RuntimeMethodHandle</td></tr><tr><td>Attributes</td><td>Public, HideBySig, SpecialName</td></tr><tr><td>CallingConvention</td><td>Standard, HasThis</td></tr><tr><td>ReturnType</td><td>Microsoft.FSharp.Collections.FSharpList`1[T]</td></tr><tr><td>ReturnTypeCustomAttributes</td><td>Microsoft.FSharp.Collections.FSharpList`1[T]</td></tr><tr><td>ReturnParameter</td><td>Microsoft.FSharp.Collections.FSharpList`1[T]</td></tr><tr><td>IsCollectible</td><td>False</td></tr><tr><td>IsGenericMethod</td><td>False</td></tr><tr><td>IsGenericMethodDefinition</td><td>False</td></tr><tr><td>ContainsGenericParameters</td><td>True</td></tr><tr><td>MethodImplementationFlags</td><td>IL</td></tr><tr><td>IsAbstract</td><td>False</td></tr><tr><td>IsConstructor</td><td>False</td></tr><tr><td>IsFinal</td><td>False</td></tr><tr><td>IsHideBySig</td><td>True</td></tr><tr><td>IsSpecialName</td><td>True</td></tr><tr><td>IsStatic</td><td>False</td></tr><tr><td>IsVirtual</td><td>False</td></tr><tr><td>IsAssembly</td><td>False</td></tr><tr><td>IsFamily</td><td>False</td></tr><tr><td>IsFamilyAndAssembly</td><td>False</td></tr><tr><td>IsFamilyOrAssembly</td><td>False</td></tr><tr><td>IsPrivate</td><td>False</td></tr><tr><td>IsPublic</td><td>True</td></tr><tr><td>IsConstructedGenericMethod</td><td>False</td></tr><tr><td>CustomAttributes</td><td>[  ]</td></tr></tbody></table></div></details></td></tr><tr><td>Message</td><td><div class=\"dni-plaintext\"><pre>The input list was empty.</pre></div></td></tr><tr><td>Data</td><td><i>(empty)</i></td></tr><tr><td>InnerException</td><td><div class=\"dni-plaintext\"><pre>&lt;null&gt;</pre></div></td></tr><tr><td>HelpLink</td><td><div class=\"dni-plaintext\"><pre>&lt;null&gt;</pre></div></td></tr><tr><td>Source</td><td><div class=\"dni-plaintext\"><pre>FSharp.Core</pre></div></td></tr><tr><td>HResult</td><td><div class=\"dni-plaintext\"><pre>-2146233079</pre></div></td></tr><tr><td>StackTrace</td><td><div class=\"dni-plaintext\"><pre>   at Microsoft.FSharp.Collections.FSharpList`1.get_Tail() in D:\\a\\_work\\1\\s\\src\\FSharp.Core\\prim-types.fs:line 4146\r\n",
                            "   at lambda_method286(Closure, FSharpList`1)\r\n",
                            "   at Microsoft.DotNet.Interactive.Formatting.MemberAccessor`1.GetValueOrException(T instance) in D:\\a\\_work\\1\\s\\src\\Microsoft.DotNet.Interactive.Formatting\\MemberAccessor{T}.cs:line 58</pre></div></td></tr></tbody></table></div></details></td></tr><tr><td><i>(values)</i></td><td><div class=\"dni-plaintext\"><pre>[  ]</pre></div></td></tr></tbody></table></div></details></td></tr><tr><td><i>(values)</i></td><td><div class=\"dni-plaintext\"><pre>[ &lt;invalid email&gt; is not a valid email ]</pre></div></td></tr></tbody></table></div></details></td></tr><tr><td>Head</td><td><div class=\"dni-plaintext\"><pre>&lt;invalid age&gt; is not a valid age</pre></div></td></tr><tr><td>Tail</td><td><details class=\"dni-treeview\"><summary><span class=\"dni-code-hint\"><code>[ &lt;invalid email&gt; is not a valid email ]</code></span></summary><div><table><thead><tr></tr></thead><tbody><tr><td>HeadOrDefault</td><td><div class=\"dni-plaintext\"><pre>&lt;invalid email&gt; is not a valid email</pre></div></td></tr><tr><td>TailOrNull</td><td><details class=\"dni-treeview\"><summary><span class=\"dni-code-hint\"><code>[  ]</code></span></summary><div><table><thead><tr></tr></thead><tbody><tr><td>HeadOrDefault</td><td><div class=\"dni-plaintext\"><pre>&lt;null&gt;</pre></div></td></tr><tr><td>TailOrNull</td><td><div class=\"dni-plaintext\"><pre>&lt;null&gt;</pre></div></td></tr><tr><td>Head</td><td><details class=\"dni-treeview\"><summary><span class=\"dni-code-hint\"><code>System.InvalidOperationException: The input list was empty.\\r\\n   at Microsoft.FSharp.Collections.FSharpList`1.get_Head() in D:\\a\\_work\\1\\s\\src\\FSharp.Core\\prim-types.fs:line 4141\\r\\n   at lambda_method285(Closure, FSharpList`1)\\r\\n   at Microsoft.DotNet.Interactive.Formatting.MemberAccessor`1.GetVa...</code></span></summary><div><table><thead><tr></tr></thead><tbody><tr><td>TargetSite</td><td><details class=\"dni-treeview\"><summary><span class=\"dni-code-hint\"><code>T get_Head()</code></span></summary><div><table><thead><tr></tr></thead><tbody><tr><td>Name</td><td>get_Head</td></tr><tr><td>DeclaringType</td><td>Microsoft.FSharp.Collections.FSharpList`1[T]</td></tr><tr><td>ReflectedType</td><td>Microsoft.FSharp.Collections.FSharpList`1[T]</td></tr><tr><td>MemberType</td><td>Method</td></tr><tr><td>MetadataToken</td><td>100663764</td></tr><tr><td>Module</td><td>FSharp.Core.dll</td></tr><tr><td>IsSecurityCritical</td><td>True</td></tr><tr><td>IsSecuritySafeCritical</td><td>False</td></tr><tr><td>IsSecurityTransparent</td><td>False</td></tr><tr><td>MethodHandle</td><td>System.RuntimeMethodHandle</td></tr><tr><td>Attributes</td><td>Public, HideBySig, SpecialName</td></tr><tr><td>CallingConvention</td><td>Standard, HasThis</td></tr><tr><td>ReturnType</td><td>T</td></tr><tr><td>ReturnTypeCustomAttributes</td><td>T</td></tr><tr><td>ReturnParameter</td><td>T</td></tr><tr><td>IsCollectible</td><td>False</td></tr><tr><td>IsGenericMethod</td><td>False</td></tr><tr><td>IsGenericMethodDefinition</td><td>False</td></tr><tr><td>ContainsGenericParameters</td><td>True</td></tr><tr><td>MethodImplementationFlags</td><td>IL</td></tr><tr><td>IsAbstract</td><td>False</td></tr><tr><td>IsConstructor</td><td>False</td></tr><tr><td>IsFinal</td><td>False</td></tr><tr><td>IsHideBySig</td><td>True</td></tr><tr><td>IsSpecialName</td><td>True</td></tr><tr><td>IsStatic</td><td>False</td></tr><tr><td>IsVirtual</td><td>False</td></tr><tr><td>IsAssembly</td><td>False</td></tr><tr><td>IsFamily</td><td>False</td></tr><tr><td>IsFamilyAndAssembly</td><td>False</td></tr><tr><td>IsFamilyOrAssembly</td><td>False</td></tr><tr><td>IsPrivate</td><td>False</td></tr><tr><td>IsPublic</td><td>True</td></tr><tr><td>IsConstructedGenericMethod</td><td>False</td></tr><tr><td>CustomAttributes</td><td>[  ]</td></tr></tbody></table></div></details></td></tr><tr><td>Message</td><td><div class=\"dni-plaintext\"><pre>The input list was empty.</pre></div></td></tr><tr><td>Data</td><td><i>(empty)</i></td></tr><tr><td>InnerException</td><td><div class=\"dni-plaintext\"><pre>&lt;null&gt;</pre></div></td></tr><tr><td>HelpLink</td><td><div class=\"dni-plaintext\"><pre>&lt;null&gt;</pre></div></td></tr><tr><td>Source</td><td><div class=\"dni-plaintext\"><pre>FSharp.Core</pre></div></td></tr><tr><td>HResult</td><td><div class=\"dni-plaintext\"><pre>-2146233079</pre></div></td></tr><tr><td>StackTrace</td><td><div class=\"dni-plaintext\"><pre>   at Microsoft.FSharp.Collections.FSharpList`1.get_Head() in D:\\a\\_work\\1\\s\\src\\FSharp.Core\\prim-types.fs:line 4141\r\n",
                            "   at lambda_method285(Closure, FSharpList`1)\r\n",
                            "   at Microsoft.DotNet.Interactive.Formatting.MemberAccessor`1.GetValueOrException(T instance) in D:\\a\\_work\\1\\s\\src\\Microsoft.DotNet.Interactive.Formatting\\MemberAccessor{T}.cs:line 58</pre></div></td></tr></tbody></table></div></details></td></tr><tr><td>Tail</td><td><details class=\"dni-treeview\"><summary><span class=\"dni-code-hint\"><code>System.InvalidOperationException: The input list was empty.\\r\\n   at Microsoft.FSharp.Collections.FSharpList`1.get_Tail() in D:\\a\\_work\\1\\s\\src\\FSharp.Core\\prim-types.fs:line 4146\\r\\n   at lambda_method286(Closure, FSharpList`1)\\r\\n   at Microsoft.DotNet.Interactive.Formatting.MemberAccessor`1.GetVa...</code></span></summary><div><table><thead><tr></tr></thead><tbody><tr><td>TargetSite</td><td><details class=\"dni-treeview\"><summary><span class=\"dni-code-hint\"><code>Microsoft.FSharp.Collections.FSharpList`1[T] get_Tail()</code></span></summary><div><table><thead><tr></tr></thead><tbody><tr><td>Name</td><td>get_Tail</td></tr><tr><td>DeclaringType</td><td>Microsoft.FSharp.Collections.FSharpList`1[T]</td></tr><tr><td>ReflectedType</td><td>Microsoft.FSharp.Collections.FSharpList`1[T]</td></tr><tr><td>MemberType</td><td>Method</td></tr><tr><td>MetadataToken</td><td>100663765</td></tr><tr><td>Module</td><td>FSharp.Core.dll</td></tr><tr><td>IsSecurityCritical</td><td>True</td></tr><tr><td>IsSecuritySafeCritical</td><td>False</td></tr><tr><td>IsSecurityTransparent</td><td>False</td></tr><tr><td>MethodHandle</td><td>System.RuntimeMethodHandle</td></tr><tr><td>Attributes</td><td>Public, HideBySig, SpecialName</td></tr><tr><td>CallingConvention</td><td>Standard, HasThis</td></tr><tr><td>ReturnType</td><td>Microsoft.FSharp.Collections.FSharpList`1[T]</td></tr><tr><td>ReturnTypeCustomAttributes</td><td>Microsoft.FSharp.Collections.FSharpList`1[T]</td></tr><tr><td>ReturnParameter</td><td>Microsoft.FSharp.Collections.FSharpList`1[T]</td></tr><tr><td>IsCollectible</td><td>False</td></tr><tr><td>IsGenericMethod</td><td>False</td></tr><tr><td>IsGenericMethodDefinition</td><td>False</td></tr><tr><td>ContainsGenericParameters</td><td>True</td></tr><tr><td>MethodImplementationFlags</td><td>IL</td></tr><tr><td>IsAbstract</td><td>False</td></tr><tr><td>IsConstructor</td><td>False</td></tr><tr><td>IsFinal</td><td>False</td></tr><tr><td>IsHideBySig</td><td>True</td></tr><tr><td>IsSpecialName</td><td>True</td></tr><tr><td>IsStatic</td><td>False</td></tr><tr><td>IsVirtual</td><td>False</td></tr><tr><td>IsAssembly</td><td>False</td></tr><tr><td>IsFamily</td><td>False</td></tr><tr><td>IsFamilyAndAssembly</td><td>False</td></tr><tr><td>IsFamilyOrAssembly</td><td>False</td></tr><tr><td>IsPrivate</td><td>False</td></tr><tr><td>IsPublic</td><td>True</td></tr><tr><td>IsConstructedGenericMethod</td><td>False</td></tr><tr><td>CustomAttributes</td><td>[  ]</td></tr></tbody></table></div></details></td></tr><tr><td>Message</td><td><div class=\"dni-plaintext\"><pre>The input list was empty.</pre></div></td></tr><tr><td>Data</td><td><i>(empty)</i></td></tr><tr><td>InnerException</td><td><div class=\"dni-plaintext\"><pre>&lt;null&gt;</pre></div></td></tr><tr><td>HelpLink</td><td><div class=\"dni-plaintext\"><pre>&lt;null&gt;</pre></div></td></tr><tr><td>Source</td><td><div class=\"dni-plaintext\"><pre>FSharp.Core</pre></div></td></tr><tr><td>HResult</td><td><div class=\"dni-plaintext\"><pre>-2146233079</pre></div></td></tr><tr><td>StackTrace</td><td><div class=\"dni-plaintext\"><pre>   at Microsoft.FSharp.Collections.FSharpList`1.get_Tail() in D:\\a\\_work\\1\\s\\src\\FSharp.Core\\prim-types.fs:line 4146\r\n",
                            "   at lambda_method286(Closure, FSharpList`1)\r\n",
                            "   at Microsoft.DotNet.Interactive.Formatting.MemberAccessor`1.GetValueOrException(T instance) in D:\\a\\_work\\1\\s\\src\\Microsoft.DotNet.Interactive.Formatting\\MemberAccessor{T}.cs:line 58</pre></div></td></tr></tbody></table></div></details></td></tr><tr><td><i>(values)</i></td><td><div class=\"dni-plaintext\"><pre>[  ]</pre></div></td></tr></tbody></table></div></details></td></tr><tr><td>Head</td><td><div class=\"dni-plaintext\"><pre>&lt;invalid email&gt; is not a valid email</pre></div></td></tr><tr><td>Tail</td><td><details class=\"dni-treeview\"><summary><span class=\"dni-code-hint\"><code>[  ]</code></span></summary><div><table><thead><tr></tr></thead><tbody><tr><td>HeadOrDefault</td><td><div class=\"dni-plaintext\"><pre>&lt;null&gt;</pre></div></td></tr><tr><td>TailOrNull</td><td><div class=\"dni-plaintext\"><pre>&lt;null&gt;</pre></div></td></tr><tr><td>Head</td><td><details class=\"dni-treeview\"><summary><span class=\"dni-code-hint\"><code>System.InvalidOperationException: The input list was empty.\\r\\n   at Microsoft.FSharp.Collections.FSharpList`1.get_Head() in D:\\a\\_work\\1\\s\\src\\FSharp.Core\\prim-types.fs:line 4141\\r\\n   at lambda_method285(Closure, FSharpList`1)\\r\\n   at Microsoft.DotNet.Interactive.Formatting.MemberAccessor`1.GetVa...</code></span></summary><div><table><thead><tr></tr></thead><tbody><tr><td>TargetSite</td><td><details class=\"dni-treeview\"><summary><span class=\"dni-code-hint\"><code>T get_Head()</code></span></summary><div><table><thead><tr></tr></thead><tbody><tr><td>Name</td><td>get_Head</td></tr><tr><td>DeclaringType</td><td>Microsoft.FSharp.Collections.FSharpList`1[T]</td></tr><tr><td>ReflectedType</td><td>Microsoft.FSharp.Collections.FSharpList`1[T]</td></tr><tr><td>MemberType</td><td>Method</td></tr><tr><td>MetadataToken</td><td>100663764</td></tr><tr><td>Module</td><td>FSharp.Core.dll</td></tr><tr><td>IsSecurityCritical</td><td>True</td></tr><tr><td>IsSecuritySafeCritical</td><td>False</td></tr><tr><td>IsSecurityTransparent</td><td>False</td></tr><tr><td>MethodHandle</td><td>System.RuntimeMethodHandle</td></tr><tr><td>Attributes</td><td>Public, HideBySig, SpecialName</td></tr><tr><td>CallingConvention</td><td>Standard, HasThis</td></tr><tr><td>ReturnType</td><td>T</td></tr><tr><td>ReturnTypeCustomAttributes</td><td>T</td></tr><tr><td>ReturnParameter</td><td>T</td></tr><tr><td>IsCollectible</td><td>False</td></tr><tr><td>IsGenericMethod</td><td>False</td></tr><tr><td>IsGenericMethodDefinition</td><td>False</td></tr><tr><td>ContainsGenericParameters</td><td>True</td></tr><tr><td>MethodImplementationFlags</td><td>IL</td></tr><tr><td>IsAbstract</td><td>False</td></tr><tr><td>IsConstructor</td><td>False</td></tr><tr><td>IsFinal</td><td>False</td></tr><tr><td>IsHideBySig</td><td>True</td></tr><tr><td>IsSpecialName</td><td>True</td></tr><tr><td>IsStatic</td><td>False</td></tr><tr><td>IsVirtual</td><td>False</td></tr><tr><td>IsAssembly</td><td>False</td></tr><tr><td>IsFamily</td><td>False</td></tr><tr><td>IsFamilyAndAssembly</td><td>False</td></tr><tr><td>IsFamilyOrAssembly</td><td>False</td></tr><tr><td>IsPrivate</td><td>False</td></tr><tr><td>IsPublic</td><td>True</td></tr><tr><td>IsConstructedGenericMethod</td><td>False</td></tr><tr><td>CustomAttributes</td><td>[  ]</td></tr></tbody></table></div></details></td></tr><tr><td>Message</td><td><div class=\"dni-plaintext\"><pre>The input list was empty.</pre></div></td></tr><tr><td>Data</td><td><i>(empty)</i></td></tr><tr><td>InnerException</td><td><div class=\"dni-plaintext\"><pre>&lt;null&gt;</pre></div></td></tr><tr><td>HelpLink</td><td><div class=\"dni-plaintext\"><pre>&lt;null&gt;</pre></div></td></tr><tr><td>Source</td><td><div class=\"dni-plaintext\"><pre>FSharp.Core</pre></div></td></tr><tr><td>HResult</td><td><div class=\"dni-plaintext\"><pre>-2146233079</pre></div></td></tr><tr><td>StackTrace</td><td><div class=\"dni-plaintext\"><pre>   at Microsoft.FSharp.Collections.FSharpList`1.get_Head() in D:\\a\\_work\\1\\s\\src\\FSharp.Core\\prim-types.fs:line 4141\r\n",
                            "   at lambda_method285(Closure, FSharpList`1)\r\n",
                            "   at Microsoft.DotNet.Interactive.Formatting.MemberAccessor`1.GetValueOrException(T instance) in D:\\a\\_work\\1\\s\\src\\Microsoft.DotNet.Interactive.Formatting\\MemberAccessor{T}.cs:line 58</pre></div></td></tr></tbody></table></div></details></td></tr><tr><td>Tail</td><td><details class=\"dni-treeview\"><summary><span class=\"dni-code-hint\"><code>System.InvalidOperationException: The input list was empty.\\r\\n   at Microsoft.FSharp.Collections.FSharpList`1.get_Tail() in D:\\a\\_work\\1\\s\\src\\FSharp.Core\\prim-types.fs:line 4146\\r\\n   at lambda_method286(Closure, FSharpList`1)\\r\\n   at Microsoft.DotNet.Interactive.Formatting.MemberAccessor`1.GetVa...</code></span></summary><div><table><thead><tr></tr></thead><tbody><tr><td>TargetSite</td><td><details class=\"dni-treeview\"><summary><span class=\"dni-code-hint\"><code>Microsoft.FSharp.Collections.FSharpList`1[T] get_Tail()</code></span></summary><div><table><thead><tr></tr></thead><tbody><tr><td>Name</td><td>get_Tail</td></tr><tr><td>DeclaringType</td><td>Microsoft.FSharp.Collections.FSharpList`1[T]</td></tr><tr><td>ReflectedType</td><td>Microsoft.FSharp.Collections.FSharpList`1[T]</td></tr><tr><td>MemberType</td><td>Method</td></tr><tr><td>MetadataToken</td><td>100663765</td></tr><tr><td>Module</td><td>FSharp.Core.dll</td></tr><tr><td>IsSecurityCritical</td><td>True</td></tr><tr><td>IsSecuritySafeCritical</td><td>False</td></tr><tr><td>IsSecurityTransparent</td><td>False</td></tr><tr><td>MethodHandle</td><td>System.RuntimeMethodHandle</td></tr><tr><td>Attributes</td><td>Public, HideBySig, SpecialName</td></tr><tr><td>CallingConvention</td><td>Standard, HasThis</td></tr><tr><td>ReturnType</td><td>Microsoft.FSharp.Collections.FSharpList`1[T]</td></tr><tr><td>ReturnTypeCustomAttributes</td><td>Microsoft.FSharp.Collections.FSharpList`1[T]</td></tr><tr><td>ReturnParameter</td><td>Microsoft.FSharp.Collections.FSharpList`1[T]</td></tr><tr><td>IsCollectible</td><td>False</td></tr><tr><td>IsGenericMethod</td><td>False</td></tr><tr><td>IsGenericMethodDefinition</td><td>False</td></tr><tr><td>ContainsGenericParameters</td><td>True</td></tr><tr><td>MethodImplementationFlags</td><td>IL</td></tr><tr><td>IsAbstract</td><td>False</td></tr><tr><td>IsConstructor</td><td>False</td></tr><tr><td>IsFinal</td><td>False</td></tr><tr><td>IsHideBySig</td><td>True</td></tr><tr><td>IsSpecialName</td><td>True</td></tr><tr><td>IsStatic</td><td>False</td></tr><tr><td>IsVirtual</td><td>False</td></tr><tr><td>IsAssembly</td><td>False</td></tr><tr><td>IsFamily</td><td>False</td></tr><tr><td>IsFamilyAndAssembly</td><td>False</td></tr><tr><td>IsFamilyOrAssembly</td><td>False</td></tr><tr><td>IsPrivate</td><td>False</td></tr><tr><td>IsPublic</td><td>True</td></tr><tr><td>IsConstructedGenericMethod</td><td>False</td></tr><tr><td>CustomAttributes</td><td>[  ]</td></tr></tbody></table></div></details></td></tr><tr><td>Message</td><td><div class=\"dni-plaintext\"><pre>The input list was empty.</pre></div></td></tr><tr><td>Data</td><td><i>(empty)</i></td></tr><tr><td>InnerException</td><td><div class=\"dni-plaintext\"><pre>&lt;null&gt;</pre></div></td></tr><tr><td>HelpLink</td><td><div class=\"dni-plaintext\"><pre>&lt;null&gt;</pre></div></td></tr><tr><td>Source</td><td><div class=\"dni-plaintext\"><pre>FSharp.Core</pre></div></td></tr><tr><td>HResult</td><td><div class=\"dni-plaintext\"><pre>-2146233079</pre></div></td></tr><tr><td>StackTrace</td><td><div class=\"dni-plaintext\"><pre>   at Microsoft.FSharp.Collections.FSharpList`1.get_Tail() in D:\\a\\_work\\1\\s\\src\\FSharp.Core\\prim-types.fs:line 4146\r\n",
                            "   at lambda_method286(Closure, FSharpList`1)\r\n",
                            "   at Microsoft.DotNet.Interactive.Formatting.MemberAccessor`1.GetValueOrException(T instance) in D:\\a\\_work\\1\\s\\src\\Microsoft.DotNet.Interactive.Formatting\\MemberAccessor{T}.cs:line 58</pre></div></td></tr></tbody></table></div></details></td></tr><tr><td><i>(values)</i></td><td><div class=\"dni-plaintext\"><pre>[  ]</pre></div></td></tr></tbody></table></div></details></td></tr><tr><td><i>(values)</i></td><td><div class=\"dni-plaintext\"><pre>[ &lt;invalid email&gt; is not a valid email ]</pre></div></td></tr></tbody></table></div></details></td></tr><tr><td><i>(values)</i></td><td><div class=\"dni-plaintext\"><pre>[ &lt;invalid age&gt; is not a valid age, &lt;invalid email&gt; is not a valid email ]</pre></div></td></tr></tbody></table></div></details></td></tr></tbody></table></div></details><style>\r\n",
                            ".dni-code-hint {\r\n",
                            "    font-style: italic;\r\n",
                            "    overflow: hidden;\r\n",
                            "    white-space: nowrap;\r\n",
                            "}\r\n",
                            ".dni-treeview {\r\n",
                            "    white-space: nowrap;\r\n",
                            "}\r\n",
                            ".dni-treeview td {\r\n",
                            "    vertical-align: top;\r\n",
                            "    text-align: start;\r\n",
                            "}\r\n",
                            "details.dni-treeview {\r\n",
                            "    padding-left: 1em;\r\n",
                            "}\r\n",
                            "table td {\r\n",
                            "    text-align: start;\r\n",
                            "}\r\n",
                            "table tr { \r\n",
                            "    vertical-align: top; \r\n",
                            "    margin: 0em 0px;\r\n",
                            "}\r\n",
                            "table tr td pre \r\n",
                            "{ \r\n",
                            "    vertical-align: top !important; \r\n",
                            "    margin: 0em 0px !important;\r\n",
                            "} \r\n",
                            "table th {\r\n",
                            "    text-align: start;\r\n",
                            "}\r\n",
                            "</style>"
                        ]
                    },
                    "metadata": {},
                    "output_type": "display_data"
                }
            ],
            "source": [
                "(Ok mkPerson) <*> (parseAge \"invalid age\") <*> (parseEmail \"invalid email\")"
            ]
        },
        {
            "cell_type": "markdown",
            "metadata": {},
            "source": [
                "What's cool about this is that if you squint this looks like good old plain function application with an extra sprinkle of input validation:"
            ]
        },
        {
            "cell_type": "code",
            "execution_count": 29,
            "metadata": {
                "dotnet_interactive": {
                    "language": "fsharp"
                },
                "polyglot_notebook": {
                    "kernelName": "fsharp"
                },
                "vscode": {
                    "languageId": "polyglot-notebook"
                }
            },
            "outputs": [
                {
                    "data": {
                        "text/html": [
                            "<details open=\"open\" class=\"dni-treeview\"><summary><span class=\"dni-code-hint\"><code>{ Age = Age 36\\n  Email = Email &quot;jo@gmail.com&quot; }</code></span></summary><div><table><thead><tr></tr></thead><tbody><tr><td>Age</td><td><details class=\"dni-treeview\"><summary><span class=\"dni-code-hint\"><code>Age 36</code></span></summary><div><table><thead><tr></tr></thead><tbody><tr><td>Item</td><td><div class=\"dni-plaintext\"><pre>36</pre></div></td></tr></tbody></table></div></details></td></tr><tr><td>Email</td><td><details class=\"dni-treeview\"><summary><span class=\"dni-code-hint\"><code>Email &quot;jo@gmail.com&quot;</code></span></summary><div><table><thead><tr></tr></thead><tbody><tr><td>Item</td><td><div class=\"dni-plaintext\"><pre>jo@gmail.com</pre></div></td></tr></tbody></table></div></details></td></tr></tbody></table></div></details><style>\r\n",
                            ".dni-code-hint {\r\n",
                            "    font-style: italic;\r\n",
                            "    overflow: hidden;\r\n",
                            "    white-space: nowrap;\r\n",
                            "}\r\n",
                            ".dni-treeview {\r\n",
                            "    white-space: nowrap;\r\n",
                            "}\r\n",
                            ".dni-treeview td {\r\n",
                            "    vertical-align: top;\r\n",
                            "    text-align: start;\r\n",
                            "}\r\n",
                            "details.dni-treeview {\r\n",
                            "    padding-left: 1em;\r\n",
                            "}\r\n",
                            "table td {\r\n",
                            "    text-align: start;\r\n",
                            "}\r\n",
                            "table tr { \r\n",
                            "    vertical-align: top; \r\n",
                            "    margin: 0em 0px;\r\n",
                            "}\r\n",
                            "table tr td pre \r\n",
                            "{ \r\n",
                            "    vertical-align: top !important; \r\n",
                            "    margin: 0em 0px !important;\r\n",
                            "} \r\n",
                            "table th {\r\n",
                            "    text-align: start;\r\n",
                            "}\r\n",
                            "</style>"
                        ]
                    },
                    "metadata": {},
                    "output_type": "display_data"
                }
            ],
            "source": [
                "//Plain old function application\n",
                "    mkPerson          (Age 36)          (Email \"jo@gmail.com\")"
            ]
        },
        {
            "cell_type": "code",
            "execution_count": 30,
            "metadata": {
                "dotnet_interactive": {
                    "language": "fsharp"
                },
                "polyglot_notebook": {
                    "kernelName": "fsharp"
                },
                "vscode": {
                    "languageId": "polyglot-notebook"
                }
            },
            "outputs": [
                {
                    "data": {
                        "text/html": [
                            "<details open=\"open\" class=\"dni-treeview\"><summary><span class=\"dni-code-hint\"><code>Ok { Age = Age 36\\n     Email = Email &quot;jo@gmail.com&quot; }</code></span></summary><div><table><thead><tr></tr></thead><tbody><tr><td>Item</td><td><details class=\"dni-treeview\"><summary><span class=\"dni-code-hint\"><code>{ Age = Age 36\\n  Email = Email &quot;jo@gmail.com&quot; }</code></span></summary><div><table><thead><tr></tr></thead><tbody><tr><td>Age</td><td><details class=\"dni-treeview\"><summary><span class=\"dni-code-hint\"><code>Age 36</code></span></summary><div><table><thead><tr></tr></thead><tbody><tr><td>Item</td><td><div class=\"dni-plaintext\"><pre>36</pre></div></td></tr></tbody></table></div></details></td></tr><tr><td>Email</td><td><details class=\"dni-treeview\"><summary><span class=\"dni-code-hint\"><code>Email &quot;jo@gmail.com&quot;</code></span></summary><div><table><thead><tr></tr></thead><tbody><tr><td>Item</td><td><div class=\"dni-plaintext\"><pre>jo@gmail.com</pre></div></td></tr></tbody></table></div></details></td></tr></tbody></table></div></details></td></tr></tbody></table></div></details><style>\r\n",
                            ".dni-code-hint {\r\n",
                            "    font-style: italic;\r\n",
                            "    overflow: hidden;\r\n",
                            "    white-space: nowrap;\r\n",
                            "}\r\n",
                            ".dni-treeview {\r\n",
                            "    white-space: nowrap;\r\n",
                            "}\r\n",
                            ".dni-treeview td {\r\n",
                            "    vertical-align: top;\r\n",
                            "    text-align: start;\r\n",
                            "}\r\n",
                            "details.dni-treeview {\r\n",
                            "    padding-left: 1em;\r\n",
                            "}\r\n",
                            "table td {\r\n",
                            "    text-align: start;\r\n",
                            "}\r\n",
                            "table tr { \r\n",
                            "    vertical-align: top; \r\n",
                            "    margin: 0em 0px;\r\n",
                            "}\r\n",
                            "table tr td pre \r\n",
                            "{ \r\n",
                            "    vertical-align: top !important; \r\n",
                            "    margin: 0em 0px !important;\r\n",
                            "} \r\n",
                            "table th {\r\n",
                            "    text-align: start;\r\n",
                            "}\r\n",
                            "</style>"
                        ]
                    },
                    "metadata": {},
                    "output_type": "display_data"
                }
            ],
            "source": [
                "//With baked-in validation, thanks to our apply\n",
                "(Ok mkPerson) <*> (Ok (Age 36)) <*> (Ok (Email \"jo@gmail.com\"))"
            ]
        },
        {
            "cell_type": "markdown",
            "metadata": {},
            "source": [
                "Very cool, we now have a way of parsing all our inputs and building a **Person** record that looks scarily similar to the same function call without all the parsing logic. In the case of any parse **Errors**, we even return a list of ALL the parsing errors that occurred instead of stopping at first one. Now that's friendly UX!"
            ]
        },
        {
            "cell_type": "markdown",
            "metadata": {},
            "source": [
                "## Monad\n",
                "\n",
                "Okay, we now have enough bagage to deal with the big M. In order to introduce it, let's get creative. Remember **map**'s signature?"
            ]
        },
        {
            "cell_type": "code",
            "execution_count": 31,
            "metadata": {
                "dotnet_interactive": {
                    "language": "fsharp"
                },
                "polyglot_notebook": {
                    "kernelName": "fsharp"
                },
                "vscode": {
                    "languageId": "polyglot-notebook"
                }
            },
            "outputs": [],
            "source": [
                "//map::(a->b)->E(a)->E(b)"
            ]
        },
        {
            "cell_type": "markdown",
            "metadata": {},
            "source": [
                "Remember that *a* and *b* are generic type parameters,we can fill these in with any concrete type. Let's do something 🌈totally crazy🌈 and fill in *E(b)* for *b*:"
            ]
        },
        {
            "cell_type": "code",
            "execution_count": 32,
            "metadata": {
                "dotnet_interactive": {
                    "language": "fsharp"
                },
                "polyglot_notebook": {
                    "kernelName": "fsharp"
                },
                "vscode": {
                    "languageId": "polyglot-notebook"
                }
            },
            "outputs": [],
            "source": [
                "//map::(a->E(b))->E(a)->E(E(b))"
            ]
        },
        {
            "cell_type": "markdown",
            "metadata": {},
            "source": [
                "Two things of note here.\n",
                "\n",
                "First: notice that *a->E(b)* ? That's exactly the type of those ubiquituous **world-crossing** functions we talked about earlier!\n",
                "\n",
                "Second: the return type. E(E(b)). Eew. Anyone that has worked with elevated types before can relate: it's not fun to work with nested **elevated** types. \n",
                "\n",
                "Thankfully, we have a solution for that nesting, we can **flatten** nested elevated types! An example we all know is flattening a *list of lists* into a single *list*:"
            ]
        },
        {
            "cell_type": "code",
            "execution_count": 33,
            "metadata": {
                "dotnet_interactive": {
                    "language": "fsharp"
                },
                "polyglot_notebook": {
                    "kernelName": "fsharp"
                },
                "vscode": {
                    "languageId": "polyglot-notebook"
                }
            },
            "outputs": [
                {
                    "data": {
                        "text/html": [
                            "<details open=\"open\" class=\"dni-treeview\"><summary><span class=\"dni-code-hint\"><code>[ 1, 2, 3, 4 ]</code></span></summary><div><table><thead><tr></tr></thead><tbody><tr><td>HeadOrDefault</td><td><div class=\"dni-plaintext\"><pre>1</pre></div></td></tr><tr><td>TailOrNull</td><td><details class=\"dni-treeview\"><summary><span class=\"dni-code-hint\"><code>[ 2, 3, 4 ]</code></span></summary><div><table><thead><tr></tr></thead><tbody><tr><td>HeadOrDefault</td><td><div class=\"dni-plaintext\"><pre>2</pre></div></td></tr><tr><td>TailOrNull</td><td><details class=\"dni-treeview\"><summary><span class=\"dni-code-hint\"><code>[ 3, 4 ]</code></span></summary><div><table><thead><tr></tr></thead><tbody><tr><td>HeadOrDefault</td><td><div class=\"dni-plaintext\"><pre>3</pre></div></td></tr><tr><td>TailOrNull</td><td><details class=\"dni-treeview\"><summary><span class=\"dni-code-hint\"><code>[ 4 ]</code></span></summary><div><table><thead><tr></tr></thead><tbody><tr><td>HeadOrDefault</td><td><div class=\"dni-plaintext\"><pre>4</pre></div></td></tr><tr><td>TailOrNull</td><td><details class=\"dni-treeview\"><summary><span class=\"dni-code-hint\"><code>[  ]</code></span></summary><div><table><thead><tr></tr></thead><tbody><tr><td>HeadOrDefault</td><td><div class=\"dni-plaintext\"><pre>0</pre></div></td></tr><tr><td>TailOrNull</td><td><div class=\"dni-plaintext\"><pre>&lt;null&gt;</pre></div></td></tr><tr><td>Head</td><td><details class=\"dni-treeview\"><summary><span class=\"dni-code-hint\"><code>System.InvalidOperationException: The input list was empty.\\r\\n   at Microsoft.FSharp.Collections.FSharpList`1.get_Head() in D:\\a\\_work\\1\\s\\src\\FSharp.Core\\prim-types.fs:line 4141\\r\\n   at lambda_method532(Closure, FSharpList`1)\\r\\n   at Microsoft.DotNet.Interactive.Formatting.MemberAccessor`1.GetVa...</code></span></summary><div><table><thead><tr></tr></thead><tbody><tr><td>TargetSite</td><td>T get_Head()</td></tr><tr><td>Message</td><td>The input list was empty.</td></tr><tr><td>Data</td><td>[  ]</td></tr><tr><td>InnerException</td><td><div class=\"dni-plaintext\"><pre>&lt;null&gt;</pre></div></td></tr><tr><td>HelpLink</td><td><div class=\"dni-plaintext\"><pre>&lt;null&gt;</pre></div></td></tr><tr><td>Source</td><td>FSharp.Core</td></tr><tr><td>HResult</td><td>-2146233079</td></tr><tr><td>StackTrace</td><td>   at Microsoft.FSharp.Collections.FSharpList`1.get_Head() in D:\\a\\_work\\1\\s\\src\\FSharp.Core\\prim-types.fs:line 4141\r\n",
                            "   at lambda_method532(Closure, FSharpList`1)\r\n",
                            "   at Microsoft.DotNet.Interactive.Formatting.MemberAccessor`1.GetValueOrException(T instance) in D:\\a\\_work\\1\\s\\src\\Microsoft.DotNet.Interactive.Formatting\\MemberAccessor{T}.cs:line 58</td></tr></tbody></table></div></details></td></tr><tr><td>Tail</td><td><details class=\"dni-treeview\"><summary><span class=\"dni-code-hint\"><code>System.InvalidOperationException: The input list was empty.\\r\\n   at Microsoft.FSharp.Collections.FSharpList`1.get_Tail() in D:\\a\\_work\\1\\s\\src\\FSharp.Core\\prim-types.fs:line 4146\\r\\n   at lambda_method533(Closure, FSharpList`1)\\r\\n   at Microsoft.DotNet.Interactive.Formatting.MemberAccessor`1.GetVa...</code></span></summary><div><table><thead><tr></tr></thead><tbody><tr><td>TargetSite</td><td>Microsoft.FSharp.Collections.FSharpList`1[T] get_Tail()</td></tr><tr><td>Message</td><td>The input list was empty.</td></tr><tr><td>Data</td><td>[  ]</td></tr><tr><td>InnerException</td><td><div class=\"dni-plaintext\"><pre>&lt;null&gt;</pre></div></td></tr><tr><td>HelpLink</td><td><div class=\"dni-plaintext\"><pre>&lt;null&gt;</pre></div></td></tr><tr><td>Source</td><td>FSharp.Core</td></tr><tr><td>HResult</td><td>-2146233079</td></tr><tr><td>StackTrace</td><td>   at Microsoft.FSharp.Collections.FSharpList`1.get_Tail() in D:\\a\\_work\\1\\s\\src\\FSharp.Core\\prim-types.fs:line 4146\r\n",
                            "   at lambda_method533(Closure, FSharpList`1)\r\n",
                            "   at Microsoft.DotNet.Interactive.Formatting.MemberAccessor`1.GetValueOrException(T instance) in D:\\a\\_work\\1\\s\\src\\Microsoft.DotNet.Interactive.Formatting\\MemberAccessor{T}.cs:line 58</td></tr></tbody></table></div></details></td></tr><tr><td><i>(values)</i></td><td><div class=\"dni-plaintext\"><pre>[  ]</pre></div></td></tr></tbody></table></div></details></td></tr><tr><td>Head</td><td><div class=\"dni-plaintext\"><pre>4</pre></div></td></tr><tr><td>Tail</td><td><details class=\"dni-treeview\"><summary><span class=\"dni-code-hint\"><code>[  ]</code></span></summary><div><table><thead><tr></tr></thead><tbody><tr><td>HeadOrDefault</td><td><div class=\"dni-plaintext\"><pre>0</pre></div></td></tr><tr><td>TailOrNull</td><td><div class=\"dni-plaintext\"><pre>&lt;null&gt;</pre></div></td></tr><tr><td>Head</td><td><details class=\"dni-treeview\"><summary><span class=\"dni-code-hint\"><code>System.InvalidOperationException: The input list was empty.\\r\\n   at Microsoft.FSharp.Collections.FSharpList`1.get_Head() in D:\\a\\_work\\1\\s\\src\\FSharp.Core\\prim-types.fs:line 4141\\r\\n   at lambda_method532(Closure, FSharpList`1)\\r\\n   at Microsoft.DotNet.Interactive.Formatting.MemberAccessor`1.GetVa...</code></span></summary><div><table><thead><tr></tr></thead><tbody><tr><td>TargetSite</td><td>T get_Head()</td></tr><tr><td>Message</td><td>The input list was empty.</td></tr><tr><td>Data</td><td>[  ]</td></tr><tr><td>InnerException</td><td><div class=\"dni-plaintext\"><pre>&lt;null&gt;</pre></div></td></tr><tr><td>HelpLink</td><td><div class=\"dni-plaintext\"><pre>&lt;null&gt;</pre></div></td></tr><tr><td>Source</td><td>FSharp.Core</td></tr><tr><td>HResult</td><td>-2146233079</td></tr><tr><td>StackTrace</td><td>   at Microsoft.FSharp.Collections.FSharpList`1.get_Head() in D:\\a\\_work\\1\\s\\src\\FSharp.Core\\prim-types.fs:line 4141\r\n",
                            "   at lambda_method532(Closure, FSharpList`1)\r\n",
                            "   at Microsoft.DotNet.Interactive.Formatting.MemberAccessor`1.GetValueOrException(T instance) in D:\\a\\_work\\1\\s\\src\\Microsoft.DotNet.Interactive.Formatting\\MemberAccessor{T}.cs:line 58</td></tr></tbody></table></div></details></td></tr><tr><td>Tail</td><td><details class=\"dni-treeview\"><summary><span class=\"dni-code-hint\"><code>System.InvalidOperationException: The input list was empty.\\r\\n   at Microsoft.FSharp.Collections.FSharpList`1.get_Tail() in D:\\a\\_work\\1\\s\\src\\FSharp.Core\\prim-types.fs:line 4146\\r\\n   at lambda_method533(Closure, FSharpList`1)\\r\\n   at Microsoft.DotNet.Interactive.Formatting.MemberAccessor`1.GetVa...</code></span></summary><div><table><thead><tr></tr></thead><tbody><tr><td>TargetSite</td><td>Microsoft.FSharp.Collections.FSharpList`1[T] get_Tail()</td></tr><tr><td>Message</td><td>The input list was empty.</td></tr><tr><td>Data</td><td>[  ]</td></tr><tr><td>InnerException</td><td><div class=\"dni-plaintext\"><pre>&lt;null&gt;</pre></div></td></tr><tr><td>HelpLink</td><td><div class=\"dni-plaintext\"><pre>&lt;null&gt;</pre></div></td></tr><tr><td>Source</td><td>FSharp.Core</td></tr><tr><td>HResult</td><td>-2146233079</td></tr><tr><td>StackTrace</td><td>   at Microsoft.FSharp.Collections.FSharpList`1.get_Tail() in D:\\a\\_work\\1\\s\\src\\FSharp.Core\\prim-types.fs:line 4146\r\n",
                            "   at lambda_method533(Closure, FSharpList`1)\r\n",
                            "   at Microsoft.DotNet.Interactive.Formatting.MemberAccessor`1.GetValueOrException(T instance) in D:\\a\\_work\\1\\s\\src\\Microsoft.DotNet.Interactive.Formatting\\MemberAccessor{T}.cs:line 58</td></tr></tbody></table></div></details></td></tr><tr><td><i>(values)</i></td><td><div class=\"dni-plaintext\"><pre>[  ]</pre></div></td></tr></tbody></table></div></details></td></tr><tr><td><i>(values)</i></td><td><div class=\"dni-plaintext\"><pre>[ 4 ]</pre></div></td></tr></tbody></table></div></details></td></tr><tr><td>Head</td><td><div class=\"dni-plaintext\"><pre>3</pre></div></td></tr><tr><td>Tail</td><td><details class=\"dni-treeview\"><summary><span class=\"dni-code-hint\"><code>[ 4 ]</code></span></summary><div><table><thead><tr></tr></thead><tbody><tr><td>HeadOrDefault</td><td><div class=\"dni-plaintext\"><pre>4</pre></div></td></tr><tr><td>TailOrNull</td><td><details class=\"dni-treeview\"><summary><span class=\"dni-code-hint\"><code>[  ]</code></span></summary><div><table><thead><tr></tr></thead><tbody><tr><td>HeadOrDefault</td><td><div class=\"dni-plaintext\"><pre>0</pre></div></td></tr><tr><td>TailOrNull</td><td><div class=\"dni-plaintext\"><pre>&lt;null&gt;</pre></div></td></tr><tr><td>Head</td><td><details class=\"dni-treeview\"><summary><span class=\"dni-code-hint\"><code>System.InvalidOperationException: The input list was empty.\\r\\n   at Microsoft.FSharp.Collections.FSharpList`1.get_Head() in D:\\a\\_work\\1\\s\\src\\FSharp.Core\\prim-types.fs:line 4141\\r\\n   at lambda_method532(Closure, FSharpList`1)\\r\\n   at Microsoft.DotNet.Interactive.Formatting.MemberAccessor`1.GetVa...</code></span></summary><div><table><thead><tr></tr></thead><tbody><tr><td>TargetSite</td><td>T get_Head()</td></tr><tr><td>Message</td><td>The input list was empty.</td></tr><tr><td>Data</td><td>[  ]</td></tr><tr><td>InnerException</td><td><div class=\"dni-plaintext\"><pre>&lt;null&gt;</pre></div></td></tr><tr><td>HelpLink</td><td><div class=\"dni-plaintext\"><pre>&lt;null&gt;</pre></div></td></tr><tr><td>Source</td><td>FSharp.Core</td></tr><tr><td>HResult</td><td>-2146233079</td></tr><tr><td>StackTrace</td><td>   at Microsoft.FSharp.Collections.FSharpList`1.get_Head() in D:\\a\\_work\\1\\s\\src\\FSharp.Core\\prim-types.fs:line 4141\r\n",
                            "   at lambda_method532(Closure, FSharpList`1)\r\n",
                            "   at Microsoft.DotNet.Interactive.Formatting.MemberAccessor`1.GetValueOrException(T instance) in D:\\a\\_work\\1\\s\\src\\Microsoft.DotNet.Interactive.Formatting\\MemberAccessor{T}.cs:line 58</td></tr></tbody></table></div></details></td></tr><tr><td>Tail</td><td><details class=\"dni-treeview\"><summary><span class=\"dni-code-hint\"><code>System.InvalidOperationException: The input list was empty.\\r\\n   at Microsoft.FSharp.Collections.FSharpList`1.get_Tail() in D:\\a\\_work\\1\\s\\src\\FSharp.Core\\prim-types.fs:line 4146\\r\\n   at lambda_method533(Closure, FSharpList`1)\\r\\n   at Microsoft.DotNet.Interactive.Formatting.MemberAccessor`1.GetVa...</code></span></summary><div><table><thead><tr></tr></thead><tbody><tr><td>TargetSite</td><td>Microsoft.FSharp.Collections.FSharpList`1[T] get_Tail()</td></tr><tr><td>Message</td><td>The input list was empty.</td></tr><tr><td>Data</td><td>[  ]</td></tr><tr><td>InnerException</td><td><div class=\"dni-plaintext\"><pre>&lt;null&gt;</pre></div></td></tr><tr><td>HelpLink</td><td><div class=\"dni-plaintext\"><pre>&lt;null&gt;</pre></div></td></tr><tr><td>Source</td><td>FSharp.Core</td></tr><tr><td>HResult</td><td>-2146233079</td></tr><tr><td>StackTrace</td><td>   at Microsoft.FSharp.Collections.FSharpList`1.get_Tail() in D:\\a\\_work\\1\\s\\src\\FSharp.Core\\prim-types.fs:line 4146\r\n",
                            "   at lambda_method533(Closure, FSharpList`1)\r\n",
                            "   at Microsoft.DotNet.Interactive.Formatting.MemberAccessor`1.GetValueOrException(T instance) in D:\\a\\_work\\1\\s\\src\\Microsoft.DotNet.Interactive.Formatting\\MemberAccessor{T}.cs:line 58</td></tr></tbody></table></div></details></td></tr><tr><td><i>(values)</i></td><td><div class=\"dni-plaintext\"><pre>[  ]</pre></div></td></tr></tbody></table></div></details></td></tr><tr><td>Head</td><td><div class=\"dni-plaintext\"><pre>4</pre></div></td></tr><tr><td>Tail</td><td><details class=\"dni-treeview\"><summary><span class=\"dni-code-hint\"><code>[  ]</code></span></summary><div><table><thead><tr></tr></thead><tbody><tr><td>HeadOrDefault</td><td><div class=\"dni-plaintext\"><pre>0</pre></div></td></tr><tr><td>TailOrNull</td><td><div class=\"dni-plaintext\"><pre>&lt;null&gt;</pre></div></td></tr><tr><td>Head</td><td><details class=\"dni-treeview\"><summary><span class=\"dni-code-hint\"><code>System.InvalidOperationException: The input list was empty.\\r\\n   at Microsoft.FSharp.Collections.FSharpList`1.get_Head() in D:\\a\\_work\\1\\s\\src\\FSharp.Core\\prim-types.fs:line 4141\\r\\n   at lambda_method532(Closure, FSharpList`1)\\r\\n   at Microsoft.DotNet.Interactive.Formatting.MemberAccessor`1.GetVa...</code></span></summary><div><table><thead><tr></tr></thead><tbody><tr><td>TargetSite</td><td>T get_Head()</td></tr><tr><td>Message</td><td>The input list was empty.</td></tr><tr><td>Data</td><td>[  ]</td></tr><tr><td>InnerException</td><td><div class=\"dni-plaintext\"><pre>&lt;null&gt;</pre></div></td></tr><tr><td>HelpLink</td><td><div class=\"dni-plaintext\"><pre>&lt;null&gt;</pre></div></td></tr><tr><td>Source</td><td>FSharp.Core</td></tr><tr><td>HResult</td><td>-2146233079</td></tr><tr><td>StackTrace</td><td>   at Microsoft.FSharp.Collections.FSharpList`1.get_Head() in D:\\a\\_work\\1\\s\\src\\FSharp.Core\\prim-types.fs:line 4141\r\n",
                            "   at lambda_method532(Closure, FSharpList`1)\r\n",
                            "   at Microsoft.DotNet.Interactive.Formatting.MemberAccessor`1.GetValueOrException(T instance) in D:\\a\\_work\\1\\s\\src\\Microsoft.DotNet.Interactive.Formatting\\MemberAccessor{T}.cs:line 58</td></tr></tbody></table></div></details></td></tr><tr><td>Tail</td><td><details class=\"dni-treeview\"><summary><span class=\"dni-code-hint\"><code>System.InvalidOperationException: The input list was empty.\\r\\n   at Microsoft.FSharp.Collections.FSharpList`1.get_Tail() in D:\\a\\_work\\1\\s\\src\\FSharp.Core\\prim-types.fs:line 4146\\r\\n   at lambda_method533(Closure, FSharpList`1)\\r\\n   at Microsoft.DotNet.Interactive.Formatting.MemberAccessor`1.GetVa...</code></span></summary><div><table><thead><tr></tr></thead><tbody><tr><td>TargetSite</td><td>Microsoft.FSharp.Collections.FSharpList`1[T] get_Tail()</td></tr><tr><td>Message</td><td>The input list was empty.</td></tr><tr><td>Data</td><td>[  ]</td></tr><tr><td>InnerException</td><td><div class=\"dni-plaintext\"><pre>&lt;null&gt;</pre></div></td></tr><tr><td>HelpLink</td><td><div class=\"dni-plaintext\"><pre>&lt;null&gt;</pre></div></td></tr><tr><td>Source</td><td>FSharp.Core</td></tr><tr><td>HResult</td><td>-2146233079</td></tr><tr><td>StackTrace</td><td>   at Microsoft.FSharp.Collections.FSharpList`1.get_Tail() in D:\\a\\_work\\1\\s\\src\\FSharp.Core\\prim-types.fs:line 4146\r\n",
                            "   at lambda_method533(Closure, FSharpList`1)\r\n",
                            "   at Microsoft.DotNet.Interactive.Formatting.MemberAccessor`1.GetValueOrException(T instance) in D:\\a\\_work\\1\\s\\src\\Microsoft.DotNet.Interactive.Formatting\\MemberAccessor{T}.cs:line 58</td></tr></tbody></table></div></details></td></tr><tr><td><i>(values)</i></td><td><div class=\"dni-plaintext\"><pre>[  ]</pre></div></td></tr></tbody></table></div></details></td></tr><tr><td><i>(values)</i></td><td><div class=\"dni-plaintext\"><pre>[ 4 ]</pre></div></td></tr></tbody></table></div></details></td></tr><tr><td><i>(values)</i></td><td><div class=\"dni-plaintext\"><pre>[ 3, 4 ]</pre></div></td></tr></tbody></table></div></details></td></tr><tr><td>Head</td><td><div class=\"dni-plaintext\"><pre>2</pre></div></td></tr><tr><td>Tail</td><td><details class=\"dni-treeview\"><summary><span class=\"dni-code-hint\"><code>[ 3, 4 ]</code></span></summary><div><table><thead><tr></tr></thead><tbody><tr><td>HeadOrDefault</td><td><div class=\"dni-plaintext\"><pre>3</pre></div></td></tr><tr><td>TailOrNull</td><td><details class=\"dni-treeview\"><summary><span class=\"dni-code-hint\"><code>[ 4 ]</code></span></summary><div><table><thead><tr></tr></thead><tbody><tr><td>HeadOrDefault</td><td><div class=\"dni-plaintext\"><pre>4</pre></div></td></tr><tr><td>TailOrNull</td><td><details class=\"dni-treeview\"><summary><span class=\"dni-code-hint\"><code>[  ]</code></span></summary><div><table><thead><tr></tr></thead><tbody><tr><td>HeadOrDefault</td><td><div class=\"dni-plaintext\"><pre>0</pre></div></td></tr><tr><td>TailOrNull</td><td><div class=\"dni-plaintext\"><pre>&lt;null&gt;</pre></div></td></tr><tr><td>Head</td><td><details class=\"dni-treeview\"><summary><span class=\"dni-code-hint\"><code>System.InvalidOperationException: The input list was empty.\\r\\n   at Microsoft.FSharp.Collections.FSharpList`1.get_Head() in D:\\a\\_work\\1\\s\\src\\FSharp.Core\\prim-types.fs:line 4141\\r\\n   at lambda_method532(Closure, FSharpList`1)\\r\\n   at Microsoft.DotNet.Interactive.Formatting.MemberAccessor`1.GetVa...</code></span></summary><div><table><thead><tr></tr></thead><tbody><tr><td>TargetSite</td><td>T get_Head()</td></tr><tr><td>Message</td><td>The input list was empty.</td></tr><tr><td>Data</td><td>[  ]</td></tr><tr><td>InnerException</td><td><div class=\"dni-plaintext\"><pre>&lt;null&gt;</pre></div></td></tr><tr><td>HelpLink</td><td><div class=\"dni-plaintext\"><pre>&lt;null&gt;</pre></div></td></tr><tr><td>Source</td><td>FSharp.Core</td></tr><tr><td>HResult</td><td>-2146233079</td></tr><tr><td>StackTrace</td><td>   at Microsoft.FSharp.Collections.FSharpList`1.get_Head() in D:\\a\\_work\\1\\s\\src\\FSharp.Core\\prim-types.fs:line 4141\r\n",
                            "   at lambda_method532(Closure, FSharpList`1)\r\n",
                            "   at Microsoft.DotNet.Interactive.Formatting.MemberAccessor`1.GetValueOrException(T instance) in D:\\a\\_work\\1\\s\\src\\Microsoft.DotNet.Interactive.Formatting\\MemberAccessor{T}.cs:line 58</td></tr></tbody></table></div></details></td></tr><tr><td>Tail</td><td><details class=\"dni-treeview\"><summary><span class=\"dni-code-hint\"><code>System.InvalidOperationException: The input list was empty.\\r\\n   at Microsoft.FSharp.Collections.FSharpList`1.get_Tail() in D:\\a\\_work\\1\\s\\src\\FSharp.Core\\prim-types.fs:line 4146\\r\\n   at lambda_method533(Closure, FSharpList`1)\\r\\n   at Microsoft.DotNet.Interactive.Formatting.MemberAccessor`1.GetVa...</code></span></summary><div><table><thead><tr></tr></thead><tbody><tr><td>TargetSite</td><td>Microsoft.FSharp.Collections.FSharpList`1[T] get_Tail()</td></tr><tr><td>Message</td><td>The input list was empty.</td></tr><tr><td>Data</td><td>[  ]</td></tr><tr><td>InnerException</td><td><div class=\"dni-plaintext\"><pre>&lt;null&gt;</pre></div></td></tr><tr><td>HelpLink</td><td><div class=\"dni-plaintext\"><pre>&lt;null&gt;</pre></div></td></tr><tr><td>Source</td><td>FSharp.Core</td></tr><tr><td>HResult</td><td>-2146233079</td></tr><tr><td>StackTrace</td><td>   at Microsoft.FSharp.Collections.FSharpList`1.get_Tail() in D:\\a\\_work\\1\\s\\src\\FSharp.Core\\prim-types.fs:line 4146\r\n",
                            "   at lambda_method533(Closure, FSharpList`1)\r\n",
                            "   at Microsoft.DotNet.Interactive.Formatting.MemberAccessor`1.GetValueOrException(T instance) in D:\\a\\_work\\1\\s\\src\\Microsoft.DotNet.Interactive.Formatting\\MemberAccessor{T}.cs:line 58</td></tr></tbody></table></div></details></td></tr><tr><td><i>(values)</i></td><td><div class=\"dni-plaintext\"><pre>[  ]</pre></div></td></tr></tbody></table></div></details></td></tr><tr><td>Head</td><td><div class=\"dni-plaintext\"><pre>4</pre></div></td></tr><tr><td>Tail</td><td><details class=\"dni-treeview\"><summary><span class=\"dni-code-hint\"><code>[  ]</code></span></summary><div><table><thead><tr></tr></thead><tbody><tr><td>HeadOrDefault</td><td><div class=\"dni-plaintext\"><pre>0</pre></div></td></tr><tr><td>TailOrNull</td><td><div class=\"dni-plaintext\"><pre>&lt;null&gt;</pre></div></td></tr><tr><td>Head</td><td><details class=\"dni-treeview\"><summary><span class=\"dni-code-hint\"><code>System.InvalidOperationException: The input list was empty.\\r\\n   at Microsoft.FSharp.Collections.FSharpList`1.get_Head() in D:\\a\\_work\\1\\s\\src\\FSharp.Core\\prim-types.fs:line 4141\\r\\n   at lambda_method532(Closure, FSharpList`1)\\r\\n   at Microsoft.DotNet.Interactive.Formatting.MemberAccessor`1.GetVa...</code></span></summary><div><table><thead><tr></tr></thead><tbody><tr><td>TargetSite</td><td>T get_Head()</td></tr><tr><td>Message</td><td>The input list was empty.</td></tr><tr><td>Data</td><td>[  ]</td></tr><tr><td>InnerException</td><td><div class=\"dni-plaintext\"><pre>&lt;null&gt;</pre></div></td></tr><tr><td>HelpLink</td><td><div class=\"dni-plaintext\"><pre>&lt;null&gt;</pre></div></td></tr><tr><td>Source</td><td>FSharp.Core</td></tr><tr><td>HResult</td><td>-2146233079</td></tr><tr><td>StackTrace</td><td>   at Microsoft.FSharp.Collections.FSharpList`1.get_Head() in D:\\a\\_work\\1\\s\\src\\FSharp.Core\\prim-types.fs:line 4141\r\n",
                            "   at lambda_method532(Closure, FSharpList`1)\r\n",
                            "   at Microsoft.DotNet.Interactive.Formatting.MemberAccessor`1.GetValueOrException(T instance) in D:\\a\\_work\\1\\s\\src\\Microsoft.DotNet.Interactive.Formatting\\MemberAccessor{T}.cs:line 58</td></tr></tbody></table></div></details></td></tr><tr><td>Tail</td><td><details class=\"dni-treeview\"><summary><span class=\"dni-code-hint\"><code>System.InvalidOperationException: The input list was empty.\\r\\n   at Microsoft.FSharp.Collections.FSharpList`1.get_Tail() in D:\\a\\_work\\1\\s\\src\\FSharp.Core\\prim-types.fs:line 4146\\r\\n   at lambda_method533(Closure, FSharpList`1)\\r\\n   at Microsoft.DotNet.Interactive.Formatting.MemberAccessor`1.GetVa...</code></span></summary><div><table><thead><tr></tr></thead><tbody><tr><td>TargetSite</td><td>Microsoft.FSharp.Collections.FSharpList`1[T] get_Tail()</td></tr><tr><td>Message</td><td>The input list was empty.</td></tr><tr><td>Data</td><td>[  ]</td></tr><tr><td>InnerException</td><td><div class=\"dni-plaintext\"><pre>&lt;null&gt;</pre></div></td></tr><tr><td>HelpLink</td><td><div class=\"dni-plaintext\"><pre>&lt;null&gt;</pre></div></td></tr><tr><td>Source</td><td>FSharp.Core</td></tr><tr><td>HResult</td><td>-2146233079</td></tr><tr><td>StackTrace</td><td>   at Microsoft.FSharp.Collections.FSharpList`1.get_Tail() in D:\\a\\_work\\1\\s\\src\\FSharp.Core\\prim-types.fs:line 4146\r\n",
                            "   at lambda_method533(Closure, FSharpList`1)\r\n",
                            "   at Microsoft.DotNet.Interactive.Formatting.MemberAccessor`1.GetValueOrException(T instance) in D:\\a\\_work\\1\\s\\src\\Microsoft.DotNet.Interactive.Formatting\\MemberAccessor{T}.cs:line 58</td></tr></tbody></table></div></details></td></tr><tr><td><i>(values)</i></td><td><div class=\"dni-plaintext\"><pre>[  ]</pre></div></td></tr></tbody></table></div></details></td></tr><tr><td><i>(values)</i></td><td><div class=\"dni-plaintext\"><pre>[ 4 ]</pre></div></td></tr></tbody></table></div></details></td></tr><tr><td>Head</td><td><div class=\"dni-plaintext\"><pre>3</pre></div></td></tr><tr><td>Tail</td><td><details class=\"dni-treeview\"><summary><span class=\"dni-code-hint\"><code>[ 4 ]</code></span></summary><div><table><thead><tr></tr></thead><tbody><tr><td>HeadOrDefault</td><td><div class=\"dni-plaintext\"><pre>4</pre></div></td></tr><tr><td>TailOrNull</td><td><details class=\"dni-treeview\"><summary><span class=\"dni-code-hint\"><code>[  ]</code></span></summary><div><table><thead><tr></tr></thead><tbody><tr><td>HeadOrDefault</td><td><div class=\"dni-plaintext\"><pre>0</pre></div></td></tr><tr><td>TailOrNull</td><td><div class=\"dni-plaintext\"><pre>&lt;null&gt;</pre></div></td></tr><tr><td>Head</td><td><details class=\"dni-treeview\"><summary><span class=\"dni-code-hint\"><code>System.InvalidOperationException: The input list was empty.\\r\\n   at Microsoft.FSharp.Collections.FSharpList`1.get_Head() in D:\\a\\_work\\1\\s\\src\\FSharp.Core\\prim-types.fs:line 4141\\r\\n   at lambda_method532(Closure, FSharpList`1)\\r\\n   at Microsoft.DotNet.Interactive.Formatting.MemberAccessor`1.GetVa...</code></span></summary><div><table><thead><tr></tr></thead><tbody><tr><td>TargetSite</td><td>T get_Head()</td></tr><tr><td>Message</td><td>The input list was empty.</td></tr><tr><td>Data</td><td>[  ]</td></tr><tr><td>InnerException</td><td><div class=\"dni-plaintext\"><pre>&lt;null&gt;</pre></div></td></tr><tr><td>HelpLink</td><td><div class=\"dni-plaintext\"><pre>&lt;null&gt;</pre></div></td></tr><tr><td>Source</td><td>FSharp.Core</td></tr><tr><td>HResult</td><td>-2146233079</td></tr><tr><td>StackTrace</td><td>   at Microsoft.FSharp.Collections.FSharpList`1.get_Head() in D:\\a\\_work\\1\\s\\src\\FSharp.Core\\prim-types.fs:line 4141\r\n",
                            "   at lambda_method532(Closure, FSharpList`1)\r\n",
                            "   at Microsoft.DotNet.Interactive.Formatting.MemberAccessor`1.GetValueOrException(T instance) in D:\\a\\_work\\1\\s\\src\\Microsoft.DotNet.Interactive.Formatting\\MemberAccessor{T}.cs:line 58</td></tr></tbody></table></div></details></td></tr><tr><td>Tail</td><td><details class=\"dni-treeview\"><summary><span class=\"dni-code-hint\"><code>System.InvalidOperationException: The input list was empty.\\r\\n   at Microsoft.FSharp.Collections.FSharpList`1.get_Tail() in D:\\a\\_work\\1\\s\\src\\FSharp.Core\\prim-types.fs:line 4146\\r\\n   at lambda_method533(Closure, FSharpList`1)\\r\\n   at Microsoft.DotNet.Interactive.Formatting.MemberAccessor`1.GetVa...</code></span></summary><div><table><thead><tr></tr></thead><tbody><tr><td>TargetSite</td><td>Microsoft.FSharp.Collections.FSharpList`1[T] get_Tail()</td></tr><tr><td>Message</td><td>The input list was empty.</td></tr><tr><td>Data</td><td>[  ]</td></tr><tr><td>InnerException</td><td><div class=\"dni-plaintext\"><pre>&lt;null&gt;</pre></div></td></tr><tr><td>HelpLink</td><td><div class=\"dni-plaintext\"><pre>&lt;null&gt;</pre></div></td></tr><tr><td>Source</td><td>FSharp.Core</td></tr><tr><td>HResult</td><td>-2146233079</td></tr><tr><td>StackTrace</td><td>   at Microsoft.FSharp.Collections.FSharpList`1.get_Tail() in D:\\a\\_work\\1\\s\\src\\FSharp.Core\\prim-types.fs:line 4146\r\n",
                            "   at lambda_method533(Closure, FSharpList`1)\r\n",
                            "   at Microsoft.DotNet.Interactive.Formatting.MemberAccessor`1.GetValueOrException(T instance) in D:\\a\\_work\\1\\s\\src\\Microsoft.DotNet.Interactive.Formatting\\MemberAccessor{T}.cs:line 58</td></tr></tbody></table></div></details></td></tr><tr><td><i>(values)</i></td><td><div class=\"dni-plaintext\"><pre>[  ]</pre></div></td></tr></tbody></table></div></details></td></tr><tr><td>Head</td><td><div class=\"dni-plaintext\"><pre>4</pre></div></td></tr><tr><td>Tail</td><td><details class=\"dni-treeview\"><summary><span class=\"dni-code-hint\"><code>[  ]</code></span></summary><div><table><thead><tr></tr></thead><tbody><tr><td>HeadOrDefault</td><td><div class=\"dni-plaintext\"><pre>0</pre></div></td></tr><tr><td>TailOrNull</td><td><div class=\"dni-plaintext\"><pre>&lt;null&gt;</pre></div></td></tr><tr><td>Head</td><td><details class=\"dni-treeview\"><summary><span class=\"dni-code-hint\"><code>System.InvalidOperationException: The input list was empty.\\r\\n   at Microsoft.FSharp.Collections.FSharpList`1.get_Head() in D:\\a\\_work\\1\\s\\src\\FSharp.Core\\prim-types.fs:line 4141\\r\\n   at lambda_method532(Closure, FSharpList`1)\\r\\n   at Microsoft.DotNet.Interactive.Formatting.MemberAccessor`1.GetVa...</code></span></summary><div><table><thead><tr></tr></thead><tbody><tr><td>TargetSite</td><td>T get_Head()</td></tr><tr><td>Message</td><td>The input list was empty.</td></tr><tr><td>Data</td><td>[  ]</td></tr><tr><td>InnerException</td><td><div class=\"dni-plaintext\"><pre>&lt;null&gt;</pre></div></td></tr><tr><td>HelpLink</td><td><div class=\"dni-plaintext\"><pre>&lt;null&gt;</pre></div></td></tr><tr><td>Source</td><td>FSharp.Core</td></tr><tr><td>HResult</td><td>-2146233079</td></tr><tr><td>StackTrace</td><td>   at Microsoft.FSharp.Collections.FSharpList`1.get_Head() in D:\\a\\_work\\1\\s\\src\\FSharp.Core\\prim-types.fs:line 4141\r\n",
                            "   at lambda_method532(Closure, FSharpList`1)\r\n",
                            "   at Microsoft.DotNet.Interactive.Formatting.MemberAccessor`1.GetValueOrException(T instance) in D:\\a\\_work\\1\\s\\src\\Microsoft.DotNet.Interactive.Formatting\\MemberAccessor{T}.cs:line 58</td></tr></tbody></table></div></details></td></tr><tr><td>Tail</td><td><details class=\"dni-treeview\"><summary><span class=\"dni-code-hint\"><code>System.InvalidOperationException: The input list was empty.\\r\\n   at Microsoft.FSharp.Collections.FSharpList`1.get_Tail() in D:\\a\\_work\\1\\s\\src\\FSharp.Core\\prim-types.fs:line 4146\\r\\n   at lambda_method533(Closure, FSharpList`1)\\r\\n   at Microsoft.DotNet.Interactive.Formatting.MemberAccessor`1.GetVa...</code></span></summary><div><table><thead><tr></tr></thead><tbody><tr><td>TargetSite</td><td>Microsoft.FSharp.Collections.FSharpList`1[T] get_Tail()</td></tr><tr><td>Message</td><td>The input list was empty.</td></tr><tr><td>Data</td><td>[  ]</td></tr><tr><td>InnerException</td><td><div class=\"dni-plaintext\"><pre>&lt;null&gt;</pre></div></td></tr><tr><td>HelpLink</td><td><div class=\"dni-plaintext\"><pre>&lt;null&gt;</pre></div></td></tr><tr><td>Source</td><td>FSharp.Core</td></tr><tr><td>HResult</td><td>-2146233079</td></tr><tr><td>StackTrace</td><td>   at Microsoft.FSharp.Collections.FSharpList`1.get_Tail() in D:\\a\\_work\\1\\s\\src\\FSharp.Core\\prim-types.fs:line 4146\r\n",
                            "   at lambda_method533(Closure, FSharpList`1)\r\n",
                            "   at Microsoft.DotNet.Interactive.Formatting.MemberAccessor`1.GetValueOrException(T instance) in D:\\a\\_work\\1\\s\\src\\Microsoft.DotNet.Interactive.Formatting\\MemberAccessor{T}.cs:line 58</td></tr></tbody></table></div></details></td></tr><tr><td><i>(values)</i></td><td><div class=\"dni-plaintext\"><pre>[  ]</pre></div></td></tr></tbody></table></div></details></td></tr><tr><td><i>(values)</i></td><td><div class=\"dni-plaintext\"><pre>[ 4 ]</pre></div></td></tr></tbody></table></div></details></td></tr><tr><td><i>(values)</i></td><td><div class=\"dni-plaintext\"><pre>[ 3, 4 ]</pre></div></td></tr></tbody></table></div></details></td></tr><tr><td><i>(values)</i></td><td><div class=\"dni-plaintext\"><pre>[ 2, 3, 4 ]</pre></div></td></tr></tbody></table></div></details></td></tr><tr><td>Head</td><td><div class=\"dni-plaintext\"><pre>1</pre></div></td></tr><tr><td>Tail</td><td><details class=\"dni-treeview\"><summary><span class=\"dni-code-hint\"><code>[ 2, 3, 4 ]</code></span></summary><div><table><thead><tr></tr></thead><tbody><tr><td>HeadOrDefault</td><td><div class=\"dni-plaintext\"><pre>2</pre></div></td></tr><tr><td>TailOrNull</td><td><details class=\"dni-treeview\"><summary><span class=\"dni-code-hint\"><code>[ 3, 4 ]</code></span></summary><div><table><thead><tr></tr></thead><tbody><tr><td>HeadOrDefault</td><td><div class=\"dni-plaintext\"><pre>3</pre></div></td></tr><tr><td>TailOrNull</td><td><details class=\"dni-treeview\"><summary><span class=\"dni-code-hint\"><code>[ 4 ]</code></span></summary><div><table><thead><tr></tr></thead><tbody><tr><td>HeadOrDefault</td><td><div class=\"dni-plaintext\"><pre>4</pre></div></td></tr><tr><td>TailOrNull</td><td><details class=\"dni-treeview\"><summary><span class=\"dni-code-hint\"><code>[  ]</code></span></summary><div><table><thead><tr></tr></thead><tbody><tr><td>HeadOrDefault</td><td><div class=\"dni-plaintext\"><pre>0</pre></div></td></tr><tr><td>TailOrNull</td><td><div class=\"dni-plaintext\"><pre>&lt;null&gt;</pre></div></td></tr><tr><td>Head</td><td><details class=\"dni-treeview\"><summary><span class=\"dni-code-hint\"><code>System.InvalidOperationException: The input list was empty.\\r\\n   at Microsoft.FSharp.Collections.FSharpList`1.get_Head() in D:\\a\\_work\\1\\s\\src\\FSharp.Core\\prim-types.fs:line 4141\\r\\n   at lambda_method532(Closure, FSharpList`1)\\r\\n   at Microsoft.DotNet.Interactive.Formatting.MemberAccessor`1.GetVa...</code></span></summary><div><table><thead><tr></tr></thead><tbody><tr><td>TargetSite</td><td>T get_Head()</td></tr><tr><td>Message</td><td>The input list was empty.</td></tr><tr><td>Data</td><td>[  ]</td></tr><tr><td>InnerException</td><td><div class=\"dni-plaintext\"><pre>&lt;null&gt;</pre></div></td></tr><tr><td>HelpLink</td><td><div class=\"dni-plaintext\"><pre>&lt;null&gt;</pre></div></td></tr><tr><td>Source</td><td>FSharp.Core</td></tr><tr><td>HResult</td><td>-2146233079</td></tr><tr><td>StackTrace</td><td>   at Microsoft.FSharp.Collections.FSharpList`1.get_Head() in D:\\a\\_work\\1\\s\\src\\FSharp.Core\\prim-types.fs:line 4141\r\n",
                            "   at lambda_method532(Closure, FSharpList`1)\r\n",
                            "   at Microsoft.DotNet.Interactive.Formatting.MemberAccessor`1.GetValueOrException(T instance) in D:\\a\\_work\\1\\s\\src\\Microsoft.DotNet.Interactive.Formatting\\MemberAccessor{T}.cs:line 58</td></tr></tbody></table></div></details></td></tr><tr><td>Tail</td><td><details class=\"dni-treeview\"><summary><span class=\"dni-code-hint\"><code>System.InvalidOperationException: The input list was empty.\\r\\n   at Microsoft.FSharp.Collections.FSharpList`1.get_Tail() in D:\\a\\_work\\1\\s\\src\\FSharp.Core\\prim-types.fs:line 4146\\r\\n   at lambda_method533(Closure, FSharpList`1)\\r\\n   at Microsoft.DotNet.Interactive.Formatting.MemberAccessor`1.GetVa...</code></span></summary><div><table><thead><tr></tr></thead><tbody><tr><td>TargetSite</td><td>Microsoft.FSharp.Collections.FSharpList`1[T] get_Tail()</td></tr><tr><td>Message</td><td>The input list was empty.</td></tr><tr><td>Data</td><td>[  ]</td></tr><tr><td>InnerException</td><td><div class=\"dni-plaintext\"><pre>&lt;null&gt;</pre></div></td></tr><tr><td>HelpLink</td><td><div class=\"dni-plaintext\"><pre>&lt;null&gt;</pre></div></td></tr><tr><td>Source</td><td>FSharp.Core</td></tr><tr><td>HResult</td><td>-2146233079</td></tr><tr><td>StackTrace</td><td>   at Microsoft.FSharp.Collections.FSharpList`1.get_Tail() in D:\\a\\_work\\1\\s\\src\\FSharp.Core\\prim-types.fs:line 4146\r\n",
                            "   at lambda_method533(Closure, FSharpList`1)\r\n",
                            "   at Microsoft.DotNet.Interactive.Formatting.MemberAccessor`1.GetValueOrException(T instance) in D:\\a\\_work\\1\\s\\src\\Microsoft.DotNet.Interactive.Formatting\\MemberAccessor{T}.cs:line 58</td></tr></tbody></table></div></details></td></tr><tr><td><i>(values)</i></td><td><div class=\"dni-plaintext\"><pre>[  ]</pre></div></td></tr></tbody></table></div></details></td></tr><tr><td>Head</td><td><div class=\"dni-plaintext\"><pre>4</pre></div></td></tr><tr><td>Tail</td><td><details class=\"dni-treeview\"><summary><span class=\"dni-code-hint\"><code>[  ]</code></span></summary><div><table><thead><tr></tr></thead><tbody><tr><td>HeadOrDefault</td><td><div class=\"dni-plaintext\"><pre>0</pre></div></td></tr><tr><td>TailOrNull</td><td><div class=\"dni-plaintext\"><pre>&lt;null&gt;</pre></div></td></tr><tr><td>Head</td><td><details class=\"dni-treeview\"><summary><span class=\"dni-code-hint\"><code>System.InvalidOperationException: The input list was empty.\\r\\n   at Microsoft.FSharp.Collections.FSharpList`1.get_Head() in D:\\a\\_work\\1\\s\\src\\FSharp.Core\\prim-types.fs:line 4141\\r\\n   at lambda_method532(Closure, FSharpList`1)\\r\\n   at Microsoft.DotNet.Interactive.Formatting.MemberAccessor`1.GetVa...</code></span></summary><div><table><thead><tr></tr></thead><tbody><tr><td>TargetSite</td><td>T get_Head()</td></tr><tr><td>Message</td><td>The input list was empty.</td></tr><tr><td>Data</td><td>[  ]</td></tr><tr><td>InnerException</td><td><div class=\"dni-plaintext\"><pre>&lt;null&gt;</pre></div></td></tr><tr><td>HelpLink</td><td><div class=\"dni-plaintext\"><pre>&lt;null&gt;</pre></div></td></tr><tr><td>Source</td><td>FSharp.Core</td></tr><tr><td>HResult</td><td>-2146233079</td></tr><tr><td>StackTrace</td><td>   at Microsoft.FSharp.Collections.FSharpList`1.get_Head() in D:\\a\\_work\\1\\s\\src\\FSharp.Core\\prim-types.fs:line 4141\r\n",
                            "   at lambda_method532(Closure, FSharpList`1)\r\n",
                            "   at Microsoft.DotNet.Interactive.Formatting.MemberAccessor`1.GetValueOrException(T instance) in D:\\a\\_work\\1\\s\\src\\Microsoft.DotNet.Interactive.Formatting\\MemberAccessor{T}.cs:line 58</td></tr></tbody></table></div></details></td></tr><tr><td>Tail</td><td><details class=\"dni-treeview\"><summary><span class=\"dni-code-hint\"><code>System.InvalidOperationException: The input list was empty.\\r\\n   at Microsoft.FSharp.Collections.FSharpList`1.get_Tail() in D:\\a\\_work\\1\\s\\src\\FSharp.Core\\prim-types.fs:line 4146\\r\\n   at lambda_method533(Closure, FSharpList`1)\\r\\n   at Microsoft.DotNet.Interactive.Formatting.MemberAccessor`1.GetVa...</code></span></summary><div><table><thead><tr></tr></thead><tbody><tr><td>TargetSite</td><td>Microsoft.FSharp.Collections.FSharpList`1[T] get_Tail()</td></tr><tr><td>Message</td><td>The input list was empty.</td></tr><tr><td>Data</td><td>[  ]</td></tr><tr><td>InnerException</td><td><div class=\"dni-plaintext\"><pre>&lt;null&gt;</pre></div></td></tr><tr><td>HelpLink</td><td><div class=\"dni-plaintext\"><pre>&lt;null&gt;</pre></div></td></tr><tr><td>Source</td><td>FSharp.Core</td></tr><tr><td>HResult</td><td>-2146233079</td></tr><tr><td>StackTrace</td><td>   at Microsoft.FSharp.Collections.FSharpList`1.get_Tail() in D:\\a\\_work\\1\\s\\src\\FSharp.Core\\prim-types.fs:line 4146\r\n",
                            "   at lambda_method533(Closure, FSharpList`1)\r\n",
                            "   at Microsoft.DotNet.Interactive.Formatting.MemberAccessor`1.GetValueOrException(T instance) in D:\\a\\_work\\1\\s\\src\\Microsoft.DotNet.Interactive.Formatting\\MemberAccessor{T}.cs:line 58</td></tr></tbody></table></div></details></td></tr><tr><td><i>(values)</i></td><td><div class=\"dni-plaintext\"><pre>[  ]</pre></div></td></tr></tbody></table></div></details></td></tr><tr><td><i>(values)</i></td><td><div class=\"dni-plaintext\"><pre>[ 4 ]</pre></div></td></tr></tbody></table></div></details></td></tr><tr><td>Head</td><td><div class=\"dni-plaintext\"><pre>3</pre></div></td></tr><tr><td>Tail</td><td><details class=\"dni-treeview\"><summary><span class=\"dni-code-hint\"><code>[ 4 ]</code></span></summary><div><table><thead><tr></tr></thead><tbody><tr><td>HeadOrDefault</td><td><div class=\"dni-plaintext\"><pre>4</pre></div></td></tr><tr><td>TailOrNull</td><td><details class=\"dni-treeview\"><summary><span class=\"dni-code-hint\"><code>[  ]</code></span></summary><div><table><thead><tr></tr></thead><tbody><tr><td>HeadOrDefault</td><td><div class=\"dni-plaintext\"><pre>0</pre></div></td></tr><tr><td>TailOrNull</td><td><div class=\"dni-plaintext\"><pre>&lt;null&gt;</pre></div></td></tr><tr><td>Head</td><td><details class=\"dni-treeview\"><summary><span class=\"dni-code-hint\"><code>System.InvalidOperationException: The input list was empty.\\r\\n   at Microsoft.FSharp.Collections.FSharpList`1.get_Head() in D:\\a\\_work\\1\\s\\src\\FSharp.Core\\prim-types.fs:line 4141\\r\\n   at lambda_method532(Closure, FSharpList`1)\\r\\n   at Microsoft.DotNet.Interactive.Formatting.MemberAccessor`1.GetVa...</code></span></summary><div><table><thead><tr></tr></thead><tbody><tr><td>TargetSite</td><td>T get_Head()</td></tr><tr><td>Message</td><td>The input list was empty.</td></tr><tr><td>Data</td><td>[  ]</td></tr><tr><td>InnerException</td><td><div class=\"dni-plaintext\"><pre>&lt;null&gt;</pre></div></td></tr><tr><td>HelpLink</td><td><div class=\"dni-plaintext\"><pre>&lt;null&gt;</pre></div></td></tr><tr><td>Source</td><td>FSharp.Core</td></tr><tr><td>HResult</td><td>-2146233079</td></tr><tr><td>StackTrace</td><td>   at Microsoft.FSharp.Collections.FSharpList`1.get_Head() in D:\\a\\_work\\1\\s\\src\\FSharp.Core\\prim-types.fs:line 4141\r\n",
                            "   at lambda_method532(Closure, FSharpList`1)\r\n",
                            "   at Microsoft.DotNet.Interactive.Formatting.MemberAccessor`1.GetValueOrException(T instance) in D:\\a\\_work\\1\\s\\src\\Microsoft.DotNet.Interactive.Formatting\\MemberAccessor{T}.cs:line 58</td></tr></tbody></table></div></details></td></tr><tr><td>Tail</td><td><details class=\"dni-treeview\"><summary><span class=\"dni-code-hint\"><code>System.InvalidOperationException: The input list was empty.\\r\\n   at Microsoft.FSharp.Collections.FSharpList`1.get_Tail() in D:\\a\\_work\\1\\s\\src\\FSharp.Core\\prim-types.fs:line 4146\\r\\n   at lambda_method533(Closure, FSharpList`1)\\r\\n   at Microsoft.DotNet.Interactive.Formatting.MemberAccessor`1.GetVa...</code></span></summary><div><table><thead><tr></tr></thead><tbody><tr><td>TargetSite</td><td>Microsoft.FSharp.Collections.FSharpList`1[T] get_Tail()</td></tr><tr><td>Message</td><td>The input list was empty.</td></tr><tr><td>Data</td><td>[  ]</td></tr><tr><td>InnerException</td><td><div class=\"dni-plaintext\"><pre>&lt;null&gt;</pre></div></td></tr><tr><td>HelpLink</td><td><div class=\"dni-plaintext\"><pre>&lt;null&gt;</pre></div></td></tr><tr><td>Source</td><td>FSharp.Core</td></tr><tr><td>HResult</td><td>-2146233079</td></tr><tr><td>StackTrace</td><td>   at Microsoft.FSharp.Collections.FSharpList`1.get_Tail() in D:\\a\\_work\\1\\s\\src\\FSharp.Core\\prim-types.fs:line 4146\r\n",
                            "   at lambda_method533(Closure, FSharpList`1)\r\n",
                            "   at Microsoft.DotNet.Interactive.Formatting.MemberAccessor`1.GetValueOrException(T instance) in D:\\a\\_work\\1\\s\\src\\Microsoft.DotNet.Interactive.Formatting\\MemberAccessor{T}.cs:line 58</td></tr></tbody></table></div></details></td></tr><tr><td><i>(values)</i></td><td><div class=\"dni-plaintext\"><pre>[  ]</pre></div></td></tr></tbody></table></div></details></td></tr><tr><td>Head</td><td><div class=\"dni-plaintext\"><pre>4</pre></div></td></tr><tr><td>Tail</td><td><details class=\"dni-treeview\"><summary><span class=\"dni-code-hint\"><code>[  ]</code></span></summary><div><table><thead><tr></tr></thead><tbody><tr><td>HeadOrDefault</td><td><div class=\"dni-plaintext\"><pre>0</pre></div></td></tr><tr><td>TailOrNull</td><td><div class=\"dni-plaintext\"><pre>&lt;null&gt;</pre></div></td></tr><tr><td>Head</td><td><details class=\"dni-treeview\"><summary><span class=\"dni-code-hint\"><code>System.InvalidOperationException: The input list was empty.\\r\\n   at Microsoft.FSharp.Collections.FSharpList`1.get_Head() in D:\\a\\_work\\1\\s\\src\\FSharp.Core\\prim-types.fs:line 4141\\r\\n   at lambda_method532(Closure, FSharpList`1)\\r\\n   at Microsoft.DotNet.Interactive.Formatting.MemberAccessor`1.GetVa...</code></span></summary><div><table><thead><tr></tr></thead><tbody><tr><td>TargetSite</td><td>T get_Head()</td></tr><tr><td>Message</td><td>The input list was empty.</td></tr><tr><td>Data</td><td>[  ]</td></tr><tr><td>InnerException</td><td><div class=\"dni-plaintext\"><pre>&lt;null&gt;</pre></div></td></tr><tr><td>HelpLink</td><td><div class=\"dni-plaintext\"><pre>&lt;null&gt;</pre></div></td></tr><tr><td>Source</td><td>FSharp.Core</td></tr><tr><td>HResult</td><td>-2146233079</td></tr><tr><td>StackTrace</td><td>   at Microsoft.FSharp.Collections.FSharpList`1.get_Head() in D:\\a\\_work\\1\\s\\src\\FSharp.Core\\prim-types.fs:line 4141\r\n",
                            "   at lambda_method532(Closure, FSharpList`1)\r\n",
                            "   at Microsoft.DotNet.Interactive.Formatting.MemberAccessor`1.GetValueOrException(T instance) in D:\\a\\_work\\1\\s\\src\\Microsoft.DotNet.Interactive.Formatting\\MemberAccessor{T}.cs:line 58</td></tr></tbody></table></div></details></td></tr><tr><td>Tail</td><td><details class=\"dni-treeview\"><summary><span class=\"dni-code-hint\"><code>System.InvalidOperationException: The input list was empty.\\r\\n   at Microsoft.FSharp.Collections.FSharpList`1.get_Tail() in D:\\a\\_work\\1\\s\\src\\FSharp.Core\\prim-types.fs:line 4146\\r\\n   at lambda_method533(Closure, FSharpList`1)\\r\\n   at Microsoft.DotNet.Interactive.Formatting.MemberAccessor`1.GetVa...</code></span></summary><div><table><thead><tr></tr></thead><tbody><tr><td>TargetSite</td><td>Microsoft.FSharp.Collections.FSharpList`1[T] get_Tail()</td></tr><tr><td>Message</td><td>The input list was empty.</td></tr><tr><td>Data</td><td>[  ]</td></tr><tr><td>InnerException</td><td><div class=\"dni-plaintext\"><pre>&lt;null&gt;</pre></div></td></tr><tr><td>HelpLink</td><td><div class=\"dni-plaintext\"><pre>&lt;null&gt;</pre></div></td></tr><tr><td>Source</td><td>FSharp.Core</td></tr><tr><td>HResult</td><td>-2146233079</td></tr><tr><td>StackTrace</td><td>   at Microsoft.FSharp.Collections.FSharpList`1.get_Tail() in D:\\a\\_work\\1\\s\\src\\FSharp.Core\\prim-types.fs:line 4146\r\n",
                            "   at lambda_method533(Closure, FSharpList`1)\r\n",
                            "   at Microsoft.DotNet.Interactive.Formatting.MemberAccessor`1.GetValueOrException(T instance) in D:\\a\\_work\\1\\s\\src\\Microsoft.DotNet.Interactive.Formatting\\MemberAccessor{T}.cs:line 58</td></tr></tbody></table></div></details></td></tr><tr><td><i>(values)</i></td><td><div class=\"dni-plaintext\"><pre>[  ]</pre></div></td></tr></tbody></table></div></details></td></tr><tr><td><i>(values)</i></td><td><div class=\"dni-plaintext\"><pre>[ 4 ]</pre></div></td></tr></tbody></table></div></details></td></tr><tr><td><i>(values)</i></td><td><div class=\"dni-plaintext\"><pre>[ 3, 4 ]</pre></div></td></tr></tbody></table></div></details></td></tr><tr><td>Head</td><td><div class=\"dni-plaintext\"><pre>2</pre></div></td></tr><tr><td>Tail</td><td><details class=\"dni-treeview\"><summary><span class=\"dni-code-hint\"><code>[ 3, 4 ]</code></span></summary><div><table><thead><tr></tr></thead><tbody><tr><td>HeadOrDefault</td><td><div class=\"dni-plaintext\"><pre>3</pre></div></td></tr><tr><td>TailOrNull</td><td><details class=\"dni-treeview\"><summary><span class=\"dni-code-hint\"><code>[ 4 ]</code></span></summary><div><table><thead><tr></tr></thead><tbody><tr><td>HeadOrDefault</td><td><div class=\"dni-plaintext\"><pre>4</pre></div></td></tr><tr><td>TailOrNull</td><td><details class=\"dni-treeview\"><summary><span class=\"dni-code-hint\"><code>[  ]</code></span></summary><div><table><thead><tr></tr></thead><tbody><tr><td>HeadOrDefault</td><td><div class=\"dni-plaintext\"><pre>0</pre></div></td></tr><tr><td>TailOrNull</td><td><div class=\"dni-plaintext\"><pre>&lt;null&gt;</pre></div></td></tr><tr><td>Head</td><td><details class=\"dni-treeview\"><summary><span class=\"dni-code-hint\"><code>System.InvalidOperationException: The input list was empty.\\r\\n   at Microsoft.FSharp.Collections.FSharpList`1.get_Head() in D:\\a\\_work\\1\\s\\src\\FSharp.Core\\prim-types.fs:line 4141\\r\\n   at lambda_method532(Closure, FSharpList`1)\\r\\n   at Microsoft.DotNet.Interactive.Formatting.MemberAccessor`1.GetVa...</code></span></summary><div><table><thead><tr></tr></thead><tbody><tr><td>TargetSite</td><td>T get_Head()</td></tr><tr><td>Message</td><td>The input list was empty.</td></tr><tr><td>Data</td><td>[  ]</td></tr><tr><td>InnerException</td><td><div class=\"dni-plaintext\"><pre>&lt;null&gt;</pre></div></td></tr><tr><td>HelpLink</td><td><div class=\"dni-plaintext\"><pre>&lt;null&gt;</pre></div></td></tr><tr><td>Source</td><td>FSharp.Core</td></tr><tr><td>HResult</td><td>-2146233079</td></tr><tr><td>StackTrace</td><td>   at Microsoft.FSharp.Collections.FSharpList`1.get_Head() in D:\\a\\_work\\1\\s\\src\\FSharp.Core\\prim-types.fs:line 4141\r\n",
                            "   at lambda_method532(Closure, FSharpList`1)\r\n",
                            "   at Microsoft.DotNet.Interactive.Formatting.MemberAccessor`1.GetValueOrException(T instance) in D:\\a\\_work\\1\\s\\src\\Microsoft.DotNet.Interactive.Formatting\\MemberAccessor{T}.cs:line 58</td></tr></tbody></table></div></details></td></tr><tr><td>Tail</td><td><details class=\"dni-treeview\"><summary><span class=\"dni-code-hint\"><code>System.InvalidOperationException: The input list was empty.\\r\\n   at Microsoft.FSharp.Collections.FSharpList`1.get_Tail() in D:\\a\\_work\\1\\s\\src\\FSharp.Core\\prim-types.fs:line 4146\\r\\n   at lambda_method533(Closure, FSharpList`1)\\r\\n   at Microsoft.DotNet.Interactive.Formatting.MemberAccessor`1.GetVa...</code></span></summary><div><table><thead><tr></tr></thead><tbody><tr><td>TargetSite</td><td>Microsoft.FSharp.Collections.FSharpList`1[T] get_Tail()</td></tr><tr><td>Message</td><td>The input list was empty.</td></tr><tr><td>Data</td><td>[  ]</td></tr><tr><td>InnerException</td><td><div class=\"dni-plaintext\"><pre>&lt;null&gt;</pre></div></td></tr><tr><td>HelpLink</td><td><div class=\"dni-plaintext\"><pre>&lt;null&gt;</pre></div></td></tr><tr><td>Source</td><td>FSharp.Core</td></tr><tr><td>HResult</td><td>-2146233079</td></tr><tr><td>StackTrace</td><td>   at Microsoft.FSharp.Collections.FSharpList`1.get_Tail() in D:\\a\\_work\\1\\s\\src\\FSharp.Core\\prim-types.fs:line 4146\r\n",
                            "   at lambda_method533(Closure, FSharpList`1)\r\n",
                            "   at Microsoft.DotNet.Interactive.Formatting.MemberAccessor`1.GetValueOrException(T instance) in D:\\a\\_work\\1\\s\\src\\Microsoft.DotNet.Interactive.Formatting\\MemberAccessor{T}.cs:line 58</td></tr></tbody></table></div></details></td></tr><tr><td><i>(values)</i></td><td><div class=\"dni-plaintext\"><pre>[  ]</pre></div></td></tr></tbody></table></div></details></td></tr><tr><td>Head</td><td><div class=\"dni-plaintext\"><pre>4</pre></div></td></tr><tr><td>Tail</td><td><details class=\"dni-treeview\"><summary><span class=\"dni-code-hint\"><code>[  ]</code></span></summary><div><table><thead><tr></tr></thead><tbody><tr><td>HeadOrDefault</td><td><div class=\"dni-plaintext\"><pre>0</pre></div></td></tr><tr><td>TailOrNull</td><td><div class=\"dni-plaintext\"><pre>&lt;null&gt;</pre></div></td></tr><tr><td>Head</td><td><details class=\"dni-treeview\"><summary><span class=\"dni-code-hint\"><code>System.InvalidOperationException: The input list was empty.\\r\\n   at Microsoft.FSharp.Collections.FSharpList`1.get_Head() in D:\\a\\_work\\1\\s\\src\\FSharp.Core\\prim-types.fs:line 4141\\r\\n   at lambda_method532(Closure, FSharpList`1)\\r\\n   at Microsoft.DotNet.Interactive.Formatting.MemberAccessor`1.GetVa...</code></span></summary><div><table><thead><tr></tr></thead><tbody><tr><td>TargetSite</td><td>T get_Head()</td></tr><tr><td>Message</td><td>The input list was empty.</td></tr><tr><td>Data</td><td>[  ]</td></tr><tr><td>InnerException</td><td><div class=\"dni-plaintext\"><pre>&lt;null&gt;</pre></div></td></tr><tr><td>HelpLink</td><td><div class=\"dni-plaintext\"><pre>&lt;null&gt;</pre></div></td></tr><tr><td>Source</td><td>FSharp.Core</td></tr><tr><td>HResult</td><td>-2146233079</td></tr><tr><td>StackTrace</td><td>   at Microsoft.FSharp.Collections.FSharpList`1.get_Head() in D:\\a\\_work\\1\\s\\src\\FSharp.Core\\prim-types.fs:line 4141\r\n",
                            "   at lambda_method532(Closure, FSharpList`1)\r\n",
                            "   at Microsoft.DotNet.Interactive.Formatting.MemberAccessor`1.GetValueOrException(T instance) in D:\\a\\_work\\1\\s\\src\\Microsoft.DotNet.Interactive.Formatting\\MemberAccessor{T}.cs:line 58</td></tr></tbody></table></div></details></td></tr><tr><td>Tail</td><td><details class=\"dni-treeview\"><summary><span class=\"dni-code-hint\"><code>System.InvalidOperationException: The input list was empty.\\r\\n   at Microsoft.FSharp.Collections.FSharpList`1.get_Tail() in D:\\a\\_work\\1\\s\\src\\FSharp.Core\\prim-types.fs:line 4146\\r\\n   at lambda_method533(Closure, FSharpList`1)\\r\\n   at Microsoft.DotNet.Interactive.Formatting.MemberAccessor`1.GetVa...</code></span></summary><div><table><thead><tr></tr></thead><tbody><tr><td>TargetSite</td><td>Microsoft.FSharp.Collections.FSharpList`1[T] get_Tail()</td></tr><tr><td>Message</td><td>The input list was empty.</td></tr><tr><td>Data</td><td>[  ]</td></tr><tr><td>InnerException</td><td><div class=\"dni-plaintext\"><pre>&lt;null&gt;</pre></div></td></tr><tr><td>HelpLink</td><td><div class=\"dni-plaintext\"><pre>&lt;null&gt;</pre></div></td></tr><tr><td>Source</td><td>FSharp.Core</td></tr><tr><td>HResult</td><td>-2146233079</td></tr><tr><td>StackTrace</td><td>   at Microsoft.FSharp.Collections.FSharpList`1.get_Tail() in D:\\a\\_work\\1\\s\\src\\FSharp.Core\\prim-types.fs:line 4146\r\n",
                            "   at lambda_method533(Closure, FSharpList`1)\r\n",
                            "   at Microsoft.DotNet.Interactive.Formatting.MemberAccessor`1.GetValueOrException(T instance) in D:\\a\\_work\\1\\s\\src\\Microsoft.DotNet.Interactive.Formatting\\MemberAccessor{T}.cs:line 58</td></tr></tbody></table></div></details></td></tr><tr><td><i>(values)</i></td><td><div class=\"dni-plaintext\"><pre>[  ]</pre></div></td></tr></tbody></table></div></details></td></tr><tr><td><i>(values)</i></td><td><div class=\"dni-plaintext\"><pre>[ 4 ]</pre></div></td></tr></tbody></table></div></details></td></tr><tr><td>Head</td><td><div class=\"dni-plaintext\"><pre>3</pre></div></td></tr><tr><td>Tail</td><td><details class=\"dni-treeview\"><summary><span class=\"dni-code-hint\"><code>[ 4 ]</code></span></summary><div><table><thead><tr></tr></thead><tbody><tr><td>HeadOrDefault</td><td><div class=\"dni-plaintext\"><pre>4</pre></div></td></tr><tr><td>TailOrNull</td><td><details class=\"dni-treeview\"><summary><span class=\"dni-code-hint\"><code>[  ]</code></span></summary><div><table><thead><tr></tr></thead><tbody><tr><td>HeadOrDefault</td><td><div class=\"dni-plaintext\"><pre>0</pre></div></td></tr><tr><td>TailOrNull</td><td><div class=\"dni-plaintext\"><pre>&lt;null&gt;</pre></div></td></tr><tr><td>Head</td><td><details class=\"dni-treeview\"><summary><span class=\"dni-code-hint\"><code>System.InvalidOperationException: The input list was empty.\\r\\n   at Microsoft.FSharp.Collections.FSharpList`1.get_Head() in D:\\a\\_work\\1\\s\\src\\FSharp.Core\\prim-types.fs:line 4141\\r\\n   at lambda_method532(Closure, FSharpList`1)\\r\\n   at Microsoft.DotNet.Interactive.Formatting.MemberAccessor`1.GetVa...</code></span></summary><div><table><thead><tr></tr></thead><tbody><tr><td>TargetSite</td><td>T get_Head()</td></tr><tr><td>Message</td><td>The input list was empty.</td></tr><tr><td>Data</td><td>[  ]</td></tr><tr><td>InnerException</td><td><div class=\"dni-plaintext\"><pre>&lt;null&gt;</pre></div></td></tr><tr><td>HelpLink</td><td><div class=\"dni-plaintext\"><pre>&lt;null&gt;</pre></div></td></tr><tr><td>Source</td><td>FSharp.Core</td></tr><tr><td>HResult</td><td>-2146233079</td></tr><tr><td>StackTrace</td><td>   at Microsoft.FSharp.Collections.FSharpList`1.get_Head() in D:\\a\\_work\\1\\s\\src\\FSharp.Core\\prim-types.fs:line 4141\r\n",
                            "   at lambda_method532(Closure, FSharpList`1)\r\n",
                            "   at Microsoft.DotNet.Interactive.Formatting.MemberAccessor`1.GetValueOrException(T instance) in D:\\a\\_work\\1\\s\\src\\Microsoft.DotNet.Interactive.Formatting\\MemberAccessor{T}.cs:line 58</td></tr></tbody></table></div></details></td></tr><tr><td>Tail</td><td><details class=\"dni-treeview\"><summary><span class=\"dni-code-hint\"><code>System.InvalidOperationException: The input list was empty.\\r\\n   at Microsoft.FSharp.Collections.FSharpList`1.get_Tail() in D:\\a\\_work\\1\\s\\src\\FSharp.Core\\prim-types.fs:line 4146\\r\\n   at lambda_method533(Closure, FSharpList`1)\\r\\n   at Microsoft.DotNet.Interactive.Formatting.MemberAccessor`1.GetVa...</code></span></summary><div><table><thead><tr></tr></thead><tbody><tr><td>TargetSite</td><td>Microsoft.FSharp.Collections.FSharpList`1[T] get_Tail()</td></tr><tr><td>Message</td><td>The input list was empty.</td></tr><tr><td>Data</td><td>[  ]</td></tr><tr><td>InnerException</td><td><div class=\"dni-plaintext\"><pre>&lt;null&gt;</pre></div></td></tr><tr><td>HelpLink</td><td><div class=\"dni-plaintext\"><pre>&lt;null&gt;</pre></div></td></tr><tr><td>Source</td><td>FSharp.Core</td></tr><tr><td>HResult</td><td>-2146233079</td></tr><tr><td>StackTrace</td><td>   at Microsoft.FSharp.Collections.FSharpList`1.get_Tail() in D:\\a\\_work\\1\\s\\src\\FSharp.Core\\prim-types.fs:line 4146\r\n",
                            "   at lambda_method533(Closure, FSharpList`1)\r\n",
                            "   at Microsoft.DotNet.Interactive.Formatting.MemberAccessor`1.GetValueOrException(T instance) in D:\\a\\_work\\1\\s\\src\\Microsoft.DotNet.Interactive.Formatting\\MemberAccessor{T}.cs:line 58</td></tr></tbody></table></div></details></td></tr><tr><td><i>(values)</i></td><td><div class=\"dni-plaintext\"><pre>[  ]</pre></div></td></tr></tbody></table></div></details></td></tr><tr><td>Head</td><td><div class=\"dni-plaintext\"><pre>4</pre></div></td></tr><tr><td>Tail</td><td><details class=\"dni-treeview\"><summary><span class=\"dni-code-hint\"><code>[  ]</code></span></summary><div><table><thead><tr></tr></thead><tbody><tr><td>HeadOrDefault</td><td><div class=\"dni-plaintext\"><pre>0</pre></div></td></tr><tr><td>TailOrNull</td><td><div class=\"dni-plaintext\"><pre>&lt;null&gt;</pre></div></td></tr><tr><td>Head</td><td><details class=\"dni-treeview\"><summary><span class=\"dni-code-hint\"><code>System.InvalidOperationException: The input list was empty.\\r\\n   at Microsoft.FSharp.Collections.FSharpList`1.get_Head() in D:\\a\\_work\\1\\s\\src\\FSharp.Core\\prim-types.fs:line 4141\\r\\n   at lambda_method532(Closure, FSharpList`1)\\r\\n   at Microsoft.DotNet.Interactive.Formatting.MemberAccessor`1.GetVa...</code></span></summary><div><table><thead><tr></tr></thead><tbody><tr><td>TargetSite</td><td>T get_Head()</td></tr><tr><td>Message</td><td>The input list was empty.</td></tr><tr><td>Data</td><td>[  ]</td></tr><tr><td>InnerException</td><td><div class=\"dni-plaintext\"><pre>&lt;null&gt;</pre></div></td></tr><tr><td>HelpLink</td><td><div class=\"dni-plaintext\"><pre>&lt;null&gt;</pre></div></td></tr><tr><td>Source</td><td>FSharp.Core</td></tr><tr><td>HResult</td><td>-2146233079</td></tr><tr><td>StackTrace</td><td>   at Microsoft.FSharp.Collections.FSharpList`1.get_Head() in D:\\a\\_work\\1\\s\\src\\FSharp.Core\\prim-types.fs:line 4141\r\n",
                            "   at lambda_method532(Closure, FSharpList`1)\r\n",
                            "   at Microsoft.DotNet.Interactive.Formatting.MemberAccessor`1.GetValueOrException(T instance) in D:\\a\\_work\\1\\s\\src\\Microsoft.DotNet.Interactive.Formatting\\MemberAccessor{T}.cs:line 58</td></tr></tbody></table></div></details></td></tr><tr><td>Tail</td><td><details class=\"dni-treeview\"><summary><span class=\"dni-code-hint\"><code>System.InvalidOperationException: The input list was empty.\\r\\n   at Microsoft.FSharp.Collections.FSharpList`1.get_Tail() in D:\\a\\_work\\1\\s\\src\\FSharp.Core\\prim-types.fs:line 4146\\r\\n   at lambda_method533(Closure, FSharpList`1)\\r\\n   at Microsoft.DotNet.Interactive.Formatting.MemberAccessor`1.GetVa...</code></span></summary><div><table><thead><tr></tr></thead><tbody><tr><td>TargetSite</td><td>Microsoft.FSharp.Collections.FSharpList`1[T] get_Tail()</td></tr><tr><td>Message</td><td>The input list was empty.</td></tr><tr><td>Data</td><td>[  ]</td></tr><tr><td>InnerException</td><td><div class=\"dni-plaintext\"><pre>&lt;null&gt;</pre></div></td></tr><tr><td>HelpLink</td><td><div class=\"dni-plaintext\"><pre>&lt;null&gt;</pre></div></td></tr><tr><td>Source</td><td>FSharp.Core</td></tr><tr><td>HResult</td><td>-2146233079</td></tr><tr><td>StackTrace</td><td>   at Microsoft.FSharp.Collections.FSharpList`1.get_Tail() in D:\\a\\_work\\1\\s\\src\\FSharp.Core\\prim-types.fs:line 4146\r\n",
                            "   at lambda_method533(Closure, FSharpList`1)\r\n",
                            "   at Microsoft.DotNet.Interactive.Formatting.MemberAccessor`1.GetValueOrException(T instance) in D:\\a\\_work\\1\\s\\src\\Microsoft.DotNet.Interactive.Formatting\\MemberAccessor{T}.cs:line 58</td></tr></tbody></table></div></details></td></tr><tr><td><i>(values)</i></td><td><div class=\"dni-plaintext\"><pre>[  ]</pre></div></td></tr></tbody></table></div></details></td></tr><tr><td><i>(values)</i></td><td><div class=\"dni-plaintext\"><pre>[ 4 ]</pre></div></td></tr></tbody></table></div></details></td></tr><tr><td><i>(values)</i></td><td><div class=\"dni-plaintext\"><pre>[ 3, 4 ]</pre></div></td></tr></tbody></table></div></details></td></tr><tr><td><i>(values)</i></td><td><div class=\"dni-plaintext\"><pre>[ 2, 3, 4 ]</pre></div></td></tr></tbody></table></div></details></td></tr><tr><td><i>(values)</i></td><td><div class=\"dni-plaintext\"><pre>[ 1, 2, 3, 4 ]</pre></div></td></tr></tbody></table></div></details><style>\r\n",
                            ".dni-code-hint {\r\n",
                            "    font-style: italic;\r\n",
                            "    overflow: hidden;\r\n",
                            "    white-space: nowrap;\r\n",
                            "}\r\n",
                            ".dni-treeview {\r\n",
                            "    white-space: nowrap;\r\n",
                            "}\r\n",
                            ".dni-treeview td {\r\n",
                            "    vertical-align: top;\r\n",
                            "    text-align: start;\r\n",
                            "}\r\n",
                            "details.dni-treeview {\r\n",
                            "    padding-left: 1em;\r\n",
                            "}\r\n",
                            "table td {\r\n",
                            "    text-align: start;\r\n",
                            "}\r\n",
                            "table tr { \r\n",
                            "    vertical-align: top; \r\n",
                            "    margin: 0em 0px;\r\n",
                            "}\r\n",
                            "table tr td pre \r\n",
                            "{ \r\n",
                            "    vertical-align: top !important; \r\n",
                            "    margin: 0em 0px !important;\r\n",
                            "} \r\n",
                            "table th {\r\n",
                            "    text-align: start;\r\n",
                            "}\r\n",
                            "</style>"
                        ]
                    },
                    "metadata": {},
                    "output_type": "display_data"
                }
            ],
            "source": [
                "let nested = [[1];[2;3];[4]]\n",
                "let flatten = List.concat\n",
                "\n",
                "flatten nested"
            ]
        },
        {
            "cell_type": "markdown",
            "metadata": {},
            "source": [
                "Now we're totally ready to introduce monad. A monad is an **elevated type** with a corresponding **bind** function. And that **bind** function? That's nothing more than our trusty Functor **map** with a built-in **flatten**!"
            ]
        },
        {
            "cell_type": "code",
            "execution_count": 34,
            "metadata": {
                "dotnet_interactive": {
                    "language": "csharp"
                },
                "polyglot_notebook": {
                    "kernelName": "csharp"
                },
                "vscode": {
                    "languageId": "polyglot-notebook"
                }
            },
            "outputs": [],
            "source": [
                "//map:: (a->b)   ->E(a)->E(b)\n",
                "//map:: (a->E(b))->E(a)->E(E(b))\n",
                "//bind::(a->E(b))->E(a)->E(b)"
            ]
        },
        {
            "cell_type": "markdown",
            "metadata": {},
            "source": [
                "Let's take a look at how we could implement **bind** for our *Validation* elevated type."
            ]
        },
        {
            "cell_type": "code",
            "execution_count": 35,
            "metadata": {
                "dotnet_interactive": {
                    "language": "fsharp"
                },
                "polyglot_notebook": {
                    "kernelName": "fsharp"
                },
                "vscode": {
                    "languageId": "polyglot-notebook"
                }
            },
            "outputs": [],
            "source": [
                "//bind::(a->E(b))->E(a)->E(b)\n",
                "let bind (f: ('a -> Validation<'b>)) (a: Validation<'a>) : Validation<'b> =\n",
                "    match a with\n",
                "    | Ok v -> f v\n",
                "    | Error e -> Error e"
            ]
        },
        {
            "cell_type": "markdown",
            "metadata": {},
            "source": [
                "Now, let's see **bind** in action"
            ]
        },
        {
            "cell_type": "code",
            "execution_count": 36,
            "metadata": {
                "dotnet_interactive": {
                    "language": "fsharp"
                },
                "polyglot_notebook": {
                    "kernelName": "fsharp"
                },
                "vscode": {
                    "languageId": "polyglot-notebook"
                }
            },
            "outputs": [
                {
                    "data": {
                        "text/html": [
                            "<details open=\"open\" class=\"dni-treeview\"><summary><span class=\"dni-code-hint\"><code>Ok { Age = Age 13\\n     Email = Email &quot;jo@gmail.com&quot; }</code></span></summary><div><table><thead><tr></tr></thead><tbody><tr><td>Item</td><td><details class=\"dni-treeview\"><summary><span class=\"dni-code-hint\"><code>{ Age = Age 13\\n  Email = Email &quot;jo@gmail.com&quot; }</code></span></summary><div><table><thead><tr></tr></thead><tbody><tr><td>Age</td><td><details class=\"dni-treeview\"><summary><span class=\"dni-code-hint\"><code>Age 13</code></span></summary><div><table><thead><tr></tr></thead><tbody><tr><td>Item</td><td><div class=\"dni-plaintext\"><pre>13</pre></div></td></tr></tbody></table></div></details></td></tr><tr><td>Email</td><td><details class=\"dni-treeview\"><summary><span class=\"dni-code-hint\"><code>Email &quot;jo@gmail.com&quot;</code></span></summary><div><table><thead><tr></tr></thead><tbody><tr><td>Item</td><td><div class=\"dni-plaintext\"><pre>jo@gmail.com</pre></div></td></tr></tbody></table></div></details></td></tr></tbody></table></div></details></td></tr></tbody></table></div></details><style>\r\n",
                            ".dni-code-hint {\r\n",
                            "    font-style: italic;\r\n",
                            "    overflow: hidden;\r\n",
                            "    white-space: nowrap;\r\n",
                            "}\r\n",
                            ".dni-treeview {\r\n",
                            "    white-space: nowrap;\r\n",
                            "}\r\n",
                            ".dni-treeview td {\r\n",
                            "    vertical-align: top;\r\n",
                            "    text-align: start;\r\n",
                            "}\r\n",
                            "details.dni-treeview {\r\n",
                            "    padding-left: 1em;\r\n",
                            "}\r\n",
                            "table td {\r\n",
                            "    text-align: start;\r\n",
                            "}\r\n",
                            "table tr { \r\n",
                            "    vertical-align: top; \r\n",
                            "    margin: 0em 0px;\r\n",
                            "}\r\n",
                            "table tr td pre \r\n",
                            "{ \r\n",
                            "    vertical-align: top !important; \r\n",
                            "    margin: 0em 0px !important;\r\n",
                            "} \r\n",
                            "table th {\r\n",
                            "    text-align: start;\r\n",
                            "}\r\n",
                            "</style>"
                        ]
                    },
                    "metadata": {},
                    "output_type": "display_data"
                }
            ],
            "source": [
                "\n",
                "bind (fun age -> bind (fun email -> Ok(mkPerson age email)) (parseEmail \"jo@gmail.com\")) (parseAge \"13\")"
            ]
        },
        {
            "cell_type": "markdown",
            "metadata": {},
            "source": [
                "Now, that technically works. But oh boy is that painful on the eyes 😅\n",
                "We can make things a bit more readable by using the **pipe** operator **|>**"
            ]
        },
        {
            "cell_type": "code",
            "execution_count": 37,
            "metadata": {
                "dotnet_interactive": {
                    "language": "fsharp"
                },
                "polyglot_notebook": {
                    "kernelName": "fsharp"
                },
                "vscode": {
                    "languageId": "polyglot-notebook"
                }
            },
            "outputs": [
                {
                    "data": {
                        "text/html": [
                            "<details open=\"open\" class=\"dni-treeview\"><summary><span class=\"dni-code-hint\"><code>Ok { Age = Age 13\\n     Email = Email &quot;jo@gmail.com&quot; }</code></span></summary><div><table><thead><tr></tr></thead><tbody><tr><td>Item</td><td><details class=\"dni-treeview\"><summary><span class=\"dni-code-hint\"><code>{ Age = Age 13\\n  Email = Email &quot;jo@gmail.com&quot; }</code></span></summary><div><table><thead><tr></tr></thead><tbody><tr><td>Age</td><td><details class=\"dni-treeview\"><summary><span class=\"dni-code-hint\"><code>Age 13</code></span></summary><div><table><thead><tr></tr></thead><tbody><tr><td>Item</td><td><div class=\"dni-plaintext\"><pre>13</pre></div></td></tr></tbody></table></div></details></td></tr><tr><td>Email</td><td><details class=\"dni-treeview\"><summary><span class=\"dni-code-hint\"><code>Email &quot;jo@gmail.com&quot;</code></span></summary><div><table><thead><tr></tr></thead><tbody><tr><td>Item</td><td><div class=\"dni-plaintext\"><pre>jo@gmail.com</pre></div></td></tr></tbody></table></div></details></td></tr></tbody></table></div></details></td></tr></tbody></table></div></details><style>\r\n",
                            ".dni-code-hint {\r\n",
                            "    font-style: italic;\r\n",
                            "    overflow: hidden;\r\n",
                            "    white-space: nowrap;\r\n",
                            "}\r\n",
                            ".dni-treeview {\r\n",
                            "    white-space: nowrap;\r\n",
                            "}\r\n",
                            ".dni-treeview td {\r\n",
                            "    vertical-align: top;\r\n",
                            "    text-align: start;\r\n",
                            "}\r\n",
                            "details.dni-treeview {\r\n",
                            "    padding-left: 1em;\r\n",
                            "}\r\n",
                            "table td {\r\n",
                            "    text-align: start;\r\n",
                            "}\r\n",
                            "table tr { \r\n",
                            "    vertical-align: top; \r\n",
                            "    margin: 0em 0px;\r\n",
                            "}\r\n",
                            "table tr td pre \r\n",
                            "{ \r\n",
                            "    vertical-align: top !important; \r\n",
                            "    margin: 0em 0px !important;\r\n",
                            "} \r\n",
                            "table th {\r\n",
                            "    text-align: start;\r\n",
                            "}\r\n",
                            "</style>"
                        ]
                    },
                    "metadata": {},
                    "output_type": "display_data"
                }
            ],
            "source": [
                "parseAge \"13\"\n",
                "|> bind (fun age ->\n",
                "    parseEmail \"jo@gmail.com\"\n",
                "    |> bind (fun email ->\n",
                "        Ok(mkPerson age email)))"
            ]
        },
        {
            "cell_type": "markdown",
            "metadata": {},
            "source": [
                "Better, but still not great. Let's introduce a tiny bit of F# black magic that's way beyond the scope of this post. If you want to know more try searching for \"Computation Expressions."
            ]
        },
        {
            "cell_type": "code",
            "execution_count": 38,
            "metadata": {
                "dotnet_interactive": {
                    "language": "fsharp"
                },
                "polyglot_notebook": {
                    "kernelName": "fsharp"
                },
                "vscode": {
                    "languageId": "polyglot-notebook"
                }
            },
            "outputs": [],
            "source": [
                "//For F# \"do syntax\", we need some magic dust\n",
                "type ValidatedResultBuilder() =\n",
                "    member _.Return(x) = Ok x\n",
                "    member _.Bind(m, f) = bind f m\n",
                "\n",
                "let valid = new ValidatedResultBuilder()\n"
            ]
        },
        {
            "cell_type": "markdown",
            "metadata": {},
            "source": [
                "This black magic allows us to write our bind function calls using the following syntax:"
            ]
        },
        {
            "cell_type": "code",
            "execution_count": 39,
            "metadata": {
                "dotnet_interactive": {
                    "language": "fsharp"
                },
                "polyglot_notebook": {
                    "kernelName": "fsharp"
                },
                "vscode": {
                    "languageId": "polyglot-notebook"
                }
            },
            "outputs": [
                {
                    "data": {
                        "text/html": [
                            "<details open=\"open\" class=\"dni-treeview\"><summary><span class=\"dni-code-hint\"><code>Ok { Age = Age 13\\n     Email = Email &quot;jo@gmail.com&quot; }</code></span></summary><div><table><thead><tr></tr></thead><tbody><tr><td>Item</td><td><details class=\"dni-treeview\"><summary><span class=\"dni-code-hint\"><code>{ Age = Age 13\\n  Email = Email &quot;jo@gmail.com&quot; }</code></span></summary><div><table><thead><tr></tr></thead><tbody><tr><td>Age</td><td><details class=\"dni-treeview\"><summary><span class=\"dni-code-hint\"><code>Age 13</code></span></summary><div><table><thead><tr></tr></thead><tbody><tr><td>Item</td><td><div class=\"dni-plaintext\"><pre>13</pre></div></td></tr></tbody></table></div></details></td></tr><tr><td>Email</td><td><details class=\"dni-treeview\"><summary><span class=\"dni-code-hint\"><code>Email &quot;jo@gmail.com&quot;</code></span></summary><div><table><thead><tr></tr></thead><tbody><tr><td>Item</td><td><div class=\"dni-plaintext\"><pre>jo@gmail.com</pre></div></td></tr></tbody></table></div></details></td></tr></tbody></table></div></details></td></tr></tbody></table></div></details><style>\r\n",
                            ".dni-code-hint {\r\n",
                            "    font-style: italic;\r\n",
                            "    overflow: hidden;\r\n",
                            "    white-space: nowrap;\r\n",
                            "}\r\n",
                            ".dni-treeview {\r\n",
                            "    white-space: nowrap;\r\n",
                            "}\r\n",
                            ".dni-treeview td {\r\n",
                            "    vertical-align: top;\r\n",
                            "    text-align: start;\r\n",
                            "}\r\n",
                            "details.dni-treeview {\r\n",
                            "    padding-left: 1em;\r\n",
                            "}\r\n",
                            "table td {\r\n",
                            "    text-align: start;\r\n",
                            "}\r\n",
                            "table tr { \r\n",
                            "    vertical-align: top; \r\n",
                            "    margin: 0em 0px;\r\n",
                            "}\r\n",
                            "table tr td pre \r\n",
                            "{ \r\n",
                            "    vertical-align: top !important; \r\n",
                            "    margin: 0em 0px !important;\r\n",
                            "} \r\n",
                            "table th {\r\n",
                            "    text-align: start;\r\n",
                            "}\r\n",
                            "</style>"
                        ]
                    },
                    "metadata": {},
                    "output_type": "display_data"
                }
            ],
            "source": [
                "valid {\n",
                "    let! age = parseAge \"13\"\n",
                "    let! email = parseEmail \"jo@gmail.com\"\n",
                "    return mkPerson age email\n",
                "}"
            ]
        },
        {
            "cell_type": "markdown",
            "metadata": {},
            "source": [
                "Wow, that almost reads like procedural code, doesn't it? But don't be fooled, all those **bind**s are still happening. For example, take a look at what happens when we parse an invalid age:"
            ]
        },
        {
            "cell_type": "code",
            "execution_count": 40,
            "metadata": {
                "dotnet_interactive": {
                    "language": "fsharp"
                },
                "polyglot_notebook": {
                    "kernelName": "fsharp"
                },
                "vscode": {
                    "languageId": "polyglot-notebook"
                }
            },
            "outputs": [
                {
                    "data": {
                        "text/html": [
                            "<details open=\"open\" class=\"dni-treeview\"><summary><span class=\"dni-code-hint\"><code>Error [&quot;&lt;invalid&gt; is not a valid age&quot;]</code></span></summary><div><table><thead><tr></tr></thead><tbody><tr><td>Item</td><td><details class=\"dni-treeview\"><summary><span class=\"dni-code-hint\"><code>[ &lt;invalid&gt; is not a valid age ]</code></span></summary><div><table><thead><tr></tr></thead><tbody><tr><td>HeadOrDefault</td><td><div class=\"dni-plaintext\"><pre>&lt;invalid&gt; is not a valid age</pre></div></td></tr><tr><td>TailOrNull</td><td><details class=\"dni-treeview\"><summary><span class=\"dni-code-hint\"><code>[  ]</code></span></summary><div><table><thead><tr></tr></thead><tbody><tr><td>HeadOrDefault</td><td><div class=\"dni-plaintext\"><pre>&lt;null&gt;</pre></div></td></tr><tr><td>TailOrNull</td><td><div class=\"dni-plaintext\"><pre>&lt;null&gt;</pre></div></td></tr><tr><td>Head</td><td><details class=\"dni-treeview\"><summary><span class=\"dni-code-hint\"><code>System.InvalidOperationException: The input list was empty.\\r\\n   at Microsoft.FSharp.Collections.FSharpList`1.get_Head() in D:\\a\\_work\\1\\s\\src\\FSharp.Core\\prim-types.fs:line 4141\\r\\n   at lambda_method285(Closure, FSharpList`1)\\r\\n   at Microsoft.DotNet.Interactive.Formatting.MemberAccessor`1.GetVa...</code></span></summary><div><table><thead><tr></tr></thead><tbody><tr><td>TargetSite</td><td><details class=\"dni-treeview\"><summary><span class=\"dni-code-hint\"><code>T get_Head()</code></span></summary><div><table><thead><tr></tr></thead><tbody><tr><td>Name</td><td><div class=\"dni-plaintext\"><pre>get_Head</pre></div></td></tr><tr><td>DeclaringType</td><td><span><a href=\"https://docs.microsoft.com/dotnet/api/microsoft.fsharp.collections.fsharplist-1?view=net-7.0\">Microsoft.FSharp.Collections.FSharpList&lt;T&gt;</a></span></td></tr><tr><td>ReflectedType</td><td><span><a href=\"https://docs.microsoft.com/dotnet/api/microsoft.fsharp.collections.fsharplist-1?view=net-7.0\">Microsoft.FSharp.Collections.FSharpList&lt;T&gt;</a></span></td></tr><tr><td>MemberType</td><td><span>Method</span></td></tr><tr><td>MetadataToken</td><td><div class=\"dni-plaintext\"><pre>100663764</pre></div></td></tr><tr><td>Module</td><td><details class=\"dni-treeview\"><summary><span class=\"dni-code-hint\"><code>FSharp.Core.dll</code></span></summary><div><table><thead><tr></tr></thead><tbody><tr><td>MDStreamVersion</td><td>131072</td></tr><tr><td>FullyQualifiedName</td><td>C:\\Users\\Jo.VanEyck\\.nuget\\packages\\microsoft.dotnet-interactive\\1.0.512901\\tools\\net8.0\\any\\FSharp.Core.dll</td></tr><tr><td>ModuleVersionId</td><td>8b3b61bb-207b-2ce2-fc65-52fadafedf72</td></tr><tr><td>MetadataToken</td><td>1</td></tr><tr><td>ScopeName</td><td>FSharp.Core.dll</td></tr><tr><td>Name</td><td>FSharp.Core.dll</td></tr><tr><td>Assembly</td><td>FSharp.Core, Version=8.0.0.0, Culture=neutral, PublicKeyToken=b03f5f7f11d50a3a</td></tr><tr><td>ModuleHandle</td><td>System.ModuleHandle</td></tr><tr><td>CustomAttributes</td><td>[  ]</td></tr></tbody></table></div></details></td></tr><tr><td>IsSecurityCritical</td><td><div class=\"dni-plaintext\"><pre>True</pre></div></td></tr><tr><td>IsSecuritySafeCritical</td><td><div class=\"dni-plaintext\"><pre>False</pre></div></td></tr><tr><td>IsSecurityTransparent</td><td><div class=\"dni-plaintext\"><pre>False</pre></div></td></tr><tr><td>MethodHandle</td><td><details class=\"dni-treeview\"><summary><span class=\"dni-code-hint\"><code>System.RuntimeMethodHandle</code></span></summary><div><table><thead><tr></tr></thead><tbody><tr><td>Value</td><td>140723996034176</td></tr></tbody></table></div></details></td></tr><tr><td>Attributes</td><td><span>Public, HideBySig, SpecialName</span></td></tr><tr><td>CallingConvention</td><td><span>Standard, HasThis</span></td></tr><tr><td>ReturnType</td><td>T</td></tr><tr><td>ReturnTypeCustomAttributes</td><td><details class=\"dni-treeview\"><summary><span class=\"dni-code-hint\"><code>T</code></span></summary><div><table><thead><tr></tr></thead><tbody><tr><td>ParameterType</td><td>T</td></tr><tr><td>Name</td><td><div class=\"dni-plaintext\"><pre>&lt;null&gt;</pre></div></td></tr><tr><td>HasDefaultValue</td><td>False</td></tr><tr><td>DefaultValue</td><td></td></tr><tr><td>RawDefaultValue</td><td></td></tr><tr><td>MetadataToken</td><td>134217728</td></tr><tr><td>Attributes</td><td>None</td></tr><tr><td>Member</td><td>T get_Head()</td></tr><tr><td>Position</td><td>-1</td></tr><tr><td>IsIn</td><td>False</td></tr><tr><td>IsLcid</td><td>False</td></tr><tr><td>IsOptional</td><td>False</td></tr><tr><td>IsOut</td><td>False</td></tr><tr><td>IsRetval</td><td>False</td></tr><tr><td>CustomAttributes</td><td>[  ]</td></tr></tbody></table></div></details></td></tr><tr><td>ReturnParameter</td><td><details class=\"dni-treeview\"><summary><span class=\"dni-code-hint\"><code>T</code></span></summary><div><table><thead><tr></tr></thead><tbody><tr><td>ParameterType</td><td>T</td></tr><tr><td>Name</td><td><div class=\"dni-plaintext\"><pre>&lt;null&gt;</pre></div></td></tr><tr><td>HasDefaultValue</td><td>False</td></tr><tr><td>DefaultValue</td><td></td></tr><tr><td>RawDefaultValue</td><td></td></tr><tr><td>MetadataToken</td><td>134217728</td></tr><tr><td>Attributes</td><td>None</td></tr><tr><td>Member</td><td>T get_Head()</td></tr><tr><td>Position</td><td>-1</td></tr><tr><td>IsIn</td><td>False</td></tr><tr><td>IsLcid</td><td>False</td></tr><tr><td>IsOptional</td><td>False</td></tr><tr><td>IsOut</td><td>False</td></tr><tr><td>IsRetval</td><td>False</td></tr><tr><td>CustomAttributes</td><td>[  ]</td></tr></tbody></table></div></details></td></tr><tr><td>IsCollectible</td><td><div class=\"dni-plaintext\"><pre>False</pre></div></td></tr><tr><td>IsGenericMethod</td><td><div class=\"dni-plaintext\"><pre>False</pre></div></td></tr><tr><td>IsGenericMethodDefinition</td><td><div class=\"dni-plaintext\"><pre>False</pre></div></td></tr><tr><td>ContainsGenericParameters</td><td><div class=\"dni-plaintext\"><pre>True</pre></div></td></tr><tr><td>MethodImplementationFlags</td><td><span>IL</span></td></tr><tr><td>IsAbstract</td><td><div class=\"dni-plaintext\"><pre>False</pre></div></td></tr><tr><td>IsConstructor</td><td><div class=\"dni-plaintext\"><pre>False</pre></div></td></tr><tr><td>IsFinal</td><td><div class=\"dni-plaintext\"><pre>False</pre></div></td></tr><tr><td>IsHideBySig</td><td><div class=\"dni-plaintext\"><pre>True</pre></div></td></tr><tr><td>IsSpecialName</td><td><div class=\"dni-plaintext\"><pre>True</pre></div></td></tr><tr><td>IsStatic</td><td><div class=\"dni-plaintext\"><pre>False</pre></div></td></tr><tr><td>IsVirtual</td><td><div class=\"dni-plaintext\"><pre>False</pre></div></td></tr><tr><td>IsAssembly</td><td><div class=\"dni-plaintext\"><pre>False</pre></div></td></tr><tr><td>IsFamily</td><td><div class=\"dni-plaintext\"><pre>False</pre></div></td></tr><tr><td>IsFamilyAndAssembly</td><td><div class=\"dni-plaintext\"><pre>False</pre></div></td></tr><tr><td>IsFamilyOrAssembly</td><td><div class=\"dni-plaintext\"><pre>False</pre></div></td></tr><tr><td>IsPrivate</td><td><div class=\"dni-plaintext\"><pre>False</pre></div></td></tr><tr><td>IsPublic</td><td><div class=\"dni-plaintext\"><pre>True</pre></div></td></tr><tr><td>IsConstructedGenericMethod</td><td><div class=\"dni-plaintext\"><pre>False</pre></div></td></tr><tr><td>CustomAttributes</td><td><i>(empty)</i></td></tr></tbody></table></div></details></td></tr><tr><td>Message</td><td><div class=\"dni-plaintext\"><pre>The input list was empty.</pre></div></td></tr><tr><td>Data</td><td><i>(empty)</i></td></tr><tr><td>InnerException</td><td><div class=\"dni-plaintext\"><pre>&lt;null&gt;</pre></div></td></tr><tr><td>HelpLink</td><td><div class=\"dni-plaintext\"><pre>&lt;null&gt;</pre></div></td></tr><tr><td>Source</td><td><div class=\"dni-plaintext\"><pre>FSharp.Core</pre></div></td></tr><tr><td>HResult</td><td><div class=\"dni-plaintext\"><pre>-2146233079</pre></div></td></tr><tr><td>StackTrace</td><td><div class=\"dni-plaintext\"><pre>   at Microsoft.FSharp.Collections.FSharpList`1.get_Head() in D:\\a\\_work\\1\\s\\src\\FSharp.Core\\prim-types.fs:line 4141\r\n",
                            "   at lambda_method285(Closure, FSharpList`1)\r\n",
                            "   at Microsoft.DotNet.Interactive.Formatting.MemberAccessor`1.GetValueOrException(T instance) in D:\\a\\_work\\1\\s\\src\\Microsoft.DotNet.Interactive.Formatting\\MemberAccessor{T}.cs:line 58</pre></div></td></tr></tbody></table></div></details></td></tr><tr><td>Tail</td><td><details class=\"dni-treeview\"><summary><span class=\"dni-code-hint\"><code>System.InvalidOperationException: The input list was empty.\\r\\n   at Microsoft.FSharp.Collections.FSharpList`1.get_Tail() in D:\\a\\_work\\1\\s\\src\\FSharp.Core\\prim-types.fs:line 4146\\r\\n   at lambda_method286(Closure, FSharpList`1)\\r\\n   at Microsoft.DotNet.Interactive.Formatting.MemberAccessor`1.GetVa...</code></span></summary><div><table><thead><tr></tr></thead><tbody><tr><td>TargetSite</td><td><details class=\"dni-treeview\"><summary><span class=\"dni-code-hint\"><code>Microsoft.FSharp.Collections.FSharpList`1[T] get_Tail()</code></span></summary><div><table><thead><tr></tr></thead><tbody><tr><td>Name</td><td><div class=\"dni-plaintext\"><pre>get_Tail</pre></div></td></tr><tr><td>DeclaringType</td><td><span><a href=\"https://docs.microsoft.com/dotnet/api/microsoft.fsharp.collections.fsharplist-1?view=net-7.0\">Microsoft.FSharp.Collections.FSharpList&lt;T&gt;</a></span></td></tr><tr><td>ReflectedType</td><td><span><a href=\"https://docs.microsoft.com/dotnet/api/microsoft.fsharp.collections.fsharplist-1?view=net-7.0\">Microsoft.FSharp.Collections.FSharpList&lt;T&gt;</a></span></td></tr><tr><td>MemberType</td><td><span>Method</span></td></tr><tr><td>MetadataToken</td><td><div class=\"dni-plaintext\"><pre>100663765</pre></div></td></tr><tr><td>Module</td><td><details class=\"dni-treeview\"><summary><span class=\"dni-code-hint\"><code>FSharp.Core.dll</code></span></summary><div><table><thead><tr></tr></thead><tbody><tr><td>MDStreamVersion</td><td>131072</td></tr><tr><td>FullyQualifiedName</td><td>C:\\Users\\Jo.VanEyck\\.nuget\\packages\\microsoft.dotnet-interactive\\1.0.512901\\tools\\net8.0\\any\\FSharp.Core.dll</td></tr><tr><td>ModuleVersionId</td><td>8b3b61bb-207b-2ce2-fc65-52fadafedf72</td></tr><tr><td>MetadataToken</td><td>1</td></tr><tr><td>ScopeName</td><td>FSharp.Core.dll</td></tr><tr><td>Name</td><td>FSharp.Core.dll</td></tr><tr><td>Assembly</td><td>FSharp.Core, Version=8.0.0.0, Culture=neutral, PublicKeyToken=b03f5f7f11d50a3a</td></tr><tr><td>ModuleHandle</td><td>System.ModuleHandle</td></tr><tr><td>CustomAttributes</td><td>[  ]</td></tr></tbody></table></div></details></td></tr><tr><td>IsSecurityCritical</td><td><div class=\"dni-plaintext\"><pre>True</pre></div></td></tr><tr><td>IsSecuritySafeCritical</td><td><div class=\"dni-plaintext\"><pre>False</pre></div></td></tr><tr><td>IsSecurityTransparent</td><td><div class=\"dni-plaintext\"><pre>False</pre></div></td></tr><tr><td>MethodHandle</td><td><details class=\"dni-treeview\"><summary><span class=\"dni-code-hint\"><code>System.RuntimeMethodHandle</code></span></summary><div><table><thead><tr></tr></thead><tbody><tr><td>Value</td><td>140723996034192</td></tr></tbody></table></div></details></td></tr><tr><td>Attributes</td><td><span>Public, HideBySig, SpecialName</span></td></tr><tr><td>CallingConvention</td><td><span>Standard, HasThis</span></td></tr><tr><td>ReturnType</td><td><span><a href=\"https://docs.microsoft.com/dotnet/api/microsoft.fsharp.collections.fsharplist-1?view=net-7.0\">Microsoft.FSharp.Collections.FSharpList&lt;T&gt;</a></span></td></tr><tr><td>ReturnTypeCustomAttributes</td><td><details class=\"dni-treeview\"><summary><span class=\"dni-code-hint\"><code>Microsoft.FSharp.Collections.FSharpList`1[T]</code></span></summary><div><table><thead><tr></tr></thead><tbody><tr><td>ParameterType</td><td>Microsoft.FSharp.Collections.FSharpList`1[T]</td></tr><tr><td>Name</td><td><div class=\"dni-plaintext\"><pre>&lt;null&gt;</pre></div></td></tr><tr><td>HasDefaultValue</td><td>False</td></tr><tr><td>DefaultValue</td><td></td></tr><tr><td>RawDefaultValue</td><td></td></tr><tr><td>MetadataToken</td><td>134217728</td></tr><tr><td>Attributes</td><td>None</td></tr><tr><td>Member</td><td>Microsoft.FSharp.Collections.FSharpList`1[T] get_Tail()</td></tr><tr><td>Position</td><td>-1</td></tr><tr><td>IsIn</td><td>False</td></tr><tr><td>IsLcid</td><td>False</td></tr><tr><td>IsOptional</td><td>False</td></tr><tr><td>IsOut</td><td>False</td></tr><tr><td>IsRetval</td><td>False</td></tr><tr><td>CustomAttributes</td><td>[  ]</td></tr></tbody></table></div></details></td></tr><tr><td>ReturnParameter</td><td><details class=\"dni-treeview\"><summary><span class=\"dni-code-hint\"><code>Microsoft.FSharp.Collections.FSharpList`1[T]</code></span></summary><div><table><thead><tr></tr></thead><tbody><tr><td>ParameterType</td><td>Microsoft.FSharp.Collections.FSharpList`1[T]</td></tr><tr><td>Name</td><td><div class=\"dni-plaintext\"><pre>&lt;null&gt;</pre></div></td></tr><tr><td>HasDefaultValue</td><td>False</td></tr><tr><td>DefaultValue</td><td></td></tr><tr><td>RawDefaultValue</td><td></td></tr><tr><td>MetadataToken</td><td>134217728</td></tr><tr><td>Attributes</td><td>None</td></tr><tr><td>Member</td><td>Microsoft.FSharp.Collections.FSharpList`1[T] get_Tail()</td></tr><tr><td>Position</td><td>-1</td></tr><tr><td>IsIn</td><td>False</td></tr><tr><td>IsLcid</td><td>False</td></tr><tr><td>IsOptional</td><td>False</td></tr><tr><td>IsOut</td><td>False</td></tr><tr><td>IsRetval</td><td>False</td></tr><tr><td>CustomAttributes</td><td>[  ]</td></tr></tbody></table></div></details></td></tr><tr><td>IsCollectible</td><td><div class=\"dni-plaintext\"><pre>False</pre></div></td></tr><tr><td>IsGenericMethod</td><td><div class=\"dni-plaintext\"><pre>False</pre></div></td></tr><tr><td>IsGenericMethodDefinition</td><td><div class=\"dni-plaintext\"><pre>False</pre></div></td></tr><tr><td>ContainsGenericParameters</td><td><div class=\"dni-plaintext\"><pre>True</pre></div></td></tr><tr><td>MethodImplementationFlags</td><td><span>IL</span></td></tr><tr><td>IsAbstract</td><td><div class=\"dni-plaintext\"><pre>False</pre></div></td></tr><tr><td>IsConstructor</td><td><div class=\"dni-plaintext\"><pre>False</pre></div></td></tr><tr><td>IsFinal</td><td><div class=\"dni-plaintext\"><pre>False</pre></div></td></tr><tr><td>IsHideBySig</td><td><div class=\"dni-plaintext\"><pre>True</pre></div></td></tr><tr><td>IsSpecialName</td><td><div class=\"dni-plaintext\"><pre>True</pre></div></td></tr><tr><td>IsStatic</td><td><div class=\"dni-plaintext\"><pre>False</pre></div></td></tr><tr><td>IsVirtual</td><td><div class=\"dni-plaintext\"><pre>False</pre></div></td></tr><tr><td>IsAssembly</td><td><div class=\"dni-plaintext\"><pre>False</pre></div></td></tr><tr><td>IsFamily</td><td><div class=\"dni-plaintext\"><pre>False</pre></div></td></tr><tr><td>IsFamilyAndAssembly</td><td><div class=\"dni-plaintext\"><pre>False</pre></div></td></tr><tr><td>IsFamilyOrAssembly</td><td><div class=\"dni-plaintext\"><pre>False</pre></div></td></tr><tr><td>IsPrivate</td><td><div class=\"dni-plaintext\"><pre>False</pre></div></td></tr><tr><td>IsPublic</td><td><div class=\"dni-plaintext\"><pre>True</pre></div></td></tr><tr><td>IsConstructedGenericMethod</td><td><div class=\"dni-plaintext\"><pre>False</pre></div></td></tr><tr><td>CustomAttributes</td><td><i>(empty)</i></td></tr></tbody></table></div></details></td></tr><tr><td>Message</td><td><div class=\"dni-plaintext\"><pre>The input list was empty.</pre></div></td></tr><tr><td>Data</td><td><i>(empty)</i></td></tr><tr><td>InnerException</td><td><div class=\"dni-plaintext\"><pre>&lt;null&gt;</pre></div></td></tr><tr><td>HelpLink</td><td><div class=\"dni-plaintext\"><pre>&lt;null&gt;</pre></div></td></tr><tr><td>Source</td><td><div class=\"dni-plaintext\"><pre>FSharp.Core</pre></div></td></tr><tr><td>HResult</td><td><div class=\"dni-plaintext\"><pre>-2146233079</pre></div></td></tr><tr><td>StackTrace</td><td><div class=\"dni-plaintext\"><pre>   at Microsoft.FSharp.Collections.FSharpList`1.get_Tail() in D:\\a\\_work\\1\\s\\src\\FSharp.Core\\prim-types.fs:line 4146\r\n",
                            "   at lambda_method286(Closure, FSharpList`1)\r\n",
                            "   at Microsoft.DotNet.Interactive.Formatting.MemberAccessor`1.GetValueOrException(T instance) in D:\\a\\_work\\1\\s\\src\\Microsoft.DotNet.Interactive.Formatting\\MemberAccessor{T}.cs:line 58</pre></div></td></tr></tbody></table></div></details></td></tr><tr><td><i>(values)</i></td><td><div class=\"dni-plaintext\"><pre>[  ]</pre></div></td></tr></tbody></table></div></details></td></tr><tr><td>Head</td><td><div class=\"dni-plaintext\"><pre>&lt;invalid&gt; is not a valid age</pre></div></td></tr><tr><td>Tail</td><td><details class=\"dni-treeview\"><summary><span class=\"dni-code-hint\"><code>[  ]</code></span></summary><div><table><thead><tr></tr></thead><tbody><tr><td>HeadOrDefault</td><td><div class=\"dni-plaintext\"><pre>&lt;null&gt;</pre></div></td></tr><tr><td>TailOrNull</td><td><div class=\"dni-plaintext\"><pre>&lt;null&gt;</pre></div></td></tr><tr><td>Head</td><td><details class=\"dni-treeview\"><summary><span class=\"dni-code-hint\"><code>System.InvalidOperationException: The input list was empty.\\r\\n   at Microsoft.FSharp.Collections.FSharpList`1.get_Head() in D:\\a\\_work\\1\\s\\src\\FSharp.Core\\prim-types.fs:line 4141\\r\\n   at lambda_method285(Closure, FSharpList`1)\\r\\n   at Microsoft.DotNet.Interactive.Formatting.MemberAccessor`1.GetVa...</code></span></summary><div><table><thead><tr></tr></thead><tbody><tr><td>TargetSite</td><td><details class=\"dni-treeview\"><summary><span class=\"dni-code-hint\"><code>T get_Head()</code></span></summary><div><table><thead><tr></tr></thead><tbody><tr><td>Name</td><td><div class=\"dni-plaintext\"><pre>get_Head</pre></div></td></tr><tr><td>DeclaringType</td><td><span><a href=\"https://docs.microsoft.com/dotnet/api/microsoft.fsharp.collections.fsharplist-1?view=net-7.0\">Microsoft.FSharp.Collections.FSharpList&lt;T&gt;</a></span></td></tr><tr><td>ReflectedType</td><td><span><a href=\"https://docs.microsoft.com/dotnet/api/microsoft.fsharp.collections.fsharplist-1?view=net-7.0\">Microsoft.FSharp.Collections.FSharpList&lt;T&gt;</a></span></td></tr><tr><td>MemberType</td><td><span>Method</span></td></tr><tr><td>MetadataToken</td><td><div class=\"dni-plaintext\"><pre>100663764</pre></div></td></tr><tr><td>Module</td><td><details class=\"dni-treeview\"><summary><span class=\"dni-code-hint\"><code>FSharp.Core.dll</code></span></summary><div><table><thead><tr></tr></thead><tbody><tr><td>MDStreamVersion</td><td>131072</td></tr><tr><td>FullyQualifiedName</td><td>C:\\Users\\Jo.VanEyck\\.nuget\\packages\\microsoft.dotnet-interactive\\1.0.512901\\tools\\net8.0\\any\\FSharp.Core.dll</td></tr><tr><td>ModuleVersionId</td><td>8b3b61bb-207b-2ce2-fc65-52fadafedf72</td></tr><tr><td>MetadataToken</td><td>1</td></tr><tr><td>ScopeName</td><td>FSharp.Core.dll</td></tr><tr><td>Name</td><td>FSharp.Core.dll</td></tr><tr><td>Assembly</td><td>FSharp.Core, Version=8.0.0.0, Culture=neutral, PublicKeyToken=b03f5f7f11d50a3a</td></tr><tr><td>ModuleHandle</td><td>System.ModuleHandle</td></tr><tr><td>CustomAttributes</td><td>[  ]</td></tr></tbody></table></div></details></td></tr><tr><td>IsSecurityCritical</td><td><div class=\"dni-plaintext\"><pre>True</pre></div></td></tr><tr><td>IsSecuritySafeCritical</td><td><div class=\"dni-plaintext\"><pre>False</pre></div></td></tr><tr><td>IsSecurityTransparent</td><td><div class=\"dni-plaintext\"><pre>False</pre></div></td></tr><tr><td>MethodHandle</td><td><details class=\"dni-treeview\"><summary><span class=\"dni-code-hint\"><code>System.RuntimeMethodHandle</code></span></summary><div><table><thead><tr></tr></thead><tbody><tr><td>Value</td><td>140723996034176</td></tr></tbody></table></div></details></td></tr><tr><td>Attributes</td><td><span>Public, HideBySig, SpecialName</span></td></tr><tr><td>CallingConvention</td><td><span>Standard, HasThis</span></td></tr><tr><td>ReturnType</td><td>T</td></tr><tr><td>ReturnTypeCustomAttributes</td><td><details class=\"dni-treeview\"><summary><span class=\"dni-code-hint\"><code>T</code></span></summary><div><table><thead><tr></tr></thead><tbody><tr><td>ParameterType</td><td>T</td></tr><tr><td>Name</td><td><div class=\"dni-plaintext\"><pre>&lt;null&gt;</pre></div></td></tr><tr><td>HasDefaultValue</td><td>False</td></tr><tr><td>DefaultValue</td><td></td></tr><tr><td>RawDefaultValue</td><td></td></tr><tr><td>MetadataToken</td><td>134217728</td></tr><tr><td>Attributes</td><td>None</td></tr><tr><td>Member</td><td>T get_Head()</td></tr><tr><td>Position</td><td>-1</td></tr><tr><td>IsIn</td><td>False</td></tr><tr><td>IsLcid</td><td>False</td></tr><tr><td>IsOptional</td><td>False</td></tr><tr><td>IsOut</td><td>False</td></tr><tr><td>IsRetval</td><td>False</td></tr><tr><td>CustomAttributes</td><td>[  ]</td></tr></tbody></table></div></details></td></tr><tr><td>ReturnParameter</td><td><details class=\"dni-treeview\"><summary><span class=\"dni-code-hint\"><code>T</code></span></summary><div><table><thead><tr></tr></thead><tbody><tr><td>ParameterType</td><td>T</td></tr><tr><td>Name</td><td><div class=\"dni-plaintext\"><pre>&lt;null&gt;</pre></div></td></tr><tr><td>HasDefaultValue</td><td>False</td></tr><tr><td>DefaultValue</td><td></td></tr><tr><td>RawDefaultValue</td><td></td></tr><tr><td>MetadataToken</td><td>134217728</td></tr><tr><td>Attributes</td><td>None</td></tr><tr><td>Member</td><td>T get_Head()</td></tr><tr><td>Position</td><td>-1</td></tr><tr><td>IsIn</td><td>False</td></tr><tr><td>IsLcid</td><td>False</td></tr><tr><td>IsOptional</td><td>False</td></tr><tr><td>IsOut</td><td>False</td></tr><tr><td>IsRetval</td><td>False</td></tr><tr><td>CustomAttributes</td><td>[  ]</td></tr></tbody></table></div></details></td></tr><tr><td>IsCollectible</td><td><div class=\"dni-plaintext\"><pre>False</pre></div></td></tr><tr><td>IsGenericMethod</td><td><div class=\"dni-plaintext\"><pre>False</pre></div></td></tr><tr><td>IsGenericMethodDefinition</td><td><div class=\"dni-plaintext\"><pre>False</pre></div></td></tr><tr><td>ContainsGenericParameters</td><td><div class=\"dni-plaintext\"><pre>True</pre></div></td></tr><tr><td>MethodImplementationFlags</td><td><span>IL</span></td></tr><tr><td>IsAbstract</td><td><div class=\"dni-plaintext\"><pre>False</pre></div></td></tr><tr><td>IsConstructor</td><td><div class=\"dni-plaintext\"><pre>False</pre></div></td></tr><tr><td>IsFinal</td><td><div class=\"dni-plaintext\"><pre>False</pre></div></td></tr><tr><td>IsHideBySig</td><td><div class=\"dni-plaintext\"><pre>True</pre></div></td></tr><tr><td>IsSpecialName</td><td><div class=\"dni-plaintext\"><pre>True</pre></div></td></tr><tr><td>IsStatic</td><td><div class=\"dni-plaintext\"><pre>False</pre></div></td></tr><tr><td>IsVirtual</td><td><div class=\"dni-plaintext\"><pre>False</pre></div></td></tr><tr><td>IsAssembly</td><td><div class=\"dni-plaintext\"><pre>False</pre></div></td></tr><tr><td>IsFamily</td><td><div class=\"dni-plaintext\"><pre>False</pre></div></td></tr><tr><td>IsFamilyAndAssembly</td><td><div class=\"dni-plaintext\"><pre>False</pre></div></td></tr><tr><td>IsFamilyOrAssembly</td><td><div class=\"dni-plaintext\"><pre>False</pre></div></td></tr><tr><td>IsPrivate</td><td><div class=\"dni-plaintext\"><pre>False</pre></div></td></tr><tr><td>IsPublic</td><td><div class=\"dni-plaintext\"><pre>True</pre></div></td></tr><tr><td>IsConstructedGenericMethod</td><td><div class=\"dni-plaintext\"><pre>False</pre></div></td></tr><tr><td>CustomAttributes</td><td><i>(empty)</i></td></tr></tbody></table></div></details></td></tr><tr><td>Message</td><td><div class=\"dni-plaintext\"><pre>The input list was empty.</pre></div></td></tr><tr><td>Data</td><td><i>(empty)</i></td></tr><tr><td>InnerException</td><td><div class=\"dni-plaintext\"><pre>&lt;null&gt;</pre></div></td></tr><tr><td>HelpLink</td><td><div class=\"dni-plaintext\"><pre>&lt;null&gt;</pre></div></td></tr><tr><td>Source</td><td><div class=\"dni-plaintext\"><pre>FSharp.Core</pre></div></td></tr><tr><td>HResult</td><td><div class=\"dni-plaintext\"><pre>-2146233079</pre></div></td></tr><tr><td>StackTrace</td><td><div class=\"dni-plaintext\"><pre>   at Microsoft.FSharp.Collections.FSharpList`1.get_Head() in D:\\a\\_work\\1\\s\\src\\FSharp.Core\\prim-types.fs:line 4141\r\n",
                            "   at lambda_method285(Closure, FSharpList`1)\r\n",
                            "   at Microsoft.DotNet.Interactive.Formatting.MemberAccessor`1.GetValueOrException(T instance) in D:\\a\\_work\\1\\s\\src\\Microsoft.DotNet.Interactive.Formatting\\MemberAccessor{T}.cs:line 58</pre></div></td></tr></tbody></table></div></details></td></tr><tr><td>Tail</td><td><details class=\"dni-treeview\"><summary><span class=\"dni-code-hint\"><code>System.InvalidOperationException: The input list was empty.\\r\\n   at Microsoft.FSharp.Collections.FSharpList`1.get_Tail() in D:\\a\\_work\\1\\s\\src\\FSharp.Core\\prim-types.fs:line 4146\\r\\n   at lambda_method286(Closure, FSharpList`1)\\r\\n   at Microsoft.DotNet.Interactive.Formatting.MemberAccessor`1.GetVa...</code></span></summary><div><table><thead><tr></tr></thead><tbody><tr><td>TargetSite</td><td><details class=\"dni-treeview\"><summary><span class=\"dni-code-hint\"><code>Microsoft.FSharp.Collections.FSharpList`1[T] get_Tail()</code></span></summary><div><table><thead><tr></tr></thead><tbody><tr><td>Name</td><td><div class=\"dni-plaintext\"><pre>get_Tail</pre></div></td></tr><tr><td>DeclaringType</td><td><span><a href=\"https://docs.microsoft.com/dotnet/api/microsoft.fsharp.collections.fsharplist-1?view=net-7.0\">Microsoft.FSharp.Collections.FSharpList&lt;T&gt;</a></span></td></tr><tr><td>ReflectedType</td><td><span><a href=\"https://docs.microsoft.com/dotnet/api/microsoft.fsharp.collections.fsharplist-1?view=net-7.0\">Microsoft.FSharp.Collections.FSharpList&lt;T&gt;</a></span></td></tr><tr><td>MemberType</td><td><span>Method</span></td></tr><tr><td>MetadataToken</td><td><div class=\"dni-plaintext\"><pre>100663765</pre></div></td></tr><tr><td>Module</td><td><details class=\"dni-treeview\"><summary><span class=\"dni-code-hint\"><code>FSharp.Core.dll</code></span></summary><div><table><thead><tr></tr></thead><tbody><tr><td>MDStreamVersion</td><td>131072</td></tr><tr><td>FullyQualifiedName</td><td>C:\\Users\\Jo.VanEyck\\.nuget\\packages\\microsoft.dotnet-interactive\\1.0.512901\\tools\\net8.0\\any\\FSharp.Core.dll</td></tr><tr><td>ModuleVersionId</td><td>8b3b61bb-207b-2ce2-fc65-52fadafedf72</td></tr><tr><td>MetadataToken</td><td>1</td></tr><tr><td>ScopeName</td><td>FSharp.Core.dll</td></tr><tr><td>Name</td><td>FSharp.Core.dll</td></tr><tr><td>Assembly</td><td>FSharp.Core, Version=8.0.0.0, Culture=neutral, PublicKeyToken=b03f5f7f11d50a3a</td></tr><tr><td>ModuleHandle</td><td>System.ModuleHandle</td></tr><tr><td>CustomAttributes</td><td>[  ]</td></tr></tbody></table></div></details></td></tr><tr><td>IsSecurityCritical</td><td><div class=\"dni-plaintext\"><pre>True</pre></div></td></tr><tr><td>IsSecuritySafeCritical</td><td><div class=\"dni-plaintext\"><pre>False</pre></div></td></tr><tr><td>IsSecurityTransparent</td><td><div class=\"dni-plaintext\"><pre>False</pre></div></td></tr><tr><td>MethodHandle</td><td><details class=\"dni-treeview\"><summary><span class=\"dni-code-hint\"><code>System.RuntimeMethodHandle</code></span></summary><div><table><thead><tr></tr></thead><tbody><tr><td>Value</td><td>140723996034192</td></tr></tbody></table></div></details></td></tr><tr><td>Attributes</td><td><span>Public, HideBySig, SpecialName</span></td></tr><tr><td>CallingConvention</td><td><span>Standard, HasThis</span></td></tr><tr><td>ReturnType</td><td><span><a href=\"https://docs.microsoft.com/dotnet/api/microsoft.fsharp.collections.fsharplist-1?view=net-7.0\">Microsoft.FSharp.Collections.FSharpList&lt;T&gt;</a></span></td></tr><tr><td>ReturnTypeCustomAttributes</td><td><details class=\"dni-treeview\"><summary><span class=\"dni-code-hint\"><code>Microsoft.FSharp.Collections.FSharpList`1[T]</code></span></summary><div><table><thead><tr></tr></thead><tbody><tr><td>ParameterType</td><td>Microsoft.FSharp.Collections.FSharpList`1[T]</td></tr><tr><td>Name</td><td><div class=\"dni-plaintext\"><pre>&lt;null&gt;</pre></div></td></tr><tr><td>HasDefaultValue</td><td>False</td></tr><tr><td>DefaultValue</td><td></td></tr><tr><td>RawDefaultValue</td><td></td></tr><tr><td>MetadataToken</td><td>134217728</td></tr><tr><td>Attributes</td><td>None</td></tr><tr><td>Member</td><td>Microsoft.FSharp.Collections.FSharpList`1[T] get_Tail()</td></tr><tr><td>Position</td><td>-1</td></tr><tr><td>IsIn</td><td>False</td></tr><tr><td>IsLcid</td><td>False</td></tr><tr><td>IsOptional</td><td>False</td></tr><tr><td>IsOut</td><td>False</td></tr><tr><td>IsRetval</td><td>False</td></tr><tr><td>CustomAttributes</td><td>[  ]</td></tr></tbody></table></div></details></td></tr><tr><td>ReturnParameter</td><td><details class=\"dni-treeview\"><summary><span class=\"dni-code-hint\"><code>Microsoft.FSharp.Collections.FSharpList`1[T]</code></span></summary><div><table><thead><tr></tr></thead><tbody><tr><td>ParameterType</td><td>Microsoft.FSharp.Collections.FSharpList`1[T]</td></tr><tr><td>Name</td><td><div class=\"dni-plaintext\"><pre>&lt;null&gt;</pre></div></td></tr><tr><td>HasDefaultValue</td><td>False</td></tr><tr><td>DefaultValue</td><td></td></tr><tr><td>RawDefaultValue</td><td></td></tr><tr><td>MetadataToken</td><td>134217728</td></tr><tr><td>Attributes</td><td>None</td></tr><tr><td>Member</td><td>Microsoft.FSharp.Collections.FSharpList`1[T] get_Tail()</td></tr><tr><td>Position</td><td>-1</td></tr><tr><td>IsIn</td><td>False</td></tr><tr><td>IsLcid</td><td>False</td></tr><tr><td>IsOptional</td><td>False</td></tr><tr><td>IsOut</td><td>False</td></tr><tr><td>IsRetval</td><td>False</td></tr><tr><td>CustomAttributes</td><td>[  ]</td></tr></tbody></table></div></details></td></tr><tr><td>IsCollectible</td><td><div class=\"dni-plaintext\"><pre>False</pre></div></td></tr><tr><td>IsGenericMethod</td><td><div class=\"dni-plaintext\"><pre>False</pre></div></td></tr><tr><td>IsGenericMethodDefinition</td><td><div class=\"dni-plaintext\"><pre>False</pre></div></td></tr><tr><td>ContainsGenericParameters</td><td><div class=\"dni-plaintext\"><pre>True</pre></div></td></tr><tr><td>MethodImplementationFlags</td><td><span>IL</span></td></tr><tr><td>IsAbstract</td><td><div class=\"dni-plaintext\"><pre>False</pre></div></td></tr><tr><td>IsConstructor</td><td><div class=\"dni-plaintext\"><pre>False</pre></div></td></tr><tr><td>IsFinal</td><td><div class=\"dni-plaintext\"><pre>False</pre></div></td></tr><tr><td>IsHideBySig</td><td><div class=\"dni-plaintext\"><pre>True</pre></div></td></tr><tr><td>IsSpecialName</td><td><div class=\"dni-plaintext\"><pre>True</pre></div></td></tr><tr><td>IsStatic</td><td><div class=\"dni-plaintext\"><pre>False</pre></div></td></tr><tr><td>IsVirtual</td><td><div class=\"dni-plaintext\"><pre>False</pre></div></td></tr><tr><td>IsAssembly</td><td><div class=\"dni-plaintext\"><pre>False</pre></div></td></tr><tr><td>IsFamily</td><td><div class=\"dni-plaintext\"><pre>False</pre></div></td></tr><tr><td>IsFamilyAndAssembly</td><td><div class=\"dni-plaintext\"><pre>False</pre></div></td></tr><tr><td>IsFamilyOrAssembly</td><td><div class=\"dni-plaintext\"><pre>False</pre></div></td></tr><tr><td>IsPrivate</td><td><div class=\"dni-plaintext\"><pre>False</pre></div></td></tr><tr><td>IsPublic</td><td><div class=\"dni-plaintext\"><pre>True</pre></div></td></tr><tr><td>IsConstructedGenericMethod</td><td><div class=\"dni-plaintext\"><pre>False</pre></div></td></tr><tr><td>CustomAttributes</td><td><i>(empty)</i></td></tr></tbody></table></div></details></td></tr><tr><td>Message</td><td><div class=\"dni-plaintext\"><pre>The input list was empty.</pre></div></td></tr><tr><td>Data</td><td><i>(empty)</i></td></tr><tr><td>InnerException</td><td><div class=\"dni-plaintext\"><pre>&lt;null&gt;</pre></div></td></tr><tr><td>HelpLink</td><td><div class=\"dni-plaintext\"><pre>&lt;null&gt;</pre></div></td></tr><tr><td>Source</td><td><div class=\"dni-plaintext\"><pre>FSharp.Core</pre></div></td></tr><tr><td>HResult</td><td><div class=\"dni-plaintext\"><pre>-2146233079</pre></div></td></tr><tr><td>StackTrace</td><td><div class=\"dni-plaintext\"><pre>   at Microsoft.FSharp.Collections.FSharpList`1.get_Tail() in D:\\a\\_work\\1\\s\\src\\FSharp.Core\\prim-types.fs:line 4146\r\n",
                            "   at lambda_method286(Closure, FSharpList`1)\r\n",
                            "   at Microsoft.DotNet.Interactive.Formatting.MemberAccessor`1.GetValueOrException(T instance) in D:\\a\\_work\\1\\s\\src\\Microsoft.DotNet.Interactive.Formatting\\MemberAccessor{T}.cs:line 58</pre></div></td></tr></tbody></table></div></details></td></tr><tr><td><i>(values)</i></td><td><div class=\"dni-plaintext\"><pre>[  ]</pre></div></td></tr></tbody></table></div></details></td></tr><tr><td><i>(values)</i></td><td><div class=\"dni-plaintext\"><pre>[ &lt;invalid&gt; is not a valid age ]</pre></div></td></tr></tbody></table></div></details></td></tr></tbody></table></div></details><style>\r\n",
                            ".dni-code-hint {\r\n",
                            "    font-style: italic;\r\n",
                            "    overflow: hidden;\r\n",
                            "    white-space: nowrap;\r\n",
                            "}\r\n",
                            ".dni-treeview {\r\n",
                            "    white-space: nowrap;\r\n",
                            "}\r\n",
                            ".dni-treeview td {\r\n",
                            "    vertical-align: top;\r\n",
                            "    text-align: start;\r\n",
                            "}\r\n",
                            "details.dni-treeview {\r\n",
                            "    padding-left: 1em;\r\n",
                            "}\r\n",
                            "table td {\r\n",
                            "    text-align: start;\r\n",
                            "}\r\n",
                            "table tr { \r\n",
                            "    vertical-align: top; \r\n",
                            "    margin: 0em 0px;\r\n",
                            "}\r\n",
                            "table tr td pre \r\n",
                            "{ \r\n",
                            "    vertical-align: top !important; \r\n",
                            "    margin: 0em 0px !important;\r\n",
                            "} \r\n",
                            "table th {\r\n",
                            "    text-align: start;\r\n",
                            "}\r\n",
                            "</style>"
                        ]
                    },
                    "metadata": {},
                    "output_type": "display_data"
                }
            ],
            "source": [
                "valid {\n",
                "    let! age = parseAge \"invalid\"\n",
                "    let! email = parseEmail \"jo@gmail.com\"\n",
                "    return mkPerson age email\n",
                "}"
            ]
        },
        {
            "cell_type": "markdown",
            "metadata": {},
            "source": [
                "So cool! We have something that looks very similar to procedural code, but in between the lines we're handling all those potential *Validation*s for free. That's why some people jokingely call monads *programmable semicolons*."
            ]
        },
        {
            "cell_type": "markdown",
            "metadata": {},
            "source": [
                "## A small detour: applicative vs. monadic style\n",
                "\n",
                "So, if Monads are strictly more powerful than Applicative Functors, why would we ever want to grab for Applicative's **apply** again? Can't we just monadic **bind** all the things? There's a subtle difference worth mentioning. \n",
                "\n",
                "**bind** implies a sequential order, whereas **apply** doesn't impose any sequential constraints. **bind** is super useful if what you do in step 2 depends on the results of step 1. If step 1 and 2 are fully independent (and therefore if you want to run those steps in parallel for example), using **apply** might be the better option. **apply** doesn't impose any sequential constraints, **bind** very much does."
            ]
        },
        {
            "cell_type": "markdown",
            "metadata": {},
            "source": [
                "## Conclusion\n",
                "\n",
                "Well, congratulations. You have achieved fp enlightenment! You just dipped your toes into what can objectively be called the scariest part of functional programming.\n",
                "\n",
                "We talked about **normal** and **elevated** worlds and **world-crossing** functions.\n",
                "\n",
                "We took a look at what a **functor** is: an **elevated** type with a corresponding **map** function. **map** allows us to apply functions in the **normal** world while keeping our inputs and outputs in the **elevated** world.\n",
                "\n",
                "Next, we took a look at **applicative functors**. These are **elevated** types with a corresponding **apply** function. They allow us to lift our functions to the **elevated** world as well. Which provides us with a very natural way to combine values from the **elevated** world while keeping the actual code we write very similar to the same code in the **normal** world. We used parsing with potential parser errors as a concrete example.\n",
                "\n",
                "Finally, we introduced the scariest concept of them all, the **monad**. A monad is an **elevated** type with a corresponding **bind** function. And that **bind** is nothing more than a **map** with built-in flattening so we don't have to work with nested **elevated** types ourselves. This allows us to compose **world-crossing** functions very naturally.\n",
                "\n",
                "This post hopefully did its job in making all these scary terms a bit less so. As I said, we only scratched the surface here and made some wild generalisations the fp police would have my head for. If you're ready, I invite you to dig deeper in the [Further reading](#Further-reading) section.\n",
                "\n",
                "Good luck out there!"
            ]
        },
        {
            "cell_type": "markdown",
            "metadata": {},
            "source": [
                "## Further reading\n",
                "\n",
                "* [Monads by Mark Seemann](https://blog.ploeh.dk/2022/03/28/monads/)\n",
                "* [Understanding map and apply by Scott Wlaschin](https://fsharpforfunandprofit.com/posts/elevated-world/)\n",
                "* [Functors, Applicatives and Monads in Pictures by Adit](https://www.adit.io/posts/2013-04-17-functors,_applicatives,_and_monads_in_pictures.html)\n",
                "* [Learn you a haskell for great good: Functors, Applicative Functors and Monoids by Miran Lipovaca](https://learnyouahaskell.com/functors-applicative-functors-and-monoids)"
            ]
        }
    ],
    "metadata": {
        "language_info": {
            "name": "fsharp"
        }
    },
    "nbformat": 4,
    "nbformat_minor": 2
}
