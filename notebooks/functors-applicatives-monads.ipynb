{
 "metadata": {
  "kernelspec": {
   "display_name": ".NET (F#)",
   "language": "F#",
   "name": ".net-fsharp"
  },
  "language_info": {
   "name": "F#"
  }
 },
 "cells": [
  {
   "cell_type": "markdown",
   "source": [
    "Functors, applicatives and monads in F#\r\n",
    "===\r\n",
    "\r\n",
    "If you want an overview in pictures, [Functors, Applicatives And Monads In Pictures](https://adit.io/posts/2013-04-17-functors,_applicatives,_and_monads_in_pictures.html) is a great overview to get introduced to the concept. This post is a translation of that resource into an interactive F# notebook.\r\n",
    "\r\n",
    "Some parts of the source text (especially regarding haskell typeclasses) make no sense in F# context, so we just skip those parts in favor of a more idiomatic F# approach.\r\n",
    "\r\n",
    "Here's a simple value:"
   ],
   "metadata": {
    "dotnet_interactive": {
     "language": "html"
    }
   }
  },
  {
   "cell_type": "code",
   "execution_count": null,
   "source": [
    "2"
   ],
   "outputs": [
    {
     "data": {
      "text/html": [
       "<div class=\"dni-plaintext\">2</div>"
      ]
     },
     "metadata": {},
     "output_type": "display_data"
    }
   ],
   "metadata": {
    "dotnet_interactive": {
     "language": "fsharp"
    }
   }
  },
  {
   "cell_type": "markdown",
   "source": [
    "And we know how to apply a function to this value:"
   ],
   "metadata": {}
  },
  {
   "cell_type": "code",
   "execution_count": null,
   "source": [
    "((+)3) 2"
   ],
   "outputs": [
    {
     "data": {
      "text/html": [
       "<div class=\"dni-plaintext\">5</div>"
      ]
     },
     "metadata": {},
     "output_type": "display_data"
    }
   ],
   "metadata": {
    "dotnet_interactive": {
     "language": "fsharp"
    }
   }
  },
  {
   "cell_type": "markdown",
   "source": [
    "Let's extend this by saying that a value can be in a context. For now you can think of a \"context\" as a box that you can put a value in:"
   ],
   "metadata": {}
  },
  {
   "cell_type": "code",
   "execution_count": null,
   "source": [
    "Some 2 //Value and context"
   ],
   "outputs": [
    {
     "data": {
      "text/html": [
       "<table><thead><tr><th>Value</th></tr></thead><tbody><tr><td><div class=\"dni-plaintext\">2</div></td></tr></tbody></table>"
      ]
     },
     "metadata": {},
     "output_type": "display_data"
    }
   ],
   "metadata": {
    "dotnet_interactive": {
     "language": "fsharp"
    }
   }
  },
  {
   "cell_type": "markdown",
   "source": [
    "Now when you apply a function to this value, you'll get different results **depending on the context**. This is the idea that Functors, Applicatives and Monads are all based on. The *Option* data type is a union type that defines two related contexts: *Some value* and Nothing a.k.a. *None*"
   ],
   "metadata": {}
  },
  {
   "cell_type": "code",
   "execution_count": null,
   "source": [
    "\r\n",
    "//type Option<'a> = Some 'a | None\r\n",
    "let option_cases = [Some 2; None]\r\n",
    "option_cases"
   ],
   "outputs": [
    {
     "data": {
      "text/html": [
       "<table><thead><tr><th><i>index</i></th><th>Value</th><th>value</th></tr></thead><tbody><tr><td>0</td><td><div class=\"dni-plaintext\">2</div></td><td></td></tr><tr><td>1</td><td></td><td><div class=\"dni-plaintext\">&lt;null&gt;</div></td></tr></tbody></table>"
      ]
     },
     "metadata": {},
     "output_type": "display_data"
    }
   ],
   "metadata": {
    "dotnet_interactive": {
     "language": "fsharp"
    }
   }
  },
  {
   "cell_type": "markdown",
   "source": [
    "In a second we'll see how function application is different when something is *Some a* versus a *None*. First, let's talk about Functors!\r\n",
    "\r\n",
    "Functors\r\n",
    "---\r\n",
    "When a value is wrapped in a context, you can't apply a normal function to it:"
   ],
   "metadata": {}
  },
  {
   "cell_type": "code",
   "execution_count": null,
   "source": [
    "((+)3) (Some 2)"
   ],
   "outputs": [
    {
     "output_type": "error",
     "ename": "Error",
     "evalue": "input.fsx (1,9)-(1,15) typecheck error The type ''a option' does not match the type 'int'\ninput.fsx (1,3)-(1,4) typecheck error The type ''a option' does not match the type 'int'",
     "traceback": [
      "input.fsx (1,9)-(1,15) typecheck error The type ''a option' does not match the type 'int'\n",
      "input.fsx (1,3)-(1,4) typecheck error The type ''a option' does not match the type 'int'"
     ]
    }
   ],
   "metadata": {
    "dotnet_interactive": {
     "language": "fsharp"
    }
   }
  },
  {
   "cell_type": "markdown",
   "source": [
    "This is where *map* comes in. *map* is from the street, *map* knows about contexts. It knows how to apply functions to values that are wrapped in a context. For example, suppose you want to apply (+)3 to Some 2. Use *Option.map*:"
   ],
   "metadata": {}
  },
  {
   "cell_type": "code",
   "execution_count": null,
   "source": [
    "Option.map ((+)3) (Some 2)"
   ],
   "outputs": [
    {
     "data": {
      "text/html": [
       "<table><thead><tr><th>Value</th></tr></thead><tbody><tr><td><div class=\"dni-plaintext\">5</div></td></tr></tbody></table>"
      ]
     },
     "metadata": {},
     "output_type": "display_data"
    }
   ],
   "metadata": {
    "dotnet_interactive": {
     "language": "fsharp"
    }
   }
  },
  {
   "cell_type": "markdown",
   "source": [
    "**Bam!** *Option.map* shows us how it's done! But how does *Option.map* know how to apply the function?\r\n",
    "\r\n",
    "As a small aside, note how the Option.map function is totally unrelated to map functions of other context types (like List.map, Result.map, etc.). This is a somewhat different approach from how Haskell pulls this off with its typeclass support. But let's not diverge, these things are complicated enough as they are 😅\r\n",
    "\r\n",
    "Just what is a Functor, really?\r\n",
    "---\r\n",
    "\r\n",
    "A Functor is any data type that defines a *map* function. Here's Option.map's type signature:"
   ],
   "metadata": {}
  },
  {
   "cell_type": "code",
   "execution_count": null,
   "source": [
    "let optionMap (f: ('a -> 'b)) (v : 'a option) : 'b option = Option.map f v"
   ],
   "outputs": [],
   "metadata": {
    "dotnet_interactive": {
     "language": "fsharp"
    }
   }
  },
  {
   "cell_type": "markdown",
   "source": [
    "map takes a function (like *plus3*) and a functor (like *Some 2*) and returns a new functor (*Some 5*). And map magically applies this function, because Option is a Functor. It specifies how map applies to Some's and Nothings. This is what the definition of map would look like if we would write it ourselves:"
   ],
   "metadata": {}
  },
  {
   "cell_type": "code",
   "execution_count": null,
   "source": [
    "let optionMap2 f v =\r\n",
    "    match v with\r\n",
    "    | Some value -> Some (f value)\r\n",
    "    | None -> None"
   ],
   "outputs": [
    {
     "data": {
      "text/html": [
       "<table><thead><tr><th>Value</th></tr></thead><tbody><tr><td><div class=\"dni-plaintext\">5</div></td></tr></tbody></table>"
      ]
     },
     "metadata": {},
     "output_type": "display_data"
    }
   ],
   "metadata": {
    "dotnet_interactive": {
     "language": "fsharp"
    }
   }
  },
  {
   "cell_type": "markdown",
   "source": [
    "Here's what is happening behind the scenes when we write `Option.map ((+)3) (Some 2)`:"
   ],
   "metadata": {}
  },
  {
   "cell_type": "code",
   "execution_count": null,
   "source": [
    "Option.map ((+)3) (Some 2)\r\n",
    "//1. Unwrap the 2 value from its Some context\r\n",
    "//2. Apply the (+)3 function to the value 2, resulting in 5\r\n",
    "//3. Rewrap the value 5 back in a Some context "
   ],
   "outputs": [
    {
     "data": {
      "text/html": [
       "<table><thead><tr><th>Value</th></tr></thead><tbody><tr><td><div class=\"dni-plaintext\">5</div></td></tr></tbody></table>"
      ]
     },
     "metadata": {},
     "output_type": "display_data"
    }
   ],
   "metadata": {
    "dotnet_interactive": {
     "language": "fsharp"
    }
   }
  },
  {
   "cell_type": "markdown",
   "source": [
    "So then you'r like, alright Option.map, please apply ((+)3) to a None?"
   ],
   "metadata": {}
  },
  {
   "cell_type": "code",
   "execution_count": null,
   "source": [
    "Option.map ((+)3) None\r\n",
    "//1. the None case contains no value at all\r\n",
    "//2. So we don't apply any function\r\n",
    "//3. And end up with None"
   ],
   "outputs": [
    {
     "data": {
      "text/html": [
       "<div class=\"dni-plaintext\">&lt;null&gt;</div>"
      ]
     },
     "metadata": {},
     "output_type": "display_data"
    }
   ],
   "metadata": {
    "dotnet_interactive": {
     "language": "fsharp"
    }
   }
  },
  {
   "cell_type": "markdown",
   "source": [
    "Like Morpheus in the Matrix, map knows just what to do; you start with Nothing, so you end up with Nothing! map is zen. Now it makes sense why the Option data type exists. For example, here's how you work with a database record in a language without Option:\r\n",
    "\r\n",
    "```\r\n",
    "post = Post.find_by_id(1)\r\n",
    "if post\r\n",
    "  return post.title\r\n",
    "else\r\n",
    "  return nil\r\n",
    "end\r\n",
    "```\r\n",
    "\r\n",
    "But in F#:"
   ],
   "metadata": {}
  },
  {
   "cell_type": "code",
   "execution_count": null,
   "source": [
    "type Post = { id : int; title : string }\r\n",
    "let findPost id : Post option = Some { id = id; title = \"My first post about F#\"}\r\n",
    "let getPostTitle (p : Post) = p.title\r\n",
    "\r\n",
    "Option.map getPostTitle (findPost 1)"
   ],
   "outputs": [
    {
     "data": {
      "text/html": [
       "<table><thead><tr><th>Value</th></tr></thead><tbody><tr><td><div class=\"dni-plaintext\">My first post about F#</div></td></tr></tbody></table>"
      ]
     },
     "metadata": {},
     "output_type": "display_data"
    }
   ],
   "metadata": {
    "dotnet_interactive": {
     "language": "fsharp"
    }
   }
  },
  {
   "cell_type": "markdown",
   "source": [
    "If findPost returns a post, we will get the title with getPostTitle. If it returns None, we will return None! Pretty neat, huh?\r\n",
    "\r\n",
    "F# code makes frequent use of the pipe operator, so you will often see this instead:"
   ],
   "metadata": {}
  },
  {
   "cell_type": "code",
   "execution_count": null,
   "source": [
    "findPost 1\r\n",
    "|> Option.map getPostTitle"
   ],
   "outputs": [
    {
     "data": {
      "text/html": [
       "<table><thead><tr><th>Value</th></tr></thead><tbody><tr><td><div class=\"dni-plaintext\">My first post about F#</div></td></tr></tbody></table>"
      ]
     },
     "metadata": {},
     "output_type": "display_data"
    }
   ],
   "metadata": {
    "dotnet_interactive": {
     "language": "fsharp"
    }
   }
  },
  {
   "cell_type": "markdown",
   "source": [
    "Here's another example: what happens when you apply a function to a list?"
   ],
   "metadata": {}
  },
  {
   "cell_type": "code",
   "execution_count": null,
   "source": [
    "[2;4;6]\r\n",
    "|> List.map ((+)3)"
   ],
   "outputs": [
    {
     "data": {
      "text/html": [
       "<table><thead><tr><th><i>index</i></th><th>value</th></tr></thead><tbody><tr><td>0</td><td><div class=\"dni-plaintext\">5</div></td></tr><tr><td>1</td><td><div class=\"dni-plaintext\">7</div></td></tr><tr><td>2</td><td><div class=\"dni-plaintext\">9</div></td></tr></tbody></table>"
      ]
     },
     "metadata": {},
     "output_type": "display_data"
    }
   ],
   "metadata": {
    "dotnet_interactive": {
     "language": "fsharp"
    }
   }
  },
  {
   "cell_type": "markdown",
   "source": [
    "Lists are functors too! Here's an example definition of List.map:"
   ],
   "metadata": {}
  },
  {
   "cell_type": "code",
   "execution_count": null,
   "source": [
    "let rec listMap (f : 'a->'b) (xs: 'a list) : 'b list =\r\n",
    "    match xs with\r\n",
    "    | [] -> []\r\n",
    "    | h :: t -> (f h) :: (listMap f t)\r\n",
    "\r\n",
    "listMap ((+)3) [2;4;6]"
   ],
   "outputs": [
    {
     "data": {
      "text/html": [
       "<table><thead><tr><th><i>index</i></th><th>value</th></tr></thead><tbody><tr><td>0</td><td><div class=\"dni-plaintext\">5</div></td></tr><tr><td>1</td><td><div class=\"dni-plaintext\">7</div></td></tr><tr><td>2</td><td><div class=\"dni-plaintext\">9</div></td></tr></tbody></table>"
      ]
     },
     "metadata": {},
     "output_type": "display_data"
    }
   ],
   "metadata": {
    "dotnet_interactive": {
     "language": "fsharp"
    }
   }
  },
  {
   "cell_type": "markdown",
   "source": [
    "Applicatives\r\n",
    "---\r\n",
    "\r\n",
    "Applicatives take it to the next level. With an applicative, our values are wrapped in a context, just like Functors. But our functions are wrapped in a context too!\r\n",
    "\r\n",
    "Yeah. Let that sink in. Applicatives don't kid around. For Applicatives you can define a function called *apply*, which knows how to apply a function *wrapped in a context* to *a value wrapped in a context*:"
   ],
   "metadata": {}
  },
  {
   "cell_type": "code",
   "execution_count": null,
   "source": [
    "module Option =\r\n",
    "    let apply ff vv =\r\n",
    "        match ff, vv with\r\n",
    "        | Some f, Some v -> Some (f v)\r\n",
    "        | _ -> None\r\n",
    "\r\n",
    "Some 2\r\n",
    "|> Option.apply (Some ((+)3))"
   ],
   "outputs": [
    {
     "data": {
      "text/html": [
       "<table><thead><tr><th>Value</th></tr></thead><tbody><tr><td><div class=\"dni-plaintext\">5</div></td></tr></tbody></table>"
      ]
     },
     "metadata": {},
     "output_type": "display_data"
    }
   ],
   "metadata": {
    "dotnet_interactive": {
     "language": "fsharp"
    }
   }
  },
  {
   "cell_type": "markdown",
   "source": [
    "Using apply can lead to some interesting situations. For example, apply for the List context:"
   ],
   "metadata": {}
  },
  {
   "cell_type": "code",
   "execution_count": null,
   "source": [
    "module List =\r\n",
    "    let rec apply (fs : ('a->'b) list) (xs : 'a list) : 'b list =\r\n",
    "        [for f in fs do\r\n",
    "         for x in xs -> f x]\r\n",
    "        \r\n",
    "[1;2;3]\r\n",
    "|> List.apply [(( * ) 2);(( + )3)]"
   ],
   "outputs": [
    {
     "data": {
      "text/html": [
       "<table><thead><tr><th><i>index</i></th><th>value</th></tr></thead><tbody><tr><td>0</td><td><div class=\"dni-plaintext\">2</div></td></tr><tr><td>1</td><td><div class=\"dni-plaintext\">4</div></td></tr><tr><td>2</td><td><div class=\"dni-plaintext\">6</div></td></tr><tr><td>3</td><td><div class=\"dni-plaintext\">4</div></td></tr><tr><td>4</td><td><div class=\"dni-plaintext\">5</div></td></tr><tr><td>5</td><td><div class=\"dni-plaintext\">6</div></td></tr></tbody></table>"
      ]
     },
     "metadata": {},
     "output_type": "display_data"
    }
   ],
   "metadata": {
    "dotnet_interactive": {
     "language": "fsharp"
    }
   }
  },
  {
   "cell_type": "markdown",
   "source": [
    "Here's something you can do with Applicatives that you can't do with Functors. How do you apply a function that takes two arguments to two wrapped values?"
   ],
   "metadata": {}
  },
  {
   "cell_type": "code",
   "execution_count": null,
   "source": [
    "Option.apply (Option.map (+) (Some 5)) (Some 3)"
   ],
   "outputs": [
    {
     "data": {
      "text/html": [
       "<table><thead><tr><th>Value</th></tr></thead><tbody><tr><td><div class=\"dni-plaintext\">8</div></td></tr></tbody></table>"
      ]
     },
     "metadata": {},
     "output_type": "display_data"
    }
   ],
   "metadata": {
    "dotnet_interactive": {
     "language": "fsharp"
    }
   }
  },
  {
   "cell_type": "markdown",
   "source": [
    "Or using infix operators for readability:"
   ],
   "metadata": {}
  },
  {
   "cell_type": "code",
   "execution_count": null,
   "source": [
    "let (<!>) = Option.map\r\n",
    "let (<*>) = Option.apply\r\n",
    "\r\n",
    "(+) <!> Some 5 <*> Some 3"
   ],
   "outputs": [
    {
     "data": {
      "text/html": [
       "<table><thead><tr><th>Value</th></tr></thead><tbody><tr><td><div class=\"dni-plaintext\">8</div></td></tr></tbody></table>"
      ]
     },
     "metadata": {},
     "output_type": "display_data"
    }
   ],
   "metadata": {
    "dotnet_interactive": {
     "language": "fsharp"
    }
   }
  },
  {
   "cell_type": "markdown",
   "source": [
    "Applicative pushes functor aside. \"Big boys can use functions with any number of arguments\" it says. \"Armed with map and apply, I can take any function that expects any number of unwrapped values. Then I pass it all wrapped values, and I get a wrapped value out! Ahahahahah!\""
   ],
   "metadata": {}
  },
  {
   "cell_type": "code",
   "execution_count": null,
   "source": [
    "( * ) <!> Some 5 <*> Some 3"
   ],
   "outputs": [
    {
     "data": {
      "text/html": [
       "<table><thead><tr><th>Value</th></tr></thead><tbody><tr><td><div class=\"dni-plaintext\">15</div></td></tr></tbody></table>"
      ]
     },
     "metadata": {},
     "output_type": "display_data"
    }
   ],
   "metadata": {
    "dotnet_interactive": {
     "language": "fsharp"
    }
   }
  },
  {
   "cell_type": "markdown",
   "source": [
    "Monads\r\n",
    "---\r\n",
    "\r\n",
    "How to learn about Monads:\r\n",
    "\r\n",
    "1. Get a PhD in computer science.\r\n",
    "2. Throw it away because you don't need it for this section!\r\n",
    "\r\n",
    "Monads add a new twist.\r\n",
    "\r\n",
    "Functors apply a function to a wrapped value:"
   ],
   "metadata": {}
  },
  {
   "cell_type": "code",
   "execution_count": null,
   "source": [
    "((+) 3) <!> Some 2"
   ],
   "outputs": [
    {
     "data": {
      "text/html": [
       "<table><thead><tr><th>Value</th></tr></thead><tbody><tr><td><div class=\"dni-plaintext\">5</div></td></tr></tbody></table>"
      ]
     },
     "metadata": {},
     "output_type": "display_data"
    }
   ],
   "metadata": {
    "dotnet_interactive": {
     "language": "fsharp"
    }
   }
  },
  {
   "cell_type": "markdown",
   "source": [
    "Applicatives apply a wrapped function to a wrapped value:"
   ],
   "metadata": {}
  },
  {
   "cell_type": "code",
   "execution_count": null,
   "source": [
    "(Some ((+) 3)) <*> (Some 2)"
   ],
   "outputs": [
    {
     "data": {
      "text/html": [
       "<table><thead><tr><th>Value</th></tr></thead><tbody><tr><td><div class=\"dni-plaintext\">5</div></td></tr></tbody></table>"
      ]
     },
     "metadata": {},
     "output_type": "display_data"
    }
   ],
   "metadata": {
    "dotnet_interactive": {
     "language": "fsharp"
    }
   }
  },
  {
   "cell_type": "markdown",
   "source": [
    "Monads apply a function **that returns a wrapped value** to an already wrapped value. Monads have a function `bind` to do this.\r\n",
    "Let's see an example. Good ol' `Option` is a monad.\r\n",
    "\r\n",
    "Suppose half is a function that only works on even numbers:"
   ],
   "metadata": {}
  },
  {
   "cell_type": "code",
   "execution_count": null,
   "source": [
    "let half (x : int) : int option =\r\n",
    "    match x % 2 with\r\n",
    "    | 0 -> Some (x / 2)\r\n",
    "    | _ -> None\r\n",
    "\r\n",
    "half 666"
   ],
   "outputs": [
    {
     "data": {
      "text/html": [
       "<table><thead><tr><th>Value</th></tr></thead><tbody><tr><td><div class=\"dni-plaintext\">333</div></td></tr></tbody></table>"
      ]
     },
     "metadata": {},
     "output_type": "display_data"
    }
   ],
   "metadata": {
    "dotnet_interactive": {
     "language": "fsharp"
    }
   }
  },
  {
   "cell_type": "markdown",
   "source": [
    "What if we feed it a wrapped value?"
   ],
   "metadata": {}
  },
  {
   "cell_type": "code",
   "execution_count": null,
   "source": [
    "half (Some 666)"
   ],
   "outputs": [
    {
     "output_type": "error",
     "ename": "Error",
     "evalue": "input.fsx (1,7)-(1,15) typecheck error This expression was expected to have type\n    'int'    \nbut here has type\n    ''a option'    ",
     "traceback": [
      "input.fsx (1,7)-(1,15) typecheck error This expression was expected to have type\n",
      "    'int'    \n",
      "but here has type\n",
      "    ''a option'    "
     ]
    }
   ],
   "metadata": {
    "dotnet_interactive": {
     "language": "fsharp"
    }
   }
  },
  {
   "cell_type": "markdown",
   "source": [
    "Ouch! We need to use `Option.bind` to shove our wrapped value into the function. Here's how it works:"
   ],
   "metadata": {}
  },
  {
   "cell_type": "code",
   "execution_count": null,
   "source": [
    "Some 3\r\n",
    "|> Option.bind half"
   ],
   "outputs": [
    {
     "data": {
      "text/html": [
       "<div class=\"dni-plaintext\">&lt;null&gt;</div>"
      ]
     },
     "metadata": {},
     "output_type": "display_data"
    }
   ],
   "metadata": {
    "dotnet_interactive": {
     "language": "fsharp"
    }
   }
  },
  {
   "cell_type": "code",
   "execution_count": null,
   "source": [
    "Some 4\r\n",
    "|> Option.bind half"
   ],
   "outputs": [
    {
     "data": {
      "text/html": [
       "<table><thead><tr><th>Value</th></tr></thead><tbody><tr><td><div class=\"dni-plaintext\">2</div></td></tr></tbody></table>"
      ]
     },
     "metadata": {},
     "output_type": "display_data"
    }
   ],
   "metadata": {
    "dotnet_interactive": {
     "language": "fsharp"
    }
   }
  },
  {
   "cell_type": "code",
   "execution_count": null,
   "source": [
    "None\r\n",
    "|> Option.bind half"
   ],
   "outputs": [
    {
     "data": {
      "text/html": [
       "<div class=\"dni-plaintext\">&lt;null&gt;</div>"
      ]
     },
     "metadata": {},
     "output_type": "display_data"
    }
   ],
   "metadata": {
    "dotnet_interactive": {
     "language": "fsharp"
    }
   }
  },
  {
   "cell_type": "markdown",
   "source": [
    "What's happening inside? Here's an example definition of Option's bind:"
   ],
   "metadata": {}
  },
  {
   "cell_type": "code",
   "execution_count": null,
   "source": [
    "let optionBind (f : 'a -> 'b option) (v: 'a option) : 'b option = \r\n",
    "    match v with\r\n",
    "    | None -> None\r\n",
    "    | Some a -> f a\r\n",
    "\r\n",
    "Some 4\r\n",
    "|> optionBind half"
   ],
   "outputs": [
    {
     "data": {
      "text/html": [
       "<table><thead><tr><th>Value</th></tr></thead><tbody><tr><td><div class=\"dni-plaintext\">2</div></td></tr></tbody></table>"
      ]
     },
     "metadata": {},
     "output_type": "display_data"
    }
   ],
   "metadata": {
    "dotnet_interactive": {
     "language": "fsharp"
    }
   }
  },
  {
   "cell_type": "markdown",
   "source": [
    "1. Bind unwraps the value a from its context\r\n",
    "2. It feeds the unwrapped value a into the function f\r\n",
    "3. The wrapped value (Some 2) comes out\r\n",
    "\r\n",
    "And if you pass in a None it's even simpler:\r\n",
    "1. None goes in\r\n",
    "2. Nothing has to be done\r\n",
    "3. None comes back out again\r\n",
    "\r\n",
    "You can also chain these calls:"
   ],
   "metadata": {}
  },
  {
   "cell_type": "code",
   "execution_count": null,
   "source": [
    "Some 20\r\n",
    "|> Option.bind half\r\n",
    "|> Option.bind half\r\n",
    "|> Option.bind half"
   ],
   "outputs": [
    {
     "data": {
      "text/html": [
       "<div class=\"dni-plaintext\">&lt;null&gt;</div>"
      ]
     },
     "metadata": {},
     "output_type": "display_data"
    }
   ],
   "metadata": {
    "dotnet_interactive": {
     "language": "fsharp"
    }
   }
  },
  {
   "cell_type": "markdown",
   "source": [
    "Or with an infix operator if that's more your style:"
   ],
   "metadata": {}
  },
  {
   "cell_type": "code",
   "execution_count": null,
   "source": [
    "let (>>=) v f = Option.bind f v\r\n",
    "\r\n",
    "Some 20 >>= half >>= half >>= half"
   ],
   "outputs": [
    {
     "data": {
      "text/html": [
       "<div class=\"dni-plaintext\">&lt;null&gt;</div>"
      ]
     },
     "metadata": {},
     "output_type": "display_data"
    }
   ],
   "metadata": {
    "dotnet_interactive": {
     "language": "fsharp"
    }
   }
  },
  {
   "cell_type": "markdown",
   "source": [
    "Cool stuff! So now we know that `Option` is a Functor, an Applicative and a Monad!\r\n",
    "\r\n",
    "F# also provides us with some syntactical sugar for monads, called computation expressions. After a bit of black magic.\r\n",
    "\r\n"
   ],
   "metadata": {}
  },
  {
   "cell_type": "code",
   "execution_count": null,
   "source": [
    "type OptionBuilder() =\r\n",
    "    member this.Return(x) = Some x\r\n",
    "    member this.Bind(m, f) = Option.bind f m\r\n",
    "    \r\n",
    "let option = OptionBuilder()"
   ],
   "outputs": [],
   "metadata": {
    "dotnet_interactive": {
     "language": "fsharp"
    }
   }
  },
  {
   "cell_type": "markdown",
   "source": [
    "You can write your Option-aware code like this, which does exactly the same as above:"
   ],
   "metadata": {}
  },
  {
   "cell_type": "code",
   "execution_count": null,
   "source": [
    "option {\r\n",
    "    let! twenty = Some 20\r\n",
    "    let! h = half twenty\r\n",
    "    let! h2 = half h\r\n",
    "    let! h3 = half h2\r\n",
    "    return h3\r\n",
    "}"
   ],
   "outputs": [
    {
     "data": {
      "text/html": [
       "<div class=\"dni-plaintext\">&lt;null&gt;</div>"
      ]
     },
     "metadata": {},
     "output_type": "display_data"
    }
   ],
   "metadata": {
    "dotnet_interactive": {
     "language": "fsharp"
    }
   }
  },
  {
   "cell_type": "markdown",
   "source": [
    "Conclusion\r\n",
    "---\r\n",
    "\r\n",
    "1. A *Functor* is a data type that implements the `map` function."
   ],
   "metadata": {}
  },
  {
   "cell_type": "code",
   "execution_count": null,
   "source": [
    "(Some 2) |> Option.map ((+)3)"
   ],
   "outputs": [
    {
     "data": {
      "text/html": [
       "<table><thead><tr><th>Value</th></tr></thead><tbody><tr><td><div class=\"dni-plaintext\">5</div></td></tr></tbody></table>"
      ]
     },
     "metadata": {},
     "output_type": "display_data"
    }
   ],
   "metadata": {
    "dotnet_interactive": {
     "language": "fsharp"
    }
   }
  },
  {
   "cell_type": "markdown",
   "source": [
    "2. An *Applicative* is a data type that implements the `apply` function."
   ],
   "metadata": {}
  },
  {
   "cell_type": "code",
   "execution_count": null,
   "source": [
    "Some 2 |> Option.apply (Some ((+)3))"
   ],
   "outputs": [
    {
     "data": {
      "text/html": [
       "<table><thead><tr><th>Value</th></tr></thead><tbody><tr><td><div class=\"dni-plaintext\">5</div></td></tr></tbody></table>"
      ]
     },
     "metadata": {},
     "output_type": "display_data"
    }
   ],
   "metadata": {
    "dotnet_interactive": {
     "language": "fsharp"
    }
   }
  },
  {
   "cell_type": "markdown",
   "source": [
    "3. A *Monad* is a data type that implements the `bind` function."
   ],
   "metadata": {}
  },
  {
   "cell_type": "code",
   "execution_count": null,
   "source": [
    "Some 2 |> Option.bind half"
   ],
   "outputs": [
    {
     "data": {
      "text/html": [
       "<table><thead><tr><th>Value</th></tr></thead><tbody><tr><td><div class=\"dni-plaintext\">1</div></td></tr></tbody></table>"
      ]
     },
     "metadata": {},
     "output_type": "display_data"
    }
   ],
   "metadata": {
    "dotnet_interactive": {
     "language": "fsharp"
    }
   }
  },
  {
   "cell_type": "markdown",
   "source": [
    "4. `Option` implements all three, so it is a functor, an applicative and a monad.\r\n",
    "\r\n",
    "What's the difference between the three?\r\n",
    "\r\n",
    "* **functors**: you apply a function to a wrapped value using `map`\r\n",
    "* **applicatives**: you apply a wrapped function to a wrapped value using `apply`\r\n",
    "* **monads**: you apply a function that returns a wrapped value (but takes an unwrapped value), to a wrapped value using `bind`"
   ],
   "metadata": {}
  }
 ],
 "nbformat": 4,
 "nbformat_minor": 2
}