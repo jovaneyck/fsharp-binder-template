{
 "metadata": {
  "kernelspec": {
   "display_name": ".NET (F#)",
   "language": "F#",
   "name": ".net-fsharp"
  },
  "language_info": {
   "name": "F#"
  }
 },
 "cells": [
  {
   "cell_type": "markdown",
   "source": [
    "Covid-19 hospitalisations\r\n",
    "==="
   ],
   "metadata": {}
  },
  {
   "cell_type": "code",
   "execution_count": null,
   "source": [
    "let [<Literal>] hospitalization_data_url = \"https://epistat.sciensano.be/Data/COVID19BE_HOSP.csv\"\r\n",
    "\r\n",
    "#r \"nuget: Plotly.NET, 2.0.0-preview.6\"\r\n",
    "#r \"nuget: Plotly.NET.Interactive, 2.0.0-preview.6\"\r\n",
    "#r \"nuget: FSharp.Data\"\r\n",
    "\r\n",
    "open Plotly.NET\r\n",
    "open FSharp.Data"
   ],
   "outputs": [
    {
     "output_type": "display_data",
     "data": {
      "text/html": [
       "<div><div></div><div><strong>Installed Packages</strong><ul><li><span>fsharp.core, 5.0.0</span></li><li><span>FSharp.Data, 4.2.0</span></li><li><span>humanizer.core, 2.2.0</span></li><li><span>microsoft.aspnetcore.html.abstractions, 2.2.0</span></li><li><span>microsoft.bcl.asyncinterfaces, 5.0.0</span></li><li><span>microsoft.codeanalysis.common, 3.9.0</span></li><li><span>microsoft.codeanalysis.csharp, 3.9.0</span></li><li><span>microsoft.codeanalysis.csharp.workspaces, 3.9.0</span></li><li><span>microsoft.codeanalysis.visualbasic, 3.9.0</span></li><li><span>microsoft.codeanalysis.visualbasic.workspaces, 3.9.0</span></li><li><span>microsoft.codeanalysis.workspaces.common, 3.9.0</span></li><li><span>microsoft.dotnet.interactive, 1.0.0-beta.21330.2</span></li><li><span>microsoft.dotnet.interactive.formatting, 1.0.0-beta.21330.2</span></li><li><span>newtonsoft.json, 12.0.3</span></li><li><span>nuget.frameworks, 5.0.0</span></li><li><span>Plotly.NET, 2.0.0-preview.6</span></li><li><span>Plotly.NET.Interactive, 2.0.0-preview.6</span></li><li><span>system.commandline, 2.0.0-beta1.21308.1</span></li><li><span>system.commandline.rendering, 0.3.0-alpha.20427.1</span></li><li><span>system.composition.attributedmodel, 1.0.31</span></li><li><span>system.composition.convention, 1.0.31</span></li><li><span>system.composition.hosting, 1.0.31</span></li><li><span>system.composition.runtime, 1.0.31</span></li><li><span>system.composition.typedparts, 1.0.31</span></li><li><span>system.io.pipelines, 5.0.0</span></li><li><span>system.reactive, 5.0.0</span></li><li><span>system.text.encodings.web, 5.0.1</span></li><li><span>system.text.json, 5.0.2</span></li></ul></div><div></div></div>"
      ]
     },
     "metadata": {}
    },
    {
     "output_type": "display_data",
     "data": {
      "text/markdown": [
       "Loading extensions from `Plotly.NET.Interactive.dll`"
      ]
     },
     "metadata": {}
    },
    {
     "output_type": "display_data",
     "data": {
      "text/markdown": [
       "Added Kernel Extension including formatters for Plotly.NET charts."
      ]
     },
     "metadata": {}
    }
   ],
   "metadata": {
    "dotnet_interactive": {
     "language": "fsharp"
    }
   }
  },
  {
   "cell_type": "code",
   "execution_count": null,
   "source": [
    " //Retrieve latest data from sciensano\r\n",
    "type Hospitalizations = CsvProvider<hospitalization_data_url>\r\n",
    "let hospitalizations = Hospitalizations.GetSample()\r\n",
    "\r\n",
    "hospitalizations.Headers"
   ],
   "outputs": [
    {
     "output_type": "display_data",
     "data": {
      "text/html": [
       "<table><thead><tr><th>Value</th></tr></thead><tbody><tr><td><div class=\"dni-plaintext\">[ DATE, PROVINCE, REGION, NR_REPORTING, TOTAL_IN, TOTAL_IN_ICU, TOTAL_IN_RESP, TOTAL_IN_ECMO, NEW_IN, NEW_OUT ]</div></td></tr></tbody></table>"
      ]
     },
     "metadata": {}
    }
   ],
   "metadata": {
    "dotnet_interactive": {
     "language": "fsharp"
    }
   }
  },
  {
   "cell_type": "code",
   "execution_count": null,
   "source": [
    "hospitalizations.Rows |> Seq.sortByDescending (fun r -> r.DATE)"
   ],
   "outputs": [
    {
     "output_type": "display_data",
     "data": {
      "text/html": [
       "<table><thead><tr><th><i>index</i></th><th>Item1</th><th>Item2</th><th>Item3</th><th>Item4</th><th>Item5</th><th>Item6</th><th>Item7</th><th>Rest</th></tr></thead><tbody><tr><td>0</td><td><span>2021-07-29 00:00:00Z</span></td><td>Antwerpen</td><td>Flanders</td><td><div class=\"dni-plaintext\">14</div></td><td><div class=\"dni-plaintext\">45</div></td><td><div class=\"dni-plaintext\">11</div></td><td><div class=\"dni-plaintext\">5</div></td><td><table><thead><tr><th>Item1</th><th>Item2</th><th>Item3</th></tr></thead><tbody><tr><td><div class=\"dni-plaintext\">0</div></td><td><div class=\"dni-plaintext\">6</div></td><td><div class=\"dni-plaintext\">7</div></td></tr></tbody></table></td></tr><tr><td>1</td><td><span>2021-07-29 00:00:00Z</span></td><td>Brussels</td><td>Brussels</td><td><div class=\"dni-plaintext\">15</div></td><td><div class=\"dni-plaintext\">104</div></td><td><div class=\"dni-plaintext\">35</div></td><td><div class=\"dni-plaintext\">19</div></td><td><table><thead><tr><th>Item1</th><th>Item2</th><th>Item3</th></tr></thead><tbody><tr><td><div class=\"dni-plaintext\">2</div></td><td><div class=\"dni-plaintext\">15</div></td><td><div class=\"dni-plaintext\">9</div></td></tr></tbody></table></td></tr><tr><td>2</td><td><span>2021-07-29 00:00:00Z</span></td><td>Hainaut</td><td>Wallonia</td><td><div class=\"dni-plaintext\">14</div></td><td><div class=\"dni-plaintext\">55</div></td><td><div class=\"dni-plaintext\">9</div></td><td><div class=\"dni-plaintext\">7</div></td><td><table><thead><tr><th>Item1</th><th>Item2</th><th>Item3</th></tr></thead><tbody><tr><td><div class=\"dni-plaintext\">1</div></td><td><div class=\"dni-plaintext\">7</div></td><td><div class=\"dni-plaintext\">2</div></td></tr></tbody></table></td></tr><tr><td>3</td><td><span>2021-07-29 00:00:00Z</span></td><td>Limburg</td><td>Flanders</td><td><div class=\"dni-plaintext\">7</div></td><td><div class=\"dni-plaintext\">9</div></td><td><div class=\"dni-plaintext\">2</div></td><td><div class=\"dni-plaintext\">0</div></td><td><table><thead><tr><th>Item1</th><th>Item2</th><th>Item3</th></tr></thead><tbody><tr><td><div class=\"dni-plaintext\">0</div></td><td><div class=\"dni-plaintext\">2</div></td><td><div class=\"dni-plaintext\">1</div></td></tr></tbody></table></td></tr><tr><td>4</td><td><span>2021-07-29 00:00:00Z</span></td><td>Li&#195;&#168;ge</td><td>Wallonia</td><td><div class=\"dni-plaintext\">12</div></td><td><div class=\"dni-plaintext\">20</div></td><td><div class=\"dni-plaintext\">4</div></td><td><div class=\"dni-plaintext\">0</div></td><td><table><thead><tr><th>Item1</th><th>Item2</th><th>Item3</th></tr></thead><tbody><tr><td><div class=\"dni-plaintext\">0</div></td><td><div class=\"dni-plaintext\">2</div></td><td><div class=\"dni-plaintext\">1</div></td></tr></tbody></table></td></tr><tr><td>5</td><td><span>2021-07-29 00:00:00Z</span></td><td>Luxembourg</td><td>Wallonia</td><td><div class=\"dni-plaintext\">3</div></td><td><div class=\"dni-plaintext\">3</div></td><td><div class=\"dni-plaintext\">1</div></td><td><div class=\"dni-plaintext\">1</div></td><td><table><thead><tr><th>Item1</th><th>Item2</th><th>Item3</th></tr></thead><tbody><tr><td><div class=\"dni-plaintext\">0</div></td><td><div class=\"dni-plaintext\">0</div></td><td><div class=\"dni-plaintext\">0</div></td></tr></tbody></table></td></tr><tr><td>6</td><td><span>2021-07-29 00:00:00Z</span></td><td>Namur</td><td>Wallonia</td><td><div class=\"dni-plaintext\">6</div></td><td><div class=\"dni-plaintext\">9</div></td><td><div class=\"dni-plaintext\">5</div></td><td><div class=\"dni-plaintext\">3</div></td><td><table><thead><tr><th>Item1</th><th>Item2</th><th>Item3</th></tr></thead><tbody><tr><td><div class=\"dni-plaintext\">0</div></td><td><div class=\"dni-plaintext\">1</div></td><td><div class=\"dni-plaintext\">3</div></td></tr></tbody></table></td></tr><tr><td>7</td><td><span>2021-07-29 00:00:00Z</span></td><td>OostVlaanderen</td><td>Flanders</td><td><div class=\"dni-plaintext\">14</div></td><td><div class=\"dni-plaintext\">25</div></td><td><div class=\"dni-plaintext\">10</div></td><td><div class=\"dni-plaintext\">5</div></td><td><table><thead><tr><th>Item1</th><th>Item2</th><th>Item3</th></tr></thead><tbody><tr><td><div class=\"dni-plaintext\">0</div></td><td><div class=\"dni-plaintext\">1</div></td><td><div class=\"dni-plaintext\">4</div></td></tr></tbody></table></td></tr><tr><td>8</td><td><span>2021-07-29 00:00:00Z</span></td><td>VlaamsBrabant</td><td>Flanders</td><td><div class=\"dni-plaintext\">6</div></td><td><div class=\"dni-plaintext\">24</div></td><td><div class=\"dni-plaintext\">6</div></td><td><div class=\"dni-plaintext\">4</div></td><td><table><thead><tr><th>Item1</th><th>Item2</th><th>Item3</th></tr></thead><tbody><tr><td><div class=\"dni-plaintext\">1</div></td><td><div class=\"dni-plaintext\">0</div></td><td><div class=\"dni-plaintext\">1</div></td></tr></tbody></table></td></tr><tr><td>9</td><td><span>2021-07-29 00:00:00Z</span></td><td>BrabantWallon</td><td>Wallonia</td><td><div class=\"dni-plaintext\">2</div></td><td><div class=\"dni-plaintext\">2</div></td><td><div class=\"dni-plaintext\">0</div></td><td><div class=\"dni-plaintext\">0</div></td><td><table><thead><tr><th>Item1</th><th>Item2</th><th>Item3</th></tr></thead><tbody><tr><td><div class=\"dni-plaintext\">0</div></td><td><div class=\"dni-plaintext\">0</div></td><td><div class=\"dni-plaintext\">1</div></td></tr></tbody></table></td></tr><tr><td>10</td><td><span>2021-07-29 00:00:00Z</span></td><td>WestVlaanderen</td><td>Flanders</td><td><div class=\"dni-plaintext\">11</div></td><td><div class=\"dni-plaintext\">22</div></td><td><div class=\"dni-plaintext\">10</div></td><td><div class=\"dni-plaintext\">1</div></td><td><table><thead><tr><th>Item1</th><th>Item2</th><th>Item3</th></tr></thead><tbody><tr><td><div class=\"dni-plaintext\">0</div></td><td><div class=\"dni-plaintext\">3</div></td><td><div class=\"dni-plaintext\">5</div></td></tr></tbody></table></td></tr><tr><td>11</td><td><span>2021-07-28 00:00:00Z</span></td><td>Antwerpen</td><td>Flanders</td><td><div class=\"dni-plaintext\">14</div></td><td><div class=\"dni-plaintext\">47</div></td><td><div class=\"dni-plaintext\">11</div></td><td><div class=\"dni-plaintext\">5</div></td><td><table><thead><tr><th>Item1</th><th>Item2</th><th>Item3</th></tr></thead><tbody><tr><td><div class=\"dni-plaintext\">0</div></td><td><div class=\"dni-plaintext\">4</div></td><td><div class=\"dni-plaintext\">9</div></td></tr></tbody></table></td></tr><tr><td>12</td><td><span>2021-07-28 00:00:00Z</span></td><td>Brussels</td><td>Brussels</td><td><div class=\"dni-plaintext\">15</div></td><td><div class=\"dni-plaintext\">100</div></td><td><div class=\"dni-plaintext\">37</div></td><td><div class=\"dni-plaintext\">22</div></td><td><table><thead><tr><th>Item1</th><th>Item2</th><th>Item3</th></tr></thead><tbody><tr><td><div class=\"dni-plaintext\">2</div></td><td><div class=\"dni-plaintext\">15</div></td><td><div class=\"dni-plaintext\">13</div></td></tr></tbody></table></td></tr><tr><td>13</td><td><span>2021-07-28 00:00:00Z</span></td><td>Hainaut</td><td>Wallonia</td><td><div class=\"dni-plaintext\">14</div></td><td><div class=\"dni-plaintext\">50</div></td><td><div class=\"dni-plaintext\">12</div></td><td><div class=\"dni-plaintext\">7</div></td><td><table><thead><tr><th>Item1</th><th>Item2</th><th>Item3</th></tr></thead><tbody><tr><td><div class=\"dni-plaintext\">1</div></td><td><div class=\"dni-plaintext\">4</div></td><td><div class=\"dni-plaintext\">3</div></td></tr></tbody></table></td></tr><tr><td>14</td><td><span>2021-07-28 00:00:00Z</span></td><td>Limburg</td><td>Flanders</td><td><div class=\"dni-plaintext\">7</div></td><td><div class=\"dni-plaintext\">7</div></td><td><div class=\"dni-plaintext\">2</div></td><td><div class=\"dni-plaintext\">0</div></td><td><table><thead><tr><th>Item1</th><th>Item2</th><th>Item3</th></tr></thead><tbody><tr><td><div class=\"dni-plaintext\">0</div></td><td><div class=\"dni-plaintext\">2</div></td><td><div class=\"dni-plaintext\">2</div></td></tr></tbody></table></td></tr><tr><td>15</td><td><span>2021-07-28 00:00:00Z</span></td><td>Li&#195;&#168;ge</td><td>Wallonia</td><td><div class=\"dni-plaintext\">12</div></td><td><div class=\"dni-plaintext\">20</div></td><td><div class=\"dni-plaintext\">3</div></td><td><div class=\"dni-plaintext\">0</div></td><td><table><thead><tr><th>Item1</th><th>Item2</th><th>Item3</th></tr></thead><tbody><tr><td><div class=\"dni-plaintext\">0</div></td><td><div class=\"dni-plaintext\">3</div></td><td><div class=\"dni-plaintext\">1</div></td></tr></tbody></table></td></tr><tr><td>16</td><td><span>2021-07-28 00:00:00Z</span></td><td>Luxembourg</td><td>Wallonia</td><td><div class=\"dni-plaintext\">3</div></td><td><div class=\"dni-plaintext\">3</div></td><td><div class=\"dni-plaintext\">1</div></td><td><div class=\"dni-plaintext\">1</div></td><td><table><thead><tr><th>Item1</th><th>Item2</th><th>Item3</th></tr></thead><tbody><tr><td><div class=\"dni-plaintext\">0</div></td><td><div class=\"dni-plaintext\">1</div></td><td><div class=\"dni-plaintext\">1</div></td></tr></tbody></table></td></tr><tr><td>17</td><td><span>2021-07-28 00:00:00Z</span></td><td>Namur</td><td>Wallonia</td><td><div class=\"dni-plaintext\">6</div></td><td><div class=\"dni-plaintext\">10</div></td><td><div class=\"dni-plaintext\">5</div></td><td><div class=\"dni-plaintext\">4</div></td><td><table><thead><tr><th>Item1</th><th>Item2</th><th>Item3</th></tr></thead><tbody><tr><td><div class=\"dni-plaintext\">0</div></td><td><div class=\"dni-plaintext\">1</div></td><td><div class=\"dni-plaintext\">0</div></td></tr></tbody></table></td></tr><tr><td>18</td><td><span>2021-07-28 00:00:00Z</span></td><td>OostVlaanderen</td><td>Flanders</td><td><div class=\"dni-plaintext\">14</div></td><td><div class=\"dni-plaintext\">25</div></td><td><div class=\"dni-plaintext\">9</div></td><td><div class=\"dni-plaintext\">5</div></td><td><table><thead><tr><th>Item1</th><th>Item2</th><th>Item3</th></tr></thead><tbody><tr><td><div class=\"dni-plaintext\">0</div></td><td><div class=\"dni-plaintext\">2</div></td><td><div class=\"dni-plaintext\">7</div></td></tr></tbody></table></td></tr><tr><td>19</td><td><span>2021-07-28 00:00:00Z</span></td><td>VlaamsBrabant</td><td>Flanders</td><td><div class=\"dni-plaintext\">6</div></td><td><div class=\"dni-plaintext\">25</div></td><td><div class=\"dni-plaintext\">6</div></td><td><div class=\"dni-plaintext\">3</div></td><td><table><thead><tr><th>Item1</th><th>Item2</th><th>Item3</th></tr></thead><tbody><tr><td><div class=\"dni-plaintext\">1</div></td><td><div class=\"dni-plaintext\">6</div></td><td><div class=\"dni-plaintext\">1</div></td></tr></tbody></table></td></tr><tr><td colspan=\"9\">(5502 more)</td></tr></tbody></table>"
      ]
     },
     "metadata": {}
    }
   ],
   "metadata": {
    "dotnet_interactive": {
     "language": "fsharp"
    }
   }
  },
  {
   "cell_type": "code",
   "execution_count": null,
   "source": [
    "//Group municipalities into daily totals\r\n",
    "let in_icu_totals = \r\n",
    "    hospitalizations.Rows \r\n",
    "    |> Seq.map (fun r -> r.DATE, r.TOTAL_IN_ICU)\r\n",
    "    |> Seq.groupBy fst\r\n",
    "    |> Seq.map (fun (day, tups) -> day, tups |> Seq.sumBy snd)\r\n",
    "in_icu_totals |> Seq.sortByDescending fst"
   ],
   "outputs": [
    {
     "output_type": "display_data",
     "data": {
      "text/html": [
       "<table><thead><tr><th><i>index</i></th><th>Item1</th><th>Item2</th></tr></thead><tbody><tr><td>0</td><td><span>2021-07-29 00:00:00Z</span></td><td><div class=\"dni-plaintext\">93</div></td></tr><tr><td>1</td><td><span>2021-07-28 00:00:00Z</span></td><td><div class=\"dni-plaintext\">96</div></td></tr><tr><td>2</td><td><span>2021-07-27 00:00:00Z</span></td><td><div class=\"dni-plaintext\">94</div></td></tr><tr><td>3</td><td><span>2021-07-26 00:00:00Z</span></td><td><div class=\"dni-plaintext\">97</div></td></tr><tr><td>4</td><td><span>2021-07-25 00:00:00Z</span></td><td><div class=\"dni-plaintext\">94</div></td></tr><tr><td>5</td><td><span>2021-07-24 00:00:00Z</span></td><td><div class=\"dni-plaintext\">89</div></td></tr><tr><td>6</td><td><span>2021-07-23 00:00:00Z</span></td><td><div class=\"dni-plaintext\">84</div></td></tr><tr><td>7</td><td><span>2021-07-22 00:00:00Z</span></td><td><div class=\"dni-plaintext\">83</div></td></tr><tr><td>8</td><td><span>2021-07-21 00:00:00Z</span></td><td><div class=\"dni-plaintext\">85</div></td></tr><tr><td>9</td><td><span>2021-07-20 00:00:00Z</span></td><td><div class=\"dni-plaintext\">87</div></td></tr><tr><td>10</td><td><span>2021-07-19 00:00:00Z</span></td><td><div class=\"dni-plaintext\">84</div></td></tr><tr><td>11</td><td><span>2021-07-18 00:00:00Z</span></td><td><div class=\"dni-plaintext\">88</div></td></tr><tr><td>12</td><td><span>2021-07-17 00:00:00Z</span></td><td><div class=\"dni-plaintext\">81</div></td></tr><tr><td>13</td><td><span>2021-07-16 00:00:00Z</span></td><td><div class=\"dni-plaintext\">81</div></td></tr><tr><td>14</td><td><span>2021-07-15 00:00:00Z</span></td><td><div class=\"dni-plaintext\">86</div></td></tr><tr><td>15</td><td><span>2021-07-14 00:00:00Z</span></td><td><div class=\"dni-plaintext\">82</div></td></tr><tr><td>16</td><td><span>2021-07-13 00:00:00Z</span></td><td><div class=\"dni-plaintext\">90</div></td></tr><tr><td>17</td><td><span>2021-07-12 00:00:00Z</span></td><td><div class=\"dni-plaintext\">89</div></td></tr><tr><td>18</td><td><span>2021-07-11 00:00:00Z</span></td><td><div class=\"dni-plaintext\">83</div></td></tr><tr><td>19</td><td><span>2021-07-10 00:00:00Z</span></td><td><div class=\"dni-plaintext\">87</div></td></tr><tr><td colspan=\"3\">(482 more)</td></tr></tbody></table>"
      ]
     },
     "metadata": {}
    }
   ],
   "metadata": {
    "dotnet_interactive": {
     "language": "fsharp"
    }
   }
  },
  {
   "cell_type": "markdown",
   "source": [
    "Totale bezetting ICU\r\n",
    "---"
   ],
   "metadata": {}
  },
  {
   "cell_type": "code",
   "execution_count": null,
   "source": [
    "System.DateTimeOffset.UtcNow"
   ],
   "outputs": [
    {
     "data": {
      "text/html": [
       "<span>2021-07-30 14:09:24Z</span>"
      ]
     },
     "metadata": {},
     "output_type": "display_data"
    }
   ],
   "metadata": {
    "dotnet_interactive": {
     "language": "fsharp"
    }
   }
  },
  {
   "cell_type": "code",
   "execution_count": null,
   "source": [
    "Chart.Line in_icu_totals"
   ],
   "outputs": [
    {
     "output_type": "display_data",
     "data": {
      "text/html": [
       "<div id=\"e399681a-ca87-4e6d-8c29-ff474a9a752d\" style=\"width: 600px; height: 600px;\"><!-- Plotly chart will be drawn inside this DIV --></div>\r\n",
       "<script type=\"text/javascript\">\r\n",
       "\n",
       "            var renderPlotly_e399681aca874e6d8c29ff474a9a752d = function() {\n",
       "            var fsharpPlotlyRequire = requirejs.config({context:'fsharp-plotly',paths:{plotly:'https://cdn.plot.ly/plotly-latest.min'}}) || require;\n",
       "            fsharpPlotlyRequire(['plotly'], function(Plotly) {\r\n",
       "\n",
       "            var data = [{\"type\":\"scatter\",\"x\":[\"2020-03-15T00:00:00+01:00\",\"2020-03-16T00:00:00+01:00\",\"2020-03-17T00:00:00+01:00\",\"2020-03-18T00:00:00+01:00\",\"2020-03-19T00:00:00+01:00\",\"2020-03-20T00:00:00+01:00\",\"2020-03-21T00:00:00+01:00\",\"2020-03-22T00:00:00+01:00\",\"2020-03-23T00:00:00+01:00\",\"2020-03-24T00:00:00+01:00\",\"2020-03-25T00:00:00+01:00\",\"2020-03-26T00:00:00+01:00\",\"2020-03-27T00:00:00+01:00\",\"2020-03-28T00:00:00+01:00\",\"2020-03-29T00:00:00+01:00\",\"2020-03-30T00:00:00+02:00\",\"2020-03-31T00:00:00+02:00\",\"2020-04-01T00:00:00+02:00\",\"2020-04-02T00:00:00+02:00\",\"2020-04-03T00:00:00+02:00\",\"2020-04-04T00:00:00+02:00\",\"2020-04-05T00:00:00+02:00\",\"2020-04-06T00:00:00+02:00\",\"2020-04-07T00:00:00+02:00\",\"2020-04-08T00:00:00+02:00\",\"2020-04-09T00:00:00+02:00\",\"2020-04-10T00:00:00+02:00\",\"2020-04-11T00:00:00+02:00\",\"2020-04-12T00:00:00+02:00\",\"2020-04-13T00:00:00+02:00\",\"2020-04-14T00:00:00+02:00\",\"2020-04-15T00:00:00+02:00\",\"2020-04-16T00:00:00+02:00\",\"2020-04-17T00:00:00+02:00\",\"2020-04-18T00:00:00+02:00\",\"2020-04-19T00:00:00+02:00\",\"2020-04-20T00:00:00+02:00\",\"2020-04-21T00:00:00+02:00\",\"2020-04-22T00:00:00+02:00\",\"2020-04-23T00:00:00+02:00\",\"2020-04-24T00:00:00+02:00\",\"2020-04-25T00:00:00+02:00\",\"2020-04-26T00:00:00+02:00\",\"2020-04-27T00:00:00+02:00\",\"2020-04-28T00:00:00+02:00\",\"2020-04-29T00:00:00+02:00\",\"2020-04-30T00:00:00+02:00\",\"2020-05-01T00:00:00+02:00\",\"2020-05-02T00:00:00+02:00\",\"2020-05-03T00:00:00+02:00\",\"2020-05-04T00:00:00+02:00\",\"2020-05-05T00:00:00+02:00\",\"2020-05-06T00:00:00+02:00\",\"2020-05-07T00:00:00+02:00\",\"2020-05-08T00:00:00+02:00\",\"2020-05-09T00:00:00+02:00\",\"2020-05-10T00:00:00+02:00\",\"2020-05-11T00:00:00+02:00\",\"2020-05-12T00:00:00+02:00\",\"2020-05-13T00:00:00+02:00\",\"2020-05-14T00:00:00+02:00\",\"2020-05-15T00:00:00+02:00\",\"2020-05-16T00:00:00+02:00\",\"2020-05-17T00:00:00+02:00\",\"2020-05-18T00:00:00+02:00\",\"2020-05-19T00:00:00+02:00\",\"2020-05-20T00:00:00+02:00\",\"2020-05-21T00:00:00+02:00\",\"2020-05-22T00:00:00+02:00\",\"2020-05-23T00:00:00+02:00\",\"2020-05-24T00:00:00+02:00\",\"2020-05-25T00:00:00+02:00\",\"2020-05-26T00:00:00+02:00\",\"2020-05-27T00:00:00+02:00\",\"2020-05-28T00:00:00+02:00\",\"2020-05-29T00:00:00+02:00\",\"2020-05-30T00:00:00+02:00\",\"2020-05-31T00:00:00+02:00\",\"2020-06-01T00:00:00+02:00\",\"2020-06-02T00:00:00+02:00\",\"2020-06-03T00:00:00+02:00\",\"2020-06-04T00:00:00+02:00\",\"2020-06-05T00:00:00+02:00\",\"2020-06-06T00:00:00+02:00\",\"2020-06-07T00:00:00+02:00\",\"2020-06-08T00:00:00+02:00\",\"2020-06-09T00:00:00+02:00\",\"2020-06-10T00:00:00+02:00\",\"2020-06-11T00:00:00+02:00\",\"2020-06-12T00:00:00+02:00\",\"2020-06-13T00:00:00+02:00\",\"2020-06-14T00:00:00+02:00\",\"2020-06-15T00:00:00+02:00\",\"2020-06-16T00:00:00+02:00\",\"2020-06-17T00:00:00+02:00\",\"2020-06-18T00:00:00+02:00\",\"2020-06-19T00:00:00+02:00\",\"2020-06-20T00:00:00+02:00\",\"2020-06-21T00:00:00+02:00\",\"2020-06-22T00:00:00+02:00\",\"2020-06-23T00:00:00+02:00\",\"2020-06-24T00:00:00+02:00\",\"2020-06-25T00:00:00+02:00\",\"2020-06-26T00:00:00+02:00\",\"2020-06-27T00:00:00+02:00\",\"2020-06-28T00:00:00+02:00\",\"2020-06-29T00:00:00+02:00\",\"2020-06-30T00:00:00+02:00\",\"2020-07-01T00:00:00+02:00\",\"2020-07-02T00:00:00+02:00\",\"2020-07-03T00:00:00+02:00\",\"2020-07-04T00:00:00+02:00\",\"2020-07-05T00:00:00+02:00\",\"2020-07-06T00:00:00+02:00\",\"2020-07-07T00:00:00+02:00\",\"2020-07-08T00:00:00+02:00\",\"2020-07-09T00:00:00+02:00\",\"2020-07-10T00:00:00+02:00\",\"2020-07-11T00:00:00+02:00\",\"2020-07-12T00:00:00+02:00\",\"2020-07-13T00:00:00+02:00\",\"2020-07-14T00:00:00+02:00\",\"2020-07-15T00:00:00+02:00\",\"2020-07-16T00:00:00+02:00\",\"2020-07-17T00:00:00+02:00\",\"2020-07-18T00:00:00+02:00\",\"2020-07-19T00:00:00+02:00\",\"2020-07-20T00:00:00+02:00\",\"2020-07-21T00:00:00+02:00\",\"2020-07-22T00:00:00+02:00\",\"2020-07-23T00:00:00+02:00\",\"2020-07-24T00:00:00+02:00\",\"2020-07-25T00:00:00+02:00\",\"2020-07-26T00:00:00+02:00\",\"2020-07-27T00:00:00+02:00\",\"2020-07-28T00:00:00+02:00\",\"2020-07-29T00:00:00+02:00\",\"2020-07-30T00:00:00+02:00\",\"2020-07-31T00:00:00+02:00\",\"2020-08-01T00:00:00+02:00\",\"2020-08-02T00:00:00+02:00\",\"2020-08-03T00:00:00+02:00\",\"2020-08-04T00:00:00+02:00\",\"2020-08-05T00:00:00+02:00\",\"2020-08-06T00:00:00+02:00\",\"2020-08-07T00:00:00+02:00\",\"2020-08-08T00:00:00+02:00\",\"2020-08-09T00:00:00+02:00\",\"2020-08-10T00:00:00+02:00\",\"2020-08-11T00:00:00+02:00\",\"2020-08-12T00:00:00+02:00\",\"2020-08-13T00:00:00+02:00\",\"2020-08-14T00:00:00+02:00\",\"2020-08-15T00:00:00+02:00\",\"2020-08-16T00:00:00+02:00\",\"2020-08-17T00:00:00+02:00\",\"2020-08-18T00:00:00+02:00\",\"2020-08-19T00:00:00+02:00\",\"2020-08-20T00:00:00+02:00\",\"2020-08-21T00:00:00+02:00\",\"2020-08-22T00:00:00+02:00\",\"2020-08-23T00:00:00+02:00\",\"2020-08-24T00:00:00+02:00\",\"2020-08-25T00:00:00+02:00\",\"2020-08-26T00:00:00+02:00\",\"2020-08-27T00:00:00+02:00\",\"2020-08-28T00:00:00+02:00\",\"2020-08-29T00:00:00+02:00\",\"2020-08-30T00:00:00+02:00\",\"2020-08-31T00:00:00+02:00\",\"2020-09-01T00:00:00+02:00\",\"2020-09-02T00:00:00+02:00\",\"2020-09-03T00:00:00+02:00\",\"2020-09-04T00:00:00+02:00\",\"2020-09-05T00:00:00+02:00\",\"2020-09-06T00:00:00+02:00\",\"2020-09-07T00:00:00+02:00\",\"2020-09-08T00:00:00+02:00\",\"2020-09-09T00:00:00+02:00\",\"2020-09-10T00:00:00+02:00\",\"2020-09-11T00:00:00+02:00\",\"2020-09-12T00:00:00+02:00\",\"2020-09-13T00:00:00+02:00\",\"2020-09-14T00:00:00+02:00\",\"2020-09-15T00:00:00+02:00\",\"2020-09-16T00:00:00+02:00\",\"2020-09-17T00:00:00+02:00\",\"2020-09-18T00:00:00+02:00\",\"2020-09-19T00:00:00+02:00\",\"2020-09-20T00:00:00+02:00\",\"2020-09-21T00:00:00+02:00\",\"2020-09-22T00:00:00+02:00\",\"2020-09-23T00:00:00+02:00\",\"2020-09-24T00:00:00+02:00\",\"2020-09-25T00:00:00+02:00\",\"2020-09-26T00:00:00+02:00\",\"2020-09-27T00:00:00+02:00\",\"2020-09-28T00:00:00+02:00\",\"2020-09-29T00:00:00+02:00\",\"2020-09-30T00:00:00+02:00\",\"2020-10-01T00:00:00+02:00\",\"2020-10-02T00:00:00+02:00\",\"2020-10-03T00:00:00+02:00\",\"2020-10-04T00:00:00+02:00\",\"2020-10-05T00:00:00+02:00\",\"2020-10-06T00:00:00+02:00\",\"2020-10-07T00:00:00+02:00\",\"2020-10-08T00:00:00+02:00\",\"2020-10-09T00:00:00+02:00\",\"2020-10-10T00:00:00+02:00\",\"2020-10-11T00:00:00+02:00\",\"2020-10-12T00:00:00+02:00\",\"2020-10-13T00:00:00+02:00\",\"2020-10-14T00:00:00+02:00\",\"2020-10-15T00:00:00+02:00\",\"2020-10-16T00:00:00+02:00\",\"2020-10-17T00:00:00+02:00\",\"2020-10-18T00:00:00+02:00\",\"2020-10-19T00:00:00+02:00\",\"2020-10-20T00:00:00+02:00\",\"2020-10-21T00:00:00+02:00\",\"2020-10-22T00:00:00+02:00\",\"2020-10-23T00:00:00+02:00\",\"2020-10-24T00:00:00+02:00\",\"2020-10-25T00:00:00+02:00\",\"2020-10-26T00:00:00+01:00\",\"2020-10-27T00:00:00+01:00\",\"2020-10-28T00:00:00+01:00\",\"2020-10-29T00:00:00+01:00\",\"2020-10-30T00:00:00+01:00\",\"2020-10-31T00:00:00+01:00\",\"2020-11-01T00:00:00+01:00\",\"2020-11-02T00:00:00+01:00\",\"2020-11-03T00:00:00+01:00\",\"2020-11-04T00:00:00+01:00\",\"2020-11-05T00:00:00+01:00\",\"2020-11-06T00:00:00+01:00\",\"2020-11-07T00:00:00+01:00\",\"2020-11-08T00:00:00+01:00\",\"2020-11-09T00:00:00+01:00\",\"2020-11-10T00:00:00+01:00\",\"2020-11-11T00:00:00+01:00\",\"2020-11-12T00:00:00+01:00\",\"2020-11-13T00:00:00+01:00\",\"2020-11-14T00:00:00+01:00\",\"2020-11-15T00:00:00+01:00\",\"2020-11-16T00:00:00+01:00\",\"2020-11-17T00:00:00+01:00\",\"2020-11-18T00:00:00+01:00\",\"2020-11-19T00:00:00+01:00\",\"2020-11-20T00:00:00+01:00\",\"2020-11-21T00:00:00+01:00\",\"2020-11-22T00:00:00+01:00\",\"2020-11-23T00:00:00+01:00\",\"2020-11-24T00:00:00+01:00\",\"2020-11-25T00:00:00+01:00\",\"2020-11-26T00:00:00+01:00\",\"2020-11-27T00:00:00+01:00\",\"2020-11-28T00:00:00+01:00\",\"2020-11-29T00:00:00+01:00\",\"2020-11-30T00:00:00+01:00\",\"2020-12-01T00:00:00+01:00\",\"2020-12-02T00:00:00+01:00\",\"2020-12-03T00:00:00+01:00\",\"2020-12-04T00:00:00+01:00\",\"2020-12-05T00:00:00+01:00\",\"2020-12-06T00:00:00+01:00\",\"2020-12-07T00:00:00+01:00\",\"2020-12-08T00:00:00+01:00\",\"2020-12-09T00:00:00+01:00\",\"2020-12-10T00:00:00+01:00\",\"2020-12-11T00:00:00+01:00\",\"2020-12-12T00:00:00+01:00\",\"2020-12-13T00:00:00+01:00\",\"2020-12-14T00:00:00+01:00\",\"2020-12-15T00:00:00+01:00\",\"2020-12-16T00:00:00+01:00\",\"2020-12-17T00:00:00+01:00\",\"2020-12-18T00:00:00+01:00\",\"2020-12-19T00:00:00+01:00\",\"2020-12-20T00:00:00+01:00\",\"2020-12-21T00:00:00+01:00\",\"2020-12-22T00:00:00+01:00\",\"2020-12-23T00:00:00+01:00\",\"2020-12-24T00:00:00+01:00\",\"2020-12-25T00:00:00+01:00\",\"2020-12-26T00:00:00+01:00\",\"2020-12-27T00:00:00+01:00\",\"2020-12-28T00:00:00+01:00\",\"2020-12-29T00:00:00+01:00\",\"2020-12-30T00:00:00+01:00\",\"2020-12-31T00:00:00+01:00\",\"2021-01-01T00:00:00+01:00\",\"2021-01-02T00:00:00+01:00\",\"2021-01-03T00:00:00+01:00\",\"2021-01-04T00:00:00+01:00\",\"2021-01-05T00:00:00+01:00\",\"2021-01-06T00:00:00+01:00\",\"2021-01-07T00:00:00+01:00\",\"2021-01-08T00:00:00+01:00\",\"2021-01-09T00:00:00+01:00\",\"2021-01-10T00:00:00+01:00\",\"2021-01-11T00:00:00+01:00\",\"2021-01-12T00:00:00+01:00\",\"2021-01-13T00:00:00+01:00\",\"2021-01-14T00:00:00+01:00\",\"2021-01-15T00:00:00+01:00\",\"2021-01-16T00:00:00+01:00\",\"2021-01-17T00:00:00+01:00\",\"2021-01-18T00:00:00+01:00\",\"2021-01-19T00:00:00+01:00\",\"2021-01-20T00:00:00+01:00\",\"2021-01-21T00:00:00+01:00\",\"2021-01-22T00:00:00+01:00\",\"2021-01-23T00:00:00+01:00\",\"2021-01-24T00:00:00+01:00\",\"2021-01-25T00:00:00+01:00\",\"2021-01-26T00:00:00+01:00\",\"2021-01-27T00:00:00+01:00\",\"2021-01-28T00:00:00+01:00\",\"2021-01-29T00:00:00+01:00\",\"2021-01-30T00:00:00+01:00\",\"2021-01-31T00:00:00+01:00\",\"2021-02-01T00:00:00+01:00\",\"2021-02-02T00:00:00+01:00\",\"2021-02-03T00:00:00+01:00\",\"2021-02-04T00:00:00+01:00\",\"2021-02-05T00:00:00+01:00\",\"2021-02-06T00:00:00+01:00\",\"2021-02-07T00:00:00+01:00\",\"2021-02-08T00:00:00+01:00\",\"2021-02-09T00:00:00+01:00\",\"2021-02-10T00:00:00+01:00\",\"2021-02-11T00:00:00+01:00\",\"2021-02-12T00:00:00+01:00\",\"2021-02-13T00:00:00+01:00\",\"2021-02-14T00:00:00+01:00\",\"2021-02-15T00:00:00+01:00\",\"2021-02-16T00:00:00+01:00\",\"2021-02-17T00:00:00+01:00\",\"2021-02-18T00:00:00+01:00\",\"2021-02-19T00:00:00+01:00\",\"2021-02-20T00:00:00+01:00\",\"2021-02-21T00:00:00+01:00\",\"2021-02-22T00:00:00+01:00\",\"2021-02-23T00:00:00+01:00\",\"2021-02-24T00:00:00+01:00\",\"2021-02-25T00:00:00+01:00\",\"2021-02-26T00:00:00+01:00\",\"2021-02-27T00:00:00+01:00\",\"2021-02-28T00:00:00+01:00\",\"2021-03-01T00:00:00+01:00\",\"2021-03-02T00:00:00+01:00\",\"2021-03-03T00:00:00+01:00\",\"2021-03-04T00:00:00+01:00\",\"2021-03-05T00:00:00+01:00\",\"2021-03-06T00:00:00+01:00\",\"2021-03-07T00:00:00+01:00\",\"2021-03-08T00:00:00+01:00\",\"2021-03-09T00:00:00+01:00\",\"2021-03-10T00:00:00+01:00\",\"2021-03-11T00:00:00+01:00\",\"2021-03-12T00:00:00+01:00\",\"2021-03-13T00:00:00+01:00\",\"2021-03-14T00:00:00+01:00\",\"2021-03-15T00:00:00+01:00\",\"2021-03-16T00:00:00+01:00\",\"2021-03-17T00:00:00+01:00\",\"2021-03-18T00:00:00+01:00\",\"2021-03-19T00:00:00+01:00\",\"2021-03-20T00:00:00+01:00\",\"2021-03-21T00:00:00+01:00\",\"2021-03-22T00:00:00+01:00\",\"2021-03-23T00:00:00+01:00\",\"2021-03-24T00:00:00+01:00\",\"2021-03-25T00:00:00+01:00\",\"2021-03-26T00:00:00+01:00\",\"2021-03-27T00:00:00+01:00\",\"2021-03-28T00:00:00+01:00\",\"2021-03-29T00:00:00+02:00\",\"2021-03-30T00:00:00+02:00\",\"2021-03-31T00:00:00+02:00\",\"2021-04-01T00:00:00+02:00\",\"2021-04-02T00:00:00+02:00\",\"2021-04-03T00:00:00+02:00\",\"2021-04-04T00:00:00+02:00\",\"2021-04-05T00:00:00+02:00\",\"2021-04-06T00:00:00+02:00\",\"2021-04-07T00:00:00+02:00\",\"2021-04-08T00:00:00+02:00\",\"2021-04-09T00:00:00+02:00\",\"2021-04-10T00:00:00+02:00\",\"2021-04-11T00:00:00+02:00\",\"2021-04-12T00:00:00+02:00\",\"2021-04-13T00:00:00+02:00\",\"2021-04-14T00:00:00+02:00\",\"2021-04-15T00:00:00+02:00\",\"2021-04-16T00:00:00+02:00\",\"2021-04-17T00:00:00+02:00\",\"2021-04-18T00:00:00+02:00\",\"2021-04-19T00:00:00+02:00\",\"2021-04-20T00:00:00+02:00\",\"2021-04-21T00:00:00+02:00\",\"2021-04-22T00:00:00+02:00\",\"2021-04-23T00:00:00+02:00\",\"2021-04-24T00:00:00+02:00\",\"2021-04-25T00:00:00+02:00\",\"2021-04-26T00:00:00+02:00\",\"2021-04-27T00:00:00+02:00\",\"2021-04-28T00:00:00+02:00\",\"2021-04-29T00:00:00+02:00\",\"2021-04-30T00:00:00+02:00\",\"2021-05-01T00:00:00+02:00\",\"2021-05-02T00:00:00+02:00\",\"2021-05-03T00:00:00+02:00\",\"2021-05-04T00:00:00+02:00\",\"2021-05-05T00:00:00+02:00\",\"2021-05-06T00:00:00+02:00\",\"2021-05-07T00:00:00+02:00\",\"2021-05-08T00:00:00+02:00\",\"2021-05-09T00:00:00+02:00\",\"2021-05-10T00:00:00+02:00\",\"2021-05-11T00:00:00+02:00\",\"2021-05-12T00:00:00+02:00\",\"2021-05-13T00:00:00+02:00\",\"2021-05-14T00:00:00+02:00\",\"2021-05-15T00:00:00+02:00\",\"2021-05-16T00:00:00+02:00\",\"2021-05-17T00:00:00+02:00\",\"2021-05-18T00:00:00+02:00\",\"2021-05-19T00:00:00+02:00\",\"2021-05-20T00:00:00+02:00\",\"2021-05-21T00:00:00+02:00\",\"2021-05-22T00:00:00+02:00\",\"2021-05-23T00:00:00+02:00\",\"2021-05-24T00:00:00+02:00\",\"2021-05-25T00:00:00+02:00\",\"2021-05-26T00:00:00+02:00\",\"2021-05-27T00:00:00+02:00\",\"2021-05-28T00:00:00+02:00\",\"2021-05-29T00:00:00+02:00\",\"2021-05-30T00:00:00+02:00\",\"2021-05-31T00:00:00+02:00\",\"2021-06-01T00:00:00+02:00\",\"2021-06-02T00:00:00+02:00\",\"2021-06-03T00:00:00+02:00\",\"2021-06-04T00:00:00+02:00\",\"2021-06-05T00:00:00+02:00\",\"2021-06-06T00:00:00+02:00\",\"2021-06-07T00:00:00+02:00\",\"2021-06-08T00:00:00+02:00\",\"2021-06-09T00:00:00+02:00\",\"2021-06-10T00:00:00+02:00\",\"2021-06-11T00:00:00+02:00\",\"2021-06-12T00:00:00+02:00\",\"2021-06-13T00:00:00+02:00\",\"2021-06-14T00:00:00+02:00\",\"2021-06-15T00:00:00+02:00\",\"2021-06-16T00:00:00+02:00\",\"2021-06-17T00:00:00+02:00\",\"2021-06-18T00:00:00+02:00\",\"2021-06-19T00:00:00+02:00\",\"2021-06-20T00:00:00+02:00\",\"2021-06-21T00:00:00+02:00\",\"2021-06-22T00:00:00+02:00\",\"2021-06-23T00:00:00+02:00\",\"2021-06-24T00:00:00+02:00\",\"2021-06-25T00:00:00+02:00\",\"2021-06-26T00:00:00+02:00\",\"2021-06-27T00:00:00+02:00\",\"2021-06-28T00:00:00+02:00\",\"2021-06-29T00:00:00+02:00\",\"2021-06-30T00:00:00+02:00\",\"2021-07-01T00:00:00+02:00\",\"2021-07-02T00:00:00+02:00\",\"2021-07-03T00:00:00+02:00\",\"2021-07-04T00:00:00+02:00\",\"2021-07-05T00:00:00+02:00\",\"2021-07-06T00:00:00+02:00\",\"2021-07-07T00:00:00+02:00\",\"2021-07-08T00:00:00+02:00\",\"2021-07-09T00:00:00+02:00\",\"2021-07-10T00:00:00+02:00\",\"2021-07-11T00:00:00+02:00\",\"2021-07-12T00:00:00+02:00\",\"2021-07-13T00:00:00+02:00\",\"2021-07-14T00:00:00+02:00\",\"2021-07-15T00:00:00+02:00\",\"2021-07-16T00:00:00+02:00\",\"2021-07-17T00:00:00+02:00\",\"2021-07-18T00:00:00+02:00\",\"2021-07-19T00:00:00+02:00\",\"2021-07-20T00:00:00+02:00\",\"2021-07-21T00:00:00+02:00\",\"2021-07-22T00:00:00+02:00\",\"2021-07-23T00:00:00+02:00\",\"2021-07-24T00:00:00+02:00\",\"2021-07-25T00:00:00+02:00\",\"2021-07-26T00:00:00+02:00\",\"2021-07-27T00:00:00+02:00\",\"2021-07-28T00:00:00+02:00\",\"2021-07-29T00:00:00+02:00\"],\"y\":[53,79,100,130,164,229,290,326,385,487,612,699,789,867,961,1021,1088,1144,1205,1256,1261,1267,1260,1276,1286,1279,1262,1251,1253,1226,1204,1182,1150,1119,1081,1071,1079,1020,993,970,934,901,903,876,797,769,749,690,684,655,646,582,542,508,502,475,477,465,427,407,380,364,345,342,345,313,277,268,259,256,251,249,223,209,187,173,168,164,166,172,145,137,121,111,116,115,102,99,89,88,82,85,75,67,60,52,50,53,50,42,41,40,38,36,34,36,41,37,36,35,32,29,30,27,32,32,36,32,28,27,23,27,27,28,28,30,31,36,33,41,40,41,44,47,52,49,47,42,48,56,58,54,63,61,65,69,67,69,73,77,76,74,80,82,86,91,89,83,82,84,85,87,89,85,81,82,77,72,71,74,68,60,58,52,53,53,52,59,60,65,67,68,71,72,67,74,69,78,78,77,87,94,95,104,110,120,135,140,150,157,156,163,185,186,195,189,201,213,214,228,245,268,281,313,327,358,384,412,446,487,525,573,633,694,756,812,912,994,1057,1105,1161,1223,1302,1353,1412,1428,1459,1464,1470,1474,1470,1463,1456,1457,1423,1439,1408,1356,1323,1286,1256,1201,1194,1168,1105,1071,1034,997,946,904,900,854,829,786,789,753,744,724,677,662,658,646,627,617,615,594,571,562,547,541,543,546,536,512,514,511,493,491,510,498,496,494,489,481,468,464,430,404,381,377,379,371,378,356,360,346,345,352,367,369,361,337,338,338,327,322,325,322,313,323,315,315,315,325,311,310,306,304,292,300,302,308,303,294,295,298,307,319,311,315,314,314,316,329,348,353,362,369,393,397,407,413,426,434,426,433,416,425,436,441,452,448,468,474,485,503,522,534,543,550,557,569,589,601,636,652,667,701,712,740,737,756,790,801,821,831,866,892,909,911,925,905,899,919,947,941,930,923,923,931,946,926,935,910,901,886,886,892,892,888,864,855,824,825,831,795,757,744,727,707,702,710,686,660,644,643,621,619,613,595,589,562,540,544,542,542,531,508,491,469,451,442,439,404,378,365,342,337,331,336,319,309,302,300,285,274,276,256,247,234,212,203,204,206,184,183,175,157,149,150,147,143,134,126,123,115,113,112,101,99,96,93,87,83,89,90,82,86,81,81,88,84,87,85,83,84,89,94,97,94,96,93],\"mode\":\"lines\",\"line\":{},\"marker\":{}}];\n",
       "            var layout = {};\n",
       "            var config = {};\n",
       "            Plotly.newPlot('e399681a-ca87-4e6d-8c29-ff474a9a752d', data, layout, config);\r\n",
       "});\n",
       "            };\n",
       "            if ((typeof(requirejs) !==  typeof(Function)) || (typeof(requirejs.config) !== typeof(Function))) {\n",
       "                var script = document.createElement(\"script\");\n",
       "                script.setAttribute(\"src\", \"https://cdnjs.cloudflare.com/ajax/libs/require.js/2.3.6/require.min.js\");\n",
       "                script.onload = function(){\n",
       "                    renderPlotly_e399681aca874e6d8c29ff474a9a752d();\n",
       "                };\n",
       "                document.getElementsByTagName(\"head\")[0].appendChild(script);\n",
       "            }\n",
       "            else {\n",
       "                renderPlotly_e399681aca874e6d8c29ff474a9a752d();\n",
       "            }\r\n",
       "</script>\r\n"
      ]
     },
     "metadata": {}
    }
   ],
   "metadata": {
    "dotnet_interactive": {
     "language": "fsharp"
    }
   }
  }
 ],
 "nbformat": 4,
 "nbformat_minor": 2
}