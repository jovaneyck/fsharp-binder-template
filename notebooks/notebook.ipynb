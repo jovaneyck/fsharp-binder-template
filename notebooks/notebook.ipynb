{
 "metadata": {
  "kernelspec": {
   "display_name": ".NET (F#)",
   "language": "F#",
   "name": ".net-fsharp"
  },
  "language_info": {
   "name": "F#"
  }
 },
 "cells": [
  {
   "cell_type": "markdown",
   "source": [
    "F# Jupyter/binder notebook\r\n",
    "==="
   ],
   "metadata": {}
  },
  {
   "cell_type": "markdown",
   "source": [
    "Importing nuget packages\r\n",
    "---"
   ],
   "metadata": {}
  },
  {
   "cell_type": "code",
   "execution_count": null,
   "source": [
    "#r \"nuget: Plotly.NET, 2.0.0-preview.6\"\r\n",
    "#r \"nuget: Plotly.NET.Interactive, 2.0.0-preview.6\"\r\n",
    "\r\n",
    "open Plotly.NET"
   ],
   "outputs": [
    {
     "data": {
      "text/html": [
       "<div><div></div><div></div><div></div></div>"
      ]
     },
     "metadata": {},
     "output_type": "display_data"
    }
   ],
   "metadata": {
    "dotnet_interactive": {
     "language": "fsharp"
    }
   }
  },
  {
   "cell_type": "markdown",
   "source": [
    "Now let's try embedding some F# code in the cell below"
   ],
   "metadata": {}
  },
  {
   "cell_type": "code",
   "execution_count": null,
   "source": [
    "let rng = System.Random(1337)"
   ],
   "outputs": [],
   "metadata": {
    "dotnet_interactive": {
     "language": "fsharp"
    }
   }
  },
  {
   "cell_type": "markdown",
   "source": [
    "It acts as a REPL, meaning you can use results from previous code blocks"
   ],
   "metadata": {}
  },
  {
   "cell_type": "code",
   "execution_count": null,
   "source": [
    "let data =\r\n",
    "    [1..100]\r\n",
    "    |> Seq.map (fun n -> n, rng.Next 1000) //notice how we are using the rng variable defined in a previous block here!"
   ],
   "outputs": [],
   "metadata": {
    "dotnet_interactive": {
     "language": "fsharp"
    }
   }
  },
  {
   "cell_type": "markdown",
   "source": [
    "You can visualize data simply by returning it as a statement. Notice how the \"data\" list is printed as a table"
   ],
   "metadata": {}
  },
  {
   "cell_type": "code",
   "execution_count": null,
   "source": [
    "data"
   ],
   "outputs": [
    {
     "data": {
      "text/html": [
       "<table><thead><tr><th><i>index</i></th><th>Item1</th><th>Item2</th></tr></thead><tbody><tr><td>0</td><td><div class=\"dni-plaintext\">1</div></td><td><div class=\"dni-plaintext\">208</div></td></tr><tr><td>1</td><td><div class=\"dni-plaintext\">2</div></td><td><div class=\"dni-plaintext\">118</div></td></tr><tr><td>2</td><td><div class=\"dni-plaintext\">3</div></td><td><div class=\"dni-plaintext\">314</div></td></tr><tr><td>3</td><td><div class=\"dni-plaintext\">4</div></td><td><div class=\"dni-plaintext\">931</div></td></tr><tr><td>4</td><td><div class=\"dni-plaintext\">5</div></td><td><div class=\"dni-plaintext\">842</div></td></tr><tr><td>5</td><td><div class=\"dni-plaintext\">6</div></td><td><div class=\"dni-plaintext\">960</div></td></tr><tr><td>6</td><td><div class=\"dni-plaintext\">7</div></td><td><div class=\"dni-plaintext\">957</div></td></tr><tr><td>7</td><td><div class=\"dni-plaintext\">8</div></td><td><div class=\"dni-plaintext\">194</div></td></tr><tr><td>8</td><td><div class=\"dni-plaintext\">9</div></td><td><div class=\"dni-plaintext\">386</div></td></tr><tr><td>9</td><td><div class=\"dni-plaintext\">10</div></td><td><div class=\"dni-plaintext\">293</div></td></tr><tr><td>10</td><td><div class=\"dni-plaintext\">11</div></td><td><div class=\"dni-plaintext\">300</div></td></tr><tr><td>11</td><td><div class=\"dni-plaintext\">12</div></td><td><div class=\"dni-plaintext\">282</div></td></tr><tr><td>12</td><td><div class=\"dni-plaintext\">13</div></td><td><div class=\"dni-plaintext\">754</div></td></tr><tr><td>13</td><td><div class=\"dni-plaintext\">14</div></td><td><div class=\"dni-plaintext\">50</div></td></tr><tr><td>14</td><td><div class=\"dni-plaintext\">15</div></td><td><div class=\"dni-plaintext\">844</div></td></tr><tr><td>15</td><td><div class=\"dni-plaintext\">16</div></td><td><div class=\"dni-plaintext\">14</div></td></tr><tr><td>16</td><td><div class=\"dni-plaintext\">17</div></td><td><div class=\"dni-plaintext\">882</div></td></tr><tr><td>17</td><td><div class=\"dni-plaintext\">18</div></td><td><div class=\"dni-plaintext\">934</div></td></tr><tr><td>18</td><td><div class=\"dni-plaintext\">19</div></td><td><div class=\"dni-plaintext\">870</div></td></tr><tr><td>19</td><td><div class=\"dni-plaintext\">20</div></td><td><div class=\"dni-plaintext\">7</div></td></tr><tr><td colspan=\"3\">(80 more)</td></tr></tbody></table>"
      ]
     },
     "metadata": {},
     "output_type": "display_data"
    }
   ],
   "metadata": {
    "dotnet_interactive": {
     "language": "fsharp"
    }
   }
  },
  {
   "cell_type": "markdown",
   "source": [
    "Charts using Plotly\r\n",
    "---\r\n",
    "\r\n",
    "Because we've loaded the Plotly.NET.Interactive nuget package above, we get in-notebook graph visualisations for free!"
   ],
   "metadata": {}
  },
  {
   "cell_type": "code",
   "execution_count": null,
   "source": [
    "data\r\n",
    "|> Chart.Line\r\n",
    "|> Chart.withTitle \"My first interactive chart!\""
   ],
   "outputs": [
    {
     "data": {
      "text/html": [
       "<div id=\"45e57b7b-670c-42d0-8afd-6a6325217cfc\" style=\"width: 600px; height: 600px;\"><!-- Plotly chart will be drawn inside this DIV --></div>\r\n",
       "<script type=\"text/javascript\">\r\n",
       "\n",
       "            var renderPlotly_45e57b7b670c42d08afd6a6325217cfc = function() {\n",
       "            var fsharpPlotlyRequire = requirejs.config({context:'fsharp-plotly',paths:{plotly:'https://cdn.plot.ly/plotly-latest.min'}}) || require;\n",
       "            fsharpPlotlyRequire(['plotly'], function(Plotly) {\r\n",
       "\n",
       "            var data = [{\"type\":\"scatter\",\"x\":[1,2,3,4,5,6,7,8,9,10,11,12,13,14,15,16,17,18,19,20,21,22,23,24,25,26,27,28,29,30,31,32,33,34,35,36,37,38,39,40,41,42,43,44,45,46,47,48,49,50,51,52,53,54,55,56,57,58,59,60,61,62,63,64,65,66,67,68,69,70,71,72,73,74,75,76,77,78,79,80,81,82,83,84,85,86,87,88,89,90,91,92,93,94,95,96,97,98,99,100],\"y\":[864,966,846,624,450,404,677,534,777,603,561,788,920,674,131,483,514,438,434,43,338,279,640,407,599,154,990,701,170,32,482,244,320,137,658,282,191,715,461,700,794,799,288,2,587,750,406,672,794,106,546,377,104,13,810,585,325,438,25,295,413,976,364,745,121,316,468,783,16,849,292,798,977,734,248,539,991,638,820,848,748,317,906,63,486,105,140,306,326,73,956,752,689,165,286,818,434,542,881,270],\"mode\":\"lines\",\"line\":{},\"marker\":{}}];\n",
       "            var layout = {\"title\":\"My first interactive chart!\"};\n",
       "            var config = {};\n",
       "            Plotly.newPlot('45e57b7b-670c-42d0-8afd-6a6325217cfc', data, layout, config);\r\n",
       "});\n",
       "            };\n",
       "            if ((typeof(requirejs) !==  typeof(Function)) || (typeof(requirejs.config) !== typeof(Function))) {\n",
       "                var script = document.createElement(\"script\");\n",
       "                script.setAttribute(\"src\", \"https://cdnjs.cloudflare.com/ajax/libs/require.js/2.3.6/require.min.js\");\n",
       "                script.onload = function(){\n",
       "                    renderPlotly_45e57b7b670c42d08afd6a6325217cfc();\n",
       "                };\n",
       "                document.getElementsByTagName(\"head\")[0].appendChild(script);\n",
       "            }\n",
       "            else {\n",
       "                renderPlotly_45e57b7b670c42d08afd6a6325217cfc();\n",
       "            }\r\n",
       "</script>\r\n"
      ]
     },
     "metadata": {},
     "output_type": "display_data"
    }
   ],
   "metadata": {
    "dotnet_interactive": {
     "language": "fsharp"
    }
   }
  },
  {
   "cell_type": "markdown",
   "source": [
    "Referencing external fsx files\r\n",
    "---\r\n",
    "\r\n",
    "You can load and use code from external script (.fsx) files"
   ],
   "metadata": {}
  },
  {
   "cell_type": "code",
   "execution_count": null,
   "source": [
    "#load \"test.fsx\"\r\n",
    "open Test\r\n",
    "\r\n",
    "exported"
   ],
   "outputs": [
    {
     "data": {
      "text/plain": [
       "I am a string in an external fsx file."
      ]
     },
     "metadata": {},
     "output_type": "display_data"
    }
   ],
   "metadata": {
    "dotnet_interactive": {
     "language": "fsharp"
    }
   }
  },
  {
   "cell_type": "code",
   "execution_count": null,
   "source": [
    "__SOURCE_DIRECTORY__"
   ],
   "outputs": [
    {
     "data": {
      "text/plain": [
       "c:\\Users\\Jo.VanEyck\\Desktop\\fsharp-binder-template\\notebooks"
      ]
     },
     "metadata": {},
     "output_type": "display_data"
    }
   ],
   "metadata": {
    "dotnet_interactive": {
     "language": "fsharp"
    }
   }
  }
 ],
 "nbformat": 4,
 "nbformat_minor": 2
}
