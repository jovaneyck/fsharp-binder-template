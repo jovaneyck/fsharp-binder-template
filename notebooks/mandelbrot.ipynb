{
 "cells": [
  {
   "cell_type": "code",
   "execution_count": null,
   "metadata": {
    "dotnet_interactive": {
     "language": "fsharp"
    },
    "polyglot_notebook": {
     "kernelName": "fsharp"
    }
   },
   "outputs": [
    {
     "data": {
      "text/html": [
       "<div><div></div><div></div><div><strong>Installed Packages</strong><ul><li><span>Plotly.NET, 5.0.0</span></li><li><span>Plotly.NET.Interactive, 5.0.0</span></li></ul></div></div>"
      ]
     },
     "metadata": {},
     "output_type": "display_data"
    },
    {
     "data": {
      "text/plain": [
       "Loading extensions from `C:\\Users\\Jo.VanEyck\\.nuget\\packages\\plotly.net.interactive\\5.0.0\\lib\\netstandard2.1\\Plotly.NET.Interactive.dll`"
      ]
     },
     "metadata": {},
     "output_type": "display_data"
    }
   ],
   "source": [
    "#r \"nuget: Plotly.NET, 5.0.0\"\n",
    "#r \"nuget: Plotly.NET.Interactive, 5.0.0\"\n",
    "\n",
    "open Plotly.NET\n",
    "open Plotly.NET.TraceObjects\n"
   ]
  },
  {
   "cell_type": "code",
   "execution_count": null,
   "metadata": {
    "dotnet_interactive": {
     "language": "fsharp"
    },
    "polyglot_notebook": {
     "kernelName": "fsharp"
    }
   },
   "outputs": [],
   "source": [
    "let maxIterations = 650\n",
    "let half_width = 300"
   ]
  },
  {
   "cell_type": "code",
   "execution_count": null,
   "metadata": {
    "dotnet_interactive": {
     "language": "fsharp"
    },
    "polyglot_notebook": {
     "kernelName": "fsharp"
    }
   },
   "outputs": [],
   "source": [
    "type Complex = decimal * decimal\n",
    "\n",
    "module Complex =\n",
    "    let add ((a, b): Complex) ((c, d): Complex) : Complex = (a + c, b + d)\n",
    "\n",
    "    let square ((a, b): Complex) : Complex =\n",
    "        //(a + bi)2\n",
    "        //(a + bi)(a + bi)\n",
    "        //a2 + abi + abi + b2i2\n",
    "        //a2 + 2abi -b2\n",
    "        //a2 -b2 + 2abi\n",
    "        ((a * a - b * b), (2m * a * b))\n",
    "\n",
    "    let modulus ((a, b): Complex) : double =\n",
    "        //mod of complex number == pythagoras\n",
    "        let x = a * a + b * b\n",
    "        sqrt (double x)"
   ]
  },
  {
   "cell_type": "code",
   "execution_count": null,
   "metadata": {
    "dotnet_interactive": {
     "language": "fsharp"
    },
    "polyglot_notebook": {
     "kernelName": "fsharp"
    }
   },
   "outputs": [],
   "source": [
    "let isBounded (c: Complex) : bool =\n",
    "    //z0 = 0\n",
    "    //zn+1 = zn*zn + c remains bounded (mod(z) < 2)\n",
    "\n",
    "    let rec isBounded n zn =\n",
    "        let zn1 = Complex.add (Complex.square zn) c\n",
    "\n",
    "        if n > maxIterations then\n",
    "            true\n",
    "        else if Complex.modulus zn1 > 2 then\n",
    "            false\n",
    "        else\n",
    "            isBounded (n + 1) zn1\n",
    "\n",
    "    isBounded 1 (0m, 0m)\n",
    "\n",
    "let partOfSet (row, column) = isBounded (row, column)"
   ]
  },
  {
   "cell_type": "code",
   "execution_count": null,
   "metadata": {
    "dotnet_interactive": {
     "language": "fsharp"
    },
    "polyglot_notebook": {
     "kernelName": "fsharp"
    }
   },
   "outputs": [],
   "source": [
    "\n",
    "let points =\n",
    "    [ for r in (-half_width) .. half_width do\n",
    "          for c in (-half_width) .. half_width ->\n",
    "              ((decimal r) / (decimal half_width), (decimal c) / (decimal half_width)) ]\n",
    "    |> List.filter partOfSet"
   ]
  },
  {
   "cell_type": "code",
   "execution_count": null,
   "metadata": {
    "dotnet_interactive": {
     "language": "fsharp"
    },
    "polyglot_notebook": {
     "kernelName": "fsharp"
    }
   },
   "outputs": [],
   "source": [
    "let marker = Marker.init (Size = 3)\n",
    "let chart = Chart.Point(xy = points, Marker = marker)"
   ]
  },
  {
   "cell_type": "code",
   "execution_count": null,
   "metadata": {
    "dotnet_interactive": {
     "language": "fsharp"
    },
    "polyglot_notebook": {
     "kernelName": "fsharp"
    }
   },
   "outputs": [],
   "source": [
    "chart |> Chart.show"
   ]
  }
 ],
 "metadata": {
  "kernelspec": {
   "display_name": ".NET (C#)",
   "language": "C#",
   "name": ".net-csharp"
  },
  "polyglot_notebook": {
   "kernelInfo": {
    "defaultKernelName": "csharp",
    "items": [
     {
      "aliases": [],
      "name": "csharp"
     }
    ]
   }
  }
 },
 "nbformat": 4,
 "nbformat_minor": 2
}
